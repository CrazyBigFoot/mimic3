{
 "cells": [
  {
   "cell_type": "code",
   "execution_count": 1,
   "metadata": {},
   "outputs": [],
   "source": [
    "import pandas as pd\n",
    "import numpy as np\n",
    "import matplotlib.pyplot as plt\n",
    "import csv\n",
    "import psycopg2\n",
    "\n",
    "# settings\n",
    "#datapath = '/Users/mirkoknoche/Google Drive/neuefische/projects/MIMIC/data/'\n",
    "datapath = '/Users/mirkoknoche/MIMIC/'\n",
    "gitpath = '/Users/mirkoknoche/Google Drive/neuefische/projects/MIMIC/'\n",
    "pd.set_option('display.max_columns', 500)\n",
    "%matplotlib inline\n",
    "pd.options.display.float_format = '{:,}'.format\n",
    "\n",
    "# database\n",
    "conn_string = open(gitpath + 'intern/DB_connection.txt', 'r', encoding='UTF-8').read()"
   ]
  },
  {
   "cell_type": "code",
   "execution_count": null,
   "metadata": {},
   "outputs": [],
   "source": [
    "import psycopg2\n",
    "conn_string = open(gitpath + 'intern/DB_connection.txt', 'r', encoding='UTF-8').read()\n",
    "conn = eval('psycopg2.connect({})'.format(conn_string.strip()))\n",
    "sql = \"\"\"select * from cpt \n",
    "        where subject_id in (select subject_id from diagnoses_icd di where ICD9_CODE = '51881')\"\"\"\n",
    "df_sql = pd.read_sql(sql, conn)\n",
    "\n",
    "conn.close()"
   ]
  },
  {
   "cell_type": "markdown",
   "metadata": {},
   "source": [
    "# Datenbank"
   ]
  },
  {
   "cell_type": "code",
   "execution_count": null,
   "metadata": {},
   "outputs": [],
   "source": [
    "import psycopg2\n",
    "gitpath = '/Users/mirkoknoche/Google Drive/neuefische/projects/MIMIC/'\n",
    "conn_string = open(gitpath + 'intern/DB_connection.txt', 'r', encoding='UTF-8').read()\n",
    "conn = eval('psycopg2.connect({})'.format(conn_string.strip()))"
   ]
  },
  {
   "cell_type": "code",
   "execution_count": null,
   "metadata": {},
   "outputs": [],
   "source": [
    "sql = \"\"\"select * from vw_t_chartevents LIMIT 1000\"\"\"\n",
    "df_sql = pd.read_sql(sql, conn)"
   ]
  },
  {
   "cell_type": "code",
   "execution_count": null,
   "metadata": {
    "scrolled": true
   },
   "outputs": [],
   "source": [
    "df_sql.head()"
   ]
  },
  {
   "cell_type": "code",
   "execution_count": null,
   "metadata": {},
   "outputs": [],
   "source": [
    "df_sql.info()"
   ]
  },
  {
   "cell_type": "code",
   "execution_count": null,
   "metadata": {},
   "outputs": [],
   "source": [
    "conn.close()"
   ]
  },
  {
   "cell_type": "markdown",
   "metadata": {},
   "source": [
    "# Tests"
   ]
  },
  {
   "cell_type": "markdown",
   "metadata": {},
   "source": [
    "## Change headerlines"
   ]
  },
  {
   "cell_type": "code",
   "execution_count": null,
   "metadata": {},
   "outputs": [],
   "source": [
    "with open(datapath + 'liste_patienten.csv') as f:\n",
    "    reader = csv.reader(f)\n",
    "    data = list(reader)\n",
    "    data = [x for x in data[0]]"
   ]
  },
  {
   "cell_type": "code",
   "execution_count": null,
   "metadata": {},
   "outputs": [],
   "source": [
    "data"
   ]
  },
  {
   "cell_type": "code",
   "execution_count": null,
   "metadata": {},
   "outputs": [],
   "source": [
    "cz = 7000000\n",
    "chunk = pd.read_csv(datapath + 'chartevents.csv', nrows=100000) #, chunksize=cz)"
   ]
  },
  {
   "cell_type": "code",
   "execution_count": null,
   "metadata": {},
   "outputs": [],
   "source": [
    "chunk.sample(10)"
   ]
  },
  {
   "cell_type": "code",
   "execution_count": null,
   "metadata": {},
   "outputs": [],
   "source": [
    "for i, df in enumerate(chunk):\n",
    "    print('Durchlauf ', i+1, 'gestarted.')\n",
    "    df = df.loc[df.HADM_ID].isin(data)\n",
    "    df.to_csv('{}chunk/ARDS{}.csv'.format(datapath, i), index=False)\n",
    "    #df.loc[~df.HADM_ID].isin(data).to_csv('{}chunk/Other_{}.csv'.format(datapath, i), index=False)\n",
    "    #df.to_csv('{}chunk/file{}.csv'.format(datapath, i), index=False)"
   ]
  },
  {
   "cell_type": "markdown",
   "metadata": {},
   "source": [
    "## Read csv header"
   ]
  },
  {
   "cell_type": "code",
   "execution_count": null,
   "metadata": {},
   "outputs": [],
   "source": [
    "df_csv = pd.read_csv(datapath + 'ards_aj.csv.gz', compression='gzip', usecols=[1], header=None)"
   ]
  },
  {
   "cell_type": "code",
   "execution_count": null,
   "metadata": {},
   "outputs": [],
   "source": [
    "lst_count.append(len(df_csv))"
   ]
  },
  {
   "cell_type": "code",
   "execution_count": null,
   "metadata": {},
   "outputs": [],
   "source": [
    "print(len(lst_count))\n",
    "print(f'{sum(lst_count):,}')\n"
   ]
  },
  {
   "cell_type": "code",
   "execution_count": null,
   "metadata": {},
   "outputs": [],
   "source": [
    "sql = \"\"\"select row_id from chartevents\"\"\"\n",
    "df_sql = pd.read_sql(sql, conn)\n"
   ]
  },
  {
   "cell_type": "code",
   "execution_count": null,
   "metadata": {},
   "outputs": [],
   "source": [
    "len(df_sql)"
   ]
  },
  {
   "cell_type": "code",
   "execution_count": null,
   "metadata": {},
   "outputs": [],
   "source": [
    "df_chart = pd.read_csv(datapath + 'chartevents.csv', usecols=[0]) #, chunksize=cz)"
   ]
  },
  {
   "cell_type": "markdown",
   "metadata": {},
   "source": [
    "# inputevents_cv"
   ]
  },
  {
   "cell_type": "markdown",
   "metadata": {},
   "source": [
    "Inputs are any fluids which have been administered to the patient: such as oral or tube feedings or intravenous solutions containing medications. "
   ]
  },
  {
   "cell_type": "markdown",
   "metadata": {},
   "source": [
    "Inputs exist in two separate tables: INPUTEVENTS_CV and INPUTEVENTS_MV. INPUTEVENTS_CV contains CareVue inputs, while INPUTEVENTS_MV contains Metavision inputs. Results from these tables can be unioned as observations are not duplicated across tables. For CareVue data, the rate and volume will be asynchronous, and only the CHARTTIME will be available. For rates, the CHARTTIME will correspond to a start time (when the drug was set to that rate). For volumes, the CHARTTIME will correspond to an end time."
   ]
  },
  {
   "cell_type": "markdown",
   "metadata": {},
   "source": [
    "| column | Description | Type |\n",
    "|:-------|:------------|------|\n",
    "| ROW_ID | ID from Database | numeric |\n",
    "| SUBJECT_ID | Unique ID of a patient | numeric |\n",
    "| HADM_ID | Unique ID of a patient hospital stay | numeric |\n",
    "| ICUSTAY_ID | Unique ID of a patient ICU stay | numeric |\n",
    "| CHARTTIME | time at which the measurement was charted at the bedside | datetime |\n",
    "| ITEMID | Identifier for a single measurement type D_ITEMS.csv | numeric |\n",
    "| AMOUNT | amount of a drug or substance administered to the patient either between the STARTTIME and ENDTIME | numeric |"
   ]
  },
  {
   "cell_type": "code",
   "execution_count": null,
   "metadata": {},
   "outputs": [],
   "source": [
    "c = 1000000\n",
    "df_input_cv = pd.read_csv(datapath + 'INPUTEVENTS_CV.csv', nrows=10000)"
   ]
  },
  {
   "cell_type": "code",
   "execution_count": null,
   "metadata": {},
   "outputs": [],
   "source": [
    "sql = \"\"\"select * from inputevents_cv \n",
    "        where subject_id in (select subject_id from diagnoses_icd di where ICD9_CODE = '51881')\n",
    "        LIMIT 100000\"\"\"\n",
    "df_input_cv = pd.read_sql(sql, conn)"
   ]
  },
  {
   "cell_type": "code",
   "execution_count": null,
   "metadata": {},
   "outputs": [],
   "source": [
    "df_input_cv.shape"
   ]
  },
  {
   "cell_type": "code",
   "execution_count": null,
   "metadata": {
    "scrolled": true
   },
   "outputs": [],
   "source": [
    "df_input_cv.info()"
   ]
  },
  {
   "cell_type": "markdown",
   "metadata": {},
   "source": [
    "We can see that already in the first 100000 rows some HADM_ID's are missing. Let us show how many, if we import only this column."
   ]
  },
  {
   "cell_type": "code",
   "execution_count": null,
   "metadata": {},
   "outputs": [],
   "source": [
    "sql = \"\"\"select hadm_id from inputevents_cv \"\"\"\n",
    "df_test = pd.read_sql(sql, conn)"
   ]
  },
  {
   "cell_type": "code",
   "execution_count": null,
   "metadata": {},
   "outputs": [],
   "source": [
    "df_test.shape"
   ]
  },
  {
   "cell_type": "code",
   "execution_count": null,
   "metadata": {},
   "outputs": [],
   "source": [
    "df_test.isna().sum()"
   ]
  },
  {
   "cell_type": "code",
   "execution_count": null,
   "metadata": {},
   "outputs": [],
   "source": [
    "print('Missing HADM_ID in percent: {:.2f}%'.format(float(df_test.isna().sum()) / df_test.shape[0] *100))"
   ]
  },
  {
   "cell_type": "markdown",
   "metadata": {},
   "source": [
    "The amount of missing HADM_ID's ist tiny. We ignore these missing entrys."
   ]
  },
  {
   "cell_type": "code",
   "execution_count": null,
   "metadata": {
    "scrolled": false
   },
   "outputs": [],
   "source": [
    "df_input_cv.head()"
   ]
  },
  {
   "cell_type": "code",
   "execution_count": null,
   "metadata": {},
   "outputs": [],
   "source": [
    "sql = \"\"\"select row_id from inputevents_cv \"\"\"\n",
    "df_test2 = pd.read_sql(sql, conn)"
   ]
  },
  {
   "cell_type": "code",
   "execution_count": null,
   "metadata": {},
   "outputs": [],
   "source": [
    "df_test2.shape"
   ]
  },
  {
   "cell_type": "code",
   "execution_count": null,
   "metadata": {},
   "outputs": [],
   "source": [
    "df_test2.nunique()"
   ]
  },
  {
   "cell_type": "markdown",
   "metadata": {},
   "source": [
    "# Find extubations"
   ]
  },
  {
   "cell_type": "code",
   "execution_count": 2,
   "metadata": {},
   "outputs": [],
   "source": [
    "conn = eval('psycopg2.connect({})'.format(conn_string.strip()))"
   ]
  },
  {
   "cell_type": "code",
   "execution_count": 3,
   "metadata": {},
   "outputs": [],
   "source": [
    "sql = \"\"\"select i2.hadm_id, v.* \n",
    "        from ventsettings v\n",
    "        inner join icustays i2 on i2.icustay_id = v.icustay_id \n",
    "        where (v.mechvent + v.oxygentherapy + v.extubated + v.selfextubated) > 0\n",
    "        order by icustay_id, charttime \"\"\"\n",
    "df = pd.read_sql(sql, conn)"
   ]
  },
  {
   "cell_type": "code",
   "execution_count": 4,
   "metadata": {},
   "outputs": [
    {
     "data": {
      "text/plain": [
       "(592908, 7)"
      ]
     },
     "execution_count": 4,
     "metadata": {},
     "output_type": "execute_result"
    }
   ],
   "source": [
    "df.shape"
   ]
  },
  {
   "cell_type": "code",
   "execution_count": 5,
   "metadata": {},
   "outputs": [
    {
     "data": {
      "text/html": [
       "<div>\n",
       "<style scoped>\n",
       "    .dataframe tbody tr th:only-of-type {\n",
       "        vertical-align: middle;\n",
       "    }\n",
       "\n",
       "    .dataframe tbody tr th {\n",
       "        vertical-align: top;\n",
       "    }\n",
       "\n",
       "    .dataframe thead th {\n",
       "        text-align: right;\n",
       "    }\n",
       "</style>\n",
       "<table border=\"1\" class=\"dataframe\">\n",
       "  <thead>\n",
       "    <tr style=\"text-align: right;\">\n",
       "      <th></th>\n",
       "      <th>hadm_id</th>\n",
       "      <th>icustay_id</th>\n",
       "      <th>charttime</th>\n",
       "      <th>mechvent</th>\n",
       "      <th>oxygentherapy</th>\n",
       "      <th>extubated</th>\n",
       "      <th>selfextubated</th>\n",
       "    </tr>\n",
       "  </thead>\n",
       "  <tbody>\n",
       "    <tr>\n",
       "      <th>0</th>\n",
       "      <td>189514</td>\n",
       "      <td>200,006.0</td>\n",
       "      <td>2159-09-03 13:00:00</td>\n",
       "      <td>1</td>\n",
       "      <td>0</td>\n",
       "      <td>0</td>\n",
       "      <td>0</td>\n",
       "    </tr>\n",
       "    <tr>\n",
       "      <th>1</th>\n",
       "      <td>189514</td>\n",
       "      <td>200,006.0</td>\n",
       "      <td>2159-09-03 16:50:00</td>\n",
       "      <td>1</td>\n",
       "      <td>0</td>\n",
       "      <td>0</td>\n",
       "      <td>0</td>\n",
       "    </tr>\n",
       "    <tr>\n",
       "      <th>2</th>\n",
       "      <td>189514</td>\n",
       "      <td>200,006.0</td>\n",
       "      <td>2159-09-03 20:00:00</td>\n",
       "      <td>1</td>\n",
       "      <td>0</td>\n",
       "      <td>0</td>\n",
       "      <td>0</td>\n",
       "    </tr>\n",
       "  </tbody>\n",
       "</table>\n",
       "</div>"
      ],
      "text/plain": [
       "   hadm_id  icustay_id           charttime  mechvent  oxygentherapy  \\\n",
       "0   189514   200,006.0 2159-09-03 13:00:00         1              0   \n",
       "1   189514   200,006.0 2159-09-03 16:50:00         1              0   \n",
       "2   189514   200,006.0 2159-09-03 20:00:00         1              0   \n",
       "\n",
       "   extubated  selfextubated  \n",
       "0          0              0  \n",
       "1          0              0  \n",
       "2          0              0  "
      ]
     },
     "execution_count": 5,
     "metadata": {},
     "output_type": "execute_result"
    }
   ],
   "source": [
    "df.head(3)"
   ]
  },
  {
   "cell_type": "code",
   "execution_count": 6,
   "metadata": {},
   "outputs": [
    {
     "name": "stdout",
     "output_type": "stream",
     "text": [
      "<class 'pandas.core.frame.DataFrame'>\n",
      "RangeIndex: 592908 entries, 0 to 592907\n",
      "Data columns (total 7 columns):\n",
      "hadm_id          592908 non-null int64\n",
      "icustay_id       592908 non-null float64\n",
      "charttime        592908 non-null datetime64[ns]\n",
      "mechvent         592908 non-null int64\n",
      "oxygentherapy    592908 non-null int64\n",
      "extubated        592908 non-null int64\n",
      "selfextubated    592908 non-null int64\n",
      "dtypes: datetime64[ns](1), float64(1), int64(5)\n",
      "memory usage: 31.7 MB\n"
     ]
    }
   ],
   "source": [
    "df.info()"
   ]
  },
  {
   "cell_type": "markdown",
   "metadata": {},
   "source": [
    "Checking the exturbations"
   ]
  },
  {
   "cell_type": "code",
   "execution_count": 16,
   "metadata": {
    "scrolled": true
   },
   "outputs": [
    {
     "data": {
      "text/plain": [
       "icustay_id\n",
       "200,006.0    0\n",
       "200,059.0    0\n",
       "200,063.0    4\n",
       "200,065.0    1\n",
       "200,077.0    0\n",
       "200,087.0    1\n",
       "200,095.0    0\n",
       "200,102.0    0\n",
       "200,108.0    0\n",
       "200,109.0    0\n",
       "200,131.0    1\n",
       "200,137.0    0\n",
       "200,140.0    0\n",
       "200,143.0    0\n",
       "200,191.0    0\n",
       "200,203.0    1\n",
       "200,206.0    1\n",
       "200,215.0    0\n",
       "200,240.0    2\n",
       "200,256.0    0\n",
       "200,264.0    0\n",
       "200,282.0    2\n",
       "200,290.0    0\n",
       "200,307.0    1\n",
       "200,329.0    0\n",
       "200,347.0    1\n",
       "200,387.0    1\n",
       "200,438.0    0\n",
       "200,453.0    1\n",
       "200,463.0    1\n",
       "            ..\n",
       "299,562.0    0\n",
       "299,566.0    0\n",
       "299,571.0    1\n",
       "299,574.0    0\n",
       "299,581.0    1\n",
       "299,608.0    1\n",
       "299,628.0    0\n",
       "299,666.0    0\n",
       "299,674.0    1\n",
       "299,678.0    1\n",
       "299,698.0    1\n",
       "299,702.0    0\n",
       "299,704.0    1\n",
       "299,715.0    3\n",
       "299,732.0    0\n",
       "299,738.0    1\n",
       "299,765.0    0\n",
       "299,802.0    1\n",
       "299,806.0    1\n",
       "299,811.0    0\n",
       "299,826.0    1\n",
       "299,828.0    0\n",
       "299,838.0    0\n",
       "299,863.0    1\n",
       "299,867.0    3\n",
       "299,872.0    1\n",
       "299,895.0    0\n",
       "299,956.0    0\n",
       "299,961.0    0\n",
       "299,992.0    0\n",
       "Name: extubated, Length: 7514, dtype: int64"
      ]
     },
     "execution_count": 16,
     "metadata": {},
     "output_type": "execute_result"
    }
   ],
   "source": [
    "df.groupby('icustay_id').extubated.sum()"
   ]
  },
  {
   "cell_type": "code",
   "execution_count": 15,
   "metadata": {},
   "outputs": [
    {
     "data": {
      "image/png": "[encoded data removed]",
      "text/plain": [
       "<Figure size 720x504 with 1 Axes>"
      ]
     },
     "metadata": {
      "needs_background": "light"
     },
     "output_type": "display_data"
    }
   ],
   "source": [
    "fig = plt.figure(figsize=(10,7))\n",
    "ax = fig.add_subplot(1, 1, 1)\n",
    "ax.hist(df.groupby('icustay_id').extubated.sum(), color='g', alpha=0.3)\n",
    "plt.ylabel('Amount of ICU-stays')\n",
    "plt.xlabel('Extubations')\n",
    "plt.title('Histrogram of the extubations')\n",
    "plt.savefig('./images/hist_extubations_per_icustay.png')\n",
    "plt.show();"
   ]
  },
  {
   "cell_type": "markdown",
   "metadata": {},
   "source": [
    "Many ICU stays have no explicit documented"
   ]
  },
  {
   "cell_type": "code",
   "execution_count": null,
   "metadata": {},
   "outputs": [],
   "source": [
    "df_qry = df[df.icustay_id == 200063]"
   ]
  },
  {
   "cell_type": "code",
   "execution_count": null,
   "metadata": {},
   "outputs": [],
   "source": [
    "df_qry.head()"
   ]
  },
  {
   "cell_type": "code",
   "execution_count": null,
   "metadata": {
    "scrolled": true
   },
   "outputs": [],
   "source": [
    "df_qry['extube'] = df_qry['mechvent'].diff()\n",
    "df_qry['extube'] = df_qry['extube'].pow(2)"
   ]
  },
  {
   "cell_type": "code",
   "execution_count": null,
   "metadata": {},
   "outputs": [],
   "source": [
    "df_qry['oxy'] = df_qry['oxygentherapy'].diff()\n",
    "df_qry['oxy'] = df_qry['oxy'].pow(2)"
   ]
  },
  {
   "cell_type": "code",
   "execution_count": null,
   "metadata": {},
   "outputs": [],
   "source": [
    "df_qry.extube.fillna(0, inplace=True)\n",
    "df_qry.oxy.fillna(0, inplace=True)"
   ]
  },
  {
   "cell_type": "code",
   "execution_count": null,
   "metadata": {},
   "outputs": [],
   "source": [
    "df_qry.loc[160:180]"
   ]
  },
  {
   "cell_type": "code",
   "execution_count": null,
   "metadata": {},
   "outputs": [],
   "source": [
    "df_qry[[df_qry['extube'] > 0] or [df_qry['oxy'] > 0]]"
   ]
  },
  {
   "cell_type": "code",
   "execution_count": null,
   "metadata": {},
   "outputs": [],
   "source": [
    "conn.close()"
   ]
  }
 ],
 "metadata": {
  "kernelspec": {
   "display_name": "Python 3.6.10 64-bit ('nf')",
   "language": "python",
   "name": "python361064bitnf8add1acfca654b1ab4527881e7fa8184"
  },
  "language_info": {
   "codemirror_mode": {
    "name": "ipython",
    "version": 3
   },
   "file_extension": ".py",
   "mimetype": "text/x-python",
   "name": "python",
   "nbconvert_exporter": "python",
   "pygments_lexer": "ipython3",
   "version": "3.6.10"
  },
  "toc": {
   "base_numbering": 1,
   "nav_menu": {},
   "number_sections": true,
   "sideBar": true,
   "skip_h1_title": false,
   "title_cell": "Table of Contents",
   "title_sidebar": "Contents",
   "toc_cell": false,
   "toc_position": {
    "height": "calc(100% - 180px)",
    "left": "10px",
    "top": "150px",
    "width": "288px"
   },
   "toc_section_display": true,
   "toc_window_display": true
  },
  "varInspector": {
   "cols": {
    "lenName": 16,
    "lenType": 16,
    "lenVar": 40
   },
   "kernels_config": {
    "python": {
     "delete_cmd_postfix": "",
     "delete_cmd_prefix": "del ",
     "library": "var_list.py",
     "varRefreshCmd": "print(var_dic_list())"
    },
    "r": {
     "delete_cmd_postfix": ") ",
     "delete_cmd_prefix": "rm(",
     "library": "var_list.r",
     "varRefreshCmd": "cat(var_dic_list()) "
    }
   },
   "types_to_exclude": [
    "module",
    "function",
    "builtin_function_or_method",
    "instance",
    "_Feature"
   ],
   "window_display": false
  }
 },
 "nbformat": 4,
 "nbformat_minor": 4
}
