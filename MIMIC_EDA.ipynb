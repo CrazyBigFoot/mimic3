{
 "cells": [
  {
   "cell_type": "code",
   "execution_count": 1,
   "metadata": {},
   "outputs": [],
   "source": [
    "import pandas as pd\n",
    "import numpy as np\n",
    "import matplotlib.pyplot as plt\n",
    "import csv\n",
    "import psycopg2\n",
    "import re\n",
    "\n",
    "# settings\n",
    "datapath = '/Users/mirkoknoche/MIMIC/'\n",
    "pd.set_option('display.max_columns', 500)\n",
    "pd.options.display.float_format = '{:,}'.format\n",
    "%matplotlib inline\n",
    "\n",
    "# database\n",
    "conn_string = open('./intern/DB_connection.txt', 'r', encoding='UTF-8').read()"
   ]
  },
  {
   "cell_type": "markdown",
   "metadata": {},
   "source": [
    "# Datenbank"
   ]
  },
  {
   "cell_type": "code",
   "execution_count": null,
   "metadata": {},
   "outputs": [],
   "source": [
    "import psycopg2\n",
    "gitpath = '/Users/mirkoknoche/Google Drive/neuefische/projects/MIMIC/'\n",
    "conn_string = open(gitpath + 'intern/DB_connection.txt', 'r', encoding='UTF-8').read()\n",
    "conn = eval('psycopg2.connect({})'.format(conn_string.strip()))"
   ]
  },
  {
   "cell_type": "code",
   "execution_count": null,
   "metadata": {},
   "outputs": [],
   "source": [
    "sql = \"\"\"select * from vw_t_chartevents LIMIT 1000\"\"\"\n",
    "df_sql = pd.read_sql(sql, conn)"
   ]
  },
  {
   "cell_type": "code",
   "execution_count": null,
   "metadata": {
    "scrolled": true
   },
   "outputs": [],
   "source": [
    "df_sql.head()"
   ]
  },
  {
   "cell_type": "code",
   "execution_count": null,
   "metadata": {},
   "outputs": [],
   "source": [
    "df_sql.info()"
   ]
  },
  {
   "cell_type": "code",
   "execution_count": null,
   "metadata": {},
   "outputs": [],
   "source": [
    "conn.close()"
   ]
  },
  {
   "cell_type": "markdown",
   "metadata": {},
   "source": [
    "# inputevents_cv"
   ]
  },
  {
   "cell_type": "markdown",
   "metadata": {},
   "source": [
    "Inputs are any fluids which have been administered to the patient: such as oral or tube feedings or intravenous solutions containing medications. "
   ]
  },
  {
   "cell_type": "markdown",
   "metadata": {},
   "source": [
    "Inputs exist in two separate tables: INPUTEVENTS_CV and INPUTEVENTS_MV. INPUTEVENTS_CV contains CareVue inputs, while INPUTEVENTS_MV contains Metavision inputs. Results from these tables can be unioned as observations are not duplicated across tables. For CareVue data, the rate and volume will be asynchronous, and only the CHARTTIME will be available. For rates, the CHARTTIME will correspond to a start time (when the drug was set to that rate). For volumes, the CHARTTIME will correspond to an end time."
   ]
  },
  {
   "cell_type": "markdown",
   "metadata": {},
   "source": [
    "| column | Description | Type |\n",
    "|:-------|:------------|------|\n",
    "| ROW_ID | ID from Database | numeric |\n",
    "| SUBJECT_ID | Unique ID of a patient | numeric |\n",
    "| HADM_ID | Unique ID of a patient hospital stay | numeric |\n",
    "| ICUSTAY_ID | Unique ID of a patient ICU stay | numeric |\n",
    "| CHARTTIME | time at which the measurement was charted at the bedside | datetime |\n",
    "| ITEMID | Identifier for a single measurement type D_ITEMS.csv | numeric |\n",
    "| AMOUNT | amount of a drug or substance administered to the patient either between the STARTTIME and ENDTIME | numeric |"
   ]
  },
  {
   "cell_type": "code",
   "execution_count": null,
   "metadata": {},
   "outputs": [],
   "source": [
    "c = 1000000\n",
    "df_input_cv = pd.read_csv(datapath + 'INPUTEVENTS_CV.csv', nrows=10000)"
   ]
  },
  {
   "cell_type": "code",
   "execution_count": null,
   "metadata": {},
   "outputs": [],
   "source": [
    "sql = \"\"\"select * from inputevents_cv \n",
    "        where subject_id in (select subject_id from diagnoses_icd di where ICD9_CODE = '51881')\n",
    "        LIMIT 100000\"\"\"\n",
    "df_input_cv = pd.read_sql(sql, conn)"
   ]
  },
  {
   "cell_type": "code",
   "execution_count": null,
   "metadata": {},
   "outputs": [],
   "source": [
    "df_input_cv.shape"
   ]
  },
  {
   "cell_type": "code",
   "execution_count": null,
   "metadata": {
    "scrolled": true
   },
   "outputs": [],
   "source": [
    "df_input_cv.info()"
   ]
  },
  {
   "cell_type": "markdown",
   "metadata": {},
   "source": [
    "We can see that already in the first 100000 rows some HADM_ID's are missing. Let us show how many, if we import only this column."
   ]
  },
  {
   "cell_type": "code",
   "execution_count": null,
   "metadata": {},
   "outputs": [],
   "source": [
    "sql = \"\"\"select hadm_id from inputevents_cv \"\"\"\n",
    "df_test = pd.read_sql(sql, conn)"
   ]
  },
  {
   "cell_type": "code",
   "execution_count": null,
   "metadata": {},
   "outputs": [],
   "source": [
    "df_test.shape"
   ]
  },
  {
   "cell_type": "code",
   "execution_count": null,
   "metadata": {},
   "outputs": [],
   "source": [
    "df_test.isna().sum()"
   ]
  },
  {
   "cell_type": "code",
   "execution_count": null,
   "metadata": {},
   "outputs": [],
   "source": [
    "print('Missing HADM_ID in percent: {:.2f}%'.format(float(df_test.isna().sum()) / df_test.shape[0] *100))"
   ]
  },
  {
   "cell_type": "markdown",
   "metadata": {},
   "source": [
    "The amount of missing HADM_ID's ist tiny. We ignore these missing entrys."
   ]
  },
  {
   "cell_type": "code",
   "execution_count": null,
   "metadata": {
    "scrolled": false
   },
   "outputs": [],
   "source": [
    "df_input_cv.head()"
   ]
  },
  {
   "cell_type": "code",
   "execution_count": null,
   "metadata": {},
   "outputs": [],
   "source": [
    "sql = \"\"\"select row_id from inputevents_cv \"\"\"\n",
    "df_test2 = pd.read_sql(sql, conn)"
   ]
  },
  {
   "cell_type": "code",
   "execution_count": null,
   "metadata": {},
   "outputs": [],
   "source": [
    "df_test2.shape"
   ]
  },
  {
   "cell_type": "code",
   "execution_count": null,
   "metadata": {},
   "outputs": [],
   "source": [
    "df_test2.nunique()"
   ]
  },
  {
   "cell_type": "markdown",
   "metadata": {},
   "source": [
    "# Find extubations"
   ]
  },
  {
   "cell_type": "code",
   "execution_count": 14,
   "metadata": {},
   "outputs": [],
   "source": [
    "conn = eval('psycopg2.connect({})'.format(conn_string.strip()))"
   ]
  },
  {
   "cell_type": "code",
   "execution_count": null,
   "metadata": {},
   "outputs": [],
   "source": [
    "sql = \"\"\"select i2.hadm_id, v.* \n",
    "        from ventsettings v\n",
    "        inner join icustays i2 on i2.icustay_id = v.icustay_id \n",
    "        where (v.mechvent + v.oxygentherapy + v.extubated + v.selfextubated) > 0\n",
    "            and i2.hadm_id in (select * from hadm_overview) \n",
    "        order by icustay_id, charttime \"\"\"\n",
    "df = pd.read_sql(sql, conn)"
   ]
  },
  {
   "cell_type": "code",
   "execution_count": null,
   "metadata": {},
   "outputs": [],
   "source": [
    "df.shape"
   ]
  },
  {
   "cell_type": "code",
   "execution_count": null,
   "metadata": {},
   "outputs": [],
   "source": [
    "df.head(3)"
   ]
  },
  {
   "cell_type": "code",
   "execution_count": null,
   "metadata": {},
   "outputs": [],
   "source": [
    "df.info()"
   ]
  },
  {
   "cell_type": "markdown",
   "metadata": {},
   "source": [
    "This dataframe contains all entries from the table chartevents of the selected hadm_id's. We have to find the timestamp of the extubations and we have to check if the first extubation is succesfull."
   ]
  },
  {
   "cell_type": "markdown",
   "metadata": {},
   "source": [
    "## Getting the timestamp"
   ]
  },
  {
   "cell_type": "markdown",
   "metadata": {},
   "source": [
    "Checking the exturbations"
   ]
  },
  {
   "cell_type": "code",
   "execution_count": null,
   "metadata": {
    "scrolled": true
   },
   "outputs": [],
   "source": [
    "df_count_ex = df.groupby('icustay_id').extubated.sum()"
   ]
  },
  {
   "cell_type": "code",
   "execution_count": null,
   "metadata": {},
   "outputs": [],
   "source": [
    "df[(df.extubated == 1)].shape"
   ]
  },
  {
   "cell_type": "code",
   "execution_count": null,
   "metadata": {},
   "outputs": [],
   "source": [
    "fig = plt.figure(figsize=(10,7))\n",
    "ax = fig.add_subplot(1, 1, 1)\n",
    "ax.hist(df_count_ex)\n",
    "plt.ylabel('Amount of ICU-stays')\n",
    "plt.xlabel('Extubations')\n",
    "plt.title('Histrogram of the extubations')\n",
    "plt.savefig('./images/hist_extubations_per_icustay.png')\n",
    "plt.show();"
   ]
  },
  {
   "cell_type": "markdown",
   "metadata": {},
   "source": [
    "Many ICU stays have no explicit documented extubation. We need to extract the id's and find another way."
   ]
  },
  {
   "cell_type": "code",
   "execution_count": null,
   "metadata": {},
   "outputs": [],
   "source": [
    "# Building the difference for each row in 'mechvent' to get \n",
    "sql = \"\"\"SELECT i2.hadm_id,\n",
    "            v.icustay_id,\n",
    "            v.charttime,\n",
    "            v.mechvent,\n",
    "            v.oxygentherapy,\n",
    "            v.extubated,\n",
    "            v.selfextubated,\n",
    "            v.mechvent - lag(v.mechvent, 1) OVER (PARTITION BY v.icustay_id ORDER BY v.icustay_id, v.charttime) AS ex\n",
    "          FROM ventsettings v\n",
    "          JOIN icustays i2 ON i2.icustay_id::numeric = v.icustay_id\n",
    "          WHERE (v.mechvent + v.oxygentherapy + v.extubated + v.selfextubated) > 0 AND (i2.hadm_id IN ( SELECT hadm_overview.hadm_id\n",
    "                   FROM hadm_overview))\"\"\"\n",
    "df_extub = pd.read_sql(sql, conn)"
   ]
  },
  {
   "cell_type": "code",
   "execution_count": null,
   "metadata": {},
   "outputs": [],
   "source": [
    "df_extub.shape"
   ]
  },
  {
   "cell_type": "code",
   "execution_count": null,
   "metadata": {},
   "outputs": [],
   "source": [
    "df_extub.head()"
   ]
  },
  {
   "cell_type": "markdown",
   "metadata": {},
   "source": [
    "Now we have a new column 'ex'. If the value of 'mechvent' fall from 1 to 0, we get a -1, otherwise we get a +1. Now we can use the timestamp where ex is -1 as our extubation timestamp.\n",
    "\n",
    "Saving that query as view: `vw_extubations`"
   ]
  },
  {
   "cell_type": "code",
   "execution_count": null,
   "metadata": {},
   "outputs": [],
   "source": [
    "# Check the new column versus the documented extubations.\n",
    "sql = \"\"\"select * \n",
    "        from vw_extubations ve\n",
    "        where ve.icustay_id in (select distinct icustay_id \n",
    "                                from vw_extubations ve \n",
    "                                where extubated = 1)\n",
    "            and ve.extubated = 1\n",
    "            and ve.ex <> -1\n",
    "        order by ve.icustay_id, ve.charttime\"\"\"\n",
    "df_check_ext1 = pd.read_sql(sql, conn)"
   ]
  },
  {
   "cell_type": "code",
   "execution_count": null,
   "metadata": {},
   "outputs": [],
   "source": [
    "df_check_ext1.head(5)"
   ]
  },
  {
   "cell_type": "code",
   "execution_count": null,
   "metadata": {},
   "outputs": [],
   "source": [
    "df_check_ext1.shape"
   ]
  },
  {
   "cell_type": "markdown",
   "metadata": {},
   "source": [
    "Of 4,960 documented extubations, we cannot determine the expected flag by 1,244 entries as expected. For a better understanding we get a closer look to one icustay_id."
   ]
  },
  {
   "cell_type": "code",
   "execution_count": null,
   "metadata": {},
   "outputs": [],
   "source": [
    "df_extub[(df.icustay_id == 200203)].sort_values(by='charttime')"
   ]
  },
  {
   "cell_type": "markdown",
   "metadata": {},
   "source": [
    "As you can see, the oxygentherapy has been documented here first and then the extubation. Due to the temporal proximity and the presumably dynamic documentation of an intensive care unit, the end of mechanical ventilation is determined as extubation. The time is needed to extract the last data before the extubation from the table chartevents. Therefore, a very precise time is not decisive here."
   ]
  },
  {
   "cell_type": "code",
   "execution_count": null,
   "metadata": {},
   "outputs": [],
   "source": [
    "# Creating query for extubation timestamps\n",
    "sql = \"\"\"select distinct i2.hadm_id, ve.icustay_id, ve.charttime\n",
    "        from vw_extubations ve \n",
    "        inner JOIN icustays i2 ON i2.icustay_id::numeric = ve.icustay_id\n",
    "        where ve.ex = -1\n",
    "        group by i2.hadm_id, ve.icustay_id, ve.charttime\n",
    "        order by ve.icustay_id\"\"\"\n",
    "df_extub_time = pd.read_sql(sql, conn)"
   ]
  },
  {
   "cell_type": "code",
   "execution_count": null,
   "metadata": {},
   "outputs": [],
   "source": [
    "df_extub_time.head()"
   ]
  },
  {
   "cell_type": "markdown",
   "metadata": {},
   "source": [
    "Some icustay's includes more than one extubation. Saving that query as: `vw_timestamp_extubation`"
   ]
  },
  {
   "cell_type": "markdown",
   "metadata": {},
   "source": [
    "## Create the label"
   ]
  },
  {
   "cell_type": "code",
   "execution_count": null,
   "metadata": {},
   "outputs": [],
   "source": [
    "# Get an overview of the number of extubations\n",
    "sql = \"\"\"SELECT distinct i2.hadm_id, v.icustay_id, extu.ex, extu.amount,\n",
    "            case \n",
    "                when extu.amount = 1 then 1\n",
    "                when extu.amount is null then -1\n",
    "                else 0\n",
    "            end as label\n",
    "        FROM ventsettings v\n",
    "        inner JOIN icustays i2 ON i2.icustay_id::numeric = v.icustay_id\n",
    "        left join (select distinct ve.icustay_id, ve.ex , count(ve.icustay_id) as amount\n",
    "                    from vw_extubations ve \n",
    "                    where ve.ex = -1\n",
    "                    group by ve.icustay_id, ve.ex) extu on extu.icustay_id = v.icustay_id \n",
    "        WHERE i2.hadm_id IN ( SELECT hadm_overview.hadm_id FROM hadm_overview)\n",
    "        ORDER BY v.icustay_id\"\"\"\n",
    "df_ex_ts = pd.read_sql(sql, conn)"
   ]
  },
  {
   "cell_type": "code",
   "execution_count": null,
   "metadata": {},
   "outputs": [],
   "source": [
    "df_ex_ts.head()"
   ]
  },
  {
   "cell_type": "code",
   "execution_count": null,
   "metadata": {},
   "outputs": [],
   "source": [
    "df_ex_ts.shape"
   ]
  },
  {
   "cell_type": "code",
   "execution_count": null,
   "metadata": {},
   "outputs": [],
   "source": [
    "df_ex_ts.hadm_id.nunique()"
   ]
  },
  {
   "cell_type": "code",
   "execution_count": null,
   "metadata": {},
   "outputs": [],
   "source": [
    "df_ex_ts.icustay_id.nunique()"
   ]
  },
  {
   "cell_type": "code",
   "execution_count": null,
   "metadata": {},
   "outputs": [],
   "source": [
    "df_ex_ts.amount.fillna(0, inplace=True)"
   ]
  },
  {
   "cell_type": "code",
   "execution_count": null,
   "metadata": {},
   "outputs": [],
   "source": [
    "df_ex_ts.groupby('label').icustay_id.count()"
   ]
  },
  {
   "cell_type": "code",
   "execution_count": null,
   "metadata": {},
   "outputs": [],
   "source": [
    "fig = plt.figure(figsize=(10,7))\n",
    "ax = fig.add_subplot(1, 1, 1)\n",
    "x_val = ['no extubation','succes','failed']\n",
    "y_val = df_ex_ts.groupby('label').icustay_id.count()\n",
    "ax.bar(x= x_val, height=y_val)\n",
    "\n",
    "for _, value in enumerate(y_val):\n",
    "    plt.text(x_val[_], value, str(value), fontsize=14,\n",
    "            horizontalalignment='center', va='bottom')\n",
    "\n",
    "plt.ylabel('Amount of ICU-stays')\n",
    "plt.xlabel('Extubations')\n",
    "plt.title('Counting the extubations of an ICU stay')\n",
    "plt.savefig('./images/extubations_per_icustay with label.png')\n",
    "plt.show();"
   ]
  },
  {
   "cell_type": "code",
   "execution_count": null,
   "metadata": {},
   "outputs": [],
   "source": [
    "df_ex_ts.groupby('label').icustay_id.count().values"
   ]
  },
  {
   "cell_type": "code",
   "execution_count": null,
   "metadata": {},
   "outputs": [],
   "source": [
    "x = [1614, 2069, 3883]"
   ]
  },
  {
   "cell_type": "code",
   "execution_count": null,
   "metadata": {},
   "outputs": [],
   "source": [
    "sum(x)"
   ]
  },
  {
   "cell_type": "code",
   "execution_count": null,
   "metadata": {},
   "outputs": [],
   "source": []
  },
  {
   "cell_type": "code",
   "execution_count": null,
   "metadata": {},
   "outputs": [],
   "source": [
    "df.groupby('extubated').count()"
   ]
  },
  {
   "cell_type": "code",
   "execution_count": null,
   "metadata": {},
   "outputs": [],
   "source": [
    "err_ext = list(df_count_ex[df_count_ex == 0].index)"
   ]
  },
  {
   "cell_type": "code",
   "execution_count": null,
   "metadata": {},
   "outputs": [],
   "source": [
    "len(err_ext)"
   ]
  },
  {
   "cell_type": "code",
   "execution_count": null,
   "metadata": {},
   "outputs": [],
   "source": [
    "sql = \"\"\"select * from transfers\"\"\"\n",
    "df_icuunit = pd.read_sql(sql, conn)\n",
    "\n",
    "df_icuunit = df_icuunit[df_icuunit.icustay_id.isin(err_ext)]\n",
    "df_icuunit = df_icuunit[['icustay_id', 'curr_careunit']]\n",
    "df_icuunit.drop_duplicates(inplace=True)"
   ]
  },
  {
   "cell_type": "code",
   "execution_count": null,
   "metadata": {},
   "outputs": [],
   "source": [
    "df_plot = df_icuunit.groupby('curr_careunit').count()"
   ]
  },
  {
   "cell_type": "code",
   "execution_count": null,
   "metadata": {},
   "outputs": [],
   "source": [
    "fig = plt.figure(figsize=(10,7))\n",
    "ax = fig.add_subplot(1, 1, 1)\n",
    "ax.bar(list(df_plot.index), height=list(df_plot.values.flatten()))\n",
    "plt.ylabel('Missing extubations')\n",
    "plt.xlabel('ICU units')\n",
    "plt.title('Not documented extubations')\n",
    "plt.savefig('./images/missing_extubations_per_unit.png')\n",
    "plt.show();"
   ]
  },
  {
   "cell_type": "code",
   "execution_count": null,
   "metadata": {},
   "outputs": [],
   "source": [
    " df_plot"
   ]
  },
  {
   "cell_type": "code",
   "execution_count": null,
   "metadata": {},
   "outputs": [],
   "source": [
    "df_qry = df[df.icustay_id == 200063]"
   ]
  },
  {
   "cell_type": "code",
   "execution_count": null,
   "metadata": {},
   "outputs": [],
   "source": [
    "df_qry.head()"
   ]
  },
  {
   "cell_type": "code",
   "execution_count": null,
   "metadata": {
    "scrolled": true
   },
   "outputs": [],
   "source": [
    "df_qry['extube'] = df_qry['mechvent'].diff()\n",
    "# df_qry['extube'] = df_qry['extube'].pow(2)"
   ]
  },
  {
   "cell_type": "code",
   "execution_count": null,
   "metadata": {},
   "outputs": [],
   "source": [
    "df_qry['oxy'] = df_qry['oxygentherapy'].diff()\n",
    "# df_qry['oxy'] = df_qry['oxy'].pow(2)"
   ]
  },
  {
   "cell_type": "code",
   "execution_count": null,
   "metadata": {},
   "outputs": [],
   "source": [
    "df_qry.extube.fillna(0, inplace=True)\n",
    "df_qry.oxy.fillna(0, inplace=True)"
   ]
  },
  {
   "cell_type": "code",
   "execution_count": null,
   "metadata": {},
   "outputs": [],
   "source": [
    "df_qry.loc[160:180]"
   ]
  },
  {
   "cell_type": "code",
   "execution_count": null,
   "metadata": {},
   "outputs": [],
   "source": [
    "df_qry[(df_qry['extube'] != 0) | (df_qry['oxy'] != 0)]"
   ]
  },
  {
   "cell_type": "markdown",
   "metadata": {},
   "source": [
    "**Oxygentherapy** is ventilation without intubation"
   ]
  },
  {
   "cell_type": "markdown",
   "metadata": {},
   "source": [
    "## Check extubation"
   ]
  },
  {
   "cell_type": "code",
   "execution_count": null,
   "metadata": {},
   "outputs": [],
   "source": [
    "icustay_ids = df['icustay_id'].unique()\n",
    "print(len(icustay_ids))"
   ]
  },
  {
   "cell_type": "code",
   "execution_count": null,
   "metadata": {},
   "outputs": [],
   "source": [
    "sql = \"\"\"select distinct icustay_id \n",
    "        from vw_extubations ve \n",
    "        where extubated = 1\"\"\"\n",
    "df_icu_ext = pd.read_sql(sql, conn)"
   ]
  },
  {
   "cell_type": "code",
   "execution_count": null,
   "metadata": {},
   "outputs": [],
   "source": [
    "df_icu_ext.shape"
   ]
  },
  {
   "cell_type": "code",
   "execution_count": null,
   "metadata": {},
   "outputs": [],
   "source": [
    "print(f'Documentation of extubations: {df_icu_ext.shape[0] / len(icustay_ids) * 100:.1f} %')"
   ]
  },
  {
   "cell_type": "markdown",
   "metadata": {},
   "source": [
    "There are 4,123 ICU stays with explicit documentated extubation. And 7,513 ICU stays totally."
   ]
  },
  {
   "cell_type": "code",
   "execution_count": null,
   "metadata": {},
   "outputs": [],
   "source": [
    "df['extube'] = df['mechvent'].diff()\n",
    "df.extube.fillna(0, inplace=True)"
   ]
  },
  {
   "cell_type": "code",
   "execution_count": null,
   "metadata": {},
   "outputs": [],
   "source": [
    "df.head()"
   ]
  },
  {
   "cell_type": "code",
   "execution_count": null,
   "metadata": {
    "scrolled": true
   },
   "outputs": [],
   "source": [
    "df[(df['extube'] < 0) & (~df['icustay_id'].isin(err_ext))].sample(10)"
   ]
  },
  {
   "cell_type": "markdown",
   "metadata": {},
   "source": [
    "Möglicherweise ist die Beendigung der mechanischen Beatmung ein häufigeres und ebenso genaues Merkmal.We need another marker to get the timestamp of the extubation. "
   ]
  },
  {
   "cell_type": "code",
   "execution_count": null,
   "metadata": {},
   "outputs": [],
   "source": [
    "df[(df['extubated'] == 1)].groupby('extube').count()"
   ]
  },
  {
   "cell_type": "code",
   "execution_count": null,
   "metadata": {},
   "outputs": [],
   "source": [
    "for i in icustay_ids:\n",
    "    df[(df['icustay_id'] == i)]['extube'] = df[(df['icustay_id'] == i)].mechvent.diff()"
   ]
  },
  {
   "cell_type": "code",
   "execution_count": null,
   "metadata": {},
   "outputs": [],
   "source": [
    "df.groupby('extube').count()"
   ]
  },
  {
   "cell_type": "code",
   "execution_count": 13,
   "metadata": {},
   "outputs": [],
   "source": [
    "conn.close()"
   ]
  },
  {
   "cell_type": "code",
   "execution_count": null,
   "metadata": {},
   "outputs": [],
   "source": [
    "df.drop('extube', axis=1, inplace=True)"
   ]
  },
  {
   "cell_type": "code",
   "execution_count": null,
   "metadata": {},
   "outputs": [],
   "source": []
  },
  {
   "cell_type": "markdown",
   "metadata": {},
   "source": [
    "# GET THE HOLY DATA-SHIT"
   ]
  },
  {
   "cell_type": "markdown",
   "metadata": {},
   "source": [
    "## Patient_Group"
   ]
  },
  {
   "cell_type": "code",
   "execution_count": 15,
   "metadata": {},
   "outputs": [],
   "source": [
    "sql = \"\"\"select * from vw_patient_group\"\"\"\n",
    "df_goal = pd.read_sql(sql, conn)"
   ]
  },
  {
   "cell_type": "code",
   "execution_count": 16,
   "metadata": {},
   "outputs": [
    {
     "data": {
      "text/plain": [
       "(5848, 13)"
      ]
     },
     "execution_count": 16,
     "metadata": {},
     "output_type": "execute_result"
    }
   ],
   "source": [
    "df_goal.shape"
   ]
  },
  {
   "cell_type": "code",
   "execution_count": 17,
   "metadata": {},
   "outputs": [],
   "source": [
    "df_goal.to_csv('data/patient_group.csv', encoding='UTF-8', index=False)"
   ]
  },
  {
   "cell_type": "code",
   "execution_count": null,
   "metadata": {},
   "outputs": [],
   "source": []
  },
  {
   "cell_type": "markdown",
   "metadata": {},
   "source": [
    "## Events from chartevents"
   ]
  },
  {
   "cell_type": "code",
   "execution_count": 23,
   "metadata": {},
   "outputs": [],
   "source": [
    "sql = \"\"\"select * from chartev_values\"\"\"\n",
    "df1 = pd.read_sql(sql, conn)"
   ]
  },
  {
   "cell_type": "code",
   "execution_count": 24,
   "metadata": {},
   "outputs": [
    {
     "data": {
      "text/html": [
       "<div>\n",
       "<style scoped>\n",
       "    .dataframe tbody tr th:only-of-type {\n",
       "        vertical-align: middle;\n",
       "    }\n",
       "\n",
       "    .dataframe tbody tr th {\n",
       "        vertical-align: top;\n",
       "    }\n",
       "\n",
       "    .dataframe thead th {\n",
       "        text-align: right;\n",
       "    }\n",
       "</style>\n",
       "<table border=\"1\" class=\"dataframe\">\n",
       "  <thead>\n",
       "    <tr style=\"text-align: right;\">\n",
       "      <th></th>\n",
       "      <th>hadm_id</th>\n",
       "      <th>icustay_id</th>\n",
       "      <th>itemid</th>\n",
       "      <th>charttime</th>\n",
       "      <th>value</th>\n",
       "      <th>valuenum</th>\n",
       "      <th>valueuom</th>\n",
       "      <th>item</th>\n",
       "      <th>storetime</th>\n",
       "      <th>cgid</th>\n",
       "      <th>warning</th>\n",
       "      <th>error</th>\n",
       "      <th>resultstatus</th>\n",
       "      <th>stopped</th>\n",
       "    </tr>\n",
       "  </thead>\n",
       "  <tbody>\n",
       "    <tr>\n",
       "      <th>0</th>\n",
       "      <td>100,016.0</td>\n",
       "      <td>217,590.0</td>\n",
       "      <td>220,045.0</td>\n",
       "      <td>2188-05-28 08:00:00</td>\n",
       "      <td>91</td>\n",
       "      <td>91.0</td>\n",
       "      <td>bpm</td>\n",
       "      <td>hr</td>\n",
       "      <td>2188-05-28 08:02:00</td>\n",
       "      <td>15,623.0</td>\n",
       "      <td>0.0</td>\n",
       "      <td>0.0</td>\n",
       "      <td>None</td>\n",
       "      <td>None</td>\n",
       "    </tr>\n",
       "    <tr>\n",
       "      <th>1</th>\n",
       "      <td>100,016.0</td>\n",
       "      <td>217,590.0</td>\n",
       "      <td>220,181.0</td>\n",
       "      <td>2188-05-28 08:00:00</td>\n",
       "      <td>88</td>\n",
       "      <td>88.0</td>\n",
       "      <td>mmHg</td>\n",
       "      <td>blood_pr</td>\n",
       "      <td>2188-05-28 08:02:00</td>\n",
       "      <td>15,623.0</td>\n",
       "      <td>0.0</td>\n",
       "      <td>0.0</td>\n",
       "      <td>None</td>\n",
       "      <td>None</td>\n",
       "    </tr>\n",
       "    <tr>\n",
       "      <th>2</th>\n",
       "      <td>100,016.0</td>\n",
       "      <td>217,590.0</td>\n",
       "      <td>220,210.0</td>\n",
       "      <td>2188-05-28 08:00:00</td>\n",
       "      <td>18</td>\n",
       "      <td>18.0</td>\n",
       "      <td>insp/min</td>\n",
       "      <td>resp_rat</td>\n",
       "      <td>2188-05-28 08:02:00</td>\n",
       "      <td>15,623.0</td>\n",
       "      <td>0.0</td>\n",
       "      <td>0.0</td>\n",
       "      <td>None</td>\n",
       "      <td>None</td>\n",
       "    </tr>\n",
       "    <tr>\n",
       "      <th>3</th>\n",
       "      <td>100,016.0</td>\n",
       "      <td>217,590.0</td>\n",
       "      <td>220,277.0</td>\n",
       "      <td>2188-05-28 08:00:00</td>\n",
       "      <td>100</td>\n",
       "      <td>100.0</td>\n",
       "      <td>%</td>\n",
       "      <td>SaO2</td>\n",
       "      <td>2188-05-28 08:02:00</td>\n",
       "      <td>15,623.0</td>\n",
       "      <td>0.0</td>\n",
       "      <td>0.0</td>\n",
       "      <td>None</td>\n",
       "      <td>None</td>\n",
       "    </tr>\n",
       "    <tr>\n",
       "      <th>4</th>\n",
       "      <td>100,016.0</td>\n",
       "      <td>217,590.0</td>\n",
       "      <td>220,339.0</td>\n",
       "      <td>2188-05-28 08:00:00</td>\n",
       "      <td>5</td>\n",
       "      <td>5.0</td>\n",
       "      <td>cmH2O</td>\n",
       "      <td>PEEP</td>\n",
       "      <td>2188-05-28 07:36:00</td>\n",
       "      <td>20,803.0</td>\n",
       "      <td>0.0</td>\n",
       "      <td>0.0</td>\n",
       "      <td>None</td>\n",
       "      <td>None</td>\n",
       "    </tr>\n",
       "  </tbody>\n",
       "</table>\n",
       "</div>"
      ],
      "text/plain": [
       "    hadm_id  icustay_id    itemid           charttime value  valuenum  \\\n",
       "0 100,016.0   217,590.0 220,045.0 2188-05-28 08:00:00    91      91.0   \n",
       "1 100,016.0   217,590.0 220,181.0 2188-05-28 08:00:00    88      88.0   \n",
       "2 100,016.0   217,590.0 220,210.0 2188-05-28 08:00:00    18      18.0   \n",
       "3 100,016.0   217,590.0 220,277.0 2188-05-28 08:00:00   100     100.0   \n",
       "4 100,016.0   217,590.0 220,339.0 2188-05-28 08:00:00     5       5.0   \n",
       "\n",
       "   valueuom      item           storetime     cgid  warning  error  \\\n",
       "0       bpm        hr 2188-05-28 08:02:00 15,623.0      0.0    0.0   \n",
       "1      mmHg  blood_pr 2188-05-28 08:02:00 15,623.0      0.0    0.0   \n",
       "2  insp/min  resp_rat 2188-05-28 08:02:00 15,623.0      0.0    0.0   \n",
       "3         %      SaO2 2188-05-28 08:02:00 15,623.0      0.0    0.0   \n",
       "4     cmH2O      PEEP 2188-05-28 07:36:00 20,803.0      0.0    0.0   \n",
       "\n",
       "  resultstatus stopped  \n",
       "0         None    None  \n",
       "1         None    None  \n",
       "2         None    None  \n",
       "3         None    None  \n",
       "4         None    None  "
      ]
     },
     "execution_count": 24,
     "metadata": {},
     "output_type": "execute_result"
    }
   ],
   "source": [
    "df1.head()"
   ]
  },
  {
   "cell_type": "code",
   "execution_count": 25,
   "metadata": {},
   "outputs": [
    {
     "name": "stdout",
     "output_type": "stream",
     "text": [
      "<class 'pandas.core.frame.DataFrame'>\n",
      "RangeIndex: 74306 entries, 0 to 74305\n",
      "Data columns (total 14 columns):\n",
      "hadm_id         74306 non-null float64\n",
      "icustay_id      74306 non-null float64\n",
      "itemid          74306 non-null float64\n",
      "charttime       74306 non-null datetime64[ns]\n",
      "value           73903 non-null object\n",
      "valuenum        73992 non-null float64\n",
      "valueuom        59637 non-null object\n",
      "item            74306 non-null object\n",
      "storetime       74220 non-null datetime64[ns]\n",
      "cgid            74220 non-null float64\n",
      "warning         33854 non-null float64\n",
      "error           33854 non-null float64\n",
      "resultstatus    11633 non-null object\n",
      "stopped         40377 non-null object\n",
      "dtypes: datetime64[ns](2), float64(7), object(5)\n",
      "memory usage: 7.9+ MB\n"
     ]
    }
   ],
   "source": [
    "df1.info()"
   ]
  },
  {
   "cell_type": "code",
   "execution_count": 26,
   "metadata": {},
   "outputs": [],
   "source": [
    "df1.to_csv('data/chartevents_pre_extub.csv', encoding='UTF-8', index=False)"
   ]
  },
  {
   "cell_type": "code",
   "execution_count": null,
   "metadata": {},
   "outputs": [],
   "source": [
    "df1.value.replace('None', np.nan, inplace=True)"
   ]
  },
  {
   "cell_type": "code",
   "execution_count": null,
   "metadata": {},
   "outputs": [],
   "source": [
    "df1.value.isnull().sum()"
   ]
  },
  {
   "cell_type": "code",
   "execution_count": null,
   "metadata": {},
   "outputs": [],
   "source": [
    "df1.value = df1.value.astype(float)"
   ]
  },
  {
   "cell_type": "code",
   "execution_count": null,
   "metadata": {},
   "outputs": [],
   "source": [
    "df_chartev = pd.pivot_table(df1, index='icustay_id', columns='item', values='value')"
   ]
  },
  {
   "cell_type": "code",
   "execution_count": null,
   "metadata": {},
   "outputs": [],
   "source": [
    "df_chartev.shape"
   ]
  },
  {
   "cell_type": "markdown",
   "metadata": {},
   "source": [
    "### Merge into patien_group"
   ]
  },
  {
   "cell_type": "code",
   "execution_count": null,
   "metadata": {
    "scrolled": false
   },
   "outputs": [],
   "source": [
    "df_goal = df_goal.merge(df_chartev, how='inner', left_on='icustay_id', right_on='icustay_id')"
   ]
  },
  {
   "cell_type": "code",
   "execution_count": null,
   "metadata": {},
   "outputs": [],
   "source": [
    "df_goal.head()"
   ]
  },
  {
   "cell_type": "code",
   "execution_count": null,
   "metadata": {},
   "outputs": [],
   "source": [
    "df_goal.shape"
   ]
  },
  {
   "cell_type": "markdown",
   "metadata": {},
   "source": [
    "## Events from labevents"
   ]
  },
  {
   "cell_type": "code",
   "execution_count": 18,
   "metadata": {},
   "outputs": [],
   "source": [
    "sql = \"\"\"select * from vw_labev_values\"\"\"\n",
    "df2 = pd.read_sql(sql, conn)"
   ]
  },
  {
   "cell_type": "code",
   "execution_count": 20,
   "metadata": {},
   "outputs": [
    {
     "data": {
      "text/html": [
       "<div>\n",
       "<style scoped>\n",
       "    .dataframe tbody tr th:only-of-type {\n",
       "        vertical-align: middle;\n",
       "    }\n",
       "\n",
       "    .dataframe tbody tr th {\n",
       "        vertical-align: top;\n",
       "    }\n",
       "\n",
       "    .dataframe thead th {\n",
       "        text-align: right;\n",
       "    }\n",
       "</style>\n",
       "<table border=\"1\" class=\"dataframe\">\n",
       "  <thead>\n",
       "    <tr style=\"text-align: right;\">\n",
       "      <th></th>\n",
       "      <th>hadm_id</th>\n",
       "      <th>icustay_id</th>\n",
       "      <th>itemid</th>\n",
       "      <th>value</th>\n",
       "      <th>ts</th>\n",
       "      <th>item</th>\n",
       "    </tr>\n",
       "  </thead>\n",
       "  <tbody>\n",
       "    <tr>\n",
       "      <th>0</th>\n",
       "      <td>100016</td>\n",
       "      <td>217,590.0</td>\n",
       "      <td>50802</td>\n",
       "      <td>2</td>\n",
       "      <td>2188-05-24 17:24:00</td>\n",
       "      <td>base_excess</td>\n",
       "    </tr>\n",
       "    <tr>\n",
       "      <th>1</th>\n",
       "      <td>100016</td>\n",
       "      <td>217,590.0</td>\n",
       "      <td>50820</td>\n",
       "      <td>7.43</td>\n",
       "      <td>2188-05-24 17:24:00</td>\n",
       "      <td>pH</td>\n",
       "    </tr>\n",
       "    <tr>\n",
       "      <th>2</th>\n",
       "      <td>100016</td>\n",
       "      <td>217,590.0</td>\n",
       "      <td>50821</td>\n",
       "      <td>86</td>\n",
       "      <td>2188-05-24 17:24:00</td>\n",
       "      <td>Pa02</td>\n",
       "    </tr>\n",
       "    <tr>\n",
       "      <th>3</th>\n",
       "      <td>100016</td>\n",
       "      <td>217,590.0</td>\n",
       "      <td>50912</td>\n",
       "      <td>1.1</td>\n",
       "      <td>2188-05-28 04:16:00</td>\n",
       "      <td>creatinin</td>\n",
       "    </tr>\n",
       "    <tr>\n",
       "      <th>4</th>\n",
       "      <td>100016</td>\n",
       "      <td>217,590.0</td>\n",
       "      <td>51221</td>\n",
       "      <td>31.1</td>\n",
       "      <td>2188-05-28 04:16:00</td>\n",
       "      <td>hct</td>\n",
       "    </tr>\n",
       "    <tr>\n",
       "      <th>5</th>\n",
       "      <td>100016</td>\n",
       "      <td>217,590.0</td>\n",
       "      <td>51222</td>\n",
       "      <td>10.3</td>\n",
       "      <td>2188-05-28 04:16:00</td>\n",
       "      <td>hb</td>\n",
       "    </tr>\n",
       "    <tr>\n",
       "      <th>6</th>\n",
       "      <td>100017</td>\n",
       "      <td>258,320.0</td>\n",
       "      <td>50802</td>\n",
       "      <td>4</td>\n",
       "      <td>2103-03-11 05:10:00</td>\n",
       "      <td>base_excess</td>\n",
       "    </tr>\n",
       "    <tr>\n",
       "      <th>7</th>\n",
       "      <td>100017</td>\n",
       "      <td>258,320.0</td>\n",
       "      <td>50820</td>\n",
       "      <td>7.52</td>\n",
       "      <td>2103-03-11 05:10:00</td>\n",
       "      <td>pH</td>\n",
       "    </tr>\n",
       "    <tr>\n",
       "      <th>8</th>\n",
       "      <td>100017</td>\n",
       "      <td>258,320.0</td>\n",
       "      <td>50821</td>\n",
       "      <td>171</td>\n",
       "      <td>2103-03-11 05:10:00</td>\n",
       "      <td>Pa02</td>\n",
       "    </tr>\n",
       "    <tr>\n",
       "      <th>9</th>\n",
       "      <td>100017</td>\n",
       "      <td>258,320.0</td>\n",
       "      <td>50912</td>\n",
       "      <td>0.8</td>\n",
       "      <td>2103-03-11 03:05:00</td>\n",
       "      <td>creatinin</td>\n",
       "    </tr>\n",
       "  </tbody>\n",
       "</table>\n",
       "</div>"
      ],
      "text/plain": [
       "   hadm_id  icustay_id  itemid value                  ts         item\n",
       "0   100016   217,590.0   50802     2 2188-05-24 17:24:00  base_excess\n",
       "1   100016   217,590.0   50820  7.43 2188-05-24 17:24:00           pH\n",
       "2   100016   217,590.0   50821    86 2188-05-24 17:24:00         Pa02\n",
       "3   100016   217,590.0   50912   1.1 2188-05-28 04:16:00    creatinin\n",
       "4   100016   217,590.0   51221  31.1 2188-05-28 04:16:00          hct\n",
       "5   100016   217,590.0   51222  10.3 2188-05-28 04:16:00           hb\n",
       "6   100017   258,320.0   50802     4 2103-03-11 05:10:00  base_excess\n",
       "7   100017   258,320.0   50820  7.52 2103-03-11 05:10:00           pH\n",
       "8   100017   258,320.0   50821   171 2103-03-11 05:10:00         Pa02\n",
       "9   100017   258,320.0   50912   0.8 2103-03-11 03:05:00    creatinin"
      ]
     },
     "execution_count": 20,
     "metadata": {},
     "output_type": "execute_result"
    }
   ],
   "source": [
    "df2.head(10)"
   ]
  },
  {
   "cell_type": "code",
   "execution_count": 21,
   "metadata": {
    "scrolled": true
   },
   "outputs": [
    {
     "name": "stdout",
     "output_type": "stream",
     "text": [
      "<class 'pandas.core.frame.DataFrame'>\n",
      "RangeIndex: 35188 entries, 0 to 35187\n",
      "Data columns (total 6 columns):\n",
      "hadm_id       35188 non-null int64\n",
      "icustay_id    35188 non-null float64\n",
      "itemid        35188 non-null int64\n",
      "value         35188 non-null object\n",
      "ts            35188 non-null datetime64[ns]\n",
      "item          35188 non-null object\n",
      "dtypes: datetime64[ns](1), float64(1), int64(2), object(2)\n",
      "memory usage: 1.6+ MB\n"
     ]
    }
   ],
   "source": [
    "df2.info()"
   ]
  },
  {
   "cell_type": "code",
   "execution_count": 22,
   "metadata": {},
   "outputs": [],
   "source": [
    "df2.to_csv('data/labevents_pre_extub.csv', encoding='UTF-8', index=False)"
   ]
  },
  {
   "cell_type": "code",
   "execution_count": 9,
   "metadata": {},
   "outputs": [],
   "source": [
    "df2.value = df2.value.str.replace('^DISREGARD PREVIOUS RESULT.*', '')"
   ]
  },
  {
   "cell_type": "code",
   "execution_count": 10,
   "metadata": {},
   "outputs": [],
   "source": [
    "df2.value.replace('', np.nan, inplace=True)\n",
    "df2.value.replace('-', np.nan, inplace=True)"
   ]
  },
  {
   "cell_type": "code",
   "execution_count": 11,
   "metadata": {},
   "outputs": [
    {
     "data": {
      "text/plain": [
       "array(['2', '7.43', '86', '1.1', '31.1', '10.3', '4', '7.52', '171',\n",
       "       '0.8', '41.4', '14.3', '10', '7.41', '39', '40.5', '14.0', '7.39',\n",
       "       '365', '1.0', '42.0', '5', '7.47', '143', '0.7', '44.8', '15.2',\n",
       "       '6', '7.48', '62', '24.7', '7.6', '13', '7.49', '122', '0.5',\n",
       "       '23.6', '8.1', '0', '156', '28.8', '9.8', '7.46', '105', '0.6',\n",
       "       '26.7', '10.1', '-2', '7.36', '146', '26.1', '8.3', '7.45', '257',\n",
       "       '27.4', '10.7', '19', '99', '1.6', '27.7', '9.3', '7.40', '402',\n",
       "       '31.5', '9.7', '1', '7.44', '72', '29.9', '7.35', '127', '28.2',\n",
       "       '9.6', '7.33', '163', '10.8', '3', '76', '35.5', '11.8', '83',\n",
       "       '37.3', '12.3', '8', '7.42', '27.1', '9.2', '180', '0.9', '8.9',\n",
       "       '95', '27.6', '9.4', '-3', '7.37', '113', '-8', '7.32', '145',\n",
       "       '0.4', '29.0', '390', '27.2', '-6', '201', '11.2', '90', '1.8',\n",
       "       '43.5', '14.4', '12', '34.4', '12.4', '30.9', '10.5', '112',\n",
       "       '35.4', '7.17', '5.2', '27.3', '9.0', '85', '33.9', '12.1', '-9',\n",
       "       '7.20', '55', '31.9', '10.9', '67', '3.0', '29.5', '1.4', '9.5',\n",
       "       '111', '1.3', '33.5', '66', '28.9', '-1', '78', '11.3', '93',\n",
       "       '34.6', '11.6', '137', '26.0', '124', '30.8', '9.9', '1.2', '31.6',\n",
       "       '120', '33.3', '10.2', '47', '-5', '7.31', '88', '6.7', '34.7',\n",
       "       '75', '40.8', '13.9', '47.8', '16.0', '81', '0.3', '28.4', '144',\n",
       "       '7.34', '155', '32.1', '11.0', '7.57', '91', '34.5', '11.7',\n",
       "       '37.4', '77', '7.38', '97', '33.6', '11.1', '58', '43.1', '166',\n",
       "       '32.0', '10.4', '101', '1.5', '11', '134', '-4', '139', '24.4',\n",
       "       '7.8', '178', '25.4', '8.4', '161', '3.9', '32.7', '7.2', '33.7',\n",
       "       '7.50', '276', '11.4', '23.8', '28.5', '30.0', '74', '34.2',\n",
       "       '7.54', '23.1', '7.5', '23.2', '65', '28.7', '9.1', '9', '160',\n",
       "       '3.5', '26.6', '8.5', '116', '2.7', '30.2', '117', '150', '28.6',\n",
       "       '33.0', '14', '71', '80', '25.6', '8.6', '96', '3.2', '162',\n",
       "       '28.3', '26.4', '119', '57', '2.9', '38.0', '12.6', '27.5', '33.2',\n",
       "       '114', '27.0', '53', '32.9', '109', '7.3', '31.4', '7', '7.51',\n",
       "       '1.7', '123', '2.2', '41.5', '84', '118', '25.9', '-11', '7.28',\n",
       "       '165', '5.8', '54', '233', '29.6', '183', '3.4', '27.9', '79',\n",
       "       '35', '3.7', '26.3', '267', '132', '172', '16.5', '70', '36.1',\n",
       "       '129', '30.1', '195', '8.8', '22', '92', '30.6', '38.7', '28.0',\n",
       "       '8.2', '199', '15.7', '4.9', '17', '104', '31.7', '24.3', '8.0',\n",
       "       '25.1', '31.3', '89', '37.1', '12.9', '35.1', '186', '32.4', '2.4',\n",
       "       '34.3', '12.0', '25.7', '4.3', '98', '36', '24.9', '94', '10.6',\n",
       "       '34.0', '102', '20.6', '7.1', '179', '39.0', '12.7', '148', '28.1',\n",
       "       '68', '329', '11.5', '32.6', '43', '8.7', '7.53', '24.8', '32.8',\n",
       "       '174', '0.2', '27.8', '115', '128', '23.5', '7.7', '7.25', '2.5',\n",
       "       '31.2', '213', '2.8', '26.8', '21.7', '7.4', '100', '23.9', '2.0',\n",
       "       '30.5', '7.29', '2.3', '106', '39.6', '13.2', '2.1', '32.2', '82',\n",
       "       '22.2', '218', '40.3', '13.7', '141', '11.9', '188', '1.9', '44.4',\n",
       "       '13.8', '131', '34.8', '521', '30.4', '36.0', '200', '39.3',\n",
       "       '34.1', '3.3', '193', '29.4', '236', '39.2', '12.5', '6.5', '37',\n",
       "       '10.0', '-7', '2.6', '31.0', '36.9', '-14', '7.16', '189', '7.26',\n",
       "       '4.0', '5.5', '136', '37.0', '12.8', '3.6', '32.3', '184', '4.4',\n",
       "       '25.8', '3.8', '30.3', '38.4', '30.7', '49.7', '15.5', '147',\n",
       "       '38.9', '13.0', '21.0', '22.7', '138', '26.5', '60', '4.7', '169',\n",
       "       '23.0', '23.3', '401', '23.4', '29.7', '24.0', '22.3', '3.1',\n",
       "       '185', '22.1', '270', '103', '5.1', '126', '7.30', '7.24', '4.8',\n",
       "       '7.9', '167', '25.3', '31.8', '45', '13.4', '36.4', '18', '87',\n",
       "       '221', '234', '194', '107', '15', '5.9', '22.9', '5.6', '151',\n",
       "       '43.2', '51', '42.1', '23.7', '25.5', '142', '406', '39.1', '35.8',\n",
       "       '140', '52', '206', '12.2', '73', '38.6', '42', '29.2', '182',\n",
       "       '498', '21.9', '176', '44', '36.5', '210', '220', '540', '45.2',\n",
       "       '15.8', '6.2', '15.1', '7.21', '6.0', '121', '4.5', '24.1', '-13',\n",
       "       '7.15', '110', '7.27', '5.0', '40.7', '154', '159', '36.8', '33.8',\n",
       "       '247', '14.8', '6.1', '22.8', '125', '21.8', '36.7', '33.4',\n",
       "       '43.3', '509', '13.1', '203', '35.0', '7.23', '25.2', '376',\n",
       "       '21.1', '6.9', '29.1', '43.9', '14.1', '7.19', '33.1', '25.0',\n",
       "       '22.6', '6.4', '531', '29.8', '133', '24.6', '38.1', '36.2',\n",
       "       '37.7', '42.9', '26.2', '61', '316', '22.0', '35.3', '36.3', '-10',\n",
       "       '7.12', '260', '14.5', '227', '192', '7.22', '37.2', '37.5', '228',\n",
       "       '32.5', '399', '325', '26.9', '38.2', '158', '153', '24.5', '191',\n",
       "       '38.3', '29.3', '385', '6.6', '244', '177', '38.8', '208', '300',\n",
       "       '46', '488', '7.00', '45.5', '13.5', '22.4', '7.55', '157', '7.0',\n",
       "       '50.2', '15.4', '135', '130', '54.9', '17.7', '69', '35.6', '41.3',\n",
       "       '170', '190', '7.13', '416', '173', '5.7', '22.5', '196', '20.1',\n",
       "       '187', '202', '39.9', '50.6', '16.6', '149', '41', '46.5', '229',\n",
       "       '181', '35.7', '263', '197', '37.8', '164', '36.6', '212', '27',\n",
       "       '51.0', '17.8', '-18', '7.11', '37.9', '14.9', '4.6', '7.02', '63',\n",
       "       '204', '256', '20.8', '19.9', '230', '6.3', '20.9', '56', '175',\n",
       "       '255', '35.2', '253', '152', '-21', '33', '42.8', '7.58', '0.1',\n",
       "       '258', '44.9', '16.4', '39.4', '34.9', '231', '266', '4.1', '437',\n",
       "       '40.6', '38', '40.0', '13.3', '21', '-12', '44.6', '7.14', '42.7',\n",
       "       '46.1', '16', '50', '268', '108', '414', '242', '245', '216',\n",
       "       '37.6', '313', '41.6', '379', '49', '7.56', '20.4', '64', '4.2',\n",
       "       '238', '484', '32', '209', '51.7', '16.7', '39.7', '358', '273',\n",
       "       '7.07', '269', '440', '41.7', '44.7', '198', '24.2', '-15', '35.9',\n",
       "       '314', '20', 'LESS THAN 0.5', '435', '42.4', '344', '335', '59',\n",
       "       '240', '43.4', '14.2', '47.9', '14.6', '20.7', '207', '46.0',\n",
       "       '421', '31', '23', '7.08', '39.5', '528', '44.2', '21.5', '277',\n",
       "       '40.2', '14.7', '168', '492', '38.5', '29', '40', '39.8', '13.6',\n",
       "       '332', '48.3', '16.2', '43.0', '386', '46.4', '15.0', '47.3',\n",
       "       '15.6', '283', '217', '371', '475', '43.6', '318', '42.2', '21.2',\n",
       "       '7.18', '215', '41.1', '45.0', '48', '286', '56.1', '359', '251',\n",
       "       '46.3', '19.4', '395', '42.6', '223', '292', '34', '41.9', '403',\n",
       "       '40.4', '495', '-16', '41.0', '573', '30', nan, '40.1', '248',\n",
       "       '411', '630', '226', 'GREATER THAN 7.55', '21.6', '46.8', '224',\n",
       "       '494', '21.3', '21.4', '-19', '17.3', '280', '7.06', '295', '252',\n",
       "       '20.5', '211', '453', '41.8', '515', '19.8', '6.8', '272', '446',\n",
       "       '449', 'DISREGARD RESULTS', '47.0', '18.5', '7.10', '28', '264',\n",
       "       '25', '20.0', '369', '404', '43.7', '347', '431', '205', '317',\n",
       "       '339', '438', '18.1', '520', '219', '41.2', '241', '19.2', '306',\n",
       "       '5.3', '6.95', '288', '315', '-17', '249', '55.3', '18.6', '497',\n",
       "       '561', '48.1', '18.9', '45.1', '506', '45.3', '545', '284', '47.1',\n",
       "       '15.3', '214', '567', '42.5', '357', '308', '-20', '362', '343',\n",
       "       '448', '302', '503', '311', '524', '307', '366', '389', '412',\n",
       "       '408', '590', '15.9', '250', '553', '328', '507', '338', '42.3',\n",
       "       '45.7', '246', '294', '47.6', '353', '18.2', '370', '456', '18.7',\n",
       "       '324', '320', '5.4', '482', '462', '319', '7.64', '360', '290',\n",
       "       '48.0', '432', '346', '45.6', '16.9', '50.7', '20.3', '40.9',\n",
       "       '44.3', '26', '298', '7.05', '24', '7.59', '239', '468', '352',\n",
       "       '232', '391', '303', '222', '261', '45.4', '543', '285', '361',\n",
       "       '44.1', '47.2', '579', '44.5', '7.09', '243', '523', '48.6',\n",
       "       '16.3', '51.2', '17.1', '512', '297', '299', '262', '387', '405',\n",
       "       '310', '265', '477', '-25', '6.98', '336', '237', '57.4', '326',\n",
       "       '293', '348', 'UNABLE TO REPORT', '49.3', '461', '44.0', '420',\n",
       "       '0.0', '441', '235', '427', '46.9', '465', '-22', '50.0', '49.9'],\n",
       "      dtype=object)"
      ]
     },
     "execution_count": 11,
     "metadata": {},
     "output_type": "execute_result"
    }
   ],
   "source": [
    "df2.value.unique()"
   ]
  },
  {
   "cell_type": "code",
   "execution_count": null,
   "metadata": {
    "scrolled": true
   },
   "outputs": [],
   "source": [
    "df2.value = df2.value.astype(float)"
   ]
  },
  {
   "cell_type": "code",
   "execution_count": null,
   "metadata": {},
   "outputs": [],
   "source": [
    "df_labev = pd.pivot_table(df2, index='hadm_id', columns='item', values='value')"
   ]
  },
  {
   "cell_type": "code",
   "execution_count": null,
   "metadata": {},
   "outputs": [],
   "source": [
    "df_labev.shape"
   ]
  },
  {
   "cell_type": "markdown",
   "metadata": {},
   "source": [
    "### Merge into patient_group"
   ]
  },
  {
   "cell_type": "code",
   "execution_count": null,
   "metadata": {},
   "outputs": [],
   "source": [
    "df_goal = df_goal.merge(df_labev, how='inner', left_on='hadm_id', right_on='hadm_id')"
   ]
  },
  {
   "cell_type": "code",
   "execution_count": null,
   "metadata": {},
   "outputs": [],
   "source": [
    "df_goal.shape"
   ]
  },
  {
   "cell_type": "code",
   "execution_count": null,
   "metadata": {
    "scrolled": true
   },
   "outputs": [],
   "source": [
    "df_goal.head()"
   ]
  },
  {
   "cell_type": "code",
   "execution_count": null,
   "metadata": {
    "scrolled": true
   },
   "outputs": [],
   "source": [
    "df_goal.icustay_id.nunique()"
   ]
  },
  {
   "cell_type": "code",
   "execution_count": null,
   "metadata": {},
   "outputs": [],
   "source": [
    "df_goal.groupby('hadm_id').count()"
   ]
  },
  {
   "cell_type": "code",
   "execution_count": 27,
   "metadata": {},
   "outputs": [],
   "source": [
    "conn.close()"
   ]
  }
 ],
 "metadata": {
  "kernelspec": {
   "display_name": "Python 3.6.10 64-bit ('nf')",
   "language": "python",
   "name": "python361064bitnf8add1acfca654b1ab4527881e7fa8184"
  },
  "language_info": {
   "codemirror_mode": {
    "name": "ipython",
    "version": 3
   },
   "file_extension": ".py",
   "mimetype": "text/x-python",
   "name": "python",
   "nbconvert_exporter": "python",
   "pygments_lexer": "ipython3",
   "version": "3.6.10"
  },
  "toc": {
   "base_numbering": 1,
   "nav_menu": {},
   "number_sections": true,
   "sideBar": true,
   "skip_h1_title": false,
   "title_cell": "Table of Contents",
   "title_sidebar": "Contents",
   "toc_cell": false,
   "toc_position": {
    "height": "calc(100% - 180px)",
    "left": "10px",
    "top": "150px",
    "width": "288px"
   },
   "toc_section_display": true,
   "toc_window_display": true
  },
  "varInspector": {
   "cols": {
    "lenName": 16,
    "lenType": 16,
    "lenVar": 40
   },
   "kernels_config": {
    "python": {
     "delete_cmd_postfix": "",
     "delete_cmd_prefix": "del ",
     "library": "var_list.py",
     "varRefreshCmd": "print(var_dic_list())"
    },
    "r": {
     "delete_cmd_postfix": ") ",
     "delete_cmd_prefix": "rm(",
     "library": "var_list.r",
     "varRefreshCmd": "cat(var_dic_list()) "
    }
   },
   "types_to_exclude": [
    "module",
    "function",
    "builtin_function_or_method",
    "instance",
    "_Feature"
   ],
   "window_display": false
  }
 },
 "nbformat": 4,
 "nbformat_minor": 4
}
