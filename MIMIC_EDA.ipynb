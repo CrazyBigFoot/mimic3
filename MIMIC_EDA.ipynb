{
 "cells": [
  {
   "cell_type": "code",
   "execution_count": 1,
   "metadata": {},
   "outputs": [],
   "source": [
    "import pandas as pd\n",
    "import numpy as np\n",
    "import matplotlib.pyplot as plt\n",
    "import csv\n",
    "import psycopg2\n",
    "\n",
    "# settings\n",
    "datapath = '/Users/mirkoknoche/MIMIC/'\n",
    "pd.set_option('display.max_columns', 500)\n",
    "pd.options.display.float_format = '{:,}'.format\n",
    "%matplotlib inline\n",
    "\n",
    "# database\n",
    "conn_string = open('./intern/DB_connection.txt', 'r', encoding='UTF-8').read()"
   ]
  },
  {
   "cell_type": "markdown",
   "metadata": {},
   "source": [
    "# Datenbank"
   ]
  },
  {
   "cell_type": "code",
   "execution_count": null,
   "metadata": {},
   "outputs": [],
   "source": [
    "import psycopg2\n",
    "gitpath = '/Users/mirkoknoche/Google Drive/neuefische/projects/MIMIC/'\n",
    "conn_string = open(gitpath + 'intern/DB_connection.txt', 'r', encoding='UTF-8').read()\n",
    "conn = eval('psycopg2.connect({})'.format(conn_string.strip()))"
   ]
  },
  {
   "cell_type": "code",
   "execution_count": null,
   "metadata": {},
   "outputs": [],
   "source": [
    "sql = \"\"\"select * from vw_t_chartevents LIMIT 1000\"\"\"\n",
    "df_sql = pd.read_sql(sql, conn)"
   ]
  },
  {
   "cell_type": "code",
   "execution_count": null,
   "metadata": {
    "scrolled": true
   },
   "outputs": [],
   "source": [
    "df_sql.head()"
   ]
  },
  {
   "cell_type": "code",
   "execution_count": null,
   "metadata": {},
   "outputs": [],
   "source": [
    "df_sql.info()"
   ]
  },
  {
   "cell_type": "code",
   "execution_count": null,
   "metadata": {},
   "outputs": [],
   "source": [
    "conn.close()"
   ]
  },
  {
   "cell_type": "markdown",
   "metadata": {},
   "source": [
    "# inputevents_cv"
   ]
  },
  {
   "cell_type": "markdown",
   "metadata": {},
   "source": [
    "Inputs are any fluids which have been administered to the patient: such as oral or tube feedings or intravenous solutions containing medications. "
   ]
  },
  {
   "cell_type": "markdown",
   "metadata": {},
   "source": [
    "Inputs exist in two separate tables: INPUTEVENTS_CV and INPUTEVENTS_MV. INPUTEVENTS_CV contains CareVue inputs, while INPUTEVENTS_MV contains Metavision inputs. Results from these tables can be unioned as observations are not duplicated across tables. For CareVue data, the rate and volume will be asynchronous, and only the CHARTTIME will be available. For rates, the CHARTTIME will correspond to a start time (when the drug was set to that rate). For volumes, the CHARTTIME will correspond to an end time."
   ]
  },
  {
   "cell_type": "markdown",
   "metadata": {},
   "source": [
    "| column | Description | Type |\n",
    "|:-------|:------------|------|\n",
    "| ROW_ID | ID from Database | numeric |\n",
    "| SUBJECT_ID | Unique ID of a patient | numeric |\n",
    "| HADM_ID | Unique ID of a patient hospital stay | numeric |\n",
    "| ICUSTAY_ID | Unique ID of a patient ICU stay | numeric |\n",
    "| CHARTTIME | time at which the measurement was charted at the bedside | datetime |\n",
    "| ITEMID | Identifier for a single measurement type D_ITEMS.csv | numeric |\n",
    "| AMOUNT | amount of a drug or substance administered to the patient either between the STARTTIME and ENDTIME | numeric |"
   ]
  },
  {
   "cell_type": "code",
   "execution_count": null,
   "metadata": {},
   "outputs": [],
   "source": [
    "c = 1000000\n",
    "df_input_cv = pd.read_csv(datapath + 'INPUTEVENTS_CV.csv', nrows=10000)"
   ]
  },
  {
   "cell_type": "code",
   "execution_count": null,
   "metadata": {},
   "outputs": [],
   "source": [
    "sql = \"\"\"select * from inputevents_cv \n",
    "        where subject_id in (select subject_id from diagnoses_icd di where ICD9_CODE = '51881')\n",
    "        LIMIT 100000\"\"\"\n",
    "df_input_cv = pd.read_sql(sql, conn)"
   ]
  },
  {
   "cell_type": "code",
   "execution_count": null,
   "metadata": {},
   "outputs": [],
   "source": [
    "df_input_cv.shape"
   ]
  },
  {
   "cell_type": "code",
   "execution_count": null,
   "metadata": {
    "scrolled": true
   },
   "outputs": [],
   "source": [
    "df_input_cv.info()"
   ]
  },
  {
   "cell_type": "markdown",
   "metadata": {},
   "source": [
    "We can see that already in the first 100000 rows some HADM_ID's are missing. Let us show how many, if we import only this column."
   ]
  },
  {
   "cell_type": "code",
   "execution_count": null,
   "metadata": {},
   "outputs": [],
   "source": [
    "sql = \"\"\"select hadm_id from inputevents_cv \"\"\"\n",
    "df_test = pd.read_sql(sql, conn)"
   ]
  },
  {
   "cell_type": "code",
   "execution_count": null,
   "metadata": {},
   "outputs": [],
   "source": [
    "df_test.shape"
   ]
  },
  {
   "cell_type": "code",
   "execution_count": null,
   "metadata": {},
   "outputs": [],
   "source": [
    "df_test.isna().sum()"
   ]
  },
  {
   "cell_type": "code",
   "execution_count": null,
   "metadata": {},
   "outputs": [],
   "source": [
    "print('Missing HADM_ID in percent: {:.2f}%'.format(float(df_test.isna().sum()) / df_test.shape[0] *100))"
   ]
  },
  {
   "cell_type": "markdown",
   "metadata": {},
   "source": [
    "The amount of missing HADM_ID's ist tiny. We ignore these missing entrys."
   ]
  },
  {
   "cell_type": "code",
   "execution_count": null,
   "metadata": {
    "scrolled": false
   },
   "outputs": [],
   "source": [
    "df_input_cv.head()"
   ]
  },
  {
   "cell_type": "code",
   "execution_count": null,
   "metadata": {},
   "outputs": [],
   "source": [
    "sql = \"\"\"select row_id from inputevents_cv \"\"\"\n",
    "df_test2 = pd.read_sql(sql, conn)"
   ]
  },
  {
   "cell_type": "code",
   "execution_count": null,
   "metadata": {},
   "outputs": [],
   "source": [
    "df_test2.shape"
   ]
  },
  {
   "cell_type": "code",
   "execution_count": null,
   "metadata": {},
   "outputs": [],
   "source": [
    "df_test2.nunique()"
   ]
  },
  {
   "cell_type": "markdown",
   "metadata": {},
   "source": [
    "# Find extubations"
   ]
  },
  {
   "cell_type": "code",
   "execution_count": 31,
   "metadata": {},
   "outputs": [],
   "source": [
    "conn = eval('psycopg2.connect({})'.format(conn_string.strip()))"
   ]
  },
  {
   "cell_type": "code",
   "execution_count": 32,
   "metadata": {},
   "outputs": [],
   "source": [
    "sql = \"\"\"select i2.hadm_id, v.* \n",
    "        from ventsettings v\n",
    "        inner join icustays i2 on i2.icustay_id = v.icustay_id \n",
    "        where (v.mechvent + v.oxygentherapy + v.extubated + v.selfextubated) > 0\n",
    "        order by icustay_id, charttime \"\"\"\n",
    "df = pd.read_sql(sql, conn)"
   ]
  },
  {
   "cell_type": "code",
   "execution_count": 33,
   "metadata": {},
   "outputs": [
    {
     "data": {
      "text/plain": [
       "(592908, 7)"
      ]
     },
     "execution_count": 33,
     "metadata": {},
     "output_type": "execute_result"
    }
   ],
   "source": [
    "df.shape"
   ]
  },
  {
   "cell_type": "code",
   "execution_count": 34,
   "metadata": {},
   "outputs": [
    {
     "data": {
      "text/html": [
       "<div>\n",
       "<style scoped>\n",
       "    .dataframe tbody tr th:only-of-type {\n",
       "        vertical-align: middle;\n",
       "    }\n",
       "\n",
       "    .dataframe tbody tr th {\n",
       "        vertical-align: top;\n",
       "    }\n",
       "\n",
       "    .dataframe thead th {\n",
       "        text-align: right;\n",
       "    }\n",
       "</style>\n",
       "<table border=\"1\" class=\"dataframe\">\n",
       "  <thead>\n",
       "    <tr style=\"text-align: right;\">\n",
       "      <th></th>\n",
       "      <th>hadm_id</th>\n",
       "      <th>icustay_id</th>\n",
       "      <th>charttime</th>\n",
       "      <th>mechvent</th>\n",
       "      <th>oxygentherapy</th>\n",
       "      <th>extubated</th>\n",
       "      <th>selfextubated</th>\n",
       "    </tr>\n",
       "  </thead>\n",
       "  <tbody>\n",
       "    <tr>\n",
       "      <th>0</th>\n",
       "      <td>189514</td>\n",
       "      <td>200,006.0</td>\n",
       "      <td>2159-09-03 13:00:00</td>\n",
       "      <td>1</td>\n",
       "      <td>0</td>\n",
       "      <td>0</td>\n",
       "      <td>0</td>\n",
       "    </tr>\n",
       "    <tr>\n",
       "      <th>1</th>\n",
       "      <td>189514</td>\n",
       "      <td>200,006.0</td>\n",
       "      <td>2159-09-03 16:50:00</td>\n",
       "      <td>1</td>\n",
       "      <td>0</td>\n",
       "      <td>0</td>\n",
       "      <td>0</td>\n",
       "    </tr>\n",
       "    <tr>\n",
       "      <th>2</th>\n",
       "      <td>189514</td>\n",
       "      <td>200,006.0</td>\n",
       "      <td>2159-09-03 20:00:00</td>\n",
       "      <td>1</td>\n",
       "      <td>0</td>\n",
       "      <td>0</td>\n",
       "      <td>0</td>\n",
       "    </tr>\n",
       "  </tbody>\n",
       "</table>\n",
       "</div>"
      ],
      "text/plain": [
       "   hadm_id  icustay_id           charttime  mechvent  oxygentherapy  \\\n",
       "0   189514   200,006.0 2159-09-03 13:00:00         1              0   \n",
       "1   189514   200,006.0 2159-09-03 16:50:00         1              0   \n",
       "2   189514   200,006.0 2159-09-03 20:00:00         1              0   \n",
       "\n",
       "   extubated  selfextubated  \n",
       "0          0              0  \n",
       "1          0              0  \n",
       "2          0              0  "
      ]
     },
     "execution_count": 34,
     "metadata": {},
     "output_type": "execute_result"
    }
   ],
   "source": [
    "df.head(3)"
   ]
  },
  {
   "cell_type": "code",
   "execution_count": 35,
   "metadata": {},
   "outputs": [
    {
     "name": "stdout",
     "output_type": "stream",
     "text": [
      "<class 'pandas.core.frame.DataFrame'>\n",
      "RangeIndex: 592908 entries, 0 to 592907\n",
      "Data columns (total 7 columns):\n",
      "hadm_id          592908 non-null int64\n",
      "icustay_id       592908 non-null float64\n",
      "charttime        592908 non-null datetime64[ns]\n",
      "mechvent         592908 non-null int64\n",
      "oxygentherapy    592908 non-null int64\n",
      "extubated        592908 non-null int64\n",
      "selfextubated    592908 non-null int64\n",
      "dtypes: datetime64[ns](1), float64(1), int64(5)\n",
      "memory usage: 31.7 MB\n"
     ]
    }
   ],
   "source": [
    "df.info()"
   ]
  },
  {
   "cell_type": "markdown",
   "metadata": {},
   "source": [
    "Checking the exturbations"
   ]
  },
  {
   "cell_type": "code",
   "execution_count": 36,
   "metadata": {
    "scrolled": true
   },
   "outputs": [],
   "source": [
    "df_count_ex = df.groupby('icustay_id').extubated.sum()"
   ]
  },
  {
   "cell_type": "code",
   "execution_count": 37,
   "metadata": {},
   "outputs": [
    {
     "data": {
      "image/png": "[encoded data removed]",
      "text/plain": [
       "<Figure size 720x504 with 1 Axes>"
      ]
     },
     "metadata": {
      "needs_background": "light"
     },
     "output_type": "display_data"
    }
   ],
   "source": [
    "fig = plt.figure(figsize=(10,7))\n",
    "ax = fig.add_subplot(1, 1, 1)\n",
    "ax.hist(df_count_ex)\n",
    "plt.ylabel('Amount of ICU-stays')\n",
    "plt.xlabel('Extubations')\n",
    "plt.title('Histrogram of the extubations')\n",
    "plt.savefig('./images/hist_extubations_per_icustay.png')\n",
    "plt.show();"
   ]
  },
  {
   "cell_type": "markdown",
   "metadata": {},
   "source": [
    "Many ICU stays have no explicit documented extubation. We need to extract the id's and find another way."
   ]
  },
  {
   "cell_type": "code",
   "execution_count": 38,
   "metadata": {},
   "outputs": [],
   "source": [
    "err_ext = list(df_count_ex[df_count_ex == 0].index)"
   ]
  },
  {
   "cell_type": "code",
   "execution_count": 39,
   "metadata": {},
   "outputs": [
    {
     "data": {
      "text/plain": [
       "3391"
      ]
     },
     "execution_count": 39,
     "metadata": {},
     "output_type": "execute_result"
    }
   ],
   "source": [
    "len(err_ext)"
   ]
  },
  {
   "cell_type": "code",
   "execution_count": 40,
   "metadata": {},
   "outputs": [],
   "source": [
    "sql = \"\"\"select * from transfers\"\"\"\n",
    "df_icuunit = pd.read_sql(sql, conn)"
   ]
  },
  {
   "cell_type": "code",
   "execution_count": 41,
   "metadata": {},
   "outputs": [],
   "source": [
    "df_icuunit = df_icuunit[df_icuunit.icustay_id.isin(err_ext)]"
   ]
  },
  {
   "cell_type": "code",
   "execution_count": 42,
   "metadata": {},
   "outputs": [],
   "source": [
    "df_icuunit = df_icuunit[['icustay_id', 'curr_careunit']]"
   ]
  },
  {
   "cell_type": "code",
   "execution_count": 43,
   "metadata": {},
   "outputs": [],
   "source": [
    "df_icuunit.drop_duplicates(inplace=True)"
   ]
  },
  {
   "cell_type": "code",
   "execution_count": 44,
   "metadata": {},
   "outputs": [],
   "source": [
    "df_plot = df_icuunit.groupby('curr_careunit').count()"
   ]
  },
  {
   "cell_type": "code",
   "execution_count": 45,
   "metadata": {},
   "outputs": [
    {
     "data": {
      "image/png": "[encoded data removed]",
      "text/plain": [
       "<Figure size 720x504 with 1 Axes>"
      ]
     },
     "metadata": {
      "needs_background": "light"
     },
     "output_type": "display_data"
    }
   ],
   "source": [
    "fig = plt.figure(figsize=(10,7))\n",
    "ax = fig.add_subplot(1, 1, 1)\n",
    "ax.bar(list(df_plot.index), height=list(df_plot.values.flatten()))\n",
    "plt.ylabel('Missing extubations')\n",
    "plt.xlabel('ICU units')\n",
    "plt.title('Not documented extubations')\n",
    "plt.savefig('./images/missing_extubations_per_unit.png')\n",
    "plt.show();"
   ]
  },
  {
   "cell_type": "code",
   "execution_count": 46,
   "metadata": {},
   "outputs": [],
   "source": [
    "df_qry = df[df.icustay_id == 200063]"
   ]
  },
  {
   "cell_type": "code",
   "execution_count": 47,
   "metadata": {},
   "outputs": [
    {
     "data": {
      "text/html": [
       "<div>\n",
       "<style scoped>\n",
       "    .dataframe tbody tr th:only-of-type {\n",
       "        vertical-align: middle;\n",
       "    }\n",
       "\n",
       "    .dataframe tbody tr th {\n",
       "        vertical-align: top;\n",
       "    }\n",
       "\n",
       "    .dataframe thead th {\n",
       "        text-align: right;\n",
       "    }\n",
       "</style>\n",
       "<table border=\"1\" class=\"dataframe\">\n",
       "  <thead>\n",
       "    <tr style=\"text-align: right;\">\n",
       "      <th></th>\n",
       "      <th>hadm_id</th>\n",
       "      <th>icustay_id</th>\n",
       "      <th>charttime</th>\n",
       "      <th>mechvent</th>\n",
       "      <th>oxygentherapy</th>\n",
       "      <th>extubated</th>\n",
       "      <th>selfextubated</th>\n",
       "    </tr>\n",
       "  </thead>\n",
       "  <tbody>\n",
       "    <tr>\n",
       "      <th>116</th>\n",
       "      <td>129142</td>\n",
       "      <td>200,063.0</td>\n",
       "      <td>2141-03-10 07:00:00</td>\n",
       "      <td>1</td>\n",
       "      <td>0</td>\n",
       "      <td>0</td>\n",
       "      <td>0</td>\n",
       "    </tr>\n",
       "    <tr>\n",
       "      <th>117</th>\n",
       "      <td>129142</td>\n",
       "      <td>200,063.0</td>\n",
       "      <td>2141-03-10 08:00:00</td>\n",
       "      <td>1</td>\n",
       "      <td>0</td>\n",
       "      <td>0</td>\n",
       "      <td>0</td>\n",
       "    </tr>\n",
       "    <tr>\n",
       "      <th>118</th>\n",
       "      <td>129142</td>\n",
       "      <td>200,063.0</td>\n",
       "      <td>2141-03-10 09:00:00</td>\n",
       "      <td>1</td>\n",
       "      <td>0</td>\n",
       "      <td>0</td>\n",
       "      <td>0</td>\n",
       "    </tr>\n",
       "    <tr>\n",
       "      <th>119</th>\n",
       "      <td>129142</td>\n",
       "      <td>200,063.0</td>\n",
       "      <td>2141-03-10 09:11:00</td>\n",
       "      <td>1</td>\n",
       "      <td>0</td>\n",
       "      <td>0</td>\n",
       "      <td>0</td>\n",
       "    </tr>\n",
       "    <tr>\n",
       "      <th>120</th>\n",
       "      <td>129142</td>\n",
       "      <td>200,063.0</td>\n",
       "      <td>2141-03-10 13:00:00</td>\n",
       "      <td>1</td>\n",
       "      <td>0</td>\n",
       "      <td>0</td>\n",
       "      <td>0</td>\n",
       "    </tr>\n",
       "  </tbody>\n",
       "</table>\n",
       "</div>"
      ],
      "text/plain": [
       "     hadm_id  icustay_id           charttime  mechvent  oxygentherapy  \\\n",
       "116   129142   200,063.0 2141-03-10 07:00:00         1              0   \n",
       "117   129142   200,063.0 2141-03-10 08:00:00         1              0   \n",
       "118   129142   200,063.0 2141-03-10 09:00:00         1              0   \n",
       "119   129142   200,063.0 2141-03-10 09:11:00         1              0   \n",
       "120   129142   200,063.0 2141-03-10 13:00:00         1              0   \n",
       "\n",
       "     extubated  selfextubated  \n",
       "116          0              0  \n",
       "117          0              0  \n",
       "118          0              0  \n",
       "119          0              0  \n",
       "120          0              0  "
      ]
     },
     "execution_count": 47,
     "metadata": {},
     "output_type": "execute_result"
    }
   ],
   "source": [
    "df_qry.head()"
   ]
  },
  {
   "cell_type": "code",
   "execution_count": 48,
   "metadata": {
    "scrolled": true
   },
   "outputs": [
    {
     "name": "stderr",
     "output_type": "stream",
     "text": [
      "/Users/mirkoknoche/opt/anaconda3/envs/nf/lib/python3.6/site-packages/ipykernel_launcher.py:1: SettingWithCopyWarning: \n",
      "A value is trying to be set on a copy of a slice from a DataFrame.\n",
      "Try using .loc[row_indexer,col_indexer] = value instead\n",
      "\n",
      "See the caveats in the documentation: http://pandas.pydata.org/pandas-docs/stable/indexing.html#indexing-view-versus-copy\n",
      "  \"\"\"Entry point for launching an IPython kernel.\n"
     ]
    }
   ],
   "source": [
    "df_qry['extube'] = df_qry['mechvent'].diff()\n",
    "# df_qry['extube'] = df_qry['extube'].pow(2)"
   ]
  },
  {
   "cell_type": "code",
   "execution_count": 49,
   "metadata": {},
   "outputs": [
    {
     "name": "stderr",
     "output_type": "stream",
     "text": [
      "/Users/mirkoknoche/opt/anaconda3/envs/nf/lib/python3.6/site-packages/ipykernel_launcher.py:1: SettingWithCopyWarning: \n",
      "A value is trying to be set on a copy of a slice from a DataFrame.\n",
      "Try using .loc[row_indexer,col_indexer] = value instead\n",
      "\n",
      "See the caveats in the documentation: http://pandas.pydata.org/pandas-docs/stable/indexing.html#indexing-view-versus-copy\n",
      "  \"\"\"Entry point for launching an IPython kernel.\n"
     ]
    }
   ],
   "source": [
    "df_qry['oxy'] = df_qry['oxygentherapy'].diff()\n",
    "# df_qry['oxy'] = df_qry['oxy'].pow(2)"
   ]
  },
  {
   "cell_type": "code",
   "execution_count": 50,
   "metadata": {},
   "outputs": [],
   "source": [
    "df_qry.extube.fillna(0, inplace=True)\n",
    "df_qry.oxy.fillna(0, inplace=True)"
   ]
  },
  {
   "cell_type": "code",
   "execution_count": 51,
   "metadata": {},
   "outputs": [
    {
     "data": {
      "text/html": [
       "<div>\n",
       "<style scoped>\n",
       "    .dataframe tbody tr th:only-of-type {\n",
       "        vertical-align: middle;\n",
       "    }\n",
       "\n",
       "    .dataframe tbody tr th {\n",
       "        vertical-align: top;\n",
       "    }\n",
       "\n",
       "    .dataframe thead th {\n",
       "        text-align: right;\n",
       "    }\n",
       "</style>\n",
       "<table border=\"1\" class=\"dataframe\">\n",
       "  <thead>\n",
       "    <tr style=\"text-align: right;\">\n",
       "      <th></th>\n",
       "      <th>hadm_id</th>\n",
       "      <th>icustay_id</th>\n",
       "      <th>charttime</th>\n",
       "      <th>mechvent</th>\n",
       "      <th>oxygentherapy</th>\n",
       "      <th>extubated</th>\n",
       "      <th>selfextubated</th>\n",
       "      <th>extube</th>\n",
       "      <th>oxy</th>\n",
       "    </tr>\n",
       "  </thead>\n",
       "  <tbody>\n",
       "    <tr>\n",
       "      <th>160</th>\n",
       "      <td>129142</td>\n",
       "      <td>200,063.0</td>\n",
       "      <td>2141-03-15 00:00:00</td>\n",
       "      <td>1</td>\n",
       "      <td>0</td>\n",
       "      <td>0</td>\n",
       "      <td>0</td>\n",
       "      <td>0.0</td>\n",
       "      <td>0.0</td>\n",
       "    </tr>\n",
       "    <tr>\n",
       "      <th>161</th>\n",
       "      <td>129142</td>\n",
       "      <td>200,063.0</td>\n",
       "      <td>2141-03-15 03:00:00</td>\n",
       "      <td>1</td>\n",
       "      <td>0</td>\n",
       "      <td>0</td>\n",
       "      <td>0</td>\n",
       "      <td>0.0</td>\n",
       "      <td>0.0</td>\n",
       "    </tr>\n",
       "    <tr>\n",
       "      <th>162</th>\n",
       "      <td>129142</td>\n",
       "      <td>200,063.0</td>\n",
       "      <td>2141-03-15 06:00:00</td>\n",
       "      <td>1</td>\n",
       "      <td>0</td>\n",
       "      <td>0</td>\n",
       "      <td>0</td>\n",
       "      <td>0.0</td>\n",
       "      <td>0.0</td>\n",
       "    </tr>\n",
       "    <tr>\n",
       "      <th>163</th>\n",
       "      <td>129142</td>\n",
       "      <td>200,063.0</td>\n",
       "      <td>2141-03-15 07:00:00</td>\n",
       "      <td>1</td>\n",
       "      <td>0</td>\n",
       "      <td>0</td>\n",
       "      <td>0</td>\n",
       "      <td>0.0</td>\n",
       "      <td>0.0</td>\n",
       "    </tr>\n",
       "    <tr>\n",
       "      <th>164</th>\n",
       "      <td>129142</td>\n",
       "      <td>200,063.0</td>\n",
       "      <td>2141-03-15 09:15:00</td>\n",
       "      <td>1</td>\n",
       "      <td>0</td>\n",
       "      <td>0</td>\n",
       "      <td>0</td>\n",
       "      <td>0.0</td>\n",
       "      <td>0.0</td>\n",
       "    </tr>\n",
       "    <tr>\n",
       "      <th>165</th>\n",
       "      <td>129142</td>\n",
       "      <td>200,063.0</td>\n",
       "      <td>2141-03-15 10:00:00</td>\n",
       "      <td>1</td>\n",
       "      <td>0</td>\n",
       "      <td>0</td>\n",
       "      <td>0</td>\n",
       "      <td>0.0</td>\n",
       "      <td>0.0</td>\n",
       "    </tr>\n",
       "    <tr>\n",
       "      <th>166</th>\n",
       "      <td>129142</td>\n",
       "      <td>200,063.0</td>\n",
       "      <td>2141-03-15 11:50:00</td>\n",
       "      <td>1</td>\n",
       "      <td>0</td>\n",
       "      <td>0</td>\n",
       "      <td>0</td>\n",
       "      <td>0.0</td>\n",
       "      <td>0.0</td>\n",
       "    </tr>\n",
       "    <tr>\n",
       "      <th>167</th>\n",
       "      <td>129142</td>\n",
       "      <td>200,063.0</td>\n",
       "      <td>2141-03-15 12:00:00</td>\n",
       "      <td>1</td>\n",
       "      <td>0</td>\n",
       "      <td>0</td>\n",
       "      <td>0</td>\n",
       "      <td>0.0</td>\n",
       "      <td>0.0</td>\n",
       "    </tr>\n",
       "    <tr>\n",
       "      <th>168</th>\n",
       "      <td>129142</td>\n",
       "      <td>200,063.0</td>\n",
       "      <td>2141-03-15 13:00:00</td>\n",
       "      <td>1</td>\n",
       "      <td>0</td>\n",
       "      <td>0</td>\n",
       "      <td>0</td>\n",
       "      <td>0.0</td>\n",
       "      <td>0.0</td>\n",
       "    </tr>\n",
       "    <tr>\n",
       "      <th>169</th>\n",
       "      <td>129142</td>\n",
       "      <td>200,063.0</td>\n",
       "      <td>2141-03-15 14:09:00</td>\n",
       "      <td>0</td>\n",
       "      <td>0</td>\n",
       "      <td>1</td>\n",
       "      <td>0</td>\n",
       "      <td>-1.0</td>\n",
       "      <td>0.0</td>\n",
       "    </tr>\n",
       "    <tr>\n",
       "      <th>170</th>\n",
       "      <td>129142</td>\n",
       "      <td>200,063.0</td>\n",
       "      <td>2141-03-15 14:10:00</td>\n",
       "      <td>0</td>\n",
       "      <td>1</td>\n",
       "      <td>0</td>\n",
       "      <td>0</td>\n",
       "      <td>0.0</td>\n",
       "      <td>1.0</td>\n",
       "    </tr>\n",
       "    <tr>\n",
       "      <th>171</th>\n",
       "      <td>129142</td>\n",
       "      <td>200,063.0</td>\n",
       "      <td>2141-03-15 16:00:00</td>\n",
       "      <td>0</td>\n",
       "      <td>1</td>\n",
       "      <td>0</td>\n",
       "      <td>0</td>\n",
       "      <td>0.0</td>\n",
       "      <td>0.0</td>\n",
       "    </tr>\n",
       "    <tr>\n",
       "      <th>172</th>\n",
       "      <td>129142</td>\n",
       "      <td>200,063.0</td>\n",
       "      <td>2141-03-15 17:30:00</td>\n",
       "      <td>0</td>\n",
       "      <td>1</td>\n",
       "      <td>0</td>\n",
       "      <td>0</td>\n",
       "      <td>0.0</td>\n",
       "      <td>0.0</td>\n",
       "    </tr>\n",
       "    <tr>\n",
       "      <th>173</th>\n",
       "      <td>129142</td>\n",
       "      <td>200,063.0</td>\n",
       "      <td>2141-03-15 19:36:00</td>\n",
       "      <td>0</td>\n",
       "      <td>1</td>\n",
       "      <td>0</td>\n",
       "      <td>0</td>\n",
       "      <td>0.0</td>\n",
       "      <td>0.0</td>\n",
       "    </tr>\n",
       "    <tr>\n",
       "      <th>174</th>\n",
       "      <td>129142</td>\n",
       "      <td>200,063.0</td>\n",
       "      <td>2141-03-16 00:17:00</td>\n",
       "      <td>0</td>\n",
       "      <td>1</td>\n",
       "      <td>0</td>\n",
       "      <td>0</td>\n",
       "      <td>0.0</td>\n",
       "      <td>0.0</td>\n",
       "    </tr>\n",
       "    <tr>\n",
       "      <th>175</th>\n",
       "      <td>129142</td>\n",
       "      <td>200,063.0</td>\n",
       "      <td>2141-03-16 06:16:00</td>\n",
       "      <td>0</td>\n",
       "      <td>1</td>\n",
       "      <td>0</td>\n",
       "      <td>0</td>\n",
       "      <td>0.0</td>\n",
       "      <td>0.0</td>\n",
       "    </tr>\n",
       "    <tr>\n",
       "      <th>176</th>\n",
       "      <td>129142</td>\n",
       "      <td>200,063.0</td>\n",
       "      <td>2141-03-16 08:00:00</td>\n",
       "      <td>0</td>\n",
       "      <td>1</td>\n",
       "      <td>0</td>\n",
       "      <td>0</td>\n",
       "      <td>0.0</td>\n",
       "      <td>0.0</td>\n",
       "    </tr>\n",
       "    <tr>\n",
       "      <th>177</th>\n",
       "      <td>129142</td>\n",
       "      <td>200,063.0</td>\n",
       "      <td>2141-03-16 09:00:00</td>\n",
       "      <td>1</td>\n",
       "      <td>0</td>\n",
       "      <td>0</td>\n",
       "      <td>0</td>\n",
       "      <td>1.0</td>\n",
       "      <td>-1.0</td>\n",
       "    </tr>\n",
       "    <tr>\n",
       "      <th>178</th>\n",
       "      <td>129142</td>\n",
       "      <td>200,063.0</td>\n",
       "      <td>2141-03-16 13:00:00</td>\n",
       "      <td>1</td>\n",
       "      <td>0</td>\n",
       "      <td>0</td>\n",
       "      <td>0</td>\n",
       "      <td>0.0</td>\n",
       "      <td>0.0</td>\n",
       "    </tr>\n",
       "    <tr>\n",
       "      <th>179</th>\n",
       "      <td>129142</td>\n",
       "      <td>200,063.0</td>\n",
       "      <td>2141-03-16 20:00:00</td>\n",
       "      <td>1</td>\n",
       "      <td>0</td>\n",
       "      <td>0</td>\n",
       "      <td>0</td>\n",
       "      <td>0.0</td>\n",
       "      <td>0.0</td>\n",
       "    </tr>\n",
       "    <tr>\n",
       "      <th>180</th>\n",
       "      <td>129142</td>\n",
       "      <td>200,063.0</td>\n",
       "      <td>2141-03-17 00:00:00</td>\n",
       "      <td>1</td>\n",
       "      <td>0</td>\n",
       "      <td>0</td>\n",
       "      <td>0</td>\n",
       "      <td>0.0</td>\n",
       "      <td>0.0</td>\n",
       "    </tr>\n",
       "  </tbody>\n",
       "</table>\n",
       "</div>"
      ],
      "text/plain": [
       "     hadm_id  icustay_id           charttime  mechvent  oxygentherapy  \\\n",
       "160   129142   200,063.0 2141-03-15 00:00:00         1              0   \n",
       "161   129142   200,063.0 2141-03-15 03:00:00         1              0   \n",
       "162   129142   200,063.0 2141-03-15 06:00:00         1              0   \n",
       "163   129142   200,063.0 2141-03-15 07:00:00         1              0   \n",
       "164   129142   200,063.0 2141-03-15 09:15:00         1              0   \n",
       "165   129142   200,063.0 2141-03-15 10:00:00         1              0   \n",
       "166   129142   200,063.0 2141-03-15 11:50:00         1              0   \n",
       "167   129142   200,063.0 2141-03-15 12:00:00         1              0   \n",
       "168   129142   200,063.0 2141-03-15 13:00:00         1              0   \n",
       "169   129142   200,063.0 2141-03-15 14:09:00         0              0   \n",
       "170   129142   200,063.0 2141-03-15 14:10:00         0              1   \n",
       "171   129142   200,063.0 2141-03-15 16:00:00         0              1   \n",
       "172   129142   200,063.0 2141-03-15 17:30:00         0              1   \n",
       "173   129142   200,063.0 2141-03-15 19:36:00         0              1   \n",
       "174   129142   200,063.0 2141-03-16 00:17:00         0              1   \n",
       "175   129142   200,063.0 2141-03-16 06:16:00         0              1   \n",
       "176   129142   200,063.0 2141-03-16 08:00:00         0              1   \n",
       "177   129142   200,063.0 2141-03-16 09:00:00         1              0   \n",
       "178   129142   200,063.0 2141-03-16 13:00:00         1              0   \n",
       "179   129142   200,063.0 2141-03-16 20:00:00         1              0   \n",
       "180   129142   200,063.0 2141-03-17 00:00:00         1              0   \n",
       "\n",
       "     extubated  selfextubated  extube  oxy  \n",
       "160          0              0     0.0  0.0  \n",
       "161          0              0     0.0  0.0  \n",
       "162          0              0     0.0  0.0  \n",
       "163          0              0     0.0  0.0  \n",
       "164          0              0     0.0  0.0  \n",
       "165          0              0     0.0  0.0  \n",
       "166          0              0     0.0  0.0  \n",
       "167          0              0     0.0  0.0  \n",
       "168          0              0     0.0  0.0  \n",
       "169          1              0    -1.0  0.0  \n",
       "170          0              0     0.0  1.0  \n",
       "171          0              0     0.0  0.0  \n",
       "172          0              0     0.0  0.0  \n",
       "173          0              0     0.0  0.0  \n",
       "174          0              0     0.0  0.0  \n",
       "175          0              0     0.0  0.0  \n",
       "176          0              0     0.0  0.0  \n",
       "177          0              0     1.0 -1.0  \n",
       "178          0              0     0.0  0.0  \n",
       "179          0              0     0.0  0.0  \n",
       "180          0              0     0.0  0.0  "
      ]
     },
     "execution_count": 51,
     "metadata": {},
     "output_type": "execute_result"
    }
   ],
   "source": [
    "df_qry.loc[160:180]"
   ]
  },
  {
   "cell_type": "code",
   "execution_count": 52,
   "metadata": {},
   "outputs": [
    {
     "data": {
      "text/html": [
       "<div>\n",
       "<style scoped>\n",
       "    .dataframe tbody tr th:only-of-type {\n",
       "        vertical-align: middle;\n",
       "    }\n",
       "\n",
       "    .dataframe tbody tr th {\n",
       "        vertical-align: top;\n",
       "    }\n",
       "\n",
       "    .dataframe thead th {\n",
       "        text-align: right;\n",
       "    }\n",
       "</style>\n",
       "<table border=\"1\" class=\"dataframe\">\n",
       "  <thead>\n",
       "    <tr style=\"text-align: right;\">\n",
       "      <th></th>\n",
       "      <th>hadm_id</th>\n",
       "      <th>icustay_id</th>\n",
       "      <th>charttime</th>\n",
       "      <th>mechvent</th>\n",
       "      <th>oxygentherapy</th>\n",
       "      <th>extubated</th>\n",
       "      <th>selfextubated</th>\n",
       "      <th>extube</th>\n",
       "      <th>oxy</th>\n",
       "    </tr>\n",
       "  </thead>\n",
       "  <tbody>\n",
       "    <tr>\n",
       "      <th>169</th>\n",
       "      <td>129142</td>\n",
       "      <td>200,063.0</td>\n",
       "      <td>2141-03-15 14:09:00</td>\n",
       "      <td>0</td>\n",
       "      <td>0</td>\n",
       "      <td>1</td>\n",
       "      <td>0</td>\n",
       "      <td>-1.0</td>\n",
       "      <td>0.0</td>\n",
       "    </tr>\n",
       "    <tr>\n",
       "      <th>170</th>\n",
       "      <td>129142</td>\n",
       "      <td>200,063.0</td>\n",
       "      <td>2141-03-15 14:10:00</td>\n",
       "      <td>0</td>\n",
       "      <td>1</td>\n",
       "      <td>0</td>\n",
       "      <td>0</td>\n",
       "      <td>0.0</td>\n",
       "      <td>1.0</td>\n",
       "    </tr>\n",
       "    <tr>\n",
       "      <th>177</th>\n",
       "      <td>129142</td>\n",
       "      <td>200,063.0</td>\n",
       "      <td>2141-03-16 09:00:00</td>\n",
       "      <td>1</td>\n",
       "      <td>0</td>\n",
       "      <td>0</td>\n",
       "      <td>0</td>\n",
       "      <td>1.0</td>\n",
       "      <td>-1.0</td>\n",
       "    </tr>\n",
       "    <tr>\n",
       "      <th>193</th>\n",
       "      <td>129142</td>\n",
       "      <td>200,063.0</td>\n",
       "      <td>2141-03-18 13:00:00</td>\n",
       "      <td>0</td>\n",
       "      <td>0</td>\n",
       "      <td>1</td>\n",
       "      <td>0</td>\n",
       "      <td>-1.0</td>\n",
       "      <td>0.0</td>\n",
       "    </tr>\n",
       "    <tr>\n",
       "      <th>194</th>\n",
       "      <td>129142</td>\n",
       "      <td>200,063.0</td>\n",
       "      <td>2141-03-18 17:55:00</td>\n",
       "      <td>0</td>\n",
       "      <td>1</td>\n",
       "      <td>0</td>\n",
       "      <td>0</td>\n",
       "      <td>0.0</td>\n",
       "      <td>1.0</td>\n",
       "    </tr>\n",
       "    <tr>\n",
       "      <th>195</th>\n",
       "      <td>129142</td>\n",
       "      <td>200,063.0</td>\n",
       "      <td>2141-03-21 10:00:00</td>\n",
       "      <td>1</td>\n",
       "      <td>0</td>\n",
       "      <td>0</td>\n",
       "      <td>0</td>\n",
       "      <td>1.0</td>\n",
       "      <td>-1.0</td>\n",
       "    </tr>\n",
       "    <tr>\n",
       "      <th>226</th>\n",
       "      <td>129142</td>\n",
       "      <td>200,063.0</td>\n",
       "      <td>2141-03-24 16:31:00</td>\n",
       "      <td>0</td>\n",
       "      <td>1</td>\n",
       "      <td>0</td>\n",
       "      <td>0</td>\n",
       "      <td>-1.0</td>\n",
       "      <td>1.0</td>\n",
       "    </tr>\n",
       "    <tr>\n",
       "      <th>227</th>\n",
       "      <td>129142</td>\n",
       "      <td>200,063.0</td>\n",
       "      <td>2141-03-24 17:30:00</td>\n",
       "      <td>0</td>\n",
       "      <td>0</td>\n",
       "      <td>1</td>\n",
       "      <td>0</td>\n",
       "      <td>0.0</td>\n",
       "      <td>-1.0</td>\n",
       "    </tr>\n",
       "    <tr>\n",
       "      <th>228</th>\n",
       "      <td>129142</td>\n",
       "      <td>200,063.0</td>\n",
       "      <td>2141-03-24 20:00:00</td>\n",
       "      <td>0</td>\n",
       "      <td>1</td>\n",
       "      <td>0</td>\n",
       "      <td>0</td>\n",
       "      <td>0.0</td>\n",
       "      <td>1.0</td>\n",
       "    </tr>\n",
       "    <tr>\n",
       "      <th>261</th>\n",
       "      <td>129142</td>\n",
       "      <td>200,063.0</td>\n",
       "      <td>2141-03-31 11:21:00</td>\n",
       "      <td>1</td>\n",
       "      <td>0</td>\n",
       "      <td>0</td>\n",
       "      <td>0</td>\n",
       "      <td>1.0</td>\n",
       "      <td>-1.0</td>\n",
       "    </tr>\n",
       "    <tr>\n",
       "      <th>265</th>\n",
       "      <td>129142</td>\n",
       "      <td>200,063.0</td>\n",
       "      <td>2141-03-31 17:58:00</td>\n",
       "      <td>0</td>\n",
       "      <td>0</td>\n",
       "      <td>1</td>\n",
       "      <td>0</td>\n",
       "      <td>-1.0</td>\n",
       "      <td>0.0</td>\n",
       "    </tr>\n",
       "    <tr>\n",
       "      <th>266</th>\n",
       "      <td>129142</td>\n",
       "      <td>200,063.0</td>\n",
       "      <td>2141-03-31 18:00:00</td>\n",
       "      <td>0</td>\n",
       "      <td>1</td>\n",
       "      <td>0</td>\n",
       "      <td>0</td>\n",
       "      <td>0.0</td>\n",
       "      <td>1.0</td>\n",
       "    </tr>\n",
       "  </tbody>\n",
       "</table>\n",
       "</div>"
      ],
      "text/plain": [
       "     hadm_id  icustay_id           charttime  mechvent  oxygentherapy  \\\n",
       "169   129142   200,063.0 2141-03-15 14:09:00         0              0   \n",
       "170   129142   200,063.0 2141-03-15 14:10:00         0              1   \n",
       "177   129142   200,063.0 2141-03-16 09:00:00         1              0   \n",
       "193   129142   200,063.0 2141-03-18 13:00:00         0              0   \n",
       "194   129142   200,063.0 2141-03-18 17:55:00         0              1   \n",
       "195   129142   200,063.0 2141-03-21 10:00:00         1              0   \n",
       "226   129142   200,063.0 2141-03-24 16:31:00         0              1   \n",
       "227   129142   200,063.0 2141-03-24 17:30:00         0              0   \n",
       "228   129142   200,063.0 2141-03-24 20:00:00         0              1   \n",
       "261   129142   200,063.0 2141-03-31 11:21:00         1              0   \n",
       "265   129142   200,063.0 2141-03-31 17:58:00         0              0   \n",
       "266   129142   200,063.0 2141-03-31 18:00:00         0              1   \n",
       "\n",
       "     extubated  selfextubated  extube  oxy  \n",
       "169          1              0    -1.0  0.0  \n",
       "170          0              0     0.0  1.0  \n",
       "177          0              0     1.0 -1.0  \n",
       "193          1              0    -1.0  0.0  \n",
       "194          0              0     0.0  1.0  \n",
       "195          0              0     1.0 -1.0  \n",
       "226          0              0    -1.0  1.0  \n",
       "227          1              0     0.0 -1.0  \n",
       "228          0              0     0.0  1.0  \n",
       "261          0              0     1.0 -1.0  \n",
       "265          1              0    -1.0  0.0  \n",
       "266          0              0     0.0  1.0  "
      ]
     },
     "execution_count": 52,
     "metadata": {},
     "output_type": "execute_result"
    }
   ],
   "source": [
    "df_qry[(df_qry['extube'] != 0) | (df_qry['oxy'] != 0)]"
   ]
  },
  {
   "cell_type": "code",
   "execution_count": 53,
   "metadata": {},
   "outputs": [],
   "source": [
    "conn.close()"
   ]
  }
 ],
 "metadata": {
  "kernelspec": {
   "display_name": "Python 3.6.10 64-bit ('nf')",
   "language": "python",
   "name": "python361064bitnf8add1acfca654b1ab4527881e7fa8184"
  },
  "language_info": {
   "codemirror_mode": {
    "name": "ipython",
    "version": 3
   },
   "file_extension": ".py",
   "mimetype": "text/x-python",
   "name": "python",
   "nbconvert_exporter": "python",
   "pygments_lexer": "ipython3",
   "version": "3.6.10"
  },
  "toc": {
   "base_numbering": 1,
   "nav_menu": {},
   "number_sections": true,
   "sideBar": true,
   "skip_h1_title": false,
   "title_cell": "Table of Contents",
   "title_sidebar": "Contents",
   "toc_cell": false,
   "toc_position": {
    "height": "calc(100% - 180px)",
    "left": "10px",
    "top": "150px",
    "width": "288px"
   },
   "toc_section_display": true,
   "toc_window_display": true
  },
  "varInspector": {
   "cols": {
    "lenName": 16,
    "lenType": 16,
    "lenVar": 40
   },
   "kernels_config": {
    "python": {
     "delete_cmd_postfix": "",
     "delete_cmd_prefix": "del ",
     "library": "var_list.py",
     "varRefreshCmd": "print(var_dic_list())"
    },
    "r": {
     "delete_cmd_postfix": ") ",
     "delete_cmd_prefix": "rm(",
     "library": "var_list.r",
     "varRefreshCmd": "cat(var_dic_list()) "
    }
   },
   "types_to_exclude": [
    "module",
    "function",
    "builtin_function_or_method",
    "instance",
    "_Feature"
   ],
   "window_display": false
  }
 },
 "nbformat": 4,
 "nbformat_minor": 4
}
