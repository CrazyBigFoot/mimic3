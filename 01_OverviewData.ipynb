{
 "cells": [
  {
   "cell_type": "markdown",
   "metadata": {
    "cell_id": "00000-56b91da2-9739-4dd4-ab71-ee76020dc8cb",
    "output_cleared": false,
    "tags": []
   },
   "source": [
    "# Overview of the Data"
   ]
  },
  {
   "cell_type": "markdown",
   "metadata": {
    "cell_id": "00001-81d20e3f-3468-4da1-89af-516dbfaf456d",
    "output_cleared": false,
    "tags": []
   },
   "source": [
    "MIMIC-III (‘Medical Information Mart for Intensive Care’) is a large, single-center database comprising information relating to patients admitted to critical care units at a large tertiary care hospital. Data includes vital signs, medications, laboratory measurements, observations and notes charted by care providers, fluid balance, procedure codes, diagnostic codes, imaging reports, hospital length of stay, survival data, and more.   \n",
    "MIMIC-III is a relational database consisting of 26 tables. Here we want to give a overview of each single table."
   ]
  },
  {
   "cell_type": "markdown",
   "metadata": {
    "cell_id": "00000-9c92a58f-390d-4a9d-93e9-669376a94623",
    "output_cleared": false
   },
   "source": [
    "## The ADMISSIONS TABLE"
   ]
  },
  {
   "cell_type": "markdown",
   "metadata": {
    "cell_id": "00003-70b33ad6-e601-4f1b-be53-a1ba90ab8307",
    "tags": []
   },
   "source": [
    "The ADMISSIONS table gives information regarding a patient’s admission to the hospital. Since each unique hospital visit for a patient is assigned a unique HADM_ID, the ADMISSIONS table can be considered as a definition table for HADM_ID. Information available includes timing information for admission and discharge, demographic information, the source of the admission, and so on.  "
   ]
  },
  {
   "cell_type": "code",
   "execution_count": null,
   "metadata": {
    "cell_id": "00001-39dda717-c7c8-449e-aa59-e48f6b0e2ac6",
    "execution_millis": 496,
    "execution_start": 1604533008161,
    "output_cleared": false,
    "source_hash": "da1dbe85"
   },
   "outputs": [],
   "source": [
    "import pandas as pd\n",
    "import matplotlib as plt\n",
    "%matplotlib inline\n",
    "pd.options.display.float_format = '{:,}'.format"
   ]
  },
  {
   "cell_type": "code",
   "execution_count": null,
   "metadata": {
    "cell_id": "00002-b8a1b8df-0077-4a99-b52e-8c1dcd2de74c",
    "execution_millis": 271,
    "execution_start": 1604533008661,
    "output_cleared": false,
    "source_hash": "97c159b0"
   },
   "outputs": [],
   "source": [
    "df_admissions = pd.read_csv('data/ADMISSIONS.csv.gz', compression='gzip')"
   ]
  },
  {
   "cell_type": "code",
   "execution_count": null,
   "metadata": {
    "cell_id": "00003-47f7759b-c7b1-4381-8834-b8a72a300fcf",
    "execution_millis": 41,
    "execution_start": 1604533009010,
    "output_cleared": false,
    "source_hash": "967a9cfe"
   },
   "outputs": [
    {
     "data": {
      "application/vnd.deepnote.dataframe.v2+json": {
       "column_count": 19,
       "columns": [
        {
         "dtype": "int64",
         "name": "ROW_ID",
         "stats": {
          "histogram": [
           {
            "bin_end": 21.4,
            "bin_start": 21,
            "count": 1
           },
           {
            "bin_end": 21.8,
            "bin_start": 21.4,
            "count": 0
           },
           {
            "bin_end": 22.2,
            "bin_start": 21.8,
            "count": 1
           },
           {
            "bin_end": 22.6,
            "bin_start": 22.2,
            "count": 0
           },
           {
            "bin_end": 23,
            "bin_start": 22.6,
            "count": 0
           },
           {
            "bin_end": 23.4,
            "bin_start": 23,
            "count": 1
           },
           {
            "bin_end": 23.8,
            "bin_start": 23.4,
            "count": 0
           },
           {
            "bin_end": 24.2,
            "bin_start": 23.8,
            "count": 1
           },
           {
            "bin_end": 24.6,
            "bin_start": 24.2,
            "count": 0
           },
           {
            "bin_end": 25,
            "bin_start": 24.6,
            "count": 1
           }
          ],
          "max": 25,
          "min": 21,
          "nan_count": 0,
          "unique_count": 5
         }
        },
        {
         "dtype": "int64",
         "name": "SUBJECT_ID",
         "stats": {
          "histogram": [
           {
            "bin_end": 22.3,
            "bin_start": 22,
            "count": 1
           },
           {
            "bin_end": 22.6,
            "bin_start": 22.3,
            "count": 0
           },
           {
            "bin_end": 22.9,
            "bin_start": 22.6,
            "count": 0
           },
           {
            "bin_end": 23.2,
            "bin_start": 22.9,
            "count": 2
           },
           {
            "bin_end": 23.5,
            "bin_start": 23.2,
            "count": 0
           },
           {
            "bin_end": 23.8,
            "bin_start": 23.5,
            "count": 0
           },
           {
            "bin_end": 24.1,
            "bin_start": 23.8,
            "count": 1
           },
           {
            "bin_end": 24.4,
            "bin_start": 24.1,
            "count": 0
           },
           {
            "bin_end": 24.7,
            "bin_start": 24.4,
            "count": 0
           },
           {
            "bin_end": 25,
            "bin_start": 24.7,
            "count": 1
           }
          ],
          "max": 25,
          "min": 22,
          "nan_count": 0,
          "unique_count": 4
         }
        },
        {
         "dtype": "int64",
         "name": "HADM_ID",
         "stats": {
          "histogram": [
           {
            "bin_end": 128420.4,
            "bin_start": 124321,
            "count": 1
           },
           {
            "bin_end": 132519.8,
            "bin_start": 128420.4,
            "count": 1
           },
           {
            "bin_end": 136619.2,
            "bin_start": 132519.8,
            "count": 0
           },
           {
            "bin_end": 140718.6,
            "bin_start": 136619.2,
            "count": 0
           },
           {
            "bin_end": 144818,
            "bin_start": 140718.6,
            "count": 0
           },
           {
            "bin_end": 148917.4,
            "bin_start": 144818,
            "count": 0
           },
           {
            "bin_end": 153016.8,
            "bin_start": 148917.4,
            "count": 1
           },
           {
            "bin_end": 157116.2,
            "bin_start": 153016.8,
            "count": 0
           },
           {
            "bin_end": 161215.6,
            "bin_start": 157116.2,
            "count": 0
           },
           {
            "bin_end": 165315,
            "bin_start": 161215.6,
            "count": 2
           }
          ],
          "max": 165315,
          "min": 124321,
          "nan_count": 0,
          "unique_count": 5
         }
        },
        {
         "dtype": "object",
         "name": "ADMITTIME",
         "stats": {
          "categories": [
           {
            "count": 1,
            "name": "2196-04-09 12:26:00"
           },
           {
            "count": 1,
            "name": "2153-09-03 07:15:00"
           },
           {
            "count": 3,
            "name": "3 others"
           }
          ],
          "nan_count": 0,
          "unique_count": 5
         }
        },
        {
         "dtype": "object",
         "name": "DISCHTIME",
         "stats": {
          "categories": [
           {
            "count": 1,
            "name": "2196-04-10 15:54:00"
           },
           {
            "count": 1,
            "name": "2153-09-08 19:10:00"
           },
           {
            "count": 3,
            "name": "3 others"
           }
          ],
          "nan_count": 0,
          "unique_count": 5
         }
        },
        {
         "dtype": "object",
         "name": "DEATHTIME",
         "stats": {
          "categories": [
           {
            "count": 5,
            "name": "Missing"
           }
          ],
          "nan_count": 5,
          "unique_count": 0
         }
        },
        {
         "dtype": "object",
         "name": "ADMISSION_TYPE",
         "stats": {
          "categories": [
           {
            "count": 4,
            "name": "EMERGENCY"
           },
           {
            "count": 1,
            "name": "ELECTIVE"
           }
          ],
          "nan_count": 0,
          "unique_count": 2
         }
        },
        {
         "dtype": "object",
         "name": "ADMISSION_LOCATION",
         "stats": {
          "categories": [
           {
            "count": 2,
            "name": "EMERGENCY ROOM ADMIT"
           },
           {
            "count": 2,
            "name": "TRANSFER FROM HOSP/EXTRAM"
           },
           {
            "count": 1,
            "name": "PHYS REFERRAL/NORMAL DELI"
           }
          ],
          "nan_count": 0,
          "unique_count": 3
         }
        },
        {
         "dtype": "object",
         "name": "DISCHARGE_LOCATION",
         "stats": {
          "categories": [
           {
            "count": 2,
            "name": "HOME HEALTH CARE"
           },
           {
            "count": 2,
            "name": "HOME"
           },
           {
            "count": 1,
            "name": "DISC-TRAN CANCER/CHLDRN H"
           }
          ],
          "nan_count": 0,
          "unique_count": 3
         }
        },
        {
         "dtype": "object",
         "name": "INSURANCE",
         "stats": {
          "categories": [
           {
            "count": 3,
            "name": "Private"
           },
           {
            "count": 2,
            "name": "Medicare"
           }
          ],
          "nan_count": 0,
          "unique_count": 2
         }
        },
        {
         "dtype": "object",
         "name": "LANGUAGE",
         "stats": {
          "categories": [
           {
            "count": 1,
            "name": "ENGL"
           },
           {
            "count": 4,
            "name": "Missing"
           }
          ],
          "nan_count": 4,
          "unique_count": 1
         }
        },
        {
         "dtype": "object",
         "name": "RELIGION",
         "stats": {
          "categories": [
           {
            "count": 2,
            "name": "UNOBTAINABLE"
           },
           {
            "count": 2,
            "name": "CATHOLIC"
           },
           {
            "count": 1,
            "name": "PROTESTANT QUAKER"
           }
          ],
          "nan_count": 0,
          "unique_count": 3
         }
        },
        {
         "dtype": "object",
         "name": "MARITAL_STATUS",
         "stats": {
          "categories": [
           {
            "count": 4,
            "name": "MARRIED"
           },
           {
            "count": 1,
            "name": "SINGLE"
           }
          ],
          "nan_count": 0,
          "unique_count": 2
         }
        },
        {
         "dtype": "object",
         "name": "ETHNICITY",
         "stats": {
          "categories": [
           {
            "count": 5,
            "name": "WHITE"
           }
          ],
          "nan_count": 0,
          "unique_count": 1
         }
        },
        {
         "dtype": "object",
         "name": "EDREGTIME",
         "stats": {
          "categories": [
           {
            "count": 1,
            "name": "2196-04-09 10:06:00"
           },
           {
            "count": 1,
            "name": "2160-11-02 01:01:00"
           },
           {
            "count": 3,
            "name": "Missing"
           }
          ],
          "nan_count": 3,
          "unique_count": 2
         }
        },
        {
         "dtype": "object",
         "name": "EDOUTTIME",
         "stats": {
          "categories": [
           {
            "count": 1,
            "name": "2196-04-09 13:24:00"
           },
           {
            "count": 1,
            "name": "2160-11-02 04:27:00"
           },
           {
            "count": 3,
            "name": "Missing"
           }
          ],
          "nan_count": 3,
          "unique_count": 2
         }
        },
        {
         "dtype": "object",
         "name": "DIAGNOSIS",
         "stats": {
          "categories": [
           {
            "count": 1,
            "name": "BENZODIAZEPINE OVERDOSE"
           },
           {
            "count": 1,
            "name": "CORONARY ARTERY DISEASE\\CORONARY ARTERY BYPASS GRAFT/SDA"
           },
           {
            "count": 3,
            "name": "3 others"
           }
          ],
          "nan_count": 0,
          "unique_count": 5
         }
        },
        {
         "dtype": "int64",
         "name": "HOSPITAL_EXPIRE_FLAG",
         "stats": {
          "histogram": [
           {
            "bin_end": -0.4,
            "bin_start": -0.5,
            "count": 0
           },
           {
            "bin_end": -0.3,
            "bin_start": -0.4,
            "count": 0
           },
           {
            "bin_end": -0.19999999999999996,
            "bin_start": -0.3,
            "count": 0
           },
           {
            "bin_end": -0.09999999999999998,
            "bin_start": -0.19999999999999996,
            "count": 0
           },
           {
            "bin_end": 0,
            "bin_start": -0.09999999999999998,
            "count": 0
           },
           {
            "bin_end": 0.10000000000000009,
            "bin_start": 0,
            "count": 5
           },
           {
            "bin_end": 0.20000000000000007,
            "bin_start": 0.10000000000000009,
            "count": 0
           },
           {
            "bin_end": 0.30000000000000004,
            "bin_start": 0.20000000000000007,
            "count": 0
           },
           {
            "bin_end": 0.4,
            "bin_start": 0.30000000000000004,
            "count": 0
           },
           {
            "bin_end": 0.5,
            "bin_start": 0.4,
            "count": 0
           }
          ],
          "max": 0,
          "min": 0,
          "nan_count": 0,
          "unique_count": 1
         }
        },
        {
         "dtype": "int64",
         "name": "HAS_CHARTEVENTS_DATA",
         "stats": {
          "histogram": [
           {
            "bin_end": 0.6,
            "bin_start": 0.5,
            "count": 0
           },
           {
            "bin_end": 0.7,
            "bin_start": 0.6,
            "count": 0
           },
           {
            "bin_end": 0.8,
            "bin_start": 0.7,
            "count": 0
           },
           {
            "bin_end": 0.9,
            "bin_start": 0.8,
            "count": 0
           },
           {
            "bin_end": 1,
            "bin_start": 0.9,
            "count": 0
           },
           {
            "bin_end": 1.1,
            "bin_start": 1,
            "count": 5
           },
           {
            "bin_end": 1.2000000000000002,
            "bin_start": 1.1,
            "count": 0
           },
           {
            "bin_end": 1.3,
            "bin_start": 1.2000000000000002,
            "count": 0
           },
           {
            "bin_end": 1.4,
            "bin_start": 1.3,
            "count": 0
           },
           {
            "bin_end": 1.5,
            "bin_start": 1.4,
            "count": 0
           }
          ],
          "max": 1,
          "min": 1,
          "nan_count": 0,
          "unique_count": 1
         }
        },
        {
         "dtype": "int64",
         "name": "_deepnote_index_column"
        }
       ],
       "row_count": 5,
       "rows_bottom": null,
       "rows_top": [
        {
         "ADMISSION_LOCATION": "EMERGENCY ROOM ADMIT",
         "ADMISSION_TYPE": "EMERGENCY",
         "ADMITTIME": "2196-04-09 12:26:00",
         "DEATHTIME": "nan",
         "DIAGNOSIS": "BENZODIAZEPINE OVERDOSE",
         "DISCHARGE_LOCATION": "DISC-TRAN CANCER/CHLDRN H",
         "DISCHTIME": "2196-04-10 15:54:00",
         "EDOUTTIME": "2196-04-09 13:24:00",
         "EDREGTIME": "2196-04-09 10:06:00",
         "ETHNICITY": "WHITE",
         "HADM_ID": 165315,
         "HAS_CHARTEVENTS_DATA": 1,
         "HOSPITAL_EXPIRE_FLAG": 0,
         "INSURANCE": "Private",
         "LANGUAGE": "nan",
         "MARITAL_STATUS": "MARRIED",
         "RELIGION": "UNOBTAINABLE",
         "ROW_ID": 21,
         "SUBJECT_ID": 22,
         "_deepnote_index_column": 0
        },
        {
         "ADMISSION_LOCATION": "PHYS REFERRAL/NORMAL DELI",
         "ADMISSION_TYPE": "ELECTIVE",
         "ADMITTIME": "2153-09-03 07:15:00",
         "DEATHTIME": "nan",
         "DIAGNOSIS": "CORONARY ARTERY DISEASE\\CORONARY ARTERY BYPASS GRAFT/SDA",
         "DISCHARGE_LOCATION": "HOME HEALTH CARE",
         "DISCHTIME": "2153-09-08 19:10:00",
         "EDOUTTIME": "nan",
         "EDREGTIME": "nan",
         "ETHNICITY": "WHITE",
         "HADM_ID": 152223,
         "HAS_CHARTEVENTS_DATA": 1,
         "HOSPITAL_EXPIRE_FLAG": 0,
         "INSURANCE": "Medicare",
         "LANGUAGE": "nan",
         "MARITAL_STATUS": "MARRIED",
         "RELIGION": "CATHOLIC",
         "ROW_ID": 22,
         "SUBJECT_ID": 23,
         "_deepnote_index_column": 1
        },
        {
         "ADMISSION_LOCATION": "TRANSFER FROM HOSP/EXTRAM",
         "ADMISSION_TYPE": "EMERGENCY",
         "ADMITTIME": "2157-10-18 19:34:00",
         "DEATHTIME": "nan",
         "DIAGNOSIS": "BRAIN MASS",
         "DISCHARGE_LOCATION": "HOME HEALTH CARE",
         "DISCHTIME": "2157-10-25 14:00:00",
         "EDOUTTIME": "nan",
         "EDREGTIME": "nan",
         "ETHNICITY": "WHITE",
         "HADM_ID": 124321,
         "HAS_CHARTEVENTS_DATA": 1,
         "HOSPITAL_EXPIRE_FLAG": 0,
         "INSURANCE": "Medicare",
         "LANGUAGE": "ENGL",
         "MARITAL_STATUS": "MARRIED",
         "RELIGION": "CATHOLIC",
         "ROW_ID": 23,
         "SUBJECT_ID": 23,
         "_deepnote_index_column": 2
        },
        {
         "ADMISSION_LOCATION": "TRANSFER FROM HOSP/EXTRAM",
         "ADMISSION_TYPE": "EMERGENCY",
         "ADMITTIME": "2139-06-06 16:14:00",
         "DEATHTIME": "nan",
         "DIAGNOSIS": "INTERIOR MYOCARDIAL INFARCTION",
         "DISCHARGE_LOCATION": "HOME",
         "DISCHTIME": "2139-06-09 12:48:00",
         "EDOUTTIME": "nan",
         "EDREGTIME": "nan",
         "ETHNICITY": "WHITE",
         "HADM_ID": 161859,
         "HAS_CHARTEVENTS_DATA": 1,
         "HOSPITAL_EXPIRE_FLAG": 0,
         "INSURANCE": "Private",
         "LANGUAGE": "nan",
         "MARITAL_STATUS": "SINGLE",
         "RELIGION": "PROTESTANT QUAKER",
         "ROW_ID": 24,
         "SUBJECT_ID": 24,
         "_deepnote_index_column": 3
        },
        {
         "ADMISSION_LOCATION": "EMERGENCY ROOM ADMIT",
         "ADMISSION_TYPE": "EMERGENCY",
         "ADMITTIME": "2160-11-02 02:06:00",
         "DEATHTIME": "nan",
         "DIAGNOSIS": "ACUTE CORONARY SYNDROME",
         "DISCHARGE_LOCATION": "HOME",
         "DISCHTIME": "2160-11-05 14:55:00",
         "EDOUTTIME": "2160-11-02 04:27:00",
         "EDREGTIME": "2160-11-02 01:01:00",
         "ETHNICITY": "WHITE",
         "HADM_ID": 129635,
         "HAS_CHARTEVENTS_DATA": 1,
         "HOSPITAL_EXPIRE_FLAG": 0,
         "INSURANCE": "Private",
         "LANGUAGE": "nan",
         "MARITAL_STATUS": "MARRIED",
         "RELIGION": "UNOBTAINABLE",
         "ROW_ID": 25,
         "SUBJECT_ID": 25,
         "_deepnote_index_column": 4
        }
       ]
      },
      "text/html": [
       "<div>\n",
       "<style scoped>\n",
       "    .dataframe tbody tr th:only-of-type {\n",
       "        vertical-align: middle;\n",
       "    }\n",
       "\n",
       "    .dataframe tbody tr th {\n",
       "        vertical-align: top;\n",
       "    }\n",
       "\n",
       "    .dataframe thead th {\n",
       "        text-align: right;\n",
       "    }\n",
       "</style>\n",
       "<table border=\"1\" class=\"dataframe\">\n",
       "  <thead>\n",
       "    <tr style=\"text-align: right;\">\n",
       "      <th></th>\n",
       "      <th>ROW_ID</th>\n",
       "      <th>SUBJECT_ID</th>\n",
       "      <th>HADM_ID</th>\n",
       "      <th>ADMITTIME</th>\n",
       "      <th>DISCHTIME</th>\n",
       "      <th>DEATHTIME</th>\n",
       "      <th>ADMISSION_TYPE</th>\n",
       "      <th>ADMISSION_LOCATION</th>\n",
       "      <th>DISCHARGE_LOCATION</th>\n",
       "      <th>INSURANCE</th>\n",
       "      <th>LANGUAGE</th>\n",
       "      <th>RELIGION</th>\n",
       "      <th>MARITAL_STATUS</th>\n",
       "      <th>ETHNICITY</th>\n",
       "      <th>EDREGTIME</th>\n",
       "      <th>EDOUTTIME</th>\n",
       "      <th>DIAGNOSIS</th>\n",
       "      <th>HOSPITAL_EXPIRE_FLAG</th>\n",
       "      <th>HAS_CHARTEVENTS_DATA</th>\n",
       "    </tr>\n",
       "  </thead>\n",
       "  <tbody>\n",
       "    <tr>\n",
       "      <th>0</th>\n",
       "      <td>21</td>\n",
       "      <td>22</td>\n",
       "      <td>165315</td>\n",
       "      <td>2196-04-09 12:26:00</td>\n",
       "      <td>2196-04-10 15:54:00</td>\n",
       "      <td>NaN</td>\n",
       "      <td>EMERGENCY</td>\n",
       "      <td>EMERGENCY ROOM ADMIT</td>\n",
       "      <td>DISC-TRAN CANCER/CHLDRN H</td>\n",
       "      <td>Private</td>\n",
       "      <td>NaN</td>\n",
       "      <td>UNOBTAINABLE</td>\n",
       "      <td>MARRIED</td>\n",
       "      <td>WHITE</td>\n",
       "      <td>2196-04-09 10:06:00</td>\n",
       "      <td>2196-04-09 13:24:00</td>\n",
       "      <td>BENZODIAZEPINE OVERDOSE</td>\n",
       "      <td>0</td>\n",
       "      <td>1</td>\n",
       "    </tr>\n",
       "    <tr>\n",
       "      <th>1</th>\n",
       "      <td>22</td>\n",
       "      <td>23</td>\n",
       "      <td>152223</td>\n",
       "      <td>2153-09-03 07:15:00</td>\n",
       "      <td>2153-09-08 19:10:00</td>\n",
       "      <td>NaN</td>\n",
       "      <td>ELECTIVE</td>\n",
       "      <td>PHYS REFERRAL/NORMAL DELI</td>\n",
       "      <td>HOME HEALTH CARE</td>\n",
       "      <td>Medicare</td>\n",
       "      <td>NaN</td>\n",
       "      <td>CATHOLIC</td>\n",
       "      <td>MARRIED</td>\n",
       "      <td>WHITE</td>\n",
       "      <td>NaN</td>\n",
       "      <td>NaN</td>\n",
       "      <td>CORONARY ARTERY DISEASE\\CORONARY ARTERY BYPASS...</td>\n",
       "      <td>0</td>\n",
       "      <td>1</td>\n",
       "    </tr>\n",
       "    <tr>\n",
       "      <th>2</th>\n",
       "      <td>23</td>\n",
       "      <td>23</td>\n",
       "      <td>124321</td>\n",
       "      <td>2157-10-18 19:34:00</td>\n",
       "      <td>2157-10-25 14:00:00</td>\n",
       "      <td>NaN</td>\n",
       "      <td>EMERGENCY</td>\n",
       "      <td>TRANSFER FROM HOSP/EXTRAM</td>\n",
       "      <td>HOME HEALTH CARE</td>\n",
       "      <td>Medicare</td>\n",
       "      <td>ENGL</td>\n",
       "      <td>CATHOLIC</td>\n",
       "      <td>MARRIED</td>\n",
       "      <td>WHITE</td>\n",
       "      <td>NaN</td>\n",
       "      <td>NaN</td>\n",
       "      <td>BRAIN MASS</td>\n",
       "      <td>0</td>\n",
       "      <td>1</td>\n",
       "    </tr>\n",
       "    <tr>\n",
       "      <th>3</th>\n",
       "      <td>24</td>\n",
       "      <td>24</td>\n",
       "      <td>161859</td>\n",
       "      <td>2139-06-06 16:14:00</td>\n",
       "      <td>2139-06-09 12:48:00</td>\n",
       "      <td>NaN</td>\n",
       "      <td>EMERGENCY</td>\n",
       "      <td>TRANSFER FROM HOSP/EXTRAM</td>\n",
       "      <td>HOME</td>\n",
       "      <td>Private</td>\n",
       "      <td>NaN</td>\n",
       "      <td>PROTESTANT QUAKER</td>\n",
       "      <td>SINGLE</td>\n",
       "      <td>WHITE</td>\n",
       "      <td>NaN</td>\n",
       "      <td>NaN</td>\n",
       "      <td>INTERIOR MYOCARDIAL INFARCTION</td>\n",
       "      <td>0</td>\n",
       "      <td>1</td>\n",
       "    </tr>\n",
       "    <tr>\n",
       "      <th>4</th>\n",
       "      <td>25</td>\n",
       "      <td>25</td>\n",
       "      <td>129635</td>\n",
       "      <td>2160-11-02 02:06:00</td>\n",
       "      <td>2160-11-05 14:55:00</td>\n",
       "      <td>NaN</td>\n",
       "      <td>EMERGENCY</td>\n",
       "      <td>EMERGENCY ROOM ADMIT</td>\n",
       "      <td>HOME</td>\n",
       "      <td>Private</td>\n",
       "      <td>NaN</td>\n",
       "      <td>UNOBTAINABLE</td>\n",
       "      <td>MARRIED</td>\n",
       "      <td>WHITE</td>\n",
       "      <td>2160-11-02 01:01:00</td>\n",
       "      <td>2160-11-02 04:27:00</td>\n",
       "      <td>ACUTE CORONARY SYNDROME</td>\n",
       "      <td>0</td>\n",
       "      <td>1</td>\n",
       "    </tr>\n",
       "  </tbody>\n",
       "</table>\n",
       "</div>"
      ],
      "text/plain": [
       "   ROW_ID  SUBJECT_ID  HADM_ID            ADMITTIME            DISCHTIME  \\\n",
       "0      21          22   165315  2196-04-09 12:26:00  2196-04-10 15:54:00   \n",
       "1      22          23   152223  2153-09-03 07:15:00  2153-09-08 19:10:00   \n",
       "2      23          23   124321  2157-10-18 19:34:00  2157-10-25 14:00:00   \n",
       "3      24          24   161859  2139-06-06 16:14:00  2139-06-09 12:48:00   \n",
       "4      25          25   129635  2160-11-02 02:06:00  2160-11-05 14:55:00   \n",
       "\n",
       "  DEATHTIME ADMISSION_TYPE         ADMISSION_LOCATION  \\\n",
       "0       NaN      EMERGENCY       EMERGENCY ROOM ADMIT   \n",
       "1       NaN       ELECTIVE  PHYS REFERRAL/NORMAL DELI   \n",
       "2       NaN      EMERGENCY  TRANSFER FROM HOSP/EXTRAM   \n",
       "3       NaN      EMERGENCY  TRANSFER FROM HOSP/EXTRAM   \n",
       "4       NaN      EMERGENCY       EMERGENCY ROOM ADMIT   \n",
       "\n",
       "          DISCHARGE_LOCATION INSURANCE LANGUAGE           RELIGION  \\\n",
       "0  DISC-TRAN CANCER/CHLDRN H   Private      NaN       UNOBTAINABLE   \n",
       "1           HOME HEALTH CARE  Medicare      NaN           CATHOLIC   \n",
       "2           HOME HEALTH CARE  Medicare     ENGL           CATHOLIC   \n",
       "3                       HOME   Private      NaN  PROTESTANT QUAKER   \n",
       "4                       HOME   Private      NaN       UNOBTAINABLE   \n",
       "\n",
       "  MARITAL_STATUS ETHNICITY            EDREGTIME            EDOUTTIME  \\\n",
       "0        MARRIED     WHITE  2196-04-09 10:06:00  2196-04-09 13:24:00   \n",
       "1        MARRIED     WHITE                  NaN                  NaN   \n",
       "2        MARRIED     WHITE                  NaN                  NaN   \n",
       "3         SINGLE     WHITE                  NaN                  NaN   \n",
       "4        MARRIED     WHITE  2160-11-02 01:01:00  2160-11-02 04:27:00   \n",
       "\n",
       "                                           DIAGNOSIS  HOSPITAL_EXPIRE_FLAG  \\\n",
       "0                            BENZODIAZEPINE OVERDOSE                     0   \n",
       "1  CORONARY ARTERY DISEASE\\CORONARY ARTERY BYPASS...                     0   \n",
       "2                                         BRAIN MASS                     0   \n",
       "3                     INTERIOR MYOCARDIAL INFARCTION                     0   \n",
       "4                            ACUTE CORONARY SYNDROME                     0   \n",
       "\n",
       "   HAS_CHARTEVENTS_DATA  \n",
       "0                     1  \n",
       "1                     1  \n",
       "2                     1  \n",
       "3                     1  \n",
       "4                     1  "
      ]
     },
     "execution_count": 6,
     "metadata": {},
     "output_type": "execute_result"
    }
   ],
   "source": [
    "df_admissions.head()"
   ]
  },
  {
   "cell_type": "code",
   "execution_count": null,
   "metadata": {
    "cell_id": "00004-8cb2cb08-20b5-4749-8343-9e8889a17b08",
    "execution_millis": 8,
    "execution_start": 1604533009056,
    "output_cleared": false,
    "source_hash": "9cb7a8d"
   },
   "outputs": [
    {
     "data": {
      "text/plain": [
       "(58976, 19)"
      ]
     },
     "execution_count": 7,
     "metadata": {},
     "output_type": "execute_result"
    }
   ],
   "source": [
    "df_admissions.shape"
   ]
  },
  {
   "cell_type": "code",
   "execution_count": null,
   "metadata": {
    "cell_id": "00005-969e5d11-fd07-4704-a849-730fe32bcc1b",
    "execution_millis": 13,
    "execution_start": 1604533009116,
    "output_cleared": false,
    "source_hash": "9ba3cf19"
   },
   "outputs": [
    {
     "name": "stdout",
     "output_type": "stream",
     "text": [
      "<class 'pandas.core.frame.DataFrame'>\n",
      "RangeIndex: 58976 entries, 0 to 58975\n",
      "Data columns (total 19 columns):\n",
      " #   Column                Non-Null Count  Dtype \n",
      "---  ------                --------------  ----- \n",
      " 0   ROW_ID                58976 non-null  int64 \n",
      " 1   SUBJECT_ID            58976 non-null  int64 \n",
      " 2   HADM_ID               58976 non-null  int64 \n",
      " 3   ADMITTIME             58976 non-null  object\n",
      " 4   DISCHTIME             58976 non-null  object\n",
      " 5   DEATHTIME             5854 non-null   object\n",
      " 6   ADMISSION_TYPE        58976 non-null  object\n",
      " 7   ADMISSION_LOCATION    58976 non-null  object\n",
      " 8   DISCHARGE_LOCATION    58976 non-null  object\n",
      " 9   INSURANCE             58976 non-null  object\n",
      " 10  LANGUAGE              33644 non-null  object\n",
      " 11  RELIGION              58518 non-null  object\n",
      " 12  MARITAL_STATUS        48848 non-null  object\n",
      " 13  ETHNICITY             58976 non-null  object\n",
      " 14  EDREGTIME             30877 non-null  object\n",
      " 15  EDOUTTIME             30877 non-null  object\n",
      " 16  DIAGNOSIS             58951 non-null  object\n",
      " 17  HOSPITAL_EXPIRE_FLAG  58976 non-null  int64 \n",
      " 18  HAS_CHARTEVENTS_DATA  58976 non-null  int64 \n",
      "dtypes: int64(5), object(14)\n",
      "memory usage: 8.5+ MB\n"
     ]
    }
   ],
   "source": [
    "df_admissions.info()"
   ]
  },
  {
   "cell_type": "markdown",
   "metadata": {
    "cell_id": "00006-50532d01-72ed-4653-bf4e-94d2ca0523d0",
    "output_cleared": false
   },
   "source": [
    " \n"
   ]
  },
  {
   "cell_type": "code",
   "execution_count": null,
   "metadata": {
    "cell_id": "00007-053d9b29-b15e-4414-94b7-1ed79738f063",
    "execution_millis": 3,
    "execution_start": 1604533009131,
    "output_cleared": false,
    "source_hash": "e9a1f638"
   },
   "outputs": [
    {
     "data": {
      "text/plain": [
       "46520"
      ]
     },
     "execution_count": 9,
     "metadata": {},
     "output_type": "execute_result"
    }
   ],
   "source": [
    "df_admissions.SUBJECT_ID.nunique()"
   ]
  },
  {
   "cell_type": "markdown",
   "metadata": {
    "cell_id": "00008-1dadd3fa-f39f-4e8c-b41c-ddc7cd04521f",
    "output_cleared": false
   },
   "source": [
    "Here it is to be seen: The Dataset contains 58976 Admissions of 46520 patients. "
   ]
  },
  {
   "cell_type": "markdown",
   "metadata": {
    "cell_id": "00009-d6992091-7dba-4117-92f3-f105beaf8eba",
    "output_cleared": false
   },
   "source": [
    "|Column| Describtion|Type|\n",
    "|:-----|:-----------|:----|\n",
    "|ROW_ID |gives a index of the table |int|  \n",
    "|SUBJECT_ID|gives a index to every single patient|int|    \n",
    "|HADM_ID|range(100000 - 1999999), which represents a single patient’s admission to the hospital | int|  \n",
    "|ADMITTIME|provides the date and time the patient was admitted to the hospital |Timestamp |  \n",
    "|DISCHTIME| provides the date and time the patient was discharged from the hospital|TIMESTAMP|  \n",
    "|DEATHTIME| provides (if applicable)the time of in-hospital death for the patient. Is only present if the patient died in-hospital, and is almost always the same as the patient’s DISCHTIME.|TIMESTAMP|   \n",
    "|ADMISSION_TYPE| describes the type of the admission: ‘ELECTIVE’, ‘URGENT’, ‘NEWBORN’ or ‘EMERGENCY’. Emergency/urgent indicate unplanned medical care, and are often collapsed into a single category in studies. Elective indicates a previously planned hospital admission. Newborn indicates that the HADM_ID pertains to the patient’s birth.|string|    \n",
    "|ADMISSION_LOCATION|provides information about the previous location of the patient prior to arriving at the hospital. There are 9 possible values: EMERGENCY ROOM ADMIT, TRANSFER FROM HOSP/EXTRAM, TRANSFER FROM OTHER HEALT, CLINIC REFERRAL/PREMATURE, INFO NOT AVAILABLE, TRANSFER FROM SKILLED NUR, TRSF WITHIN THIS FACILITY, HMO REFERRAL/SICK, PHYS REFERRAL/NORMAL DELI|string| \n",
    "|DISCHARGE_LOCATION\t| provides information about the location when the patient is descharged|string|   \n",
    "|INSURANCE|describes the health insurance of the patient |string|\n",
    "|LANGUAGE|native language |string|\n",
    "|RELIGION|religious affiliation |string|\n",
    "|MARITAL_STATUS|marital status  |string|\n",
    "|ETHNICITY|\tethnicity = not important |string|\n",
    "|EDREGTIME|time that the patient was registered from the emergency department|\tTIMESTAMP|\n",
    "|EDOUTTIME|\ttime that the patient was discharged from the emergency department|TIMESTAMP|\n",
    "|DIAGNOSIS|\tprovides a preliminary, free text diagnosis for the patient on hospital admission. The diagnosis is usually assigned by the admitting clinician and does not use a systematic ontology. |string|\n",
    "|HOSPITAL_EXPIRE_FLAG|indicates whether the patient died within the given hospitalization. 1 indicates death in the hospital, and 0 indicates survival to hospital discharge.|integer|\n",
    "|HAS_CHARTEVENTS_DATA|\tindicates wether the patient occurs in the Charteventstable. 1 indicates has charteventsdata, and 0 indicates not.|integer|"
   ]
  },
  {
   "cell_type": "code",
   "execution_count": null,
   "metadata": {
    "cell_id": "00011-097ac9b2-7df7-4ced-9e19-d8bb10ae7d84",
    "execution_millis": 0,
    "execution_start": 1604533009167,
    "output_cleared": false,
    "source_hash": "20edec04"
   },
   "outputs": [],
   "source": [
    "# drop out the newborn babies, so that are only adults in the dataframe\n",
    "df_admissions_adults = df_admissions[df_admissions.ADMISSION_TYPE != \"NEWBORN\"]"
   ]
  },
  {
   "cell_type": "code",
   "execution_count": null,
   "metadata": {
    "cell_id": "00012-226e939b-b9cc-4914-ba39-1dc22ca3fa05",
    "execution_millis": 0,
    "execution_start": 1604533009168,
    "output_cleared": false,
    "source_hash": "23467396"
   },
   "outputs": [
    {
     "data": {
      "text/plain": [
       "(51113, 11)"
      ]
     },
     "execution_count": 12,
     "metadata": {},
     "output_type": "execute_result"
    }
   ],
   "source": [
    "df_admissions_adults.shape"
   ]
  },
  {
   "cell_type": "code",
   "execution_count": null,
   "metadata": {
    "cell_id": "00013-295036a1-b531-4950-8c27-8a62a457efce",
    "execution_millis": 5,
    "execution_start": 1604533009169,
    "output_cleared": false,
    "source_hash": "95ad505d"
   },
   "outputs": [
    {
     "data": {
      "text/plain": [
       "1492"
      ]
     },
     "execution_count": 13,
     "metadata": {},
     "output_type": "execute_result"
    }
   ],
   "source": [
    "# How many adult admission have no entries in the chartevents?\n",
    "len(df_admissions_adults[df_admissions_adults.HAS_CHARTEVENTS_DATA == 0])"
   ]
  },
  {
   "cell_type": "code",
   "execution_count": null,
   "metadata": {
    "cell_id": "00014-32c4edfd-ee1b-42c8-acd0-d9da6e0b3a30",
    "execution_millis": 2329,
    "execution_start": 1604533009175,
    "output_cleared": false,
    "source_hash": "883e6af2"
   },
   "outputs": [],
   "source": [
    "# Check how many Admissions of them have ARDS\n",
    "liste_patienten = list(pd.read_csv('data/liste_patienten.csv'))\n",
    "liste_patienten = [int(x) for x in liste_patienten]"
   ]
  },
  {
   "cell_type": "code",
   "execution_count": null,
   "metadata": {
    "cell_id": "00015-d847c004-9daf-456c-895d-52aa064a1bc0",
    "execution_millis": 7,
    "execution_start": 1604533011507,
    "output_cleared": false,
    "source_hash": "eaff91c2"
   },
   "outputs": [
    {
     "data": {
      "text/plain": [
       "53"
      ]
     },
     "execution_count": 15,
     "metadata": {},
     "output_type": "execute_result"
    }
   ],
   "source": [
    "df_admissions_adults[df_admissions_adults.HAS_CHARTEVENTS_DATA == 0].HADM_ID.isin(liste_patienten).sum()\n"
   ]
  },
  {
   "cell_type": "markdown",
   "metadata": {
    "cell_id": "00016-f2014e73-4418-4b82-84a0-61e48d1906b6",
    "output_cleared": false
   },
   "source": [
    "There are 1492 admissions without any entry in the CHARTTIMEEVENT Table. \n",
    "Only 53 of these admissions represent patients with ARDS. \n",
    "Because the most important informations is to be found in the CHARTTIMEEVENT Table, we have to work\n",
    " without these patients."
   ]
  },
  {
   "cell_type": "markdown",
   "metadata": {
    "cell_id": "00017-bbc1ae24-c042-42d6-9104-7ff00cefe997",
    "output_cleared": false
   },
   "source": [
    "**Mortality all in all**"
   ]
  },
  {
   "cell_type": "code",
   "execution_count": null,
   "metadata": {
    "cell_id": "00018-19e0725c-bf11-44a8-b683-8bfa29d9d580",
    "execution_millis": 11,
    "execution_start": 1604533011520,
    "output_cleared": false,
    "source_hash": "e9bf9c5"
   },
   "outputs": [
    {
     "data": {
      "text/plain": [
       "5854"
      ]
     },
     "execution_count": 16,
     "metadata": {},
     "output_type": "execute_result"
    }
   ],
   "source": [
    "len(df_admissions[df_admissions.HOSPITAL_EXPIRE_FLAG == 1])"
   ]
  },
  {
   "cell_type": "markdown",
   "metadata": {
    "cell_id": "00019-b8a6173f-8980-4574-8fb2-7e031d8ebce1",
    "output_cleared": false
   },
   "source": [
    "Of all 58976 admissions 5854 patients died in hospital = 10%."
   ]
  },
  {
   "cell_type": "markdown",
   "metadata": {
    "cell_id": "00020-af8b622e-2471-4bf2-b348-856b14ee3f4f",
    "output_cleared": false
   },
   "source": [
    "**Mortality Adults**"
   ]
  },
  {
   "cell_type": "code",
   "execution_count": null,
   "metadata": {
    "cell_id": "00021-8aca76d2-0700-4c90-8aed-aaed084e1fa4",
    "execution_millis": 4,
    "execution_start": 1604533011531,
    "output_cleared": false,
    "source_hash": "72047c9"
   },
   "outputs": [
    {
     "data": {
      "text/plain": [
       "5792"
      ]
     },
     "execution_count": 17,
     "metadata": {},
     "output_type": "execute_result"
    }
   ],
   "source": [
    "len(df_admissions_adults[df_admissions_adults.HOSPITAL_EXPIRE_FLAG == 1])"
   ]
  },
  {
   "cell_type": "markdown",
   "metadata": {
    "cell_id": "00022-ac8c1eb9-37d5-403d-9c34-a68cee67875f",
    "output_cleared": false
   },
   "source": [
    "Of all adult admissions (51113) died 5792 patients in hospital = 11%."
   ]
  },
  {
   "cell_type": "markdown",
   "metadata": {
    "cell_id": "00025-21f86d02-b36f-419e-9b6a-4107757305ae",
    "tags": []
   },
   "source": [
    "**Mortality Babies**"
   ]
  },
  {
   "cell_type": "markdown",
   "metadata": {
    "cell_id": "00023-090a5797-c131-47f9-b424-1007a128cdc4",
    "output_cleared": false
   },
   "source": [
    "The mortality rate of the babies is: 62 / 7833 = 0,8% , significantly less than among the adults."
   ]
  },
  {
   "cell_type": "markdown",
   "metadata": {
    "cell_id": "00026-ee5d59e5-614d-4912-9ff2-4015948b3725",
    "output_cleared": false,
    "tags": []
   },
   "source": [
    "# CPT_EVENTS "
   ]
  },
  {
   "cell_type": "markdown",
   "metadata": {
    "cell_id": "00026-c9b07c8b-ac60-4130-b6c3-d46493236a14",
    "output_cleared": false,
    "tags": []
   },
   "source": [
    "The CPTEVENTS table contains a list of which current procedural terminology codes were billed for which patients. This can be useful for determining if certain procedures have been performed (e.g. ventilation).\n",
    "\n"
   ]
  },
  {
   "cell_type": "markdown",
   "metadata": {
    "cell_id": "00028-c67fee93-7b99-4b25-983a-b9dd3827f872",
    "output_cleared": false,
    "tags": []
   },
   "source": [
    "Column|Description|type\n",
    "-----|:------|:----\n",
    "COSTCENTER|COSTCENTER is the cost center which billed for the corresponding CPT codes. There are two possible cost centers: **‘ICU’ and ‘Resp’**. ‘Resp’ codes correspond to mechanical or non-invasive ventilation and were billed by the respiratory therapist. ‘ICU’ codes correspond to the procedures billed for by the ICU. **From our croup of ARDS there are 6052 patients charged with Resp.**|object\n",
    "CHARTDATE|The date at which the procedure occurred.**--> DROP**|object\n",
    "CPT_CD|CPT_CD contains the original CPT code. The cpt_codes that interest us are **94003** and **94002** and from the cpt (there are in both integer and string form) **-->DROP**|object\n",
    "CPT_NUMBER|**same as CPT_CODE** but as a float so it is **better** to work with|float\n",
    "CPT_SUFFIX|The CPT_SUFFIX column contains the text suffix when the CPT_CD contains non-numeric characters. **--> DROP**|object\n",
    "TICKET_ID_SEQ|The order of the CPT_CD **-->DROP**|float\n",
    "SECTIONHEADER|The section headers provide a category for the given CPT code. These headers were assigned using the D_CPT table.(not helpful) **-->DROP**|object\n",
    "SUBSECTIONHEADER|(not helpful) **-->DROP**|object\n",
    "DESCRIPTION|When the COSTCENTER is \"Resp\" it describes how the ventilation was charged|object"
   ]
  },
  {
   "cell_type": "code",
   "execution_count": null,
   "metadata": {
    "cell_id": "00026-51cbeaba-2c88-468a-9fae-4cbb904fc7c8",
    "execution_millis": 875,
    "execution_start": 1604533011538,
    "output_cleared": false,
    "source_hash": "acdf648f",
    "tags": []
   },
   "outputs": [
    {
     "name": "stderr",
     "output_type": "stream",
     "text": [
      "/opt/venv/lib/python3.7/site-packages/IPython/core/interactiveshell.py:3146: DtypeWarning: Columns (4,5,7,11) have mixed types.Specify dtype option on import or set low_memory=False.\n",
      "  interactivity=interactivity, compiler=compiler, result=result)\n"
     ]
    }
   ],
   "source": [
    "df_cpt = pd.read_csv('data/CPTEVENTS.csv.gz', \n",
    "                                compression='gzip')"
   ]
  },
  {
   "cell_type": "code",
   "execution_count": null,
   "metadata": {
    "cell_id": "00027-bedbf318-1c69-4e70-a055-64a93e0f2381",
    "execution_millis": 57,
    "execution_start": 1604533012416,
    "output_cleared": false,
    "source_hash": "9fd77427",
    "tags": []
   },
   "outputs": [
    {
     "data": {
      "application/vnd.deepnote.dataframe.v2+json": {
       "column_count": 12,
       "columns": [
        {
         "dtype": "int64",
         "name": "ROW_ID",
         "stats": {
          "histogram": [
           {
            "bin_end": 317.4,
            "bin_start": 317,
            "count": 1
           },
           {
            "bin_end": 317.8,
            "bin_start": 317.4,
            "count": 0
           },
           {
            "bin_end": 318.2,
            "bin_start": 317.8,
            "count": 1
           },
           {
            "bin_end": 318.6,
            "bin_start": 318.2,
            "count": 0
           },
           {
            "bin_end": 319,
            "bin_start": 318.6,
            "count": 0
           },
           {
            "bin_end": 319.4,
            "bin_start": 319,
            "count": 1
           },
           {
            "bin_end": 319.8,
            "bin_start": 319.4,
            "count": 0
           },
           {
            "bin_end": 320.2,
            "bin_start": 319.8,
            "count": 1
           },
           {
            "bin_end": 320.6,
            "bin_start": 320.2,
            "count": 0
           },
           {
            "bin_end": 321,
            "bin_start": 320.6,
            "count": 1
           }
          ],
          "max": 321,
          "min": 317,
          "nan_count": 0,
          "unique_count": 5
         }
        },
        {
         "dtype": "int64",
         "name": "SUBJECT_ID",
         "stats": {
          "histogram": [
           {
            "bin_end": 6740.8,
            "bin_start": 6185,
            "count": 1
           },
           {
            "bin_end": 7296.6,
            "bin_start": 6740.8,
            "count": 0
           },
           {
            "bin_end": 7852.4,
            "bin_start": 7296.6,
            "count": 0
           },
           {
            "bin_end": 8408.2,
            "bin_start": 7852.4,
            "count": 0
           },
           {
            "bin_end": 8964,
            "bin_start": 8408.2,
            "count": 0
           },
           {
            "bin_end": 9519.8,
            "bin_start": 8964,
            "count": 0
           },
           {
            "bin_end": 10075.599999999999,
            "bin_start": 9519.8,
            "count": 0
           },
           {
            "bin_end": 10631.4,
            "bin_start": 10075.599999999999,
            "count": 0
           },
           {
            "bin_end": 11187.2,
            "bin_start": 10631.4,
            "count": 0
           },
           {
            "bin_end": 11743,
            "bin_start": 11187.2,
            "count": 4
           }
          ],
          "max": 11743,
          "min": 6185,
          "nan_count": 0,
          "unique_count": 2
         }
        },
        {
         "dtype": "int64",
         "name": "HADM_ID",
         "stats": {
          "histogram": [
           {
            "bin_end": 134963,
            "bin_start": 129545,
            "count": 4
           },
           {
            "bin_end": 140381,
            "bin_start": 134963,
            "count": 0
           },
           {
            "bin_end": 145799,
            "bin_start": 140381,
            "count": 0
           },
           {
            "bin_end": 151217,
            "bin_start": 145799,
            "count": 0
           },
           {
            "bin_end": 156635,
            "bin_start": 151217,
            "count": 0
           },
           {
            "bin_end": 162053,
            "bin_start": 156635,
            "count": 0
           },
           {
            "bin_end": 167471,
            "bin_start": 162053,
            "count": 0
           },
           {
            "bin_end": 172889,
            "bin_start": 167471,
            "count": 0
           },
           {
            "bin_end": 178307,
            "bin_start": 172889,
            "count": 0
           },
           {
            "bin_end": 183725,
            "bin_start": 178307,
            "count": 1
           }
          ],
          "max": 183725,
          "min": 129545,
          "nan_count": 0,
          "unique_count": 2
         }
        },
        {
         "dtype": "object",
         "name": "COSTCENTER",
         "stats": {
          "categories": [
           {
            "count": 5,
            "name": "ICU"
           }
          ],
          "nan_count": 0,
          "unique_count": 1
         }
        },
        {
         "dtype": "object",
         "name": "CHARTDATE",
         "stats": {
          "categories": [
           {
            "count": 5,
            "name": "Missing"
           }
          ],
          "nan_count": 5,
          "unique_count": 0
         }
        },
        {
         "dtype": "object",
         "name": "CPT_CD",
         "stats": {
          "categories": [
           {
            "count": 4,
            "name": "99232"
           },
           {
            "count": 1,
            "name": "99223"
           }
          ],
          "nan_count": 0,
          "unique_count": 2
         }
        },
        {
         "dtype": "float64",
         "name": "CPT_NUMBER",
         "stats": {
          "histogram": [
           {
            "bin_end": 99223.9,
            "bin_start": 99223,
            "count": 1
           },
           {
            "bin_end": 99224.8,
            "bin_start": 99223.9,
            "count": 0
           },
           {
            "bin_end": 99225.7,
            "bin_start": 99224.8,
            "count": 0
           },
           {
            "bin_end": 99226.6,
            "bin_start": 99225.7,
            "count": 0
           },
           {
            "bin_end": 99227.5,
            "bin_start": 99226.6,
            "count": 0
           },
           {
            "bin_end": 99228.4,
            "bin_start": 99227.5,
            "count": 0
           },
           {
            "bin_end": 99229.3,
            "bin_start": 99228.4,
            "count": 0
           },
           {
            "bin_end": 99230.2,
            "bin_start": 99229.3,
            "count": 0
           },
           {
            "bin_end": 99231.1,
            "bin_start": 99230.2,
            "count": 0
           },
           {
            "bin_end": 99232,
            "bin_start": 99231.1,
            "count": 4
           }
          ],
          "max": 99232,
          "min": 99223,
          "nan_count": 0,
          "unique_count": 2
         }
        },
        {
         "dtype": "object",
         "name": "CPT_SUFFIX",
         "stats": {
          "categories": [
           {
            "count": 5,
            "name": "Missing"
           }
          ],
          "nan_count": 5,
          "unique_count": 0
         }
        },
        {
         "dtype": "float64",
         "name": "TICKET_ID_SEQ",
         "stats": {
          "histogram": [
           {
            "bin_end": 1.8,
            "bin_start": 1,
            "count": 1
           },
           {
            "bin_end": 2.6,
            "bin_start": 1.8,
            "count": 0
           },
           {
            "bin_end": 3.4000000000000004,
            "bin_start": 2.6,
            "count": 0
           },
           {
            "bin_end": 4.2,
            "bin_start": 3.4000000000000004,
            "count": 0
           },
           {
            "bin_end": 5,
            "bin_start": 4.2,
            "count": 0
           },
           {
            "bin_end": 5.800000000000001,
            "bin_start": 5,
            "count": 0
           },
           {
            "bin_end": 6.6000000000000005,
            "bin_start": 5.800000000000001,
            "count": 1
           },
           {
            "bin_end": 7.4,
            "bin_start": 6.6000000000000005,
            "count": 1
           },
           {
            "bin_end": 8.2,
            "bin_start": 7.4,
            "count": 1
           },
           {
            "bin_end": 9,
            "bin_start": 8.2,
            "count": 1
           }
          ],
          "max": 9,
          "min": 1,
          "nan_count": 0,
          "unique_count": 5
         }
        },
        {
         "dtype": "object",
         "name": "SECTIONHEADER",
         "stats": {
          "categories": [
           {
            "count": 5,
            "name": "Evaluation and management"
           }
          ],
          "nan_count": 0,
          "unique_count": 1
         }
        },
        {
         "dtype": "object",
         "name": "SUBSECTIONHEADER",
         "stats": {
          "categories": [
           {
            "count": 5,
            "name": "Hospital inpatient services"
           }
          ],
          "nan_count": 0,
          "unique_count": 1
         }
        },
        {
         "dtype": "object",
         "name": "DESCRIPTION",
         "stats": {
          "categories": [
           {
            "count": 5,
            "name": "Missing"
           }
          ],
          "nan_count": 5,
          "unique_count": 0
         }
        },
        {
         "dtype": "int64",
         "name": "_deepnote_index_column"
        }
       ],
       "row_count": 5,
       "rows_bottom": null,
       "rows_top": [
        {
         "CHARTDATE": "nan",
         "COSTCENTER": "ICU",
         "CPT_CD": 99232,
         "CPT_NUMBER": 99232,
         "CPT_SUFFIX": "nan",
         "DESCRIPTION": "nan",
         "HADM_ID": 129545,
         "ROW_ID": 317,
         "SECTIONHEADER": "Evaluation and management",
         "SUBJECT_ID": 11743,
         "SUBSECTIONHEADER": "Hospital inpatient services",
         "TICKET_ID_SEQ": 6,
         "_deepnote_index_column": 0
        },
        {
         "CHARTDATE": "nan",
         "COSTCENTER": "ICU",
         "CPT_CD": 99232,
         "CPT_NUMBER": 99232,
         "CPT_SUFFIX": "nan",
         "DESCRIPTION": "nan",
         "HADM_ID": 129545,
         "ROW_ID": 318,
         "SECTIONHEADER": "Evaluation and management",
         "SUBJECT_ID": 11743,
         "SUBSECTIONHEADER": "Hospital inpatient services",
         "TICKET_ID_SEQ": 7,
         "_deepnote_index_column": 1
        },
        {
         "CHARTDATE": "nan",
         "COSTCENTER": "ICU",
         "CPT_CD": 99232,
         "CPT_NUMBER": 99232,
         "CPT_SUFFIX": "nan",
         "DESCRIPTION": "nan",
         "HADM_ID": 129545,
         "ROW_ID": 319,
         "SECTIONHEADER": "Evaluation and management",
         "SUBJECT_ID": 11743,
         "SUBSECTIONHEADER": "Hospital inpatient services",
         "TICKET_ID_SEQ": 8,
         "_deepnote_index_column": 2
        },
        {
         "CHARTDATE": "nan",
         "COSTCENTER": "ICU",
         "CPT_CD": 99232,
         "CPT_NUMBER": 99232,
         "CPT_SUFFIX": "nan",
         "DESCRIPTION": "nan",
         "HADM_ID": 129545,
         "ROW_ID": 320,
         "SECTIONHEADER": "Evaluation and management",
         "SUBJECT_ID": 11743,
         "SUBSECTIONHEADER": "Hospital inpatient services",
         "TICKET_ID_SEQ": 9,
         "_deepnote_index_column": 3
        },
        {
         "CHARTDATE": "nan",
         "COSTCENTER": "ICU",
         "CPT_CD": 99223,
         "CPT_NUMBER": 99223,
         "CPT_SUFFIX": "nan",
         "DESCRIPTION": "nan",
         "HADM_ID": 183725,
         "ROW_ID": 321,
         "SECTIONHEADER": "Evaluation and management",
         "SUBJECT_ID": 6185,
         "SUBSECTIONHEADER": "Hospital inpatient services",
         "TICKET_ID_SEQ": 1,
         "_deepnote_index_column": 4
        }
       ]
      },
      "text/html": [
       "<div>\n",
       "<style scoped>\n",
       "    .dataframe tbody tr th:only-of-type {\n",
       "        vertical-align: middle;\n",
       "    }\n",
       "\n",
       "    .dataframe tbody tr th {\n",
       "        vertical-align: top;\n",
       "    }\n",
       "\n",
       "    .dataframe thead th {\n",
       "        text-align: right;\n",
       "    }\n",
       "</style>\n",
       "<table border=\"1\" class=\"dataframe\">\n",
       "  <thead>\n",
       "    <tr style=\"text-align: right;\">\n",
       "      <th></th>\n",
       "      <th>ROW_ID</th>\n",
       "      <th>SUBJECT_ID</th>\n",
       "      <th>HADM_ID</th>\n",
       "      <th>COSTCENTER</th>\n",
       "      <th>CHARTDATE</th>\n",
       "      <th>CPT_CD</th>\n",
       "      <th>CPT_NUMBER</th>\n",
       "      <th>CPT_SUFFIX</th>\n",
       "      <th>TICKET_ID_SEQ</th>\n",
       "      <th>SECTIONHEADER</th>\n",
       "      <th>SUBSECTIONHEADER</th>\n",
       "      <th>DESCRIPTION</th>\n",
       "    </tr>\n",
       "  </thead>\n",
       "  <tbody>\n",
       "    <tr>\n",
       "      <th>0</th>\n",
       "      <td>317</td>\n",
       "      <td>11743</td>\n",
       "      <td>129545</td>\n",
       "      <td>ICU</td>\n",
       "      <td>NaN</td>\n",
       "      <td>99232</td>\n",
       "      <td>99,232.0</td>\n",
       "      <td>NaN</td>\n",
       "      <td>6.0</td>\n",
       "      <td>Evaluation and management</td>\n",
       "      <td>Hospital inpatient services</td>\n",
       "      <td>NaN</td>\n",
       "    </tr>\n",
       "    <tr>\n",
       "      <th>1</th>\n",
       "      <td>318</td>\n",
       "      <td>11743</td>\n",
       "      <td>129545</td>\n",
       "      <td>ICU</td>\n",
       "      <td>NaN</td>\n",
       "      <td>99232</td>\n",
       "      <td>99,232.0</td>\n",
       "      <td>NaN</td>\n",
       "      <td>7.0</td>\n",
       "      <td>Evaluation and management</td>\n",
       "      <td>Hospital inpatient services</td>\n",
       "      <td>NaN</td>\n",
       "    </tr>\n",
       "    <tr>\n",
       "      <th>2</th>\n",
       "      <td>319</td>\n",
       "      <td>11743</td>\n",
       "      <td>129545</td>\n",
       "      <td>ICU</td>\n",
       "      <td>NaN</td>\n",
       "      <td>99232</td>\n",
       "      <td>99,232.0</td>\n",
       "      <td>NaN</td>\n",
       "      <td>8.0</td>\n",
       "      <td>Evaluation and management</td>\n",
       "      <td>Hospital inpatient services</td>\n",
       "      <td>NaN</td>\n",
       "    </tr>\n",
       "    <tr>\n",
       "      <th>3</th>\n",
       "      <td>320</td>\n",
       "      <td>11743</td>\n",
       "      <td>129545</td>\n",
       "      <td>ICU</td>\n",
       "      <td>NaN</td>\n",
       "      <td>99232</td>\n",
       "      <td>99,232.0</td>\n",
       "      <td>NaN</td>\n",
       "      <td>9.0</td>\n",
       "      <td>Evaluation and management</td>\n",
       "      <td>Hospital inpatient services</td>\n",
       "      <td>NaN</td>\n",
       "    </tr>\n",
       "    <tr>\n",
       "      <th>4</th>\n",
       "      <td>321</td>\n",
       "      <td>6185</td>\n",
       "      <td>183725</td>\n",
       "      <td>ICU</td>\n",
       "      <td>NaN</td>\n",
       "      <td>99223</td>\n",
       "      <td>99,223.0</td>\n",
       "      <td>NaN</td>\n",
       "      <td>1.0</td>\n",
       "      <td>Evaluation and management</td>\n",
       "      <td>Hospital inpatient services</td>\n",
       "      <td>NaN</td>\n",
       "    </tr>\n",
       "  </tbody>\n",
       "</table>\n",
       "</div>"
      ],
      "text/plain": [
       "   ROW_ID  SUBJECT_ID  HADM_ID COSTCENTER CHARTDATE CPT_CD  CPT_NUMBER  \\\n",
       "0     317       11743   129545        ICU       NaN  99232    99,232.0   \n",
       "1     318       11743   129545        ICU       NaN  99232    99,232.0   \n",
       "2     319       11743   129545        ICU       NaN  99232    99,232.0   \n",
       "3     320       11743   129545        ICU       NaN  99232    99,232.0   \n",
       "4     321        6185   183725        ICU       NaN  99223    99,223.0   \n",
       "\n",
       "  CPT_SUFFIX  TICKET_ID_SEQ              SECTIONHEADER  \\\n",
       "0        NaN            6.0  Evaluation and management   \n",
       "1        NaN            7.0  Evaluation and management   \n",
       "2        NaN            8.0  Evaluation and management   \n",
       "3        NaN            9.0  Evaluation and management   \n",
       "4        NaN            1.0  Evaluation and management   \n",
       "\n",
       "              SUBSECTIONHEADER DESCRIPTION  \n",
       "0  Hospital inpatient services         NaN  \n",
       "1  Hospital inpatient services         NaN  \n",
       "2  Hospital inpatient services         NaN  \n",
       "3  Hospital inpatient services         NaN  \n",
       "4  Hospital inpatient services         NaN  "
      ]
     },
     "execution_count": 19,
     "metadata": {},
     "output_type": "execute_result"
    }
   ],
   "source": [
    "df_cpt.head()"
   ]
  },
  {
   "cell_type": "code",
   "execution_count": null,
   "metadata": {
    "cell_id": "00031-dffc61c2-5fc3-404f-81c8-1a16bc8cbcf3",
    "execution_millis": 0,
    "execution_start": 1604534710986,
    "output_cleared": false,
    "source_hash": "a7a18fae",
    "tags": []
   },
   "outputs": [
    {
     "data": {
      "text/plain": [
       "(573146, 12)"
      ]
     },
     "execution_count": 46,
     "metadata": {},
     "output_type": "execute_result"
    }
   ],
   "source": [
    "df_cpt.shape"
   ]
  },
  {
   "cell_type": "code",
   "execution_count": null,
   "metadata": {
    "cell_id": "00028-3fdadec0-0bda-41ac-840a-ea9d6d19164e",
    "execution_millis": 248,
    "execution_start": 1604533012526,
    "output_cleared": false,
    "source_hash": "a7a93b84",
    "tags": []
   },
   "outputs": [
    {
     "name": "stdout",
     "output_type": "stream",
     "text": [
      "<class 'pandas.core.frame.DataFrame'>\n",
      "RangeIndex: 573146 entries, 0 to 573145\n",
      "Data columns (total 12 columns):\n",
      " #   Column            Non-Null Count   Dtype  \n",
      "---  ------            --------------   -----  \n",
      " 0   ROW_ID            573146 non-null  int64  \n",
      " 1   SUBJECT_ID        573146 non-null  int64  \n",
      " 2   HADM_ID           573146 non-null  int64  \n",
      " 3   COSTCENTER        573146 non-null  object \n",
      " 4   CHARTDATE         101545 non-null  object \n",
      " 5   CPT_CD            573146 non-null  object \n",
      " 6   CPT_NUMBER        573128 non-null  float64\n",
      " 7   CPT_SUFFIX        22 non-null      object \n",
      " 8   TICKET_ID_SEQ     471601 non-null  float64\n",
      " 9   SECTIONHEADER     573125 non-null  object \n",
      " 10  SUBSECTIONHEADER  573125 non-null  object \n",
      " 11  DESCRIPTION       101545 non-null  object \n",
      "dtypes: float64(2), int64(3), object(7)\n",
      "memory usage: 52.5+ MB\n"
     ]
    }
   ],
   "source": [
    "df_cpt.info()"
   ]
  },
  {
   "cell_type": "code",
   "execution_count": null,
   "metadata": {
    "cell_id": "00032-9058d4a2-db15-4521-8fe1-6f81f23584f0",
    "execution_millis": 1,
    "execution_start": 1604533085725,
    "output_cleared": false,
    "source_hash": "4068a5d9",
    "tags": []
   },
   "outputs": [
    {
     "data": {
      "text/plain": [
       "'Missing from HADM_ID column: 0.0%'"
      ]
     },
     "execution_count": 22,
     "metadata": {},
     "output_type": "execute_result"
    }
   ],
   "source": [
    "f'Missing from HADM_ID column: {round(df_cpt.HADM_ID.isnull().sum()/len(df_cpt)*100,2)}%'"
   ]
  },
  {
   "cell_type": "code",
   "execution_count": null,
   "metadata": {
    "cell_id": "00033-6bab8077-8a02-4b39-809f-1b947d037a1f",
    "execution_millis": 1,
    "execution_start": 1604533135665,
    "output_cleared": false,
    "source_hash": "72524674",
    "tags": []
   },
   "outputs": [
    {
     "data": {
      "text/plain": [
       "array([nan, 'VENT MGMT;SUBSQ DAYS(INVASIVE)',\n",
       "       'VENT MGMT, 1ST DAY (INVASIVE)', 'VENT MGMT;SUBSQ DAYS(NIV)',\n",
       "       'VENT MGMT,1ST DAY (NIV)'], dtype=object)"
      ]
     },
     "execution_count": 23,
     "metadata": {},
     "output_type": "execute_result"
    }
   ],
   "source": [
    "df_cpt.DESCRIPTION.unique()"
   ]
  },
  {
   "cell_type": "code",
   "execution_count": null,
   "metadata": {
    "cell_id": "00035-e5b78ef9-9844-4004-bb46-ef689cba448e",
    "execution_millis": 1,
    "execution_start": 1604535025302,
    "output_cleared": false,
    "source_hash": "5347843f",
    "tags": []
   },
   "outputs": [
    {
     "data": {
      "text/plain": [
       "array(['VENT MGMT;SUBSQ DAYS(INVASIVE)', 'VENT MGMT;SUBSQ DAYS(NIV)'],\n",
       "      dtype=object)"
      ]
     },
     "execution_count": 47,
     "metadata": {},
     "output_type": "execute_result"
    }
   ],
   "source": [
    "df_cpt_ARDS[df_cpt_ARDS.CPT_NUMBER == 94003].DESCRIPTION.unique()"
   ]
  },
  {
   "cell_type": "code",
   "execution_count": null,
   "metadata": {
    "cell_id": "00036-96c0ec5b-dbd6-4971-9b1c-8bb49fbe9d1b",
    "execution_millis": 1,
    "execution_start": 1604535037737,
    "output_cleared": false,
    "source_hash": "dac8a06a",
    "tags": []
   },
   "outputs": [
    {
     "data": {
      "text/plain": [
       "array([nan, 'VENT MGMT, 1ST DAY (INVASIVE)', 'VENT MGMT,1ST DAY (NIV)'],\n",
       "      dtype=object)"
      ]
     },
     "execution_count": 48,
     "metadata": {},
     "output_type": "execute_result"
    }
   ],
   "source": [
    "df_cpt_ARDS[df_cpt_ARDS.CPT_NUMBER == 94002].DESCRIPTION.unique()"
   ]
  },
  {
   "cell_type": "markdown",
   "metadata": {
    "cell_id": "00034-6089d5ea-aaa4-46b3-b2d4-e55698850c9c",
    "tags": []
   },
   "source": [
    "#### Seperating our patients"
   ]
  },
  {
   "cell_type": "code",
   "execution_count": null,
   "metadata": {
    "cell_id": "00038-b6cf444c-1133-4f62-ab6c-024bee7661e7",
    "execution_millis": 0,
    "execution_start": 1604533295489,
    "output_cleared": false,
    "source_hash": "d7d84292",
    "tags": []
   },
   "outputs": [],
   "source": [
    "df_cpt_ARDS = df_cpt.loc[df_cpt['HADM_ID'].isin(liste_patienten)]"
   ]
  },
  {
   "cell_type": "code",
   "execution_count": null,
   "metadata": {
    "cell_id": "00036-e2ab893c-1369-4df9-a258-bfbc17a94da3",
    "execution_millis": 1,
    "execution_start": 1604533874873,
    "output_cleared": false,
    "source_hash": "d53f3864",
    "tags": []
   },
   "outputs": [
    {
     "data": {
      "text/plain": [
       "'0 NaN in DESCRIPTION column when COSTCENTER==\"Resp\"'"
      ]
     },
     "execution_count": 35,
     "metadata": {},
     "output_type": "execute_result"
    }
   ],
   "source": [
    "f'{df_cpt_ARDS[df_cpt_ARDS.COSTCENTER == \"Resp\"].DESCRIPTION.isnull().sum()} NaN in DESCRIPTION column when COSTCENTER==\"Resp\"'"
   ]
  },
  {
   "cell_type": "code",
   "execution_count": null,
   "metadata": {
    "cell_id": "00037-4ba07116-e91f-487f-a884-36ff4b0b08c9",
    "execution_millis": 0,
    "execution_start": 1604534362926,
    "output_cleared": false,
    "source_hash": "e04ddb8b",
    "tags": []
   },
   "outputs": [
    {
     "data": {
      "text/plain": [
       "'Missing in Descreption Overall:75.75%'"
      ]
     },
     "execution_count": 41,
     "metadata": {},
     "output_type": "execute_result"
    }
   ],
   "source": [
    "f'Missing in Descreption Overall:{round(df_cpt_ARDS.DESCRIPTION.isnull().sum()/len(df_cpt_ARDS)*100,2)}%'"
   ]
  },
  {
   "cell_type": "code",
   "execution_count": null,
   "metadata": {
    "cell_id": "00039-a5a14f3f-9075-49b0-9ec0-e3778c4c72ab",
    "execution_millis": 22,
    "execution_start": 1604533308831,
    "output_cleared": false,
    "source_hash": "13dab9c1",
    "tags": []
   },
   "outputs": [
    {
     "data": {
      "application/vnd.deepnote.dataframe.v2+json": {
       "column_count": 12,
       "columns": [
        {
         "dtype": "int64",
         "name": "ROW_ID",
         "stats": {
          "histogram": [
           {
            "bin_end": 343.1,
            "bin_start": 343,
            "count": 1
           },
           {
            "bin_end": 343.2,
            "bin_start": 343.1,
            "count": 0
           },
           {
            "bin_end": 343.3,
            "bin_start": 343.2,
            "count": 0
           },
           {
            "bin_end": 343.4,
            "bin_start": 343.3,
            "count": 0
           },
           {
            "bin_end": 343.5,
            "bin_start": 343.4,
            "count": 0
           },
           {
            "bin_end": 343.6,
            "bin_start": 343.5,
            "count": 0
           },
           {
            "bin_end": 343.7,
            "bin_start": 343.6,
            "count": 0
           },
           {
            "bin_end": 343.8,
            "bin_start": 343.7,
            "count": 0
           },
           {
            "bin_end": 343.9,
            "bin_start": 343.8,
            "count": 0
           },
           {
            "bin_end": 344,
            "bin_start": 343.9,
            "count": 1
           }
          ],
          "max": 344,
          "min": 343,
          "nan_count": 0,
          "unique_count": 2
         }
        },
        {
         "dtype": "int64",
         "name": "SUBJECT_ID",
         "stats": {
          "histogram": [
           {
            "bin_end": 21909.6,
            "bin_start": 21909.5,
            "count": 0
           },
           {
            "bin_end": 21909.7,
            "bin_start": 21909.6,
            "count": 0
           },
           {
            "bin_end": 21909.8,
            "bin_start": 21909.7,
            "count": 0
           },
           {
            "bin_end": 21909.9,
            "bin_start": 21909.8,
            "count": 0
           },
           {
            "bin_end": 21910,
            "bin_start": 21909.9,
            "count": 0
           },
           {
            "bin_end": 21910.1,
            "bin_start": 21910,
            "count": 2
           },
           {
            "bin_end": 21910.2,
            "bin_start": 21910.1,
            "count": 0
           },
           {
            "bin_end": 21910.3,
            "bin_start": 21910.2,
            "count": 0
           },
           {
            "bin_end": 21910.4,
            "bin_start": 21910.3,
            "count": 0
           },
           {
            "bin_end": 21910.5,
            "bin_start": 21910.4,
            "count": 0
           }
          ],
          "max": 21910,
          "min": 21910,
          "nan_count": 0,
          "unique_count": 1
         }
        },
        {
         "dtype": "int64",
         "name": "HADM_ID",
         "stats": {
          "histogram": [
           {
            "bin_end": 171235.6,
            "bin_start": 171235.5,
            "count": 0
           },
           {
            "bin_end": 171235.7,
            "bin_start": 171235.6,
            "count": 0
           },
           {
            "bin_end": 171235.8,
            "bin_start": 171235.7,
            "count": 0
           },
           {
            "bin_end": 171235.9,
            "bin_start": 171235.8,
            "count": 0
           },
           {
            "bin_end": 171236,
            "bin_start": 171235.9,
            "count": 0
           },
           {
            "bin_end": 171236.1,
            "bin_start": 171236,
            "count": 2
           },
           {
            "bin_end": 171236.2,
            "bin_start": 171236.1,
            "count": 0
           },
           {
            "bin_end": 171236.3,
            "bin_start": 171236.2,
            "count": 0
           },
           {
            "bin_end": 171236.4,
            "bin_start": 171236.3,
            "count": 0
           },
           {
            "bin_end": 171236.5,
            "bin_start": 171236.4,
            "count": 0
           }
          ],
          "max": 171236,
          "min": 171236,
          "nan_count": 0,
          "unique_count": 1
         }
        },
        {
         "dtype": "object",
         "name": "COSTCENTER",
         "stats": {
          "categories": [
           {
            "count": 2,
            "name": "ICU"
           }
          ],
          "nan_count": 0,
          "unique_count": 1
         }
        },
        {
         "dtype": "object",
         "name": "CHARTDATE",
         "stats": {
          "categories": [
           {
            "count": 2,
            "name": "Missing"
           }
          ],
          "nan_count": 2,
          "unique_count": 0
         }
        },
        {
         "dtype": "object",
         "name": "CPT_CD",
         "stats": {
          "categories": [
           {
            "count": 1,
            "name": "99255"
           },
           {
            "count": 1,
            "name": "99232"
           }
          ],
          "nan_count": 0,
          "unique_count": 2
         }
        },
        {
         "dtype": "float64",
         "name": "CPT_NUMBER",
         "stats": {
          "histogram": [
           {
            "bin_end": 99234.3,
            "bin_start": 99232,
            "count": 1
           },
           {
            "bin_end": 99236.6,
            "bin_start": 99234.3,
            "count": 0
           },
           {
            "bin_end": 99238.9,
            "bin_start": 99236.6,
            "count": 0
           },
           {
            "bin_end": 99241.2,
            "bin_start": 99238.9,
            "count": 0
           },
           {
            "bin_end": 99243.5,
            "bin_start": 99241.2,
            "count": 0
           },
           {
            "bin_end": 99245.8,
            "bin_start": 99243.5,
            "count": 0
           },
           {
            "bin_end": 99248.1,
            "bin_start": 99245.8,
            "count": 0
           },
           {
            "bin_end": 99250.4,
            "bin_start": 99248.1,
            "count": 0
           },
           {
            "bin_end": 99252.7,
            "bin_start": 99250.4,
            "count": 0
           },
           {
            "bin_end": 99255,
            "bin_start": 99252.7,
            "count": 1
           }
          ],
          "max": 99255,
          "min": 99232,
          "nan_count": 0,
          "unique_count": 2
         }
        },
        {
         "dtype": "object",
         "name": "CPT_SUFFIX",
         "stats": {
          "categories": [
           {
            "count": 2,
            "name": "Missing"
           }
          ],
          "nan_count": 2,
          "unique_count": 0
         }
        },
        {
         "dtype": "float64",
         "name": "TICKET_ID_SEQ",
         "stats": {
          "histogram": [
           {
            "bin_end": 1.1,
            "bin_start": 1,
            "count": 1
           },
           {
            "bin_end": 1.2,
            "bin_start": 1.1,
            "count": 0
           },
           {
            "bin_end": 1.3,
            "bin_start": 1.2,
            "count": 0
           },
           {
            "bin_end": 1.4,
            "bin_start": 1.3,
            "count": 0
           },
           {
            "bin_end": 1.5,
            "bin_start": 1.4,
            "count": 0
           },
           {
            "bin_end": 1.6,
            "bin_start": 1.5,
            "count": 0
           },
           {
            "bin_end": 1.7000000000000002,
            "bin_start": 1.6,
            "count": 0
           },
           {
            "bin_end": 1.8,
            "bin_start": 1.7000000000000002,
            "count": 0
           },
           {
            "bin_end": 1.9,
            "bin_start": 1.8,
            "count": 0
           },
           {
            "bin_end": 2,
            "bin_start": 1.9,
            "count": 1
           }
          ],
          "max": 2,
          "min": 1,
          "nan_count": 0,
          "unique_count": 2
         }
        },
        {
         "dtype": "object",
         "name": "SECTIONHEADER",
         "stats": {
          "categories": [
           {
            "count": 2,
            "name": "Evaluation and management"
           }
          ],
          "nan_count": 0,
          "unique_count": 1
         }
        },
        {
         "dtype": "object",
         "name": "SUBSECTIONHEADER",
         "stats": {
          "categories": [
           {
            "count": 1,
            "name": "Consultations"
           },
           {
            "count": 1,
            "name": "Hospital inpatient services"
           }
          ],
          "nan_count": 0,
          "unique_count": 2
         }
        },
        {
         "dtype": "object",
         "name": "DESCRIPTION",
         "stats": {
          "categories": [
           {
            "count": 2,
            "name": "Missing"
           }
          ],
          "nan_count": 2,
          "unique_count": 0
         }
        },
        {
         "dtype": "int64",
         "name": "_deepnote_index_column"
        }
       ],
       "row_count": 2,
       "rows_bottom": null,
       "rows_top": [
        {
         "CHARTDATE": "nan",
         "COSTCENTER": "ICU",
         "CPT_CD": 99255,
         "CPT_NUMBER": 99255,
         "CPT_SUFFIX": "nan",
         "DESCRIPTION": "nan",
         "HADM_ID": 171236,
         "ROW_ID": 343,
         "SECTIONHEADER": "Evaluation and management",
         "SUBJECT_ID": 21910,
         "SUBSECTIONHEADER": "Consultations",
         "TICKET_ID_SEQ": 1,
         "_deepnote_index_column": 26
        },
        {
         "CHARTDATE": "nan",
         "COSTCENTER": "ICU",
         "CPT_CD": 99232,
         "CPT_NUMBER": 99232,
         "CPT_SUFFIX": "nan",
         "DESCRIPTION": "nan",
         "HADM_ID": 171236,
         "ROW_ID": 344,
         "SECTIONHEADER": "Evaluation and management",
         "SUBJECT_ID": 21910,
         "SUBSECTIONHEADER": "Hospital inpatient services",
         "TICKET_ID_SEQ": 2,
         "_deepnote_index_column": 27
        }
       ]
      },
      "text/html": [
       "<div>\n",
       "<style scoped>\n",
       "    .dataframe tbody tr th:only-of-type {\n",
       "        vertical-align: middle;\n",
       "    }\n",
       "\n",
       "    .dataframe tbody tr th {\n",
       "        vertical-align: top;\n",
       "    }\n",
       "\n",
       "    .dataframe thead th {\n",
       "        text-align: right;\n",
       "    }\n",
       "</style>\n",
       "<table border=\"1\" class=\"dataframe\">\n",
       "  <thead>\n",
       "    <tr style=\"text-align: right;\">\n",
       "      <th></th>\n",
       "      <th>ROW_ID</th>\n",
       "      <th>SUBJECT_ID</th>\n",
       "      <th>HADM_ID</th>\n",
       "      <th>COSTCENTER</th>\n",
       "      <th>CHARTDATE</th>\n",
       "      <th>CPT_CD</th>\n",
       "      <th>CPT_NUMBER</th>\n",
       "      <th>CPT_SUFFIX</th>\n",
       "      <th>TICKET_ID_SEQ</th>\n",
       "      <th>SECTIONHEADER</th>\n",
       "      <th>SUBSECTIONHEADER</th>\n",
       "      <th>DESCRIPTION</th>\n",
       "    </tr>\n",
       "  </thead>\n",
       "  <tbody>\n",
       "    <tr>\n",
       "      <th>26</th>\n",
       "      <td>343</td>\n",
       "      <td>21910</td>\n",
       "      <td>171236</td>\n",
       "      <td>ICU</td>\n",
       "      <td>NaN</td>\n",
       "      <td>99255</td>\n",
       "      <td>99,255.0</td>\n",
       "      <td>NaN</td>\n",
       "      <td>1.0</td>\n",
       "      <td>Evaluation and management</td>\n",
       "      <td>Consultations</td>\n",
       "      <td>NaN</td>\n",
       "    </tr>\n",
       "    <tr>\n",
       "      <th>27</th>\n",
       "      <td>344</td>\n",
       "      <td>21910</td>\n",
       "      <td>171236</td>\n",
       "      <td>ICU</td>\n",
       "      <td>NaN</td>\n",
       "      <td>99232</td>\n",
       "      <td>99,232.0</td>\n",
       "      <td>NaN</td>\n",
       "      <td>2.0</td>\n",
       "      <td>Evaluation and management</td>\n",
       "      <td>Hospital inpatient services</td>\n",
       "      <td>NaN</td>\n",
       "    </tr>\n",
       "  </tbody>\n",
       "</table>\n",
       "</div>"
      ],
      "text/plain": [
       "    ROW_ID  SUBJECT_ID  HADM_ID COSTCENTER CHARTDATE CPT_CD  CPT_NUMBER  \\\n",
       "26     343       21910   171236        ICU       NaN  99255    99,255.0   \n",
       "27     344       21910   171236        ICU       NaN  99232    99,232.0   \n",
       "\n",
       "   CPT_SUFFIX  TICKET_ID_SEQ              SECTIONHEADER  \\\n",
       "26        NaN            1.0  Evaluation and management   \n",
       "27        NaN            2.0  Evaluation and management   \n",
       "\n",
       "               SUBSECTIONHEADER DESCRIPTION  \n",
       "26                Consultations         NaN  \n",
       "27  Hospital inpatient services         NaN  "
      ]
     },
     "execution_count": 26,
     "metadata": {},
     "output_type": "execute_result"
    }
   ],
   "source": [
    "df_cpt_ARDS.head(2)"
   ]
  },
  {
   "cell_type": "markdown",
   "metadata": {
    "cell_id": "00037-97d9750b-89d1-404f-8643-e837b7a0eb08",
    "tags": []
   },
   "source": [
    "##### unique values of codes from respiratory"
   ]
  },
  {
   "cell_type": "code",
   "execution_count": null,
   "metadata": {
    "cell_id": "00038-62095a9b-6273-4cf5-af26-90e22336a868",
    "execution_millis": 4,
    "execution_start": 1604533470737,
    "output_cleared": false,
    "source_hash": "8a462fb",
    "tags": []
   },
   "outputs": [
    {
     "data": {
      "text/plain": [
       "array(['94003', '94002', 94003, 94002], dtype=object)"
      ]
     },
     "execution_count": 28,
     "metadata": {},
     "output_type": "execute_result"
    }
   ],
   "source": [
    "# both string and integer in CPT_CD\n",
    "df_cpt_ARDS[df_cpt_ARDS.COSTCENTER == 'Resp'].CPT_CD.unique()"
   ]
  },
  {
   "cell_type": "code",
   "execution_count": null,
   "metadata": {
    "cell_id": "00039-508a0e21-d374-4b80-b42a-7419844c4cd2",
    "execution_millis": 13,
    "execution_start": 1604533491359,
    "output_cleared": false,
    "source_hash": "6cd71f05",
    "tags": []
   },
   "outputs": [
    {
     "data": {
      "text/plain": [
       "array([94003., 94002.])"
      ]
     },
     "execution_count": 29,
     "metadata": {},
     "output_type": "execute_result"
    }
   ],
   "source": [
    "df_cpt_ARDS[df_cpt_ARDS.COSTCENTER == 'Resp'].CPT_NUMBER.unique()"
   ]
  },
  {
   "cell_type": "code",
   "execution_count": null,
   "metadata": {
    "cell_id": "00040-7356b5db-b173-45bc-8a00-a37375451d39",
    "execution_millis": 10,
    "execution_start": 1604533707998,
    "output_cleared": false,
    "source_hash": "61510f6",
    "tags": []
   },
   "outputs": [
    {
     "data": {
      "text/plain": [
       "'6052 from our patient list that were charged for ventilation'"
      ]
     },
     "execution_count": 33,
     "metadata": {},
     "output_type": "execute_result"
    }
   ],
   "source": [
    "f'{df_cpt_ARDS[df_cpt_ARDS.COSTCENTER == \"Resp\"].HADM_ID.nunique()} from our patient list that were charged for ventilation' "
   ]
  },
  {
   "cell_type": "markdown",
   "metadata": {
    "cell_id": "00042-458fbe37-8f87-4003-9998-21676c643986",
    "tags": []
   },
   "source": [
    "##### Create a function to print the patients that are missing from our list in the table"
   ]
  },
  {
   "cell_type": "code",
   "execution_count": null,
   "metadata": {
    "cell_id": "00043-1b363d33-1a02-483e-82ff-3010f4a070c5",
    "execution_millis": 1,
    "execution_start": 1604534631761,
    "output_cleared": false,
    "source_hash": "4658607e",
    "tags": []
   },
   "outputs": [],
   "source": [
    "def missing(ARDS):\n",
    "    miss = len(liste_patienten)-ARDS.HADM_ID.nunique()\n",
    "    print('Patients report from our list:')\n",
    "    print(f'Missing: {miss}')\n",
    "    print(f'perc.: {round(miss/len(liste_patienten)*100,2)}%')\n",
    "    \n",
    "    present = ARDS.HADM_ID.nunique()\n",
    "    print(f'Present: {present}')\n",
    "    print(f'perc.: {round(present/len(liste_patienten)*100,2)}%')\n",
    "    \n",
    "    present = ARDS.HADM_ID.nunique()\n",
    "    print(f'percentage of unique number patients in the ARDS dataset: {round(present/len(ARDS.HADM_ID)*100,2)}%')"
   ]
  },
  {
   "cell_type": "code",
   "execution_count": null,
   "metadata": {
    "cell_id": "00041-e3b149fd-c2cc-43c9-a9d1-2c6394f74be8",
    "execution_millis": 14,
    "execution_start": 1604534632418,
    "output_cleared": false,
    "source_hash": "f0ad61d4",
    "tags": []
   },
   "outputs": [
    {
     "name": "stdout",
     "output_type": "stream",
     "text": [
      "Patients report from our list:\n",
      "Missing: 366\n",
      "perc.: 4.88%\n",
      "Present: 7131\n",
      "perc.: 95.12%\n",
      "percentage of unique number patients in the ARDS dataset: 3.97%\n"
     ]
    }
   ],
   "source": [
    "missing(df_cpt_ARDS)"
   ]
  },
  {
   "cell_type": "markdown",
   "metadata": {
    "cell_id": "00049-0fcaf24d-4197-4dd4-8501-c0f37298d6f8",
    "tags": []
   },
   "source": [
    "## Drgcodes"
   ]
  },
  {
   "cell_type": "markdown",
   "metadata": {
    "cell_id": "00050-949b1280-1acc-4319-b907-36afa4d47e4d",
    "tags": []
   },
   "source": [
    "Diagnosis Related Groups (DRG), which are used by the hospital for billing purposes. **we might not need these table in the end**"
   ]
  },
  {
   "cell_type": "markdown",
   "metadata": {
    "cell_id": "00051-e71e37f0-0c9d-4b82-aa6a-369524d25826",
    "tags": []
   },
   "source": [
    "Column|Description|type\n",
    "----|:-----|:-----\n",
    "DRG_TYPE|DRG_TYPE provides the type of DRG code in the entry. There are two types of DRG codes in the database which have overlapping ranges but distinct definitions for the codes. The three types of DRG codes in the MIMIC-III database are ‘HCFA’ (Health Care Financing Administration), ‘MS’ (Medicare), and ‘APR’ (All Payers Registry). **-->DROP**|object\n",
    "DGR_CODE|DRG_CODE contains a code which represents the diagnosis billed for by the hospital. Tracheostomy:44, 54. Respitary Disease with ventilation support: 475, 576, 566, 565, 575, 208, 207|int64\n",
    "DESCRIPTION|They categorize the treatment in a way that they can charge the patients|Object\n",
    "DRG_SEVERITY|Severity and mortality allow for higher billing costs **--> DROP**|float\n",
    "DRG_MORTALITY|**DROP**|float"
   ]
  },
  {
   "cell_type": "code",
   "execution_count": null,
   "metadata": {
    "cell_id": "00052-a244a0ed-7b07-4f49-ba01-fefe48426ef4",
    "execution_millis": 200,
    "execution_start": 1604537473329,
    "output_cleared": false,
    "source_hash": "f106d16",
    "tags": []
   },
   "outputs": [],
   "source": [
    "df_drgcodes = pd.read_csv('data/DRGCODES.csv.gz', \n",
    "                                compression='gzip')"
   ]
  },
  {
   "cell_type": "code",
   "execution_count": null,
   "metadata": {
    "cell_id": "00053-9e023a5d-3a66-4db9-86fb-4cf7094a6780",
    "execution_millis": 42,
    "execution_start": 1604537502004,
    "output_cleared": false,
    "source_hash": "3d1244f7",
    "tags": []
   },
   "outputs": [
    {
     "data": {
      "application/vnd.deepnote.dataframe.v2+json": {
       "column_count": 8,
       "columns": [
        {
         "dtype": "int64",
         "name": "ROW_ID",
         "stats": {
          "histogram": [
           {
            "bin_end": 342.4,
            "bin_start": 342,
            "count": 1
           },
           {
            "bin_end": 342.8,
            "bin_start": 342.4,
            "count": 0
           },
           {
            "bin_end": 343.2,
            "bin_start": 342.8,
            "count": 1
           },
           {
            "bin_end": 343.6,
            "bin_start": 343.2,
            "count": 0
           },
           {
            "bin_end": 344,
            "bin_start": 343.6,
            "count": 0
           },
           {
            "bin_end": 344.4,
            "bin_start": 344,
            "count": 1
           },
           {
            "bin_end": 344.8,
            "bin_start": 344.4,
            "count": 0
           },
           {
            "bin_end": 345.2,
            "bin_start": 344.8,
            "count": 1
           },
           {
            "bin_end": 345.6,
            "bin_start": 345.2,
            "count": 0
           },
           {
            "bin_end": 346,
            "bin_start": 345.6,
            "count": 1
           }
          ],
          "max": 346,
          "min": 342,
          "nan_count": 0,
          "unique_count": 5
         }
        },
        {
         "dtype": "int64",
         "name": "SUBJECT_ID",
         "stats": {
          "histogram": [
           {
            "bin_end": 4737.7,
            "bin_start": 2491,
            "count": 1
           },
           {
            "bin_end": 6984.4,
            "bin_start": 4737.7,
            "count": 0
           },
           {
            "bin_end": 9231.099999999999,
            "bin_start": 6984.4,
            "count": 0
           },
           {
            "bin_end": 11477.8,
            "bin_start": 9231.099999999999,
            "count": 1
           },
           {
            "bin_end": 13724.5,
            "bin_start": 11477.8,
            "count": 0
           },
           {
            "bin_end": 15971.199999999999,
            "bin_start": 13724.5,
            "count": 0
           },
           {
            "bin_end": 18217.899999999998,
            "bin_start": 15971.199999999999,
            "count": 1
           },
           {
            "bin_end": 20464.6,
            "bin_start": 18217.899999999998,
            "count": 1
           },
           {
            "bin_end": 22711.3,
            "bin_start": 20464.6,
            "count": 0
           },
           {
            "bin_end": 24958,
            "bin_start": 22711.3,
            "count": 1
           }
          ],
          "max": 24958,
          "min": 2491,
          "nan_count": 0,
          "unique_count": 5
         }
        },
        {
         "dtype": "int64",
         "name": "HADM_ID",
         "stats": {
          "histogram": [
           {
            "bin_end": 148306.6,
            "bin_start": 144486,
            "count": 1
           },
           {
            "bin_end": 152127.2,
            "bin_start": 148306.6,
            "count": 0
           },
           {
            "bin_end": 155947.8,
            "bin_start": 152127.2,
            "count": 1
           },
           {
            "bin_end": 159768.4,
            "bin_start": 155947.8,
            "count": 1
           },
           {
            "bin_end": 163589,
            "bin_start": 159768.4,
            "count": 1
           },
           {
            "bin_end": 167409.6,
            "bin_start": 163589,
            "count": 0
           },
           {
            "bin_end": 171230.2,
            "bin_start": 167409.6,
            "count": 0
           },
           {
            "bin_end": 175050.8,
            "bin_start": 171230.2,
            "count": 0
           },
           {
            "bin_end": 178871.4,
            "bin_start": 175050.8,
            "count": 0
           },
           {
            "bin_end": 182692,
            "bin_start": 178871.4,
            "count": 1
           }
          ],
          "max": 182692,
          "min": 144486,
          "nan_count": 0,
          "unique_count": 5
         }
        },
        {
         "dtype": "object",
         "name": "DRG_TYPE",
         "stats": {
          "categories": [
           {
            "count": 5,
            "name": "HCFA"
           }
          ],
          "nan_count": 0,
          "unique_count": 1
         }
        },
        {
         "dtype": "int64",
         "name": "DRG_CODE",
         "stats": {
          "histogram": [
           {
            "bin_end": 51.6,
            "bin_start": 14,
            "count": 2
           },
           {
            "bin_end": 89.2,
            "bin_start": 51.6,
            "count": 0
           },
           {
            "bin_end": 126.80000000000001,
            "bin_start": 89.2,
            "count": 1
           },
           {
            "bin_end": 164.4,
            "bin_start": 126.80000000000001,
            "count": 0
           },
           {
            "bin_end": 202,
            "bin_start": 164.4,
            "count": 0
           },
           {
            "bin_end": 239.60000000000002,
            "bin_start": 202,
            "count": 0
           },
           {
            "bin_end": 277.2,
            "bin_start": 239.60000000000002,
            "count": 0
           },
           {
            "bin_end": 314.8,
            "bin_start": 277.2,
            "count": 0
           },
           {
            "bin_end": 352.40000000000003,
            "bin_start": 314.8,
            "count": 0
           },
           {
            "bin_end": 390,
            "bin_start": 352.40000000000003,
            "count": 2
           }
          ],
          "max": 390,
          "min": 14,
          "nan_count": 0,
          "unique_count": 4
         }
        },
        {
         "dtype": "object",
         "name": "DESCRIPTION",
         "stats": {
          "categories": [
           {
            "count": 2,
            "name": "NEONATE WITH OTHER SIGNIFICANT PROBLEMS"
           },
           {
            "count": 1,
            "name": "TRAUMATIC STUPOR & COMA, COMA <1 HR AGE >17 WITH COMPLICATIONS, COMORBIDITIES"
           },
           {
            "count": 2,
            "name": "2 others"
           }
          ],
          "nan_count": 0,
          "unique_count": 4
         }
        },
        {
         "dtype": "float64",
         "name": "DRG_SEVERITY",
         "stats": {
          "histogram": [
           {
            "bin_end": 0.1,
            "bin_start": 0,
            "count": 0
           },
           {
            "bin_end": 0.2,
            "bin_start": 0.1,
            "count": 0
           },
           {
            "bin_end": 0.30000000000000004,
            "bin_start": 0.2,
            "count": 0
           },
           {
            "bin_end": 0.4,
            "bin_start": 0.30000000000000004,
            "count": 0
           },
           {
            "bin_end": 0.5,
            "bin_start": 0.4,
            "count": 0
           },
           {
            "bin_end": 0.6000000000000001,
            "bin_start": 0.5,
            "count": 0
           },
           {
            "bin_end": 0.7000000000000001,
            "bin_start": 0.6000000000000001,
            "count": 0
           },
           {
            "bin_end": 0.8,
            "bin_start": 0.7000000000000001,
            "count": 0
           },
           {
            "bin_end": 0.9,
            "bin_start": 0.8,
            "count": 0
           },
           {
            "bin_end": 1,
            "bin_start": 0.9,
            "count": 0
           }
          ],
          "max": null,
          "min": null,
          "nan_count": 5,
          "unique_count": 0
         }
        },
        {
         "dtype": "float64",
         "name": "DRG_MORTALITY",
         "stats": {
          "histogram": [
           {
            "bin_end": 0.1,
            "bin_start": 0,
            "count": 0
           },
           {
            "bin_end": 0.2,
            "bin_start": 0.1,
            "count": 0
           },
           {
            "bin_end": 0.30000000000000004,
            "bin_start": 0.2,
            "count": 0
           },
           {
            "bin_end": 0.4,
            "bin_start": 0.30000000000000004,
            "count": 0
           },
           {
            "bin_end": 0.5,
            "bin_start": 0.4,
            "count": 0
           },
           {
            "bin_end": 0.6000000000000001,
            "bin_start": 0.5,
            "count": 0
           },
           {
            "bin_end": 0.7000000000000001,
            "bin_start": 0.6000000000000001,
            "count": 0
           },
           {
            "bin_end": 0.8,
            "bin_start": 0.7000000000000001,
            "count": 0
           },
           {
            "bin_end": 0.9,
            "bin_start": 0.8,
            "count": 0
           },
           {
            "bin_end": 1,
            "bin_start": 0.9,
            "count": 0
           }
          ],
          "max": null,
          "min": null,
          "nan_count": 5,
          "unique_count": 0
         }
        },
        {
         "dtype": "int64",
         "name": "_deepnote_index_column"
        }
       ],
       "row_count": 5,
       "rows_bottom": null,
       "rows_top": [
        {
         "DESCRIPTION": "TRAUMATIC STUPOR & COMA, COMA <1 HR AGE >17 WITH COMPLICATIONS, COMORBIDITIES",
         "DRG_CODE": 28,
         "DRG_MORTALITY": "nan",
         "DRG_SEVERITY": "nan",
         "DRG_TYPE": "HCFA",
         "HADM_ID": 144486,
         "ROW_ID": 342,
         "SUBJECT_ID": 2491,
         "_deepnote_index_column": 0
        },
        {
         "DESCRIPTION": "MAJOR CARDIOVASCULAR PROCEDURES WITH COMPLICATIONS, COMORBIDITIES",
         "DRG_CODE": 110,
         "DRG_MORTALITY": "nan",
         "DRG_SEVERITY": "nan",
         "DRG_TYPE": "HCFA",
         "HADM_ID": 162910,
         "ROW_ID": 343,
         "SUBJECT_ID": 24958,
         "_deepnote_index_column": 1
        },
        {
         "DESCRIPTION": "NEONATE WITH OTHER SIGNIFICANT PROBLEMS",
         "DRG_CODE": 390,
         "DRG_MORTALITY": "nan",
         "DRG_SEVERITY": "nan",
         "DRG_TYPE": "HCFA",
         "HADM_ID": 153751,
         "ROW_ID": 344,
         "SUBJECT_ID": 18325,
         "_deepnote_index_column": 2
        },
        {
         "DESCRIPTION": "SPECIFIC CEREBROVASCULAR DISORDERS EXCEPT TRANSIENT ISCHEMIC ATTACK",
         "DRG_CODE": 14,
         "DRG_MORTALITY": "nan",
         "DRG_SEVERITY": "nan",
         "DRG_TYPE": "HCFA",
         "HADM_ID": 182692,
         "ROW_ID": 345,
         "SUBJECT_ID": 17887,
         "_deepnote_index_column": 3
        },
        {
         "DESCRIPTION": "NEONATE WITH OTHER SIGNIFICANT PROBLEMS",
         "DRG_CODE": 390,
         "DRG_MORTALITY": "nan",
         "DRG_SEVERITY": "nan",
         "DRG_TYPE": "HCFA",
         "HADM_ID": 157980,
         "ROW_ID": 346,
         "SUBJECT_ID": 11113,
         "_deepnote_index_column": 4
        }
       ]
      },
      "text/html": [
       "<div>\n",
       "<style scoped>\n",
       "    .dataframe tbody tr th:only-of-type {\n",
       "        vertical-align: middle;\n",
       "    }\n",
       "\n",
       "    .dataframe tbody tr th {\n",
       "        vertical-align: top;\n",
       "    }\n",
       "\n",
       "    .dataframe thead th {\n",
       "        text-align: right;\n",
       "    }\n",
       "</style>\n",
       "<table border=\"1\" class=\"dataframe\">\n",
       "  <thead>\n",
       "    <tr style=\"text-align: right;\">\n",
       "      <th></th>\n",
       "      <th>ROW_ID</th>\n",
       "      <th>SUBJECT_ID</th>\n",
       "      <th>HADM_ID</th>\n",
       "      <th>DRG_TYPE</th>\n",
       "      <th>DRG_CODE</th>\n",
       "      <th>DESCRIPTION</th>\n",
       "      <th>DRG_SEVERITY</th>\n",
       "      <th>DRG_MORTALITY</th>\n",
       "    </tr>\n",
       "  </thead>\n",
       "  <tbody>\n",
       "    <tr>\n",
       "      <th>0</th>\n",
       "      <td>342</td>\n",
       "      <td>2491</td>\n",
       "      <td>144486</td>\n",
       "      <td>HCFA</td>\n",
       "      <td>28</td>\n",
       "      <td>TRAUMATIC STUPOR &amp; COMA, COMA &lt;1 HR AGE &gt;17 WI...</td>\n",
       "      <td>nan</td>\n",
       "      <td>nan</td>\n",
       "    </tr>\n",
       "    <tr>\n",
       "      <th>1</th>\n",
       "      <td>343</td>\n",
       "      <td>24958</td>\n",
       "      <td>162910</td>\n",
       "      <td>HCFA</td>\n",
       "      <td>110</td>\n",
       "      <td>MAJOR CARDIOVASCULAR PROCEDURES WITH COMPLICAT...</td>\n",
       "      <td>nan</td>\n",
       "      <td>nan</td>\n",
       "    </tr>\n",
       "    <tr>\n",
       "      <th>2</th>\n",
       "      <td>344</td>\n",
       "      <td>18325</td>\n",
       "      <td>153751</td>\n",
       "      <td>HCFA</td>\n",
       "      <td>390</td>\n",
       "      <td>NEONATE WITH OTHER SIGNIFICANT PROBLEMS</td>\n",
       "      <td>nan</td>\n",
       "      <td>nan</td>\n",
       "    </tr>\n",
       "    <tr>\n",
       "      <th>3</th>\n",
       "      <td>345</td>\n",
       "      <td>17887</td>\n",
       "      <td>182692</td>\n",
       "      <td>HCFA</td>\n",
       "      <td>14</td>\n",
       "      <td>SPECIFIC CEREBROVASCULAR DISORDERS EXCEPT TRAN...</td>\n",
       "      <td>nan</td>\n",
       "      <td>nan</td>\n",
       "    </tr>\n",
       "    <tr>\n",
       "      <th>4</th>\n",
       "      <td>346</td>\n",
       "      <td>11113</td>\n",
       "      <td>157980</td>\n",
       "      <td>HCFA</td>\n",
       "      <td>390</td>\n",
       "      <td>NEONATE WITH OTHER SIGNIFICANT PROBLEMS</td>\n",
       "      <td>nan</td>\n",
       "      <td>nan</td>\n",
       "    </tr>\n",
       "  </tbody>\n",
       "</table>\n",
       "</div>"
      ],
      "text/plain": [
       "   ROW_ID  SUBJECT_ID  HADM_ID DRG_TYPE  DRG_CODE  \\\n",
       "0     342        2491   144486     HCFA        28   \n",
       "1     343       24958   162910     HCFA       110   \n",
       "2     344       18325   153751     HCFA       390   \n",
       "3     345       17887   182692     HCFA        14   \n",
       "4     346       11113   157980     HCFA       390   \n",
       "\n",
       "                                         DESCRIPTION  DRG_SEVERITY  \\\n",
       "0  TRAUMATIC STUPOR & COMA, COMA <1 HR AGE >17 WI...           nan   \n",
       "1  MAJOR CARDIOVASCULAR PROCEDURES WITH COMPLICAT...           nan   \n",
       "2            NEONATE WITH OTHER SIGNIFICANT PROBLEMS           nan   \n",
       "3  SPECIFIC CEREBROVASCULAR DISORDERS EXCEPT TRAN...           nan   \n",
       "4            NEONATE WITH OTHER SIGNIFICANT PROBLEMS           nan   \n",
       "\n",
       "   DRG_MORTALITY  \n",
       "0            nan  \n",
       "1            nan  \n",
       "2            nan  \n",
       "3            nan  \n",
       "4            nan  "
      ]
     },
     "execution_count": 50,
     "metadata": {},
     "output_type": "execute_result"
    }
   ],
   "source": [
    "df_drgcodes.head()"
   ]
  },
  {
   "cell_type": "code",
   "execution_count": null,
   "metadata": {
    "cell_id": "00054-9bc379e3-0b83-4732-ae9a-b906cc3c21f0",
    "execution_millis": 20,
    "execution_start": 1604537541255,
    "output_cleared": false,
    "source_hash": "efb29c95",
    "tags": []
   },
   "outputs": [
    {
     "data": {
      "text/plain": [
       "(125557, 8)"
      ]
     },
     "execution_count": 51,
     "metadata": {},
     "output_type": "execute_result"
    }
   ],
   "source": [
    "df_drgcodes.shape"
   ]
  },
  {
   "cell_type": "code",
   "execution_count": null,
   "metadata": {
    "cell_id": "00055-3a68987b-4abd-47ff-8f60-b18c46f8faf1",
    "execution_millis": 0,
    "execution_start": 1604537562489,
    "output_cleared": false,
    "source_hash": "434c8f46",
    "tags": []
   },
   "outputs": [
    {
     "name": "stdout",
     "output_type": "stream",
     "text": [
      "<class 'pandas.core.frame.DataFrame'>\n",
      "RangeIndex: 125557 entries, 0 to 125556\n",
      "Data columns (total 8 columns):\n",
      " #   Column         Non-Null Count   Dtype  \n",
      "---  ------         --------------   -----  \n",
      " 0   ROW_ID         125557 non-null  int64  \n",
      " 1   SUBJECT_ID     125557 non-null  int64  \n",
      " 2   HADM_ID        125557 non-null  int64  \n",
      " 3   DRG_TYPE       125557 non-null  object \n",
      " 4   DRG_CODE       125557 non-null  int64  \n",
      " 5   DESCRIPTION    125494 non-null  object \n",
      " 6   DRG_SEVERITY   66634 non-null   float64\n",
      " 7   DRG_MORTALITY  66634 non-null   float64\n",
      "dtypes: float64(2), int64(4), object(2)\n",
      "memory usage: 7.7+ MB\n"
     ]
    }
   ],
   "source": [
    "df_drgcodes.info()"
   ]
  },
  {
   "cell_type": "code",
   "execution_count": null,
   "metadata": {
    "cell_id": "00056-7920faa9-321e-441d-9ad8-10eebc5c6475",
    "execution_millis": 1,
    "execution_start": 1604537601805,
    "output_cleared": false,
    "source_hash": "1c11ef40",
    "tags": []
   },
   "outputs": [
    {
     "data": {
      "text/plain": [
       "0"
      ]
     },
     "execution_count": 53,
     "metadata": {},
     "output_type": "execute_result"
    }
   ],
   "source": [
    "df_drgcodes.HADM_ID.isnull().sum()"
   ]
  },
  {
   "cell_type": "code",
   "execution_count": null,
   "metadata": {
    "cell_id": "00057-f9c90ab7-4f10-4566-b11f-77f484f4b402",
    "execution_millis": 1,
    "execution_start": 1604537688749,
    "output_cleared": false,
    "source_hash": "248019ec",
    "tags": []
   },
   "outputs": [
    {
     "data": {
      "text/plain": [
       "1367"
      ]
     },
     "execution_count": 55,
     "metadata": {},
     "output_type": "execute_result"
    }
   ],
   "source": [
    "df_drgcodes.DESCRIPTION.nunique()"
   ]
  },
  {
   "cell_type": "code",
   "execution_count": null,
   "metadata": {
    "cell_id": "00058-2b7da5e5-bfa2-4849-8309-0c7158c19d7e",
    "execution_millis": 181,
    "execution_start": 1604537997957,
    "output_cleared": false,
    "source_hash": "abc81391",
    "tags": []
   },
   "outputs": [
    {
     "data": {
      "application/vnd.deepnote.dataframe.v2+json": {
       "column_count": 8,
       "columns": [
        {
         "dtype": "int64",
         "name": "ROW_ID",
         "stats": {
          "histogram": [
           {
            "bin_end": 12621.2,
            "bin_start": 82,
            "count": 618
           },
           {
            "bin_end": 25160.4,
            "bin_start": 12621.2,
            "count": 646
           },
           {
            "bin_end": 37699.600000000006,
            "bin_start": 25160.4,
            "count": 575
           },
           {
            "bin_end": 50238.8,
            "bin_start": 37699.600000000006,
            "count": 369
           },
           {
            "bin_end": 62778,
            "bin_start": 50238.8,
            "count": 149
           },
           {
            "bin_end": 75317.20000000001,
            "bin_start": 62778,
            "count": 173
           },
           {
            "bin_end": 87856.40000000001,
            "bin_start": 75317.20000000001,
            "count": 149
           },
           {
            "bin_end": 100395.6,
            "bin_start": 87856.40000000001,
            "count": 155
           },
           {
            "bin_end": 112934.8,
            "bin_start": 100395.6,
            "count": 128
           },
           {
            "bin_end": 125474,
            "bin_start": 112934.8,
            "count": 116
           }
          ],
          "max": 125474,
          "min": 82,
          "nan_count": 0,
          "unique_count": 3078
         }
        },
        {
         "dtype": "int64",
         "name": "SUBJECT_ID",
         "stats": {
          "histogram": [
           {
            "bin_end": 10028.1,
            "bin_start": 38,
            "count": 813
           },
           {
            "bin_end": 20018.2,
            "bin_start": 10028.1,
            "count": 812
           },
           {
            "bin_end": 30008.300000000003,
            "bin_start": 20018.2,
            "count": 730
           },
           {
            "bin_end": 39998.4,
            "bin_start": 30008.300000000003,
            "count": 112
           },
           {
            "bin_end": 49988.5,
            "bin_start": 39998.4,
            "count": 96
           },
           {
            "bin_end": 59978.600000000006,
            "bin_start": 49988.5,
            "count": 125
           },
           {
            "bin_end": 69968.7,
            "bin_start": 59978.600000000006,
            "count": 104
           },
           {
            "bin_end": 79958.8,
            "bin_start": 69968.7,
            "count": 87
           },
           {
            "bin_end": 89948.90000000001,
            "bin_start": 79958.8,
            "count": 106
           },
           {
            "bin_end": 99939,
            "bin_start": 89948.90000000001,
            "count": 93
           }
          ],
          "max": 99939,
          "min": 38,
          "nan_count": 0,
          "unique_count": 2752
         }
        },
        {
         "dtype": "int64",
         "name": "HADM_ID",
         "stats": {
          "histogram": [
           {
            "bin_end": 110118.2,
            "bin_start": 100132,
            "count": 330
           },
           {
            "bin_end": 120104.4,
            "bin_start": 110118.2,
            "count": 266
           },
           {
            "bin_end": 130090.6,
            "bin_start": 120104.4,
            "count": 299
           },
           {
            "bin_end": 140076.8,
            "bin_start": 130090.6,
            "count": 285
           },
           {
            "bin_end": 150063,
            "bin_start": 140076.8,
            "count": 317
           },
           {
            "bin_end": 160049.2,
            "bin_start": 150063,
            "count": 330
           },
           {
            "bin_end": 170035.40000000002,
            "bin_start": 160049.2,
            "count": 314
           },
           {
            "bin_end": 180021.6,
            "bin_start": 170035.40000000002,
            "count": 270
           },
           {
            "bin_end": 190007.8,
            "bin_start": 180021.6,
            "count": 319
           },
           {
            "bin_end": 199994,
            "bin_start": 190007.8,
            "count": 348
           }
          ],
          "max": 199994,
          "min": 100132,
          "nan_count": 0,
          "unique_count": 3078
         }
        },
        {
         "dtype": "object",
         "name": "DRG_TYPE",
         "stats": {
          "categories": [
           {
            "count": 2154,
            "name": "HCFA"
           },
           {
            "count": 924,
            "name": "MS"
           }
          ],
          "nan_count": 0,
          "unique_count": 2
         }
        },
        {
         "dtype": "int64",
         "name": "DRG_CODE",
         "stats": {
          "histogram": [
           {
            "bin_end": 243.9,
            "bin_start": 207,
            "count": 924
           },
           {
            "bin_end": 280.8,
            "bin_start": 243.9,
            "count": 0
           },
           {
            "bin_end": 317.7,
            "bin_start": 280.8,
            "count": 0
           },
           {
            "bin_end": 354.6,
            "bin_start": 317.7,
            "count": 0
           },
           {
            "bin_end": 391.5,
            "bin_start": 354.6,
            "count": 0
           },
           {
            "bin_end": 428.4,
            "bin_start": 391.5,
            "count": 0
           },
           {
            "bin_end": 465.3,
            "bin_start": 428.4,
            "count": 0
           },
           {
            "bin_end": 502.2,
            "bin_start": 465.3,
            "count": 1063
           },
           {
            "bin_end": 539.0999999999999,
            "bin_start": 502.2,
            "count": 0
           },
           {
            "bin_end": 576,
            "bin_start": 539.0999999999999,
            "count": 1091
           }
          ],
          "max": 576,
          "min": 207,
          "nan_count": 0,
          "unique_count": 10
         }
        },
        {
         "dtype": "object",
         "name": "DESCRIPTION",
         "stats": {
          "categories": [
           {
            "count": 790,
            "name": "RESPIRATORY SYSTEM DIAGNOSIS WITH VENTILATOR SUPPORT"
           },
           {
            "count": 607,
            "name": "RESPIRATORY SYSTEM DIAGNOSIS W VENTILATOR SUPPORT <96 HOURS"
           },
           {
            "count": 1681,
            "name": "8 others"
           }
          ],
          "nan_count": 0,
          "unique_count": 10
         }
        },
        {
         "dtype": "float64",
         "name": "DRG_SEVERITY",
         "stats": {
          "histogram": [
           {
            "bin_end": 0.1,
            "bin_start": 0,
            "count": 0
           },
           {
            "bin_end": 0.2,
            "bin_start": 0.1,
            "count": 0
           },
           {
            "bin_end": 0.30000000000000004,
            "bin_start": 0.2,
            "count": 0
           },
           {
            "bin_end": 0.4,
            "bin_start": 0.30000000000000004,
            "count": 0
           },
           {
            "bin_end": 0.5,
            "bin_start": 0.4,
            "count": 0
           },
           {
            "bin_end": 0.6000000000000001,
            "bin_start": 0.5,
            "count": 0
           },
           {
            "bin_end": 0.7000000000000001,
            "bin_start": 0.6000000000000001,
            "count": 0
           },
           {
            "bin_end": 0.8,
            "bin_start": 0.7000000000000001,
            "count": 0
           },
           {
            "bin_end": 0.9,
            "bin_start": 0.8,
            "count": 0
           },
           {
            "bin_end": 1,
            "bin_start": 0.9,
            "count": 0
           }
          ],
          "max": null,
          "min": null,
          "nan_count": 3078,
          "unique_count": 0
         }
        },
        {
         "dtype": "float64",
         "name": "DRG_MORTALITY",
         "stats": {
          "histogram": [
           {
            "bin_end": 0.1,
            "bin_start": 0,
            "count": 0
           },
           {
            "bin_end": 0.2,
            "bin_start": 0.1,
            "count": 0
           },
           {
            "bin_end": 0.30000000000000004,
            "bin_start": 0.2,
            "count": 0
           },
           {
            "bin_end": 0.4,
            "bin_start": 0.30000000000000004,
            "count": 0
           },
           {
            "bin_end": 0.5,
            "bin_start": 0.4,
            "count": 0
           },
           {
            "bin_end": 0.6000000000000001,
            "bin_start": 0.5,
            "count": 0
           },
           {
            "bin_end": 0.7000000000000001,
            "bin_start": 0.6000000000000001,
            "count": 0
           },
           {
            "bin_end": 0.8,
            "bin_start": 0.7000000000000001,
            "count": 0
           },
           {
            "bin_end": 0.9,
            "bin_start": 0.8,
            "count": 0
           },
           {
            "bin_end": 1,
            "bin_start": 0.9,
            "count": 0
           }
          ],
          "max": null,
          "min": null,
          "nan_count": 3078,
          "unique_count": 0
         }
        },
        {
         "dtype": "int64",
         "name": "_deepnote_index_column"
        }
       ],
       "row_count": 3078,
       "rows_bottom": [
        {
         "DESCRIPTION": "RESPIRATORY SYSTEM DIAGNOSIS W VENTILATOR SUPPORT <96 HOURS",
         "DRG_CODE": 208,
         "DRG_MORTALITY": "nan",
         "DRG_SEVERITY": "nan",
         "DRG_TYPE": "MS",
         "HADM_ID": 121238,
         "ROW_ID": 120880,
         "SUBJECT_ID": 65421,
         "_deepnote_index_column": 118172
        },
        {
         "DESCRIPTION": "RESPIRATORY SYSTEM DIAGNOSIS W VENTILATOR SUPPORT <96 HOURS",
         "DRG_CODE": 208,
         "DRG_MORTALITY": "nan",
         "DRG_SEVERITY": "nan",
         "DRG_TYPE": "MS",
         "HADM_ID": 101914,
         "ROW_ID": 120883,
         "SUBJECT_ID": 90373,
         "_deepnote_index_column": 118175
        },
        {
         "DESCRIPTION": "RESPIRATORY SYSTEM DIAGNOSIS W VENTILATOR SUPPORT <96 HOURS",
         "DRG_CODE": 208,
         "DRG_MORTALITY": "nan",
         "DRG_SEVERITY": "nan",
         "DRG_TYPE": "MS",
         "HADM_ID": 157741,
         "ROW_ID": 120074,
         "SUBJECT_ID": 57751,
         "_deepnote_index_column": 118200
        },
        {
         "DESCRIPTION": "RESPIRATORY SYSTEM DIAGNOSIS W VENTILATOR SUPPORT 96+ HOURS",
         "DRG_CODE": 207,
         "DRG_MORTALITY": "nan",
         "DRG_SEVERITY": "nan",
         "DRG_TYPE": "MS",
         "HADM_ID": 158752,
         "ROW_ID": 116525,
         "SUBJECT_ID": 82599,
         "_deepnote_index_column": 118319
        },
        {
         "DESCRIPTION": "RESPIRATORY SYSTEM DIAGNOSIS W VENTILATOR SUPPORT <96 HOURS",
         "DRG_CODE": 208,
         "DRG_MORTALITY": "nan",
         "DRG_SEVERITY": "nan",
         "DRG_TYPE": "MS",
         "HADM_ID": 157213,
         "ROW_ID": 117754,
         "SUBJECT_ID": 85685,
         "_deepnote_index_column": 118354
        },
        {
         "DESCRIPTION": "RESPIRATORY SYSTEM DIAGNOSIS W VENTILATOR SUPPORT <96 HOURS",
         "DRG_CODE": 208,
         "DRG_MORTALITY": "nan",
         "DRG_SEVERITY": "nan",
         "DRG_TYPE": "MS",
         "HADM_ID": 162750,
         "ROW_ID": 117808,
         "SUBJECT_ID": 26887,
         "_deepnote_index_column": 118702
        },
        {
         "DESCRIPTION": "RESPIRATORY SYSTEM DIAGNOSIS W VENTILATOR SUPPORT <96 HOURS",
         "DRG_CODE": 208,
         "DRG_MORTALITY": "nan",
         "DRG_SEVERITY": "nan",
         "DRG_TYPE": "MS",
         "HADM_ID": 165171,
         "ROW_ID": 115715,
         "SUBJECT_ID": 50877,
         "_deepnote_index_column": 118852
        },
        {
         "DESCRIPTION": "RESPIRATORY SYSTEM DIAGNOSIS W VENTILATOR SUPPORT <96 HOURS",
         "DRG_CODE": 208,
         "DRG_MORTALITY": "nan",
         "DRG_SEVERITY": "nan",
         "DRG_TYPE": "MS",
         "HADM_ID": 118668,
         "ROW_ID": 118612,
         "SUBJECT_ID": 57934,
         "_deepnote_index_column": 118877
        },
        {
         "DESCRIPTION": "RESPIRATORY SYSTEM DIAGNOSIS W VENTILATOR SUPPORT <96 HOURS",
         "DRG_CODE": 208,
         "DRG_MORTALITY": "nan",
         "DRG_SEVERITY": "nan",
         "DRG_TYPE": "MS",
         "HADM_ID": 108905,
         "ROW_ID": 118998,
         "SUBJECT_ID": 43946,
         "_deepnote_index_column": 119042
        },
        {
         "DESCRIPTION": "RESPIRATORY SYSTEM DIAGNOSIS W VENTILATOR SUPPORT 96+ HOURS",
         "DRG_CODE": 207,
         "DRG_MORTALITY": "nan",
         "DRG_SEVERITY": "nan",
         "DRG_TYPE": "MS",
         "HADM_ID": 190635,
         "ROW_ID": 113445,
         "SUBJECT_ID": 93381,
         "_deepnote_index_column": 119607
        },
        {
         "DESCRIPTION": "RESPIRATORY SYSTEM DIAGNOSIS W VENTILATOR SUPPORT <96 HOURS",
         "DRG_CODE": 208,
         "DRG_MORTALITY": "nan",
         "DRG_SEVERITY": "nan",
         "DRG_TYPE": "MS",
         "HADM_ID": 184941,
         "ROW_ID": 113448,
         "SUBJECT_ID": 61959,
         "_deepnote_index_column": 119610
        },
        {
         "DESCRIPTION": "RESPIRATORY SYSTEM DIAGNOSIS W VENTILATOR SUPPORT <96 HOURS",
         "DRG_CODE": 208,
         "DRG_MORTALITY": "nan",
         "DRG_SEVERITY": "nan",
         "DRG_TYPE": "MS",
         "HADM_ID": 146354,
         "ROW_ID": 115859,
         "SUBJECT_ID": 90546,
         "_deepnote_index_column": 120373
        },
        {
         "DESCRIPTION": "RESPIRATORY SYSTEM DIAGNOSIS W VENTILATOR SUPPORT <96 HOURS",
         "DRG_CODE": 208,
         "DRG_MORTALITY": "nan",
         "DRG_SEVERITY": "nan",
         "DRG_TYPE": "MS",
         "HADM_ID": 131490,
         "ROW_ID": 119875,
         "SUBJECT_ID": 19059,
         "_deepnote_index_column": 120407
        },
        {
         "DESCRIPTION": "RESPIRATORY SYSTEM DIAGNOSIS W VENTILATOR SUPPORT <96 HOURS",
         "DRG_CODE": 208,
         "DRG_MORTALITY": "nan",
         "DRG_SEVERITY": "nan",
         "DRG_TYPE": "MS",
         "HADM_ID": 107272,
         "ROW_ID": 119903,
         "SUBJECT_ID": 40384,
         "_deepnote_index_column": 120435
        },
        {
         "DESCRIPTION": "RESPIRATORY SYSTEM DIAGNOSIS W VENTILATOR SUPPORT <96 HOURS",
         "DRG_CODE": 208,
         "DRG_MORTALITY": "nan",
         "DRG_SEVERITY": "nan",
         "DRG_TYPE": "MS",
         "HADM_ID": 179661,
         "ROW_ID": 115472,
         "SUBJECT_ID": 69578,
         "_deepnote_index_column": 120608
        },
        {
         "DESCRIPTION": "RESPIRATORY SYSTEM DIAGNOSIS W VENTILATOR SUPPORT 96+ HOURS",
         "DRG_CODE": 207,
         "DRG_MORTALITY": "nan",
         "DRG_SEVERITY": "nan",
         "DRG_TYPE": "MS",
         "HADM_ID": 102624,
         "ROW_ID": 115478,
         "SUBJECT_ID": 69719,
         "_deepnote_index_column": 120614
        },
        {
         "DESCRIPTION": "RESPIRATORY SYSTEM DIAGNOSIS W VENTILATOR SUPPORT <96 HOURS",
         "DRG_CODE": 208,
         "DRG_MORTALITY": "nan",
         "DRG_SEVERITY": "nan",
         "DRG_TYPE": "MS",
         "HADM_ID": 109536,
         "ROW_ID": 115484,
         "SUBJECT_ID": 91248,
         "_deepnote_index_column": 120620
        },
        {
         "DESCRIPTION": "RESPIRATORY SYSTEM DIAGNOSIS W VENTILATOR SUPPORT <96 HOURS",
         "DRG_CODE": 208,
         "DRG_MORTALITY": "nan",
         "DRG_SEVERITY": "nan",
         "DRG_TYPE": "MS",
         "HADM_ID": 188679,
         "ROW_ID": 117043,
         "SUBJECT_ID": 94117,
         "_deepnote_index_column": 120721
        },
        {
         "DESCRIPTION": "RESPIRATORY SYSTEM DIAGNOSIS W VENTILATOR SUPPORT 96+ HOURS",
         "DRG_CODE": 207,
         "DRG_MORTALITY": "nan",
         "DRG_SEVERITY": "nan",
         "DRG_TYPE": "MS",
         "HADM_ID": 141061,
         "ROW_ID": 124609,
         "SUBJECT_ID": 20479,
         "_deepnote_index_column": 120817
        },
        {
         "DESCRIPTION": "RESPIRATORY SYSTEM DIAGNOSIS W VENTILATOR SUPPORT 96+ HOURS",
         "DRG_CODE": 207,
         "DRG_MORTALITY": "nan",
         "DRG_SEVERITY": "nan",
         "DRG_TYPE": "MS",
         "HADM_ID": 124917,
         "ROW_ID": 121745,
         "SUBJECT_ID": 58483,
         "_deepnote_index_column": 120989
        },
        {
         "DESCRIPTION": "RESPIRATORY SYSTEM DIAGNOSIS W VENTILATOR SUPPORT 96+ HOURS",
         "DRG_CODE": 207,
         "DRG_MORTALITY": "nan",
         "DRG_SEVERITY": "nan",
         "DRG_TYPE": "MS",
         "HADM_ID": 126804,
         "ROW_ID": 121759,
         "SUBJECT_ID": 2974,
         "_deepnote_index_column": 121003
        },
        {
         "DESCRIPTION": "RESPIRATORY SYSTEM DIAGNOSIS W VENTILATOR SUPPORT 96+ HOURS",
         "DRG_CODE": 207,
         "DRG_MORTALITY": "nan",
         "DRG_SEVERITY": "nan",
         "DRG_TYPE": "MS",
         "HADM_ID": 155309,
         "ROW_ID": 118318,
         "SUBJECT_ID": 56289,
         "_deepnote_index_column": 121275
        },
        {
         "DESCRIPTION": "RESPIRATORY SYSTEM DIAGNOSIS W VENTILATOR SUPPORT <96 HOURS",
         "DRG_CODE": 208,
         "DRG_MORTALITY": "nan",
         "DRG_SEVERITY": "nan",
         "DRG_TYPE": "MS",
         "HADM_ID": 154958,
         "ROW_ID": 118339,
         "SUBJECT_ID": 19059,
         "_deepnote_index_column": 121296
        },
        {
         "DESCRIPTION": "RESPIRATORY SYSTEM DIAGNOSIS W VENTILATOR SUPPORT <96 HOURS",
         "DRG_CODE": 208,
         "DRG_MORTALITY": "nan",
         "DRG_SEVERITY": "nan",
         "DRG_TYPE": "MS",
         "HADM_ID": 166144,
         "ROW_ID": 119475,
         "SUBJECT_ID": 43426,
         "_deepnote_index_column": 121316
        },
        {
         "DESCRIPTION": "RESPIRATORY SYSTEM DIAGNOSIS W VENTILATOR SUPPORT <96 HOURS",
         "DRG_CODE": 208,
         "DRG_MORTALITY": "nan",
         "DRG_SEVERITY": "nan",
         "DRG_TYPE": "MS",
         "HADM_ID": 146536,
         "ROW_ID": 124145,
         "SUBJECT_ID": 85753,
         "_deepnote_index_column": 121550
        },
        {
         "DESCRIPTION": "RESPIRATORY SYSTEM DIAGNOSIS W VENTILATOR SUPPORT 96+ HOURS",
         "DRG_CODE": 207,
         "DRG_MORTALITY": "nan",
         "DRG_SEVERITY": "nan",
         "DRG_TYPE": "MS",
         "HADM_ID": 120766,
         "ROW_ID": 124797,
         "SUBJECT_ID": 81425,
         "_deepnote_index_column": 121738
        },
        {
         "DESCRIPTION": "RESPIRATORY SYSTEM DIAGNOSIS W VENTILATOR SUPPORT <96 HOURS",
         "DRG_CODE": 208,
         "DRG_MORTALITY": "nan",
         "DRG_SEVERITY": "nan",
         "DRG_TYPE": "MS",
         "HADM_ID": 166275,
         "ROW_ID": 125375,
         "SUBJECT_ID": 24562,
         "_deepnote_index_column": 121854
        },
        {
         "DESCRIPTION": "RESPIRATORY SYSTEM DIAGNOSIS W VENTILATOR SUPPORT <96 HOURS",
         "DRG_CODE": 208,
         "DRG_MORTALITY": "nan",
         "DRG_SEVERITY": "nan",
         "DRG_TYPE": "MS",
         "HADM_ID": 115704,
         "ROW_ID": 123659,
         "SUBJECT_ID": 53419,
         "_deepnote_index_column": 122002
        },
        {
         "DESCRIPTION": "RESPIRATORY SYSTEM DIAGNOSIS W VENTILATOR SUPPORT 96+ HOURS",
         "DRG_CODE": 207,
         "DRG_MORTALITY": "nan",
         "DRG_SEVERITY": "nan",
         "DRG_TYPE": "MS",
         "HADM_ID": 101092,
         "ROW_ID": 124213,
         "SUBJECT_ID": 24975,
         "_deepnote_index_column": 122349
        },
        {
         "DESCRIPTION": "RESPIRATORY SYSTEM DIAGNOSIS W VENTILATOR SUPPORT <96 HOURS",
         "DRG_CODE": 208,
         "DRG_MORTALITY": "nan",
         "DRG_SEVERITY": "nan",
         "DRG_TYPE": "MS",
         "HADM_ID": 189385,
         "ROW_ID": 124269,
         "SUBJECT_ID": 75796,
         "_deepnote_index_column": 122405
        },
        {
         "DESCRIPTION": "RESPIRATORY SYSTEM DIAGNOSIS W VENTILATOR SUPPORT <96 HOURS",
         "DRG_CODE": 208,
         "DRG_MORTALITY": "nan",
         "DRG_SEVERITY": "nan",
         "DRG_TYPE": "MS",
         "HADM_ID": 191404,
         "ROW_ID": 119608,
         "SUBJECT_ID": 63383,
         "_deepnote_index_column": 122537
        },
        {
         "DESCRIPTION": "RESPIRATORY SYSTEM DIAGNOSIS W VENTILATOR SUPPORT 96+ HOURS",
         "DRG_CODE": 207,
         "DRG_MORTALITY": "nan",
         "DRG_SEVERITY": "nan",
         "DRG_TYPE": "MS",
         "HADM_ID": 161100,
         "ROW_ID": 120755,
         "SUBJECT_ID": 81328,
         "_deepnote_index_column": 122559
        },
        {
         "DESCRIPTION": "RESPIRATORY SYSTEM DIAGNOSIS W VENTILATOR SUPPORT <96 HOURS",
         "DRG_CODE": 208,
         "DRG_MORTALITY": "nan",
         "DRG_SEVERITY": "nan",
         "DRG_TYPE": "MS",
         "HADM_ID": 137992,
         "ROW_ID": 120773,
         "SUBJECT_ID": 20236,
         "_deepnote_index_column": 122577
        },
        {
         "DESCRIPTION": "RESPIRATORY SYSTEM DIAGNOSIS W VENTILATOR SUPPORT <96 HOURS",
         "DRG_CODE": 208,
         "DRG_MORTALITY": "nan",
         "DRG_SEVERITY": "nan",
         "DRG_TYPE": "MS",
         "HADM_ID": 190278,
         "ROW_ID": 124939,
         "SUBJECT_ID": 27905,
         "_deepnote_index_column": 122709
        },
        {
         "DESCRIPTION": "RESPIRATORY SYSTEM DIAGNOSIS W VENTILATOR SUPPORT <96 HOURS",
         "DRG_CODE": 208,
         "DRG_MORTALITY": "nan",
         "DRG_SEVERITY": "nan",
         "DRG_TYPE": "MS",
         "HADM_ID": 114717,
         "ROW_ID": 125447,
         "SUBJECT_ID": 93722,
         "_deepnote_index_column": 122746
        },
        {
         "DESCRIPTION": "RESPIRATORY SYSTEM DIAGNOSIS W VENTILATOR SUPPORT <96 HOURS",
         "DRG_CODE": 208,
         "DRG_MORTALITY": "nan",
         "DRG_SEVERITY": "nan",
         "DRG_TYPE": "MS",
         "HADM_ID": 195599,
         "ROW_ID": 125474,
         "SUBJECT_ID": 98385,
         "_deepnote_index_column": 122773
        },
        {
         "DESCRIPTION": "RESPIRATORY SYSTEM DIAGNOSIS W VENTILATOR SUPPORT <96 HOURS",
         "DRG_CODE": 208,
         "DRG_MORTALITY": "nan",
         "DRG_SEVERITY": "nan",
         "DRG_TYPE": "MS",
         "HADM_ID": 188976,
         "ROW_ID": 120422,
         "SUBJECT_ID": 75796,
         "_deepnote_index_column": 122795
        },
        {
         "DESCRIPTION": "RESPIRATORY SYSTEM DIAGNOSIS W VENTILATOR SUPPORT 96+ HOURS",
         "DRG_CODE": 207,
         "DRG_MORTALITY": "nan",
         "DRG_SEVERITY": "nan",
         "DRG_TYPE": "MS",
         "HADM_ID": 168187,
         "ROW_ID": 121906,
         "SUBJECT_ID": 51078,
         "_deepnote_index_column": 122917
        },
        {
         "DESCRIPTION": "RESPIRATORY SYSTEM DIAGNOSIS W VENTILATOR SUPPORT <96 HOURS",
         "DRG_CODE": 208,
         "DRG_MORTALITY": "nan",
         "DRG_SEVERITY": "nan",
         "DRG_TYPE": "MS",
         "HADM_ID": 179691,
         "ROW_ID": 123770,
         "SUBJECT_ID": 92950,
         "_deepnote_index_column": 122995
        },
        {
         "DESCRIPTION": "RESPIRATORY SYSTEM DIAGNOSIS W VENTILATOR SUPPORT <96 HOURS",
         "DRG_CODE": 208,
         "DRG_MORTALITY": "nan",
         "DRG_SEVERITY": "nan",
         "DRG_TYPE": "MS",
         "HADM_ID": 168789,
         "ROW_ID": 123794,
         "SUBJECT_ID": 73572,
         "_deepnote_index_column": 123019
        },
        {
         "DESCRIPTION": "RESPIRATORY SYSTEM DIAGNOSIS W VENTILATOR SUPPORT <96 HOURS",
         "DRG_CODE": 208,
         "DRG_MORTALITY": "nan",
         "DRG_SEVERITY": "nan",
         "DRG_TYPE": "MS",
         "HADM_ID": 180431,
         "ROW_ID": 123830,
         "SUBJECT_ID": 88025,
         "_deepnote_index_column": 123055
        },
        {
         "DESCRIPTION": "RESPIRATORY SYSTEM DIAGNOSIS W VENTILATOR SUPPORT <96 HOURS",
         "DRG_CODE": 208,
         "DRG_MORTALITY": "nan",
         "DRG_SEVERITY": "nan",
         "DRG_TYPE": "MS",
         "HADM_ID": 163407,
         "ROW_ID": 118078,
         "SUBJECT_ID": 26161,
         "_deepnote_index_column": 123110
        },
        {
         "DESCRIPTION": "RESPIRATORY SYSTEM DIAGNOSIS W VENTILATOR SUPPORT <96 HOURS",
         "DRG_CODE": 208,
         "DRG_MORTALITY": "nan",
         "DRG_SEVERITY": "nan",
         "DRG_TYPE": "MS",
         "HADM_ID": 111396,
         "ROW_ID": 125009,
         "SUBJECT_ID": 90493,
         "_deepnote_index_column": 123302
        },
        {
         "DESCRIPTION": "RESPIRATORY SYSTEM DIAGNOSIS W VENTILATOR SUPPORT <96 HOURS",
         "DRG_CODE": 208,
         "DRG_MORTALITY": "nan",
         "DRG_SEVERITY": "nan",
         "DRG_TYPE": "MS",
         "HADM_ID": 171108,
         "ROW_ID": 123104,
         "SUBJECT_ID": 57276,
         "_deepnote_index_column": 123505
        },
        {
         "DESCRIPTION": "RESPIRATORY SYSTEM DIAGNOSIS W VENTILATOR SUPPORT <96 HOURS",
         "DRG_CODE": 208,
         "DRG_MORTALITY": "nan",
         "DRG_SEVERITY": "nan",
         "DRG_TYPE": "MS",
         "HADM_ID": 199811,
         "ROW_ID": 121608,
         "SUBJECT_ID": 95516,
         "_deepnote_index_column": 123726
        },
        {
         "DESCRIPTION": "RESPIRATORY SYSTEM DIAGNOSIS W VENTILATOR SUPPORT <96 HOURS",
         "DRG_CODE": 208,
         "DRG_MORTALITY": "nan",
         "DRG_SEVERITY": "nan",
         "DRG_TYPE": "MS",
         "HADM_ID": 187230,
         "ROW_ID": 124328,
         "SUBJECT_ID": 71164,
         "_deepnote_index_column": 123785
        },
        {
         "DESCRIPTION": "RESPIRATORY SYSTEM DIAGNOSIS W VENTILATOR SUPPORT <96 HOURS",
         "DRG_CODE": 208,
         "DRG_MORTALITY": "nan",
         "DRG_SEVERITY": "nan",
         "DRG_TYPE": "MS",
         "HADM_ID": 158403,
         "ROW_ID": 118125,
         "SUBJECT_ID": 8674,
         "_deepnote_index_column": 123954
        },
        {
         "DESCRIPTION": "RESPIRATORY SYSTEM DIAGNOSIS W VENTILATOR SUPPORT <96 HOURS",
         "DRG_CODE": 208,
         "DRG_MORTALITY": "nan",
         "DRG_SEVERITY": "nan",
         "DRG_TYPE": "MS",
         "HADM_ID": 111504,
         "ROW_ID": 118152,
         "SUBJECT_ID": 55585,
         "_deepnote_index_column": 123981
        },
        {
         "DESCRIPTION": "RESPIRATORY SYSTEM DIAGNOSIS W VENTILATOR SUPPORT <96 HOURS",
         "DRG_CODE": 208,
         "DRG_MORTALITY": "nan",
         "DRG_SEVERITY": "nan",
         "DRG_TYPE": "MS",
         "HADM_ID": 119547,
         "ROW_ID": 124362,
         "SUBJECT_ID": 93381,
         "_deepnote_index_column": 124354
        },
        {
         "DESCRIPTION": "RESPIRATORY SYSTEM DIAGNOSIS W VENTILATOR SUPPORT <96 HOURS",
         "DRG_CODE": 208,
         "DRG_MORTALITY": "nan",
         "DRG_SEVERITY": "nan",
         "DRG_TYPE": "MS",
         "HADM_ID": 160303,
         "ROW_ID": 121650,
         "SUBJECT_ID": 13329,
         "_deepnote_index_column": 124570
        },
        {
         "DESCRIPTION": "RESPIRATORY SYSTEM DIAGNOSIS W VENTILATOR SUPPORT <96 HOURS",
         "DRG_CODE": 208,
         "DRG_MORTALITY": "nan",
         "DRG_SEVERITY": "nan",
         "DRG_TYPE": "MS",
         "HADM_ID": 100463,
         "ROW_ID": 123246,
         "SUBJECT_ID": 91929,
         "_deepnote_index_column": 124622
        },
        {
         "DESCRIPTION": "RESPIRATORY SYSTEM DIAGNOSIS W VENTILATOR SUPPORT 96+ HOURS",
         "DRG_CODE": 207,
         "DRG_MORTALITY": "nan",
         "DRG_SEVERITY": "nan",
         "DRG_TYPE": "MS",
         "HADM_ID": 114222,
         "ROW_ID": 123282,
         "SUBJECT_ID": 70226,
         "_deepnote_index_column": 124658
        },
        {
         "DESCRIPTION": "RESPIRATORY SYSTEM DIAGNOSIS W VENTILATOR SUPPORT 96+ HOURS",
         "DRG_CODE": 207,
         "DRG_MORTALITY": "nan",
         "DRG_SEVERITY": "nan",
         "DRG_TYPE": "MS",
         "HADM_ID": 138211,
         "ROW_ID": 123302,
         "SUBJECT_ID": 48872,
         "_deepnote_index_column": 124678
        },
        {
         "DESCRIPTION": "RESPIRATORY SYSTEM DIAGNOSIS W VENTILATOR SUPPORT <96 HOURS",
         "DRG_CODE": 208,
         "DRG_MORTALITY": "nan",
         "DRG_SEVERITY": "nan",
         "DRG_TYPE": "MS",
         "HADM_ID": 107247,
         "ROW_ID": 124439,
         "SUBJECT_ID": 47342,
         "_deepnote_index_column": 124694
        },
        {
         "DESCRIPTION": "RESPIRATORY SYSTEM DIAGNOSIS W VENTILATOR SUPPORT <96 HOURS",
         "DRG_CODE": 208,
         "DRG_MORTALITY": "nan",
         "DRG_SEVERITY": "nan",
         "DRG_TYPE": "MS",
         "HADM_ID": 130330,
         "ROW_ID": 122787,
         "SUBJECT_ID": 68542,
         "_deepnote_index_column": 124739
        },
        {
         "DESCRIPTION": "RESPIRATORY SYSTEM DIAGNOSIS W VENTILATOR SUPPORT <96 HOURS",
         "DRG_CODE": 208,
         "DRG_MORTALITY": "nan",
         "DRG_SEVERITY": "nan",
         "DRG_TYPE": "MS",
         "HADM_ID": 153986,
         "ROW_ID": 118231,
         "SUBJECT_ID": 49053,
         "_deepnote_index_column": 124861
        },
        {
         "DESCRIPTION": "RESPIRATORY SYSTEM DIAGNOSIS W VENTILATOR SUPPORT 96+ HOURS",
         "DRG_CODE": 207,
         "DRG_MORTALITY": "nan",
         "DRG_SEVERITY": "nan",
         "DRG_TYPE": "MS",
         "HADM_ID": 166987,
         "ROW_ID": 118234,
         "SUBJECT_ID": 41194,
         "_deepnote_index_column": 124864
        },
        {
         "DESCRIPTION": "RESPIRATORY SYSTEM DIAGNOSIS W VENTILATOR SUPPORT <96 HOURS",
         "DRG_CODE": 208,
         "DRG_MORTALITY": "nan",
         "DRG_SEVERITY": "nan",
         "DRG_TYPE": "MS",
         "HADM_ID": 180332,
         "ROW_ID": 124467,
         "SUBJECT_ID": 56502,
         "_deepnote_index_column": 124913
        },
        {
         "DESCRIPTION": "RESPIRATORY SYSTEM DIAGNOSIS W VENTILATOR SUPPORT <96 HOURS",
         "DRG_CODE": 208,
         "DRG_MORTALITY": "nan",
         "DRG_SEVERITY": "nan",
         "DRG_TYPE": "MS",
         "HADM_ID": 186455,
         "ROW_ID": 124026,
         "SUBJECT_ID": 30575,
         "_deepnote_index_column": 125043
        },
        {
         "DESCRIPTION": "RESPIRATORY SYSTEM DIAGNOSIS W VENTILATOR SUPPORT <96 HOURS",
         "DRG_CODE": 208,
         "DRG_MORTALITY": "nan",
         "DRG_SEVERITY": "nan",
         "DRG_TYPE": "MS",
         "HADM_ID": 199321,
         "ROW_ID": 125186,
         "SUBJECT_ID": 59924,
         "_deepnote_index_column": 125082
        },
        {
         "DESCRIPTION": "RESPIRATORY SYSTEM DIAGNOSIS W VENTILATOR SUPPORT <96 HOURS",
         "DRG_CODE": 208,
         "DRG_MORTALITY": "nan",
         "DRG_SEVERITY": "nan",
         "DRG_TYPE": "MS",
         "HADM_ID": 165833,
         "ROW_ID": 124563,
         "SUBJECT_ID": 50487,
         "_deepnote_index_column": 125275
        },
        {
         "DESCRIPTION": "RESPIRATORY SYSTEM DIAGNOSIS W VENTILATOR SUPPORT <96 HOURS",
         "DRG_CODE": 208,
         "DRG_MORTALITY": "nan",
         "DRG_SEVERITY": "nan",
         "DRG_TYPE": "MS",
         "HADM_ID": 190139,
         "ROW_ID": 125234,
         "SUBJECT_ID": 28827,
         "_deepnote_index_column": 125320
        },
        {
         "DESCRIPTION": "RESPIRATORY SYSTEM DIAGNOSIS W VENTILATOR SUPPORT <96 HOURS",
         "DRG_CODE": 208,
         "DRG_MORTALITY": "nan",
         "DRG_SEVERITY": "nan",
         "DRG_TYPE": "MS",
         "HADM_ID": 155273,
         "ROW_ID": 123393,
         "SUBJECT_ID": 96093,
         "_deepnote_index_column": 125493
        }
       ],
       "rows_top": [
        {
         "DESCRIPTION": "RESPIRATORY SYSTEM DIAGNOSIS WITH VENTILATOR SUPPORT",
         "DRG_CODE": 475,
         "DRG_MORTALITY": "nan",
         "DRG_SEVERITY": "nan",
         "DRG_TYPE": "HCFA",
         "HADM_ID": 133404,
         "ROW_ID": 367,
         "SUBJECT_ID": 3286,
         "_deepnote_index_column": 25
        },
        {
         "DESCRIPTION": "RESPIRATORY SYSTEM DIAGNOSIS WITH VENTILATOR SUPPORT",
         "DRG_CODE": 475,
         "DRG_MORTALITY": "nan",
         "DRG_SEVERITY": "nan",
         "DRG_TYPE": "HCFA",
         "HADM_ID": 173718,
         "ROW_ID": 82,
         "SUBJECT_ID": 12411,
         "_deepnote_index_column": 173
        },
        {
         "DESCRIPTION": "RESPIRATORY SYSTEM DIAGNOSIS WITH VENTILATOR SUPPORT",
         "DRG_CODE": 475,
         "DRG_MORTALITY": "nan",
         "DRG_SEVERITY": "nan",
         "DRG_TYPE": "HCFA",
         "HADM_ID": 189195,
         "ROW_ID": 83,
         "SUBJECT_ID": 16053,
         "_deepnote_index_column": 174
        },
        {
         "DESCRIPTION": "RESPIRATORY SYSTEM DIAGNOSIS WITH VENTILATOR SUPPORT",
         "DRG_CODE": 475,
         "DRG_MORTALITY": "nan",
         "DRG_SEVERITY": "nan",
         "DRG_TYPE": "HCFA",
         "HADM_ID": 122530,
         "ROW_ID": 110,
         "SUBJECT_ID": 26455,
         "_deepnote_index_column": 201
        },
        {
         "DESCRIPTION": "RESPIRATORY SYSTEM DIAGNOSIS WITH VENTILATOR SUPPORT",
         "DRG_CODE": 475,
         "DRG_MORTALITY": "nan",
         "DRG_SEVERITY": "nan",
         "DRG_TYPE": "HCFA",
         "HADM_ID": 177326,
         "ROW_ID": 180,
         "SUBJECT_ID": 4454,
         "_deepnote_index_column": 271
        },
        {
         "DESCRIPTION": "RESPIRATORY SYSTEM DIAGNOSIS WITH VENTILATOR SUPPORT",
         "DRG_CODE": 475,
         "DRG_MORTALITY": "nan",
         "DRG_SEVERITY": "nan",
         "DRG_TYPE": "HCFA",
         "HADM_ID": 197173,
         "ROW_ID": 229,
         "SUBJECT_ID": 23946,
         "_deepnote_index_column": 320
        },
        {
         "DESCRIPTION": "RESPIRATORY SYSTEM DIAGNOSIS WITH VENTILATOR SUPPORT",
         "DRG_CODE": 475,
         "DRG_MORTALITY": "nan",
         "DRG_SEVERITY": "nan",
         "DRG_TYPE": "HCFA",
         "HADM_ID": 172866,
         "ROW_ID": 268,
         "SUBJECT_ID": 16994,
         "_deepnote_index_column": 359
        },
        {
         "DESCRIPTION": "RESPIRATORY SYSTEM DIAGNOSIS WITH VENTILATOR SUPPORT",
         "DRG_CODE": 475,
         "DRG_MORTALITY": "nan",
         "DRG_SEVERITY": "nan",
         "DRG_TYPE": "HCFA",
         "HADM_ID": 134153,
         "ROW_ID": 278,
         "SUBJECT_ID": 19872,
         "_deepnote_index_column": 369
        },
        {
         "DESCRIPTION": "RESPIRATORY SYSTEM DIAGNOSIS WITH VENTILATOR SUPPORT",
         "DRG_CODE": 475,
         "DRG_MORTALITY": "nan",
         "DRG_SEVERITY": "nan",
         "DRG_TYPE": "HCFA",
         "HADM_ID": 122742,
         "ROW_ID": 307,
         "SUBJECT_ID": 4796,
         "_deepnote_index_column": 398
        },
        {
         "DESCRIPTION": "RESPIRATORY SYSTEM DIAGNOSIS WITH VENTILATOR SUPPORT",
         "DRG_CODE": 475,
         "DRG_MORTALITY": "nan",
         "DRG_SEVERITY": "nan",
         "DRG_TYPE": "HCFA",
         "HADM_ID": 198955,
         "ROW_ID": 614,
         "SUBJECT_ID": 11850,
         "_deepnote_index_column": 451
        },
        {
         "DESCRIPTION": "RESPIRATORY SYSTEM DIAGNOSIS WITH VENTILATOR SUPPORT",
         "DRG_CODE": 475,
         "DRG_MORTALITY": "nan",
         "DRG_SEVERITY": "nan",
         "DRG_TYPE": "HCFA",
         "HADM_ID": 142514,
         "ROW_ID": 1064,
         "SUBJECT_ID": 15631,
         "_deepnote_index_column": 473
        },
        {
         "DESCRIPTION": "RESPIRATORY SYSTEM DIAGNOSIS WITH VENTILATOR SUPPORT",
         "DRG_CODE": 475,
         "DRG_MORTALITY": "nan",
         "DRG_SEVERITY": "nan",
         "DRG_TYPE": "HCFA",
         "HADM_ID": 102816,
         "ROW_ID": 1122,
         "SUBJECT_ID": 16588,
         "_deepnote_index_column": 531
        },
        {
         "DESCRIPTION": "RESPIRATORY SYSTEM DIAGNOSIS WITH VENTILATOR SUPPORT",
         "DRG_CODE": 475,
         "DRG_MORTALITY": "nan",
         "DRG_SEVERITY": "nan",
         "DRG_TYPE": "HCFA",
         "HADM_ID": 198963,
         "ROW_ID": 1126,
         "SUBJECT_ID": 15421,
         "_deepnote_index_column": 535
        },
        {
         "DESCRIPTION": "RESPIRATORY SYSTEM DIAGNOSIS WITH VENTILATOR SUPPORT",
         "DRG_CODE": 475,
         "DRG_MORTALITY": "nan",
         "DRG_SEVERITY": "nan",
         "DRG_TYPE": "HCFA",
         "HADM_ID": 115524,
         "ROW_ID": 1142,
         "SUBJECT_ID": 11688,
         "_deepnote_index_column": 551
        },
        {
         "DESCRIPTION": "RESPIRATORY SYSTEM DIAGNOSIS WITH VENTILATOR SUPPORT",
         "DRG_CODE": 475,
         "DRG_MORTALITY": "nan",
         "DRG_SEVERITY": "nan",
         "DRG_TYPE": "HCFA",
         "HADM_ID": 194955,
         "ROW_ID": 1148,
         "SUBJECT_ID": 12064,
         "_deepnote_index_column": 557
        },
        {
         "DESCRIPTION": "RESPIRATORY SYSTEM DIAGNOSIS WITH VENTILATOR SUPPORT",
         "DRG_CODE": 475,
         "DRG_MORTALITY": "nan",
         "DRG_SEVERITY": "nan",
         "DRG_TYPE": "HCFA",
         "HADM_ID": 159227,
         "ROW_ID": 1222,
         "SUBJECT_ID": 20459,
         "_deepnote_index_column": 631
        },
        {
         "DESCRIPTION": "RESPIRATORY SYSTEM DIAGNOSIS WITH VENTILATOR SUPPORT",
         "DRG_CODE": 475,
         "DRG_MORTALITY": "nan",
         "DRG_SEVERITY": "nan",
         "DRG_TYPE": "HCFA",
         "HADM_ID": 150938,
         "ROW_ID": 1235,
         "SUBJECT_ID": 6960,
         "_deepnote_index_column": 644
        },
        {
         "DESCRIPTION": "RESPIRATORY SYSTEM DIAGNOSIS WITH VENTILATOR SUPPORT",
         "DRG_CODE": 475,
         "DRG_MORTALITY": "nan",
         "DRG_SEVERITY": "nan",
         "DRG_TYPE": "HCFA",
         "HADM_ID": 110454,
         "ROW_ID": 1249,
         "SUBJECT_ID": 21318,
         "_deepnote_index_column": 658
        },
        {
         "DESCRIPTION": "RESPIRATORY SYSTEM DIAGNOSIS WITH VENTILATOR SUPPORT",
         "DRG_CODE": 475,
         "DRG_MORTALITY": "nan",
         "DRG_SEVERITY": "nan",
         "DRG_TYPE": "HCFA",
         "HADM_ID": 161116,
         "ROW_ID": 1270,
         "SUBJECT_ID": 14166,
         "_deepnote_index_column": 679
        },
        {
         "DESCRIPTION": "RESPIRATORY SYSTEM DIAGNOSIS WITH VENTILATOR SUPPORT",
         "DRG_CODE": 475,
         "DRG_MORTALITY": "nan",
         "DRG_SEVERITY": "nan",
         "DRG_TYPE": "HCFA",
         "HADM_ID": 152495,
         "ROW_ID": 442,
         "SUBJECT_ID": 2128,
         "_deepnote_index_column": 706
        },
        {
         "DESCRIPTION": "RESPIRATORY SYSTEM DIAGNOSIS WITH VENTILATOR SUPPORT",
         "DRG_CODE": 475,
         "DRG_MORTALITY": "nan",
         "DRG_SEVERITY": "nan",
         "DRG_TYPE": "HCFA",
         "HADM_ID": 129545,
         "ROW_ID": 631,
         "SUBJECT_ID": 11743,
         "_deepnote_index_column": 753
        },
        {
         "DESCRIPTION": "RESPIRATORY SYSTEM DIAGNOSIS WITH VENTILATOR SUPPORT",
         "DRG_CODE": 475,
         "DRG_MORTALITY": "nan",
         "DRG_SEVERITY": "nan",
         "DRG_TYPE": "HCFA",
         "HADM_ID": 154807,
         "ROW_ID": 644,
         "SUBJECT_ID": 18597,
         "_deepnote_index_column": 766
        },
        {
         "DESCRIPTION": "RESPIRATORY SYSTEM DIAGNOSIS WITH VENTILATOR SUPPORT",
         "DRG_CODE": 475,
         "DRG_MORTALITY": "nan",
         "DRG_SEVERITY": "nan",
         "DRG_TYPE": "HCFA",
         "HADM_ID": 178635,
         "ROW_ID": 664,
         "SUBJECT_ID": 16622,
         "_deepnote_index_column": 786
        },
        {
         "DESCRIPTION": "RESPIRATORY SYSTEM DIAGNOSIS WITH VENTILATOR SUPPORT",
         "DRG_CODE": 475,
         "DRG_MORTALITY": "nan",
         "DRG_SEVERITY": "nan",
         "DRG_TYPE": "HCFA",
         "HADM_ID": 157036,
         "ROW_ID": 671,
         "SUBJECT_ID": 4495,
         "_deepnote_index_column": 793
        },
        {
         "DESCRIPTION": "RESPIRATORY SYSTEM DIAGNOSIS WITH VENTILATOR SUPPORT",
         "DRG_CODE": 475,
         "DRG_MORTALITY": "nan",
         "DRG_SEVERITY": "nan",
         "DRG_TYPE": "HCFA",
         "HADM_ID": 186222,
         "ROW_ID": 672,
         "SUBJECT_ID": 26681,
         "_deepnote_index_column": 794
        },
        {
         "DESCRIPTION": "RESPIRATORY SYSTEM DIAGNOSIS WITH VENTILATOR SUPPORT",
         "DRG_CODE": 475,
         "DRG_MORTALITY": "nan",
         "DRG_SEVERITY": "nan",
         "DRG_TYPE": "HCFA",
         "HADM_ID": 151889,
         "ROW_ID": 703,
         "SUBJECT_ID": 20776,
         "_deepnote_index_column": 825
        },
        {
         "DESCRIPTION": "RESPIRATORY SYSTEM DIAGNOSIS WITH VENTILATOR SUPPORT",
         "DRG_CODE": 475,
         "DRG_MORTALITY": "nan",
         "DRG_SEVERITY": "nan",
         "DRG_TYPE": "HCFA",
         "HADM_ID": 191406,
         "ROW_ID": 712,
         "SUBJECT_ID": 3644,
         "_deepnote_index_column": 834
        },
        {
         "DESCRIPTION": "RESPIRATORY SYSTEM DIAGNOSIS WITH VENTILATOR SUPPORT",
         "DRG_CODE": 475,
         "DRG_MORTALITY": "nan",
         "DRG_SEVERITY": "nan",
         "DRG_TYPE": "HCFA",
         "HADM_ID": 139183,
         "ROW_ID": 770,
         "SUBJECT_ID": 1003,
         "_deepnote_index_column": 892
        },
        {
         "DESCRIPTION": "RESPIRATORY SYSTEM DIAGNOSIS WITH VENTILATOR SUPPORT",
         "DRG_CODE": 475,
         "DRG_MORTALITY": "nan",
         "DRG_SEVERITY": "nan",
         "DRG_TYPE": "HCFA",
         "HADM_ID": 152381,
         "ROW_ID": 805,
         "SUBJECT_ID": 21681,
         "_deepnote_index_column": 927
        },
        {
         "DESCRIPTION": "RESPIRATORY SYSTEM DIAGNOSIS WITH VENTILATOR SUPPORT",
         "DRG_CODE": 475,
         "DRG_MORTALITY": "nan",
         "DRG_SEVERITY": "nan",
         "DRG_TYPE": "HCFA",
         "HADM_ID": 114942,
         "ROW_ID": 884,
         "SUBJECT_ID": 26230,
         "_deepnote_index_column": 1006
        },
        {
         "DESCRIPTION": "RESPIRATORY SYSTEM DIAGNOSIS WITH VENTILATOR SUPPORT",
         "DRG_CODE": 475,
         "DRG_MORTALITY": "nan",
         "DRG_SEVERITY": "nan",
         "DRG_TYPE": "HCFA",
         "HADM_ID": 126869,
         "ROW_ID": 1727,
         "SUBJECT_ID": 18169,
         "_deepnote_index_column": 1146
        },
        {
         "DESCRIPTION": "RESPIRATORY SYSTEM DIAGNOSIS WITH VENTILATOR SUPPORT",
         "DRG_CODE": 475,
         "DRG_MORTALITY": "nan",
         "DRG_SEVERITY": "nan",
         "DRG_TYPE": "HCFA",
         "HADM_ID": 140654,
         "ROW_ID": 1738,
         "SUBJECT_ID": 21410,
         "_deepnote_index_column": 1157
        },
        {
         "DESCRIPTION": "RESPIRATORY SYSTEM DIAGNOSIS WITH VENTILATOR SUPPORT",
         "DRG_CODE": 475,
         "DRG_MORTALITY": "nan",
         "DRG_SEVERITY": "nan",
         "DRG_TYPE": "HCFA",
         "HADM_ID": 107595,
         "ROW_ID": 1757,
         "SUBJECT_ID": 3853,
         "_deepnote_index_column": 1176
        },
        {
         "DESCRIPTION": "RESPIRATORY SYSTEM DIAGNOSIS WITH VENTILATOR SUPPORT",
         "DRG_CODE": 475,
         "DRG_MORTALITY": "nan",
         "DRG_SEVERITY": "nan",
         "DRG_TYPE": "HCFA",
         "HADM_ID": 146641,
         "ROW_ID": 1771,
         "SUBJECT_ID": 5609,
         "_deepnote_index_column": 1190
        },
        {
         "DESCRIPTION": "RESPIRATORY SYSTEM DIAGNOSIS WITH VENTILATOR SUPPORT",
         "DRG_CODE": 475,
         "DRG_MORTALITY": "nan",
         "DRG_SEVERITY": "nan",
         "DRG_TYPE": "HCFA",
         "HADM_ID": 148458,
         "ROW_ID": 1779,
         "SUBJECT_ID": 5871,
         "_deepnote_index_column": 1198
        },
        {
         "DESCRIPTION": "RESPIRATORY SYSTEM DIAGNOSIS WITH VENTILATOR SUPPORT",
         "DRG_CODE": 475,
         "DRG_MORTALITY": "nan",
         "DRG_SEVERITY": "nan",
         "DRG_TYPE": "HCFA",
         "HADM_ID": 131274,
         "ROW_ID": 1787,
         "SUBJECT_ID": 14475,
         "_deepnote_index_column": 1206
        },
        {
         "DESCRIPTION": "RESPIRATORY SYSTEM DIAGNOSIS WITH VENTILATOR SUPPORT",
         "DRG_CODE": 475,
         "DRG_MORTALITY": "nan",
         "DRG_SEVERITY": "nan",
         "DRG_TYPE": "HCFA",
         "HADM_ID": 143431,
         "ROW_ID": 1804,
         "SUBJECT_ID": 4064,
         "_deepnote_index_column": 1223
        },
        {
         "DESCRIPTION": "RESPIRATORY SYSTEM DIAGNOSIS WITH VENTILATOR SUPPORT",
         "DRG_CODE": 475,
         "DRG_MORTALITY": "nan",
         "DRG_SEVERITY": "nan",
         "DRG_TYPE": "HCFA",
         "HADM_ID": 147714,
         "ROW_ID": 1855,
         "SUBJECT_ID": 15903,
         "_deepnote_index_column": 1274
        },
        {
         "DESCRIPTION": "RESPIRATORY SYSTEM DIAGNOSIS WITH VENTILATOR SUPPORT",
         "DRG_CODE": 475,
         "DRG_MORTALITY": "nan",
         "DRG_SEVERITY": "nan",
         "DRG_TYPE": "HCFA",
         "HADM_ID": 145848,
         "ROW_ID": 1875,
         "SUBJECT_ID": 11899,
         "_deepnote_index_column": 1294
        },
        {
         "DESCRIPTION": "RESPIRATORY SYSTEM DIAGNOSIS WITH VENTILATOR SUPPORT",
         "DRG_CODE": 475,
         "DRG_MORTALITY": "nan",
         "DRG_SEVERITY": "nan",
         "DRG_TYPE": "HCFA",
         "HADM_ID": 160111,
         "ROW_ID": 1879,
         "SUBJECT_ID": 20354,
         "_deepnote_index_column": 1298
        },
        {
         "DESCRIPTION": "RESPIRATORY SYSTEM DIAGNOSIS WITH VENTILATOR SUPPORT",
         "DRG_CODE": 475,
         "DRG_MORTALITY": "nan",
         "DRG_SEVERITY": "nan",
         "DRG_TYPE": "HCFA",
         "HADM_ID": 143395,
         "ROW_ID": 1291,
         "SUBJECT_ID": 2986,
         "_deepnote_index_column": 1321
        },
        {
         "DESCRIPTION": "RESPIRATORY SYSTEM DIAGNOSIS WITH VENTILATOR SUPPORT",
         "DRG_CODE": 475,
         "DRG_MORTALITY": "nan",
         "DRG_SEVERITY": "nan",
         "DRG_TYPE": "HCFA",
         "HADM_ID": 181919,
         "ROW_ID": 1347,
         "SUBJECT_ID": 15509,
         "_deepnote_index_column": 1377
        },
        {
         "DESCRIPTION": "RESPIRATORY SYSTEM DIAGNOSIS WITH VENTILATOR SUPPORT",
         "DRG_CODE": 475,
         "DRG_MORTALITY": "nan",
         "DRG_SEVERITY": "nan",
         "DRG_TYPE": "HCFA",
         "HADM_ID": 160370,
         "ROW_ID": 1348,
         "SUBJECT_ID": 7519,
         "_deepnote_index_column": 1378
        },
        {
         "DESCRIPTION": "RESPIRATORY SYSTEM DIAGNOSIS WITH VENTILATOR SUPPORT",
         "DRG_CODE": 475,
         "DRG_MORTALITY": "nan",
         "DRG_SEVERITY": "nan",
         "DRG_TYPE": "HCFA",
         "HADM_ID": 191024,
         "ROW_ID": 1381,
         "SUBJECT_ID": 2355,
         "_deepnote_index_column": 1411
        },
        {
         "DESCRIPTION": "RESPIRATORY SYSTEM DIAGNOSIS WITH VENTILATOR SUPPORT",
         "DRG_CODE": 475,
         "DRG_MORTALITY": "nan",
         "DRG_SEVERITY": "nan",
         "DRG_TYPE": "HCFA",
         "HADM_ID": 152558,
         "ROW_ID": 925,
         "SUBJECT_ID": 18139,
         "_deepnote_index_column": 1452
        },
        {
         "DESCRIPTION": "RESPIRATORY SYSTEM DIAGNOSIS WITH VENTILATOR SUPPORT",
         "DRG_CODE": 475,
         "DRG_MORTALITY": "nan",
         "DRG_SEVERITY": "nan",
         "DRG_TYPE": "HCFA",
         "HADM_ID": 131850,
         "ROW_ID": 942,
         "SUBJECT_ID": 5872,
         "_deepnote_index_column": 1469
        },
        {
         "DESCRIPTION": "RESPIRATORY SYSTEM DIAGNOSIS WITH VENTILATOR SUPPORT",
         "DRG_CODE": 475,
         "DRG_MORTALITY": "nan",
         "DRG_SEVERITY": "nan",
         "DRG_TYPE": "HCFA",
         "HADM_ID": 151278,
         "ROW_ID": 971,
         "SUBJECT_ID": 21857,
         "_deepnote_index_column": 1498
        },
        {
         "DESCRIPTION": "RESPIRATORY SYSTEM DIAGNOSIS WITH VENTILATOR SUPPORT",
         "DRG_CODE": 475,
         "DRG_MORTALITY": "nan",
         "DRG_SEVERITY": "nan",
         "DRG_TYPE": "HCFA",
         "HADM_ID": 199558,
         "ROW_ID": 1041,
         "SUBJECT_ID": 25940,
         "_deepnote_index_column": 1568
        },
        {
         "DESCRIPTION": "RESPIRATORY SYSTEM DIAGNOSIS WITH VENTILATOR SUPPORT",
         "DRG_CODE": 475,
         "DRG_MORTALITY": "nan",
         "DRG_SEVERITY": "nan",
         "DRG_TYPE": "HCFA",
         "HADM_ID": 131552,
         "ROW_ID": 1446,
         "SUBJECT_ID": 6835,
         "_deepnote_index_column": 1618
        },
        {
         "DESCRIPTION": "RESPIRATORY SYSTEM DIAGNOSIS WITH VENTILATOR SUPPORT",
         "DRG_CODE": 475,
         "DRG_MORTALITY": "nan",
         "DRG_SEVERITY": "nan",
         "DRG_TYPE": "HCFA",
         "HADM_ID": 111184,
         "ROW_ID": 1508,
         "SUBJECT_ID": 23761,
         "_deepnote_index_column": 1680
        },
        {
         "DESCRIPTION": "RESPIRATORY SYSTEM DIAGNOSIS WITH VENTILATOR SUPPORT",
         "DRG_CODE": 475,
         "DRG_MORTALITY": "nan",
         "DRG_SEVERITY": "nan",
         "DRG_TYPE": "HCFA",
         "HADM_ID": 107833,
         "ROW_ID": 1512,
         "SUBJECT_ID": 8879,
         "_deepnote_index_column": 1684
        },
        {
         "DESCRIPTION": "RESPIRATORY SYSTEM DIAGNOSIS WITH VENTILATOR SUPPORT",
         "DRG_CODE": 475,
         "DRG_MORTALITY": "nan",
         "DRG_SEVERITY": "nan",
         "DRG_TYPE": "HCFA",
         "HADM_ID": 131207,
         "ROW_ID": 1689,
         "SUBJECT_ID": 1551,
         "_deepnote_index_column": 1723
        },
        {
         "DESCRIPTION": "RESPIRATORY SYSTEM DIAGNOSIS WITH VENTILATOR SUPPORT",
         "DRG_CODE": 475,
         "DRG_MORTALITY": "nan",
         "DRG_SEVERITY": "nan",
         "DRG_TYPE": "HCFA",
         "HADM_ID": 132215,
         "ROW_ID": 1709,
         "SUBJECT_ID": 17339,
         "_deepnote_index_column": 1743
        },
        {
         "DESCRIPTION": "RESPIRATORY SYSTEM DIAGNOSIS WITH VENTILATOR SUPPORT",
         "DRG_CODE": 475,
         "DRG_MORTALITY": "nan",
         "DRG_SEVERITY": "nan",
         "DRG_TYPE": "HCFA",
         "HADM_ID": 180177,
         "ROW_ID": 1711,
         "SUBJECT_ID": 24592,
         "_deepnote_index_column": 1745
        },
        {
         "DESCRIPTION": "RESPIRATORY SYSTEM DIAGNOSIS WITH VENTILATOR SUPPORT",
         "DRG_CODE": 475,
         "DRG_MORTALITY": "nan",
         "DRG_SEVERITY": "nan",
         "DRG_TYPE": "HCFA",
         "HADM_ID": 187875,
         "ROW_ID": 2262,
         "SUBJECT_ID": 5297,
         "_deepnote_index_column": 1776
        },
        {
         "DESCRIPTION": "RESPIRATORY SYSTEM DIAGNOSIS WITH VENTILATOR SUPPORT",
         "DRG_CODE": 475,
         "DRG_MORTALITY": "nan",
         "DRG_SEVERITY": "nan",
         "DRG_TYPE": "HCFA",
         "HADM_ID": 143801,
         "ROW_ID": 2318,
         "SUBJECT_ID": 1615,
         "_deepnote_index_column": 1832
        },
        {
         "DESCRIPTION": "RESPIRATORY SYSTEM DIAGNOSIS WITH VENTILATOR SUPPORT",
         "DRG_CODE": 475,
         "DRG_MORTALITY": "nan",
         "DRG_SEVERITY": "nan",
         "DRG_TYPE": "HCFA",
         "HADM_ID": 188057,
         "ROW_ID": 2368,
         "SUBJECT_ID": 1802,
         "_deepnote_index_column": 1882
        },
        {
         "DESCRIPTION": "TRACHEOSTOMY WITH MECHANICAL VENTILATION 96+ HOURS OR PRINCIPAL DIAGNOSIS EXCEPT FACE, MOUTH, AND NECK DIAGNOSES",
         "DRG_CODE": 483,
         "DRG_MORTALITY": "nan",
         "DRG_SEVERITY": "nan",
         "DRG_TYPE": "HCFA",
         "HADM_ID": 187711,
         "ROW_ID": 2377,
         "SUBJECT_ID": 25428,
         "_deepnote_index_column": 1891
        },
        {
         "DESCRIPTION": "RESPIRATORY SYSTEM DIAGNOSIS WITH VENTILATOR SUPPORT",
         "DRG_CODE": 475,
         "DRG_MORTALITY": "nan",
         "DRG_SEVERITY": "nan",
         "DRG_TYPE": "HCFA",
         "HADM_ID": 165806,
         "ROW_ID": 2381,
         "SUBJECT_ID": 5996,
         "_deepnote_index_column": 1895
        },
        {
         "DESCRIPTION": "RESPIRATORY SYSTEM DIAGNOSIS WITH VENTILATOR SUPPORT",
         "DRG_CODE": 475,
         "DRG_MORTALITY": "nan",
         "DRG_SEVERITY": "nan",
         "DRG_TYPE": "HCFA",
         "HADM_ID": 104085,
         "ROW_ID": 2385,
         "SUBJECT_ID": 21346,
         "_deepnote_index_column": 1899
        },
        {
         "DESCRIPTION": "RESPIRATORY SYSTEM DIAGNOSIS WITH VENTILATOR SUPPORT",
         "DRG_CODE": 475,
         "DRG_MORTALITY": "nan",
         "DRG_SEVERITY": "nan",
         "DRG_TYPE": "HCFA",
         "HADM_ID": 180107,
         "ROW_ID": 2423,
         "SUBJECT_ID": 25627,
         "_deepnote_index_column": 1937
        },
        {
         "DESCRIPTION": "RESPIRATORY SYSTEM DIAGNOSIS WITH VENTILATOR SUPPORT",
         "DRG_CODE": 475,
         "DRG_MORTALITY": "nan",
         "DRG_SEVERITY": "nan",
         "DRG_TYPE": "HCFA",
         "HADM_ID": 163478,
         "ROW_ID": 2435,
         "SUBJECT_ID": 24807,
         "_deepnote_index_column": 1949
        }
       ]
      },
      "text/html": [
       "<div>\n",
       "<style scoped>\n",
       "    .dataframe tbody tr th:only-of-type {\n",
       "        vertical-align: middle;\n",
       "    }\n",
       "\n",
       "    .dataframe tbody tr th {\n",
       "        vertical-align: top;\n",
       "    }\n",
       "\n",
       "    .dataframe thead th {\n",
       "        text-align: right;\n",
       "    }\n",
       "</style>\n",
       "<table border=\"1\" class=\"dataframe\">\n",
       "  <thead>\n",
       "    <tr style=\"text-align: right;\">\n",
       "      <th></th>\n",
       "      <th>ROW_ID</th>\n",
       "      <th>SUBJECT_ID</th>\n",
       "      <th>HADM_ID</th>\n",
       "      <th>DRG_TYPE</th>\n",
       "      <th>DRG_CODE</th>\n",
       "      <th>DESCRIPTION</th>\n",
       "      <th>DRG_SEVERITY</th>\n",
       "      <th>DRG_MORTALITY</th>\n",
       "    </tr>\n",
       "  </thead>\n",
       "  <tbody>\n",
       "    <tr>\n",
       "      <th>25</th>\n",
       "      <td>367</td>\n",
       "      <td>3286</td>\n",
       "      <td>133404</td>\n",
       "      <td>HCFA</td>\n",
       "      <td>475</td>\n",
       "      <td>RESPIRATORY SYSTEM DIAGNOSIS WITH VENTILATOR S...</td>\n",
       "      <td>nan</td>\n",
       "      <td>nan</td>\n",
       "    </tr>\n",
       "    <tr>\n",
       "      <th>173</th>\n",
       "      <td>82</td>\n",
       "      <td>12411</td>\n",
       "      <td>173718</td>\n",
       "      <td>HCFA</td>\n",
       "      <td>475</td>\n",
       "      <td>RESPIRATORY SYSTEM DIAGNOSIS WITH VENTILATOR S...</td>\n",
       "      <td>nan</td>\n",
       "      <td>nan</td>\n",
       "    </tr>\n",
       "    <tr>\n",
       "      <th>174</th>\n",
       "      <td>83</td>\n",
       "      <td>16053</td>\n",
       "      <td>189195</td>\n",
       "      <td>HCFA</td>\n",
       "      <td>475</td>\n",
       "      <td>RESPIRATORY SYSTEM DIAGNOSIS WITH VENTILATOR S...</td>\n",
       "      <td>nan</td>\n",
       "      <td>nan</td>\n",
       "    </tr>\n",
       "    <tr>\n",
       "      <th>201</th>\n",
       "      <td>110</td>\n",
       "      <td>26455</td>\n",
       "      <td>122530</td>\n",
       "      <td>HCFA</td>\n",
       "      <td>475</td>\n",
       "      <td>RESPIRATORY SYSTEM DIAGNOSIS WITH VENTILATOR S...</td>\n",
       "      <td>nan</td>\n",
       "      <td>nan</td>\n",
       "    </tr>\n",
       "    <tr>\n",
       "      <th>271</th>\n",
       "      <td>180</td>\n",
       "      <td>4454</td>\n",
       "      <td>177326</td>\n",
       "      <td>HCFA</td>\n",
       "      <td>475</td>\n",
       "      <td>RESPIRATORY SYSTEM DIAGNOSIS WITH VENTILATOR S...</td>\n",
       "      <td>nan</td>\n",
       "      <td>nan</td>\n",
       "    </tr>\n",
       "    <tr>\n",
       "      <th>...</th>\n",
       "      <td>...</td>\n",
       "      <td>...</td>\n",
       "      <td>...</td>\n",
       "      <td>...</td>\n",
       "      <td>...</td>\n",
       "      <td>...</td>\n",
       "      <td>...</td>\n",
       "      <td>...</td>\n",
       "    </tr>\n",
       "    <tr>\n",
       "      <th>125043</th>\n",
       "      <td>124026</td>\n",
       "      <td>30575</td>\n",
       "      <td>186455</td>\n",
       "      <td>MS</td>\n",
       "      <td>208</td>\n",
       "      <td>RESPIRATORY SYSTEM DIAGNOSIS W VENTILATOR SUPP...</td>\n",
       "      <td>nan</td>\n",
       "      <td>nan</td>\n",
       "    </tr>\n",
       "    <tr>\n",
       "      <th>125082</th>\n",
       "      <td>125186</td>\n",
       "      <td>59924</td>\n",
       "      <td>199321</td>\n",
       "      <td>MS</td>\n",
       "      <td>208</td>\n",
       "      <td>RESPIRATORY SYSTEM DIAGNOSIS W VENTILATOR SUPP...</td>\n",
       "      <td>nan</td>\n",
       "      <td>nan</td>\n",
       "    </tr>\n",
       "    <tr>\n",
       "      <th>125275</th>\n",
       "      <td>124563</td>\n",
       "      <td>50487</td>\n",
       "      <td>165833</td>\n",
       "      <td>MS</td>\n",
       "      <td>208</td>\n",
       "      <td>RESPIRATORY SYSTEM DIAGNOSIS W VENTILATOR SUPP...</td>\n",
       "      <td>nan</td>\n",
       "      <td>nan</td>\n",
       "    </tr>\n",
       "    <tr>\n",
       "      <th>125320</th>\n",
       "      <td>125234</td>\n",
       "      <td>28827</td>\n",
       "      <td>190139</td>\n",
       "      <td>MS</td>\n",
       "      <td>208</td>\n",
       "      <td>RESPIRATORY SYSTEM DIAGNOSIS W VENTILATOR SUPP...</td>\n",
       "      <td>nan</td>\n",
       "      <td>nan</td>\n",
       "    </tr>\n",
       "    <tr>\n",
       "      <th>125493</th>\n",
       "      <td>123393</td>\n",
       "      <td>96093</td>\n",
       "      <td>155273</td>\n",
       "      <td>MS</td>\n",
       "      <td>208</td>\n",
       "      <td>RESPIRATORY SYSTEM DIAGNOSIS W VENTILATOR SUPP...</td>\n",
       "      <td>nan</td>\n",
       "      <td>nan</td>\n",
       "    </tr>\n",
       "  </tbody>\n",
       "</table>\n",
       "<p>3078 rows × 8 columns</p>\n",
       "</div>"
      ],
      "text/plain": [
       "        ROW_ID  SUBJECT_ID  HADM_ID DRG_TYPE  DRG_CODE  \\\n",
       "25         367        3286   133404     HCFA       475   \n",
       "173         82       12411   173718     HCFA       475   \n",
       "174         83       16053   189195     HCFA       475   \n",
       "201        110       26455   122530     HCFA       475   \n",
       "271        180        4454   177326     HCFA       475   \n",
       "...        ...         ...      ...      ...       ...   \n",
       "125043  124026       30575   186455       MS       208   \n",
       "125082  125186       59924   199321       MS       208   \n",
       "125275  124563       50487   165833       MS       208   \n",
       "125320  125234       28827   190139       MS       208   \n",
       "125493  123393       96093   155273       MS       208   \n",
       "\n",
       "                                              DESCRIPTION  DRG_SEVERITY  \\\n",
       "25      RESPIRATORY SYSTEM DIAGNOSIS WITH VENTILATOR S...           nan   \n",
       "173     RESPIRATORY SYSTEM DIAGNOSIS WITH VENTILATOR S...           nan   \n",
       "174     RESPIRATORY SYSTEM DIAGNOSIS WITH VENTILATOR S...           nan   \n",
       "201     RESPIRATORY SYSTEM DIAGNOSIS WITH VENTILATOR S...           nan   \n",
       "271     RESPIRATORY SYSTEM DIAGNOSIS WITH VENTILATOR S...           nan   \n",
       "...                                                   ...           ...   \n",
       "125043  RESPIRATORY SYSTEM DIAGNOSIS W VENTILATOR SUPP...           nan   \n",
       "125082  RESPIRATORY SYSTEM DIAGNOSIS W VENTILATOR SUPP...           nan   \n",
       "125275  RESPIRATORY SYSTEM DIAGNOSIS W VENTILATOR SUPP...           nan   \n",
       "125320  RESPIRATORY SYSTEM DIAGNOSIS W VENTILATOR SUPP...           nan   \n",
       "125493  RESPIRATORY SYSTEM DIAGNOSIS W VENTILATOR SUPP...           nan   \n",
       "\n",
       "        DRG_MORTALITY  \n",
       "25                nan  \n",
       "173               nan  \n",
       "174               nan  \n",
       "201               nan  \n",
       "271               nan  \n",
       "...               ...  \n",
       "125043            nan  \n",
       "125082            nan  \n",
       "125275            nan  \n",
       "125320            nan  \n",
       "125493            nan  \n",
       "\n",
       "[3078 rows x 8 columns]"
      ]
     },
     "execution_count": 59,
     "metadata": {},
     "output_type": "execute_result"
    }
   ],
   "source": [
    "df_drgcodes= df_drgcodes.dropna(subset=[\"DESCRIPTION\"])\n",
    "df_drgcodes[df_drgcodes['DESCRIPTION'].str.contains(\"VENTI\")]"
   ]
  },
  {
   "cell_type": "markdown",
   "metadata": {
    "cell_id": "00059-8dc514be-951a-4815-91b7-5c0658eec60d",
    "tags": []
   },
   "source": [
    "from the 3078 only 1770 are from our patient list"
   ]
  },
  {
   "cell_type": "code",
   "execution_count": null,
   "metadata": {
    "cell_id": "00060-021eb0c6-a608-4558-b8d4-394921f12ea5",
    "execution_millis": 54,
    "execution_start": 1604538258684,
    "output_cleared": false,
    "source_hash": "adff3e71",
    "tags": []
   },
   "outputs": [
    {
     "data": {
      "text/plain": [
       "array(['RESPIRATORY SYSTEM DIAGNOSIS WITH VENTILATOR SUPPORT',\n",
       "       'TRACHEOSTOMY WITH MECHANICAL VENTILATION 96+ HOURS OR PRINCIPAL DIAGNOSIS EXCEPT FACE, MOUTH, AND NECK DIAGNOSES',\n",
       "       'ECMO OR TRACHEOSTOMY WITH MECHANICAL VENTILATION 96+ HOURS OR PRINCIPAL DIAGNOSES EXCEPT FACE, MOUTH AND NECK DIAGNOSES WITH MAJOR OPERATING ROOM PROCEDURE',\n",
       "       'TRACHEOSTOMY WITH MECHANICAL VENTILATION 96+ HOURS OR PRINCIPAL DIAGNOSIS EXCEPT FACE, MOUTH AND NECK DIAGNOSES WITHOUT MAJOR OPERATING ROOM PROCEDURE',\n",
       "       'SEPTICEMIA W MECHANICAL VENTILATOR 96+ HOURS AGE >17',\n",
       "       'SEPTICEMIA W MECHANICAL VENTILATOR W/0 96+ HOURS AGE >17',\n",
       "       'RESPIRATORY SYSTEM DIAGNOSIS WITH VENTILATOR SUPPORT <96 HRS',\n",
       "       'RESPIRATORY SYSTEM DIAGNOSIS WITH VENTILATOR SUPPORT 96+ HRS',\n",
       "       'RESPIRATORY SYSTEM DIAGNOSIS W VENTILATOR SUPPORT <96 HOURS',\n",
       "       'RESPIRATORY SYSTEM DIAGNOSIS W VENTILATOR SUPPORT 96+ HOURS'],\n",
       "      dtype=object)"
      ]
     },
     "execution_count": 60,
     "metadata": {},
     "output_type": "execute_result"
    }
   ],
   "source": [
    "df_drgcodes[df_drgcodes['DESCRIPTION'].str.contains(\"VENTI\")].DESCRIPTION.unique()"
   ]
  },
  {
   "cell_type": "markdown",
   "metadata": {
    "cell_id": "00060-33e50e6e-10af-45df-8cbb-095e98b3d89e",
    "tags": []
   },
   "source": []
  }
 ],
 "metadata": {
  "deepnote_execution_queue": [],
  "deepnote_notebook_id": "e0066d5d-3945-44b5-875e-c4361ed64675",
  "kernelspec": {
   "display_name": "Python 3.6.10 64-bit ('nf')",
   "language": "python",
   "name": "python361064bitnf8add1acfca654b1ab4527881e7fa8184"
  },
  "language_info": {
   "codemirror_mode": {
    "name": "ipython",
    "version": 3
   },
   "file_extension": ".py",
   "mimetype": "text/x-python",
   "name": "python",
   "nbconvert_exporter": "python",
   "pygments_lexer": "ipython3",
   "version": "3.6.10"
  },
  "toc": {
   "base_numbering": 1,
   "nav_menu": {},
   "number_sections": true,
   "sideBar": true,
   "skip_h1_title": false,
   "title_cell": "Table of Contents",
   "title_sidebar": "Contents",
   "toc_cell": false,
   "toc_position": {},
   "toc_section_display": true,
   "toc_window_display": false
  },
  "varInspector": {
   "cols": {
    "lenName": 16,
    "lenType": 16,
    "lenVar": 40
   },
   "kernels_config": {
    "python": {
     "delete_cmd_postfix": "",
     "delete_cmd_prefix": "del ",
     "library": "var_list.py",
     "varRefreshCmd": "print(var_dic_list())"
    },
    "r": {
     "delete_cmd_postfix": ") ",
     "delete_cmd_prefix": "rm(",
     "library": "var_list.r",
     "varRefreshCmd": "cat(var_dic_list()) "
    }
   },
   "types_to_exclude": [
    "module",
    "function",
    "builtin_function_or_method",
    "instance",
    "_Feature"
   ],
   "window_display": false
  }
 },
 "nbformat": 4,
 "nbformat_minor": 4
}
