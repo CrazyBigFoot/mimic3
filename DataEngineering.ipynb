{
 "cells": [
  {
   "cell_type": "code",
   "execution_count": 1,
   "metadata": {},
   "outputs": [],
   "source": [
    "import pandas as pd\n",
    "import numpy as np\n",
    "import matplotlib.pyplot as plt\n",
    "import csv\n",
    "import psycopg2\n",
    "import re\n",
    "\n",
    "# settings\n",
    "datapath = '/Users/mirkoknoche/MIMIC/'\n",
    "pd.set_option('display.max_columns', 500)\n",
    "pd.options.display.float_format = '{:,}'.format\n",
    "%matplotlib inline\n",
    "\n",
    "# database\n",
    "conn_string = open('./intern/DB_connection.txt', 'r', encoding='UTF-8').read()"
   ]
  },
  {
   "cell_type": "markdown",
   "metadata": {},
   "source": [
    "# Datenbank"
   ]
  },
  {
   "cell_type": "code",
   "execution_count": null,
   "metadata": {},
   "outputs": [],
   "source": [
    "import psycopg2\n",
    "gitpath = '/Users/mirkoknoche/Google Drive/neuefische/projects/MIMIC/'\n",
    "conn_string = open(gitpath + 'intern/DB_connection.txt', 'r', encoding='UTF-8').read()\n",
    "conn = eval('psycopg2.connect({})'.format(conn_string.strip()))"
   ]
  },
  {
   "cell_type": "code",
   "execution_count": null,
   "metadata": {},
   "outputs": [],
   "source": [
    "sql = \"\"\"select * from vw_t_chartevents LIMIT 1000\"\"\"\n",
    "df_sql = pd.read_sql(sql, conn)"
   ]
  },
  {
   "cell_type": "code",
   "execution_count": null,
   "metadata": {
    "scrolled": true
   },
   "outputs": [],
   "source": [
    "df_sql.head()"
   ]
  },
  {
   "cell_type": "code",
   "execution_count": null,
   "metadata": {},
   "outputs": [],
   "source": [
    "df_sql.info()"
   ]
  },
  {
   "cell_type": "code",
   "execution_count": null,
   "metadata": {},
   "outputs": [],
   "source": [
    "conn.close()"
   ]
  },
  {
   "cell_type": "markdown",
   "metadata": {},
   "source": [
    "# inputevents_cv"
   ]
  },
  {
   "cell_type": "markdown",
   "metadata": {},
   "source": [
    "Inputs are any fluids which have been administered to the patient: such as oral or tube feedings or intravenous solutions containing medications. "
   ]
  },
  {
   "cell_type": "markdown",
   "metadata": {},
   "source": [
    "Inputs exist in two separate tables: INPUTEVENTS_CV and INPUTEVENTS_MV. INPUTEVENTS_CV contains CareVue inputs, while INPUTEVENTS_MV contains Metavision inputs. Results from these tables can be unioned as observations are not duplicated across tables. For CareVue data, the rate and volume will be asynchronous, and only the CHARTTIME will be available. For rates, the CHARTTIME will correspond to a start time (when the drug was set to that rate). For volumes, the CHARTTIME will correspond to an end time."
   ]
  },
  {
   "cell_type": "markdown",
   "metadata": {},
   "source": [
    "| column | Description | Type |\n",
    "|:-------|:------------|------|\n",
    "| ROW_ID | ID from Database | numeric |\n",
    "| SUBJECT_ID | Unique ID of a patient | numeric |\n",
    "| HADM_ID | Unique ID of a patient hospital stay | numeric |\n",
    "| ICUSTAY_ID | Unique ID of a patient ICU stay | numeric |\n",
    "| CHARTTIME | time at which the measurement was charted at the bedside | datetime |\n",
    "| ITEMID | Identifier for a single measurement type D_ITEMS.csv | numeric |\n",
    "| AMOUNT | amount of a drug or substance administered to the patient either between the STARTTIME and ENDTIME | numeric |"
   ]
  },
  {
   "cell_type": "code",
   "execution_count": null,
   "metadata": {},
   "outputs": [],
   "source": [
    "c = 1000000\n",
    "df_input_cv = pd.read_csv(datapath + 'INPUTEVENTS_CV.csv', nrows=10000)"
   ]
  },
  {
   "cell_type": "code",
   "execution_count": null,
   "metadata": {},
   "outputs": [],
   "source": [
    "sql = \"\"\"select * from inputevents_cv \n",
    "        where subject_id in (select subject_id from diagnoses_icd di where ICD9_CODE = '51881')\n",
    "        LIMIT 100000\"\"\"\n",
    "df_input_cv = pd.read_sql(sql, conn)"
   ]
  },
  {
   "cell_type": "code",
   "execution_count": null,
   "metadata": {},
   "outputs": [],
   "source": [
    "df_input_cv.shape"
   ]
  },
  {
   "cell_type": "code",
   "execution_count": null,
   "metadata": {
    "scrolled": true
   },
   "outputs": [],
   "source": [
    "df_input_cv.info()"
   ]
  },
  {
   "cell_type": "markdown",
   "metadata": {},
   "source": [
    "We can see that already in the first 100000 rows some HADM_ID's are missing. Let us show how many, if we import only this column."
   ]
  },
  {
   "cell_type": "code",
   "execution_count": null,
   "metadata": {},
   "outputs": [],
   "source": [
    "sql = \"\"\"select hadm_id from inputevents_cv \"\"\"\n",
    "df_test = pd.read_sql(sql, conn)"
   ]
  },
  {
   "cell_type": "code",
   "execution_count": null,
   "metadata": {},
   "outputs": [],
   "source": [
    "df_test.shape"
   ]
  },
  {
   "cell_type": "code",
   "execution_count": null,
   "metadata": {},
   "outputs": [],
   "source": [
    "df_test.isna().sum()"
   ]
  },
  {
   "cell_type": "code",
   "execution_count": null,
   "metadata": {},
   "outputs": [],
   "source": [
    "print('Missing HADM_ID in percent: {:.2f}%'.format(float(df_test.isna().sum()) / df_test.shape[0] *100))"
   ]
  },
  {
   "cell_type": "markdown",
   "metadata": {},
   "source": [
    "The amount of missing HADM_ID's ist tiny. We ignore these missing entrys."
   ]
  },
  {
   "cell_type": "code",
   "execution_count": null,
   "metadata": {
    "scrolled": false
   },
   "outputs": [],
   "source": [
    "df_input_cv.head()"
   ]
  },
  {
   "cell_type": "code",
   "execution_count": null,
   "metadata": {},
   "outputs": [],
   "source": [
    "sql = \"\"\"select row_id from inputevents_cv \"\"\"\n",
    "df_test2 = pd.read_sql(sql, conn)"
   ]
  },
  {
   "cell_type": "code",
   "execution_count": null,
   "metadata": {},
   "outputs": [],
   "source": [
    "df_test2.shape"
   ]
  },
  {
   "cell_type": "code",
   "execution_count": null,
   "metadata": {},
   "outputs": [],
   "source": [
    "df_test2.nunique()"
   ]
  },
  {
   "cell_type": "markdown",
   "metadata": {},
   "source": [
    "# Find extubations"
   ]
  },
  {
   "cell_type": "code",
   "execution_count": 200,
   "metadata": {},
   "outputs": [],
   "source": [
    "conn = eval('psycopg2.connect({})'.format(conn_string.strip()))"
   ]
  },
  {
   "cell_type": "code",
   "execution_count": 29,
   "metadata": {},
   "outputs": [],
   "source": [
    "sql = \"\"\"select i2.hadm_id, v.* \n",
    "        from ventsettings v\n",
    "        inner join icustays i2 on i2.icustay_id = v.icustay_id \n",
    "        where (v.mechvent + v.oxygentherapy + v.extubated + v.selfextubated) > 0\n",
    "            and i2.hadm_id in (select * from hadm_overview) \n",
    "        order by icustay_id, charttime \"\"\"\n",
    "df = pd.read_sql(sql, conn)"
   ]
  },
  {
   "cell_type": "code",
   "execution_count": 30,
   "metadata": {},
   "outputs": [
    {
     "data": {
      "text/plain": [
       "(592571, 7)"
      ]
     },
     "execution_count": 30,
     "metadata": {},
     "output_type": "execute_result"
    }
   ],
   "source": [
    "df.shape"
   ]
  },
  {
   "cell_type": "code",
   "execution_count": 31,
   "metadata": {},
   "outputs": [
    {
     "data": {
      "text/html": [
       "<div>\n",
       "<style scoped>\n",
       "    .dataframe tbody tr th:only-of-type {\n",
       "        vertical-align: middle;\n",
       "    }\n",
       "\n",
       "    .dataframe tbody tr th {\n",
       "        vertical-align: top;\n",
       "    }\n",
       "\n",
       "    .dataframe thead th {\n",
       "        text-align: right;\n",
       "    }\n",
       "</style>\n",
       "<table border=\"1\" class=\"dataframe\">\n",
       "  <thead>\n",
       "    <tr style=\"text-align: right;\">\n",
       "      <th></th>\n",
       "      <th>hadm_id</th>\n",
       "      <th>icustay_id</th>\n",
       "      <th>charttime</th>\n",
       "      <th>mechvent</th>\n",
       "      <th>oxygentherapy</th>\n",
       "      <th>extubated</th>\n",
       "      <th>selfextubated</th>\n",
       "    </tr>\n",
       "  </thead>\n",
       "  <tbody>\n",
       "    <tr>\n",
       "      <th>0</th>\n",
       "      <td>189514</td>\n",
       "      <td>200,006.0</td>\n",
       "      <td>2159-09-03 13:00:00</td>\n",
       "      <td>1</td>\n",
       "      <td>0</td>\n",
       "      <td>0</td>\n",
       "      <td>0</td>\n",
       "    </tr>\n",
       "    <tr>\n",
       "      <th>1</th>\n",
       "      <td>189514</td>\n",
       "      <td>200,006.0</td>\n",
       "      <td>2159-09-03 16:50:00</td>\n",
       "      <td>1</td>\n",
       "      <td>0</td>\n",
       "      <td>0</td>\n",
       "      <td>0</td>\n",
       "    </tr>\n",
       "    <tr>\n",
       "      <th>2</th>\n",
       "      <td>189514</td>\n",
       "      <td>200,006.0</td>\n",
       "      <td>2159-09-03 20:00:00</td>\n",
       "      <td>1</td>\n",
       "      <td>0</td>\n",
       "      <td>0</td>\n",
       "      <td>0</td>\n",
       "    </tr>\n",
       "  </tbody>\n",
       "</table>\n",
       "</div>"
      ],
      "text/plain": [
       "   hadm_id  icustay_id           charttime  mechvent  oxygentherapy  \\\n",
       "0   189514   200,006.0 2159-09-03 13:00:00         1              0   \n",
       "1   189514   200,006.0 2159-09-03 16:50:00         1              0   \n",
       "2   189514   200,006.0 2159-09-03 20:00:00         1              0   \n",
       "\n",
       "   extubated  selfextubated  \n",
       "0          0              0  \n",
       "1          0              0  \n",
       "2          0              0  "
      ]
     },
     "execution_count": 31,
     "metadata": {},
     "output_type": "execute_result"
    }
   ],
   "source": [
    "df.head(3)"
   ]
  },
  {
   "cell_type": "code",
   "execution_count": 32,
   "metadata": {},
   "outputs": [
    {
     "name": "stdout",
     "output_type": "stream",
     "text": [
      "<class 'pandas.core.frame.DataFrame'>\n",
      "RangeIndex: 592571 entries, 0 to 592570\n",
      "Data columns (total 7 columns):\n",
      "hadm_id          592571 non-null int64\n",
      "icustay_id       592571 non-null float64\n",
      "charttime        592571 non-null datetime64[ns]\n",
      "mechvent         592571 non-null int64\n",
      "oxygentherapy    592571 non-null int64\n",
      "extubated        592571 non-null int64\n",
      "selfextubated    592571 non-null int64\n",
      "dtypes: datetime64[ns](1), float64(1), int64(5)\n",
      "memory usage: 31.6 MB\n"
     ]
    }
   ],
   "source": [
    "df.info()"
   ]
  },
  {
   "cell_type": "markdown",
   "metadata": {},
   "source": [
    "This dataframe contains all entries from the table chartevents of the selected hadm_id's. We have to find the timestamp of the extubations and we have to check if the first extubation is succesfull."
   ]
  },
  {
   "cell_type": "markdown",
   "metadata": {},
   "source": [
    "## Getting the timestamp"
   ]
  },
  {
   "cell_type": "markdown",
   "metadata": {},
   "source": [
    "Checking the exturbations"
   ]
  },
  {
   "cell_type": "code",
   "execution_count": 33,
   "metadata": {
    "scrolled": true
   },
   "outputs": [],
   "source": [
    "df_count_ex = df.groupby('icustay_id').extubated.sum()"
   ]
  },
  {
   "cell_type": "code",
   "execution_count": 34,
   "metadata": {},
   "outputs": [
    {
     "data": {
      "text/plain": [
       "icustay_id\n",
       "200,006.0    0\n",
       "200,059.0    0\n",
       "200,063.0    4\n",
       "200,065.0    1\n",
       "200,077.0    0\n",
       "Name: extubated, dtype: int64"
      ]
     },
     "execution_count": 34,
     "metadata": {},
     "output_type": "execute_result"
    }
   ],
   "source": [
    "df_count_ex.head()"
   ]
  },
  {
   "cell_type": "code",
   "execution_count": 35,
   "metadata": {},
   "outputs": [
    {
     "data": {
      "text/plain": [
       "(4960, 7)"
      ]
     },
     "execution_count": 35,
     "metadata": {},
     "output_type": "execute_result"
    }
   ],
   "source": [
    "df[(df.extubated == 1)].shape"
   ]
  },
  {
   "cell_type": "code",
   "execution_count": 36,
   "metadata": {},
   "outputs": [
    {
     "data": {
      "image/png": "[encoded data removed]",
      "text/plain": [
       "<Figure size 720x504 with 1 Axes>"
      ]
     },
     "metadata": {
      "needs_background": "light"
     },
     "output_type": "display_data"
    }
   ],
   "source": [
    "fig = plt.figure(figsize=(10,7))\n",
    "ax = fig.add_subplot(1, 1, 1)\n",
    "ax.hist(df_count_ex)\n",
    "plt.ylabel('Amount of ICU-stays')\n",
    "plt.xlabel('Extubations')\n",
    "plt.title('Histrogram of the extubations')\n",
    "plt.savefig('./images/hist_extubations_per_icustay.png')\n",
    "plt.show();"
   ]
  },
  {
   "cell_type": "markdown",
   "metadata": {},
   "source": [
    "Many ICU stays have no explicit documented extubation. We need to extract the id's and find another way."
   ]
  },
  {
   "cell_type": "code",
   "execution_count": 37,
   "metadata": {},
   "outputs": [],
   "source": [
    "# Building the difference for each row in 'mechvent' to get \n",
    "sql = \"\"\"SELECT i2.hadm_id,\n",
    "            v.icustay_id,\n",
    "            v.charttime,\n",
    "            v.mechvent,\n",
    "            v.oxygentherapy,\n",
    "            v.extubated,\n",
    "            v.selfextubated,\n",
    "            v.mechvent - lag(v.mechvent, 1) OVER (PARTITION BY v.icustay_id ORDER BY v.icustay_id, v.charttime) AS ex\n",
    "          FROM ventsettings v\n",
    "          JOIN icustays i2 ON i2.icustay_id::numeric = v.icustay_id\n",
    "          WHERE (v.mechvent + v.oxygentherapy + v.extubated + v.selfextubated) > 0 \n",
    "              AND (i2.hadm_id IN ( SELECT hadm_overview.hadm_id FROM hadm_overview))\"\"\"\n",
    "df_extub = pd.read_sql(sql, conn)"
   ]
  },
  {
   "cell_type": "code",
   "execution_count": 38,
   "metadata": {},
   "outputs": [
    {
     "data": {
      "text/plain": [
       "(592571, 8)"
      ]
     },
     "execution_count": 38,
     "metadata": {},
     "output_type": "execute_result"
    }
   ],
   "source": [
    "df_extub.shape"
   ]
  },
  {
   "cell_type": "code",
   "execution_count": 39,
   "metadata": {},
   "outputs": [
    {
     "data": {
      "text/html": [
       "<div>\n",
       "<style scoped>\n",
       "    .dataframe tbody tr th:only-of-type {\n",
       "        vertical-align: middle;\n",
       "    }\n",
       "\n",
       "    .dataframe tbody tr th {\n",
       "        vertical-align: top;\n",
       "    }\n",
       "\n",
       "    .dataframe thead th {\n",
       "        text-align: right;\n",
       "    }\n",
       "</style>\n",
       "<table border=\"1\" class=\"dataframe\">\n",
       "  <thead>\n",
       "    <tr style=\"text-align: right;\">\n",
       "      <th></th>\n",
       "      <th>hadm_id</th>\n",
       "      <th>icustay_id</th>\n",
       "      <th>charttime</th>\n",
       "      <th>mechvent</th>\n",
       "      <th>oxygentherapy</th>\n",
       "      <th>extubated</th>\n",
       "      <th>selfextubated</th>\n",
       "      <th>ex</th>\n",
       "    </tr>\n",
       "  </thead>\n",
       "  <tbody>\n",
       "    <tr>\n",
       "      <th>0</th>\n",
       "      <td>189514</td>\n",
       "      <td>200,006.0</td>\n",
       "      <td>2159-09-03 13:00:00</td>\n",
       "      <td>1</td>\n",
       "      <td>0</td>\n",
       "      <td>0</td>\n",
       "      <td>0</td>\n",
       "      <td>nan</td>\n",
       "    </tr>\n",
       "    <tr>\n",
       "      <th>1</th>\n",
       "      <td>189514</td>\n",
       "      <td>200,006.0</td>\n",
       "      <td>2159-09-03 16:50:00</td>\n",
       "      <td>1</td>\n",
       "      <td>0</td>\n",
       "      <td>0</td>\n",
       "      <td>0</td>\n",
       "      <td>0.0</td>\n",
       "    </tr>\n",
       "    <tr>\n",
       "      <th>2</th>\n",
       "      <td>189514</td>\n",
       "      <td>200,006.0</td>\n",
       "      <td>2159-09-03 20:00:00</td>\n",
       "      <td>1</td>\n",
       "      <td>0</td>\n",
       "      <td>0</td>\n",
       "      <td>0</td>\n",
       "      <td>0.0</td>\n",
       "    </tr>\n",
       "    <tr>\n",
       "      <th>3</th>\n",
       "      <td>189514</td>\n",
       "      <td>200,006.0</td>\n",
       "      <td>2159-09-03 23:30:00</td>\n",
       "      <td>1</td>\n",
       "      <td>0</td>\n",
       "      <td>0</td>\n",
       "      <td>0</td>\n",
       "      <td>0.0</td>\n",
       "    </tr>\n",
       "    <tr>\n",
       "      <th>4</th>\n",
       "      <td>189514</td>\n",
       "      <td>200,006.0</td>\n",
       "      <td>2159-09-04 03:50:00</td>\n",
       "      <td>1</td>\n",
       "      <td>0</td>\n",
       "      <td>0</td>\n",
       "      <td>0</td>\n",
       "      <td>0.0</td>\n",
       "    </tr>\n",
       "  </tbody>\n",
       "</table>\n",
       "</div>"
      ],
      "text/plain": [
       "   hadm_id  icustay_id           charttime  mechvent  oxygentherapy  \\\n",
       "0   189514   200,006.0 2159-09-03 13:00:00         1              0   \n",
       "1   189514   200,006.0 2159-09-03 16:50:00         1              0   \n",
       "2   189514   200,006.0 2159-09-03 20:00:00         1              0   \n",
       "3   189514   200,006.0 2159-09-03 23:30:00         1              0   \n",
       "4   189514   200,006.0 2159-09-04 03:50:00         1              0   \n",
       "\n",
       "   extubated  selfextubated  ex  \n",
       "0          0              0 nan  \n",
       "1          0              0 0.0  \n",
       "2          0              0 0.0  \n",
       "3          0              0 0.0  \n",
       "4          0              0 0.0  "
      ]
     },
     "execution_count": 39,
     "metadata": {},
     "output_type": "execute_result"
    }
   ],
   "source": [
    "df_extub.head()"
   ]
  },
  {
   "cell_type": "markdown",
   "metadata": {},
   "source": [
    "Now we have a new column 'ex'. If the value of 'mechvent' fall from 1 to 0, we get a -1, otherwise we get a +1. Now we can use the timestamp where ex is -1 as our extubation timestamp.\n",
    "\n",
    "Saving that query as view: `vw_extubations`. <br>\n",
    "[vw_extubations]('data/04_changes_mechvent.sql)"
   ]
  },
  {
   "cell_type": "code",
   "execution_count": 40,
   "metadata": {},
   "outputs": [],
   "source": [
    "# Check the new column versus the documented extubations.\n",
    "sql = \"\"\"select * \n",
    "        from vw_extubations ve\n",
    "        where ve.icustay_id in (select distinct icustay_id \n",
    "                                from vw_extubations ve \n",
    "                                where extubated = 1)\n",
    "            and ve.extubated = 1\n",
    "            and ve.ex <> -1\n",
    "        order by ve.icustay_id, ve.charttime\"\"\"\n",
    "df_check_ext1 = pd.read_sql(sql, conn)"
   ]
  },
  {
   "cell_type": "code",
   "execution_count": 41,
   "metadata": {},
   "outputs": [
    {
     "data": {
      "text/html": [
       "<div>\n",
       "<style scoped>\n",
       "    .dataframe tbody tr th:only-of-type {\n",
       "        vertical-align: middle;\n",
       "    }\n",
       "\n",
       "    .dataframe tbody tr th {\n",
       "        vertical-align: top;\n",
       "    }\n",
       "\n",
       "    .dataframe thead th {\n",
       "        text-align: right;\n",
       "    }\n",
       "</style>\n",
       "<table border=\"1\" class=\"dataframe\">\n",
       "  <thead>\n",
       "    <tr style=\"text-align: right;\">\n",
       "      <th></th>\n",
       "      <th>hadm_id</th>\n",
       "      <th>icustay_id</th>\n",
       "      <th>charttime</th>\n",
       "      <th>mechvent</th>\n",
       "      <th>oxygentherapy</th>\n",
       "      <th>extubated</th>\n",
       "      <th>selfextubated</th>\n",
       "      <th>ex</th>\n",
       "    </tr>\n",
       "  </thead>\n",
       "  <tbody>\n",
       "    <tr>\n",
       "      <th>0</th>\n",
       "      <td>129142</td>\n",
       "      <td>200,063.0</td>\n",
       "      <td>2141-03-24 17:30:00</td>\n",
       "      <td>0</td>\n",
       "      <td>0</td>\n",
       "      <td>1</td>\n",
       "      <td>0</td>\n",
       "      <td>0</td>\n",
       "    </tr>\n",
       "    <tr>\n",
       "      <th>1</th>\n",
       "      <td>159163</td>\n",
       "      <td>200,203.0</td>\n",
       "      <td>2140-04-07 13:27:00</td>\n",
       "      <td>0</td>\n",
       "      <td>0</td>\n",
       "      <td>1</td>\n",
       "      <td>0</td>\n",
       "      <td>0</td>\n",
       "    </tr>\n",
       "    <tr>\n",
       "      <th>2</th>\n",
       "      <td>142755</td>\n",
       "      <td>200,240.0</td>\n",
       "      <td>2147-10-28 08:00:00</td>\n",
       "      <td>0</td>\n",
       "      <td>0</td>\n",
       "      <td>1</td>\n",
       "      <td>0</td>\n",
       "      <td>0</td>\n",
       "    </tr>\n",
       "    <tr>\n",
       "      <th>3</th>\n",
       "      <td>176395</td>\n",
       "      <td>200,282.0</td>\n",
       "      <td>2164-05-15 10:05:00</td>\n",
       "      <td>0</td>\n",
       "      <td>0</td>\n",
       "      <td>1</td>\n",
       "      <td>0</td>\n",
       "      <td>0</td>\n",
       "    </tr>\n",
       "    <tr>\n",
       "      <th>4</th>\n",
       "      <td>199655</td>\n",
       "      <td>200,647.0</td>\n",
       "      <td>2116-07-02 11:08:00</td>\n",
       "      <td>0</td>\n",
       "      <td>0</td>\n",
       "      <td>1</td>\n",
       "      <td>0</td>\n",
       "      <td>0</td>\n",
       "    </tr>\n",
       "  </tbody>\n",
       "</table>\n",
       "</div>"
      ],
      "text/plain": [
       "   hadm_id  icustay_id           charttime  mechvent  oxygentherapy  \\\n",
       "0   129142   200,063.0 2141-03-24 17:30:00         0              0   \n",
       "1   159163   200,203.0 2140-04-07 13:27:00         0              0   \n",
       "2   142755   200,240.0 2147-10-28 08:00:00         0              0   \n",
       "3   176395   200,282.0 2164-05-15 10:05:00         0              0   \n",
       "4   199655   200,647.0 2116-07-02 11:08:00         0              0   \n",
       "\n",
       "   extubated  selfextubated  ex  \n",
       "0          1              0   0  \n",
       "1          1              0   0  \n",
       "2          1              0   0  \n",
       "3          1              0   0  \n",
       "4          1              0   0  "
      ]
     },
     "execution_count": 41,
     "metadata": {},
     "output_type": "execute_result"
    }
   ],
   "source": [
    "df_check_ext1.head(5)"
   ]
  },
  {
   "cell_type": "code",
   "execution_count": null,
   "metadata": {},
   "outputs": [],
   "source": [
    "df_check_ext1.shape"
   ]
  },
  {
   "cell_type": "markdown",
   "metadata": {},
   "source": [
    "Of 4,960 documented extubations, we cannot determine the expected flag by 1,244 entries as expected. For a better understanding we get a closer look to some single icustay_id."
   ]
  },
  {
   "cell_type": "code",
   "execution_count": 42,
   "metadata": {},
   "outputs": [
    {
     "data": {
      "text/html": [
       "<div>\n",
       "<style scoped>\n",
       "    .dataframe tbody tr th:only-of-type {\n",
       "        vertical-align: middle;\n",
       "    }\n",
       "\n",
       "    .dataframe tbody tr th {\n",
       "        vertical-align: top;\n",
       "    }\n",
       "\n",
       "    .dataframe thead th {\n",
       "        text-align: right;\n",
       "    }\n",
       "</style>\n",
       "<table border=\"1\" class=\"dataframe\">\n",
       "  <thead>\n",
       "    <tr style=\"text-align: right;\">\n",
       "      <th></th>\n",
       "      <th>hadm_id</th>\n",
       "      <th>icustay_id</th>\n",
       "      <th>charttime</th>\n",
       "      <th>mechvent</th>\n",
       "      <th>oxygentherapy</th>\n",
       "      <th>extubated</th>\n",
       "      <th>selfextubated</th>\n",
       "      <th>ex</th>\n",
       "    </tr>\n",
       "  </thead>\n",
       "  <tbody>\n",
       "    <tr>\n",
       "      <th>1162</th>\n",
       "      <td>159163</td>\n",
       "      <td>200,203.0</td>\n",
       "      <td>2140-04-06 22:00:00</td>\n",
       "      <td>1</td>\n",
       "      <td>0</td>\n",
       "      <td>0</td>\n",
       "      <td>0</td>\n",
       "      <td>nan</td>\n",
       "    </tr>\n",
       "    <tr>\n",
       "      <th>1163</th>\n",
       "      <td>159163</td>\n",
       "      <td>200,203.0</td>\n",
       "      <td>2140-04-07 00:00:00</td>\n",
       "      <td>1</td>\n",
       "      <td>0</td>\n",
       "      <td>0</td>\n",
       "      <td>0</td>\n",
       "      <td>0.0</td>\n",
       "    </tr>\n",
       "    <tr>\n",
       "      <th>1164</th>\n",
       "      <td>159163</td>\n",
       "      <td>200,203.0</td>\n",
       "      <td>2140-04-07 04:00:00</td>\n",
       "      <td>1</td>\n",
       "      <td>0</td>\n",
       "      <td>0</td>\n",
       "      <td>0</td>\n",
       "      <td>0.0</td>\n",
       "    </tr>\n",
       "    <tr>\n",
       "      <th>1165</th>\n",
       "      <td>159163</td>\n",
       "      <td>200,203.0</td>\n",
       "      <td>2140-04-07 04:07:00</td>\n",
       "      <td>1</td>\n",
       "      <td>0</td>\n",
       "      <td>0</td>\n",
       "      <td>0</td>\n",
       "      <td>0.0</td>\n",
       "    </tr>\n",
       "    <tr>\n",
       "      <th>1166</th>\n",
       "      <td>159163</td>\n",
       "      <td>200,203.0</td>\n",
       "      <td>2140-04-07 08:00:00</td>\n",
       "      <td>1</td>\n",
       "      <td>0</td>\n",
       "      <td>0</td>\n",
       "      <td>0</td>\n",
       "      <td>0.0</td>\n",
       "    </tr>\n",
       "    <tr>\n",
       "      <th>1167</th>\n",
       "      <td>159163</td>\n",
       "      <td>200,203.0</td>\n",
       "      <td>2140-04-07 12:00:00</td>\n",
       "      <td>1</td>\n",
       "      <td>0</td>\n",
       "      <td>0</td>\n",
       "      <td>0</td>\n",
       "      <td>0.0</td>\n",
       "    </tr>\n",
       "    <tr>\n",
       "      <th>1168</th>\n",
       "      <td>159163</td>\n",
       "      <td>200,203.0</td>\n",
       "      <td>2140-04-07 13:03:00</td>\n",
       "      <td>0</td>\n",
       "      <td>1</td>\n",
       "      <td>0</td>\n",
       "      <td>0</td>\n",
       "      <td>-1.0</td>\n",
       "    </tr>\n",
       "    <tr>\n",
       "      <th>1169</th>\n",
       "      <td>159163</td>\n",
       "      <td>200,203.0</td>\n",
       "      <td>2140-04-07 13:27:00</td>\n",
       "      <td>0</td>\n",
       "      <td>0</td>\n",
       "      <td>1</td>\n",
       "      <td>0</td>\n",
       "      <td>0.0</td>\n",
       "    </tr>\n",
       "    <tr>\n",
       "      <th>1170</th>\n",
       "      <td>159163</td>\n",
       "      <td>200,203.0</td>\n",
       "      <td>2140-04-07 16:00:00</td>\n",
       "      <td>0</td>\n",
       "      <td>1</td>\n",
       "      <td>0</td>\n",
       "      <td>0</td>\n",
       "      <td>0.0</td>\n",
       "    </tr>\n",
       "    <tr>\n",
       "      <th>1171</th>\n",
       "      <td>159163</td>\n",
       "      <td>200,203.0</td>\n",
       "      <td>2140-04-08 00:00:00</td>\n",
       "      <td>0</td>\n",
       "      <td>1</td>\n",
       "      <td>0</td>\n",
       "      <td>0</td>\n",
       "      <td>0.0</td>\n",
       "    </tr>\n",
       "  </tbody>\n",
       "</table>\n",
       "</div>"
      ],
      "text/plain": [
       "      hadm_id  icustay_id           charttime  mechvent  oxygentherapy  \\\n",
       "1162   159163   200,203.0 2140-04-06 22:00:00         1              0   \n",
       "1163   159163   200,203.0 2140-04-07 00:00:00         1              0   \n",
       "1164   159163   200,203.0 2140-04-07 04:00:00         1              0   \n",
       "1165   159163   200,203.0 2140-04-07 04:07:00         1              0   \n",
       "1166   159163   200,203.0 2140-04-07 08:00:00         1              0   \n",
       "1167   159163   200,203.0 2140-04-07 12:00:00         1              0   \n",
       "1168   159163   200,203.0 2140-04-07 13:03:00         0              1   \n",
       "1169   159163   200,203.0 2140-04-07 13:27:00         0              0   \n",
       "1170   159163   200,203.0 2140-04-07 16:00:00         0              1   \n",
       "1171   159163   200,203.0 2140-04-08 00:00:00         0              1   \n",
       "\n",
       "      extubated  selfextubated   ex  \n",
       "1162          0              0  nan  \n",
       "1163          0              0  0.0  \n",
       "1164          0              0  0.0  \n",
       "1165          0              0  0.0  \n",
       "1166          0              0  0.0  \n",
       "1167          0              0  0.0  \n",
       "1168          0              0 -1.0  \n",
       "1169          1              0  0.0  \n",
       "1170          0              0  0.0  \n",
       "1171          0              0  0.0  "
      ]
     },
     "execution_count": 42,
     "metadata": {},
     "output_type": "execute_result"
    }
   ],
   "source": [
    "df_extub[(df.icustay_id == 200203)].sort_values(by='charttime')"
   ]
  },
  {
   "cell_type": "markdown",
   "metadata": {},
   "source": [
    "As you can see, the oxygentherapy has been documented here first and then the extubation. Due to the temporal proximity and the presumably dynamic documentation of an intensive care unit, the end of mechanical ventilation is determined as extubation. The time is needed to extract the last data before the extubation from the table chartevents. Therefore, a very precise time is not decisive here."
   ]
  },
  {
   "cell_type": "code",
   "execution_count": 43,
   "metadata": {},
   "outputs": [
    {
     "data": {
      "text/html": [
       "<div>\n",
       "<style scoped>\n",
       "    .dataframe tbody tr th:only-of-type {\n",
       "        vertical-align: middle;\n",
       "    }\n",
       "\n",
       "    .dataframe tbody tr th {\n",
       "        vertical-align: top;\n",
       "    }\n",
       "\n",
       "    .dataframe thead th {\n",
       "        text-align: right;\n",
       "    }\n",
       "</style>\n",
       "<table border=\"1\" class=\"dataframe\">\n",
       "  <thead>\n",
       "    <tr style=\"text-align: right;\">\n",
       "      <th></th>\n",
       "      <th>hadm_id</th>\n",
       "      <th>icustay_id</th>\n",
       "      <th>charttime</th>\n",
       "      <th>mechvent</th>\n",
       "      <th>oxygentherapy</th>\n",
       "      <th>extubated</th>\n",
       "      <th>selfextubated</th>\n",
       "      <th>ex</th>\n",
       "    </tr>\n",
       "  </thead>\n",
       "  <tbody>\n",
       "    <tr>\n",
       "      <th>0</th>\n",
       "      <td>189514</td>\n",
       "      <td>200,006.0</td>\n",
       "      <td>2159-09-03 13:00:00</td>\n",
       "      <td>1</td>\n",
       "      <td>0</td>\n",
       "      <td>0</td>\n",
       "      <td>0</td>\n",
       "      <td>nan</td>\n",
       "    </tr>\n",
       "    <tr>\n",
       "      <th>1</th>\n",
       "      <td>189514</td>\n",
       "      <td>200,006.0</td>\n",
       "      <td>2159-09-03 16:50:00</td>\n",
       "      <td>1</td>\n",
       "      <td>0</td>\n",
       "      <td>0</td>\n",
       "      <td>0</td>\n",
       "      <td>0.0</td>\n",
       "    </tr>\n",
       "    <tr>\n",
       "      <th>2</th>\n",
       "      <td>189514</td>\n",
       "      <td>200,006.0</td>\n",
       "      <td>2159-09-03 20:00:00</td>\n",
       "      <td>1</td>\n",
       "      <td>0</td>\n",
       "      <td>0</td>\n",
       "      <td>0</td>\n",
       "      <td>0.0</td>\n",
       "    </tr>\n",
       "    <tr>\n",
       "      <th>3</th>\n",
       "      <td>189514</td>\n",
       "      <td>200,006.0</td>\n",
       "      <td>2159-09-03 23:30:00</td>\n",
       "      <td>1</td>\n",
       "      <td>0</td>\n",
       "      <td>0</td>\n",
       "      <td>0</td>\n",
       "      <td>0.0</td>\n",
       "    </tr>\n",
       "    <tr>\n",
       "      <th>4</th>\n",
       "      <td>189514</td>\n",
       "      <td>200,006.0</td>\n",
       "      <td>2159-09-04 03:50:00</td>\n",
       "      <td>1</td>\n",
       "      <td>0</td>\n",
       "      <td>0</td>\n",
       "      <td>0</td>\n",
       "      <td>0.0</td>\n",
       "    </tr>\n",
       "    <tr>\n",
       "      <th>5</th>\n",
       "      <td>189514</td>\n",
       "      <td>200,006.0</td>\n",
       "      <td>2159-09-04 07:00:00</td>\n",
       "      <td>0</td>\n",
       "      <td>1</td>\n",
       "      <td>0</td>\n",
       "      <td>0</td>\n",
       "      <td>-1.0</td>\n",
       "    </tr>\n",
       "    <tr>\n",
       "      <th>6</th>\n",
       "      <td>189514</td>\n",
       "      <td>200,006.0</td>\n",
       "      <td>2159-09-04 11:00:00</td>\n",
       "      <td>0</td>\n",
       "      <td>1</td>\n",
       "      <td>0</td>\n",
       "      <td>0</td>\n",
       "      <td>0.0</td>\n",
       "    </tr>\n",
       "    <tr>\n",
       "      <th>7</th>\n",
       "      <td>189514</td>\n",
       "      <td>200,006.0</td>\n",
       "      <td>2159-09-04 17:00:00</td>\n",
       "      <td>0</td>\n",
       "      <td>1</td>\n",
       "      <td>0</td>\n",
       "      <td>0</td>\n",
       "      <td>0.0</td>\n",
       "    </tr>\n",
       "  </tbody>\n",
       "</table>\n",
       "</div>"
      ],
      "text/plain": [
       "   hadm_id  icustay_id           charttime  mechvent  oxygentherapy  \\\n",
       "0   189514   200,006.0 2159-09-03 13:00:00         1              0   \n",
       "1   189514   200,006.0 2159-09-03 16:50:00         1              0   \n",
       "2   189514   200,006.0 2159-09-03 20:00:00         1              0   \n",
       "3   189514   200,006.0 2159-09-03 23:30:00         1              0   \n",
       "4   189514   200,006.0 2159-09-04 03:50:00         1              0   \n",
       "5   189514   200,006.0 2159-09-04 07:00:00         0              1   \n",
       "6   189514   200,006.0 2159-09-04 11:00:00         0              1   \n",
       "7   189514   200,006.0 2159-09-04 17:00:00         0              1   \n",
       "\n",
       "   extubated  selfextubated   ex  \n",
       "0          0              0  nan  \n",
       "1          0              0  0.0  \n",
       "2          0              0  0.0  \n",
       "3          0              0  0.0  \n",
       "4          0              0  0.0  \n",
       "5          0              0 -1.0  \n",
       "6          0              0  0.0  \n",
       "7          0              0  0.0  "
      ]
     },
     "execution_count": 43,
     "metadata": {},
     "output_type": "execute_result"
    }
   ],
   "source": [
    "df_extub[(df.icustay_id == 200006)].sort_values(by='charttime')"
   ]
  },
  {
   "cell_type": "markdown",
   "metadata": {},
   "source": [
    "Considering the creation of the table 'vent_settings', which indicates the beginning of oxygen therapy the ventilation has ended, the column 'extubated' is not complete."
   ]
  },
  {
   "cell_type": "code",
   "execution_count": 44,
   "metadata": {},
   "outputs": [],
   "source": [
    "# Creating query for extubation timestamps\n",
    "sql = \"\"\"select distinct i2.hadm_id, ve.icustay_id, ve.charttime\n",
    "        from vw_extubations ve \n",
    "        inner JOIN icustays i2 ON i2.icustay_id::numeric = ve.icustay_id\n",
    "        where ve.ex = -1\n",
    "        group by i2.hadm_id, ve.icustay_id, ve.charttime\n",
    "        order by ve.icustay_id\"\"\"\n",
    "df_extub_time = pd.read_sql(sql, conn)"
   ]
  },
  {
   "cell_type": "code",
   "execution_count": 45,
   "metadata": {},
   "outputs": [
    {
     "data": {
      "text/html": [
       "<div>\n",
       "<style scoped>\n",
       "    .dataframe tbody tr th:only-of-type {\n",
       "        vertical-align: middle;\n",
       "    }\n",
       "\n",
       "    .dataframe tbody tr th {\n",
       "        vertical-align: top;\n",
       "    }\n",
       "\n",
       "    .dataframe thead th {\n",
       "        text-align: right;\n",
       "    }\n",
       "</style>\n",
       "<table border=\"1\" class=\"dataframe\">\n",
       "  <thead>\n",
       "    <tr style=\"text-align: right;\">\n",
       "      <th></th>\n",
       "      <th>hadm_id</th>\n",
       "      <th>icustay_id</th>\n",
       "      <th>charttime</th>\n",
       "    </tr>\n",
       "  </thead>\n",
       "  <tbody>\n",
       "    <tr>\n",
       "      <th>0</th>\n",
       "      <td>189514</td>\n",
       "      <td>200,006.0</td>\n",
       "      <td>2159-09-04 07:00:00</td>\n",
       "    </tr>\n",
       "    <tr>\n",
       "      <th>1</th>\n",
       "      <td>199133</td>\n",
       "      <td>200,059.0</td>\n",
       "      <td>2198-02-17 14:30:00</td>\n",
       "    </tr>\n",
       "    <tr>\n",
       "      <th>2</th>\n",
       "      <td>199133</td>\n",
       "      <td>200,059.0</td>\n",
       "      <td>2198-02-17 19:00:00</td>\n",
       "    </tr>\n",
       "    <tr>\n",
       "      <th>3</th>\n",
       "      <td>199133</td>\n",
       "      <td>200,059.0</td>\n",
       "      <td>2198-02-18 11:15:00</td>\n",
       "    </tr>\n",
       "    <tr>\n",
       "      <th>4</th>\n",
       "      <td>199133</td>\n",
       "      <td>200,059.0</td>\n",
       "      <td>2198-02-19 07:32:00</td>\n",
       "    </tr>\n",
       "  </tbody>\n",
       "</table>\n",
       "</div>"
      ],
      "text/plain": [
       "   hadm_id  icustay_id           charttime\n",
       "0   189514   200,006.0 2159-09-04 07:00:00\n",
       "1   199133   200,059.0 2198-02-17 14:30:00\n",
       "2   199133   200,059.0 2198-02-17 19:00:00\n",
       "3   199133   200,059.0 2198-02-18 11:15:00\n",
       "4   199133   200,059.0 2198-02-19 07:32:00"
      ]
     },
     "execution_count": 45,
     "metadata": {},
     "output_type": "execute_result"
    }
   ],
   "source": [
    "df_extub_time.head()"
   ]
  },
  {
   "cell_type": "markdown",
   "metadata": {},
   "source": [
    "Some icustay's includes more than one extubation. Saving that query as: `vw_timestamp_extubation`"
   ]
  },
  {
   "cell_type": "code",
   "execution_count": null,
   "metadata": {},
   "outputs": [],
   "source": []
  },
  {
   "cell_type": "markdown",
   "metadata": {},
   "source": [
    "## Create the label"
   ]
  },
  {
   "cell_type": "markdown",
   "metadata": {},
   "source": [
    "In order to determine the success of the first extubation, we need its time and, if available, also the first intubation. For the classification we also need the time between ex- and intubation. "
   ]
  },
  {
   "cell_type": "code",
   "execution_count": 49,
   "metadata": {},
   "outputs": [],
   "source": [
    "# Calculated the time between extubation and the next possible intubation in hours\n",
    "# and axtract the first changes of mechanical ventilation\n",
    "sql = \"\"\"SELECT first_tube.hadm_id,\n",
    "            first_tube.icustay_id,\n",
    "            first_tube.ts_first,\n",
    "            first_tube.ex,\n",
    "            date_part('epoch'::text, first_tube.ts_first - lag(first_tube.ts_first, 1) OVER (PARTITION BY first_tube.icustay_id ORDER BY first_tube.ts_first)) / 3600::double precision AS dauer_h\n",
    "           FROM \n",
    "                ( SELECT ve.hadm_id,\n",
    "                    ve.icustay_id,\n",
    "                    min(ve.charttime) AS ts_first,\t--first timestamp of the change\n",
    "                    ve.ex\n",
    "                   FROM vw_extubations ve\n",
    "                  WHERE ve.ex <> 0\n",
    "                  GROUP BY ve.hadm_id, ve.icustay_id, ve.ex\n",
    "                  ORDER BY ve.icustay_id, (min(ve.charttime))) first_tube\n",
    "          ORDER BY first_tube.icustay_id, first_tube.ts_first\"\"\"\n",
    "df_ex_ts = pd.read_sql(sql, conn)"
   ]
  },
  {
   "cell_type": "code",
   "execution_count": 50,
   "metadata": {},
   "outputs": [
    {
     "data": {
      "text/html": [
       "<div>\n",
       "<style scoped>\n",
       "    .dataframe tbody tr th:only-of-type {\n",
       "        vertical-align: middle;\n",
       "    }\n",
       "\n",
       "    .dataframe tbody tr th {\n",
       "        vertical-align: top;\n",
       "    }\n",
       "\n",
       "    .dataframe thead th {\n",
       "        text-align: right;\n",
       "    }\n",
       "</style>\n",
       "<table border=\"1\" class=\"dataframe\">\n",
       "  <thead>\n",
       "    <tr style=\"text-align: right;\">\n",
       "      <th></th>\n",
       "      <th>hadm_id</th>\n",
       "      <th>icustay_id</th>\n",
       "      <th>ts_first</th>\n",
       "      <th>ex</th>\n",
       "      <th>dauer_h</th>\n",
       "    </tr>\n",
       "  </thead>\n",
       "  <tbody>\n",
       "    <tr>\n",
       "      <th>0</th>\n",
       "      <td>189514</td>\n",
       "      <td>200,006.0</td>\n",
       "      <td>2159-09-04 07:00:00</td>\n",
       "      <td>-1</td>\n",
       "      <td>nan</td>\n",
       "    </tr>\n",
       "    <tr>\n",
       "      <th>1</th>\n",
       "      <td>199133</td>\n",
       "      <td>200,059.0</td>\n",
       "      <td>2198-02-17 14:30:00</td>\n",
       "      <td>-1</td>\n",
       "      <td>nan</td>\n",
       "    </tr>\n",
       "    <tr>\n",
       "      <th>2</th>\n",
       "      <td>199133</td>\n",
       "      <td>200,059.0</td>\n",
       "      <td>2198-02-17 15:00:00</td>\n",
       "      <td>1</td>\n",
       "      <td>0.5</td>\n",
       "    </tr>\n",
       "    <tr>\n",
       "      <th>3</th>\n",
       "      <td>129142</td>\n",
       "      <td>200,063.0</td>\n",
       "      <td>2141-03-15 14:09:00</td>\n",
       "      <td>-1</td>\n",
       "      <td>nan</td>\n",
       "    </tr>\n",
       "    <tr>\n",
       "      <th>4</th>\n",
       "      <td>129142</td>\n",
       "      <td>200,063.0</td>\n",
       "      <td>2141-03-16 09:00:00</td>\n",
       "      <td>1</td>\n",
       "      <td>18.85</td>\n",
       "    </tr>\n",
       "  </tbody>\n",
       "</table>\n",
       "</div>"
      ],
      "text/plain": [
       "   hadm_id  icustay_id            ts_first  ex  dauer_h\n",
       "0   189514   200,006.0 2159-09-04 07:00:00  -1      nan\n",
       "1   199133   200,059.0 2198-02-17 14:30:00  -1      nan\n",
       "2   199133   200,059.0 2198-02-17 15:00:00   1      0.5\n",
       "3   129142   200,063.0 2141-03-15 14:09:00  -1      nan\n",
       "4   129142   200,063.0 2141-03-16 09:00:00   1    18.85"
      ]
     },
     "execution_count": 50,
     "metadata": {},
     "output_type": "execute_result"
    }
   ],
   "source": [
    "df_ex_ts.head()"
   ]
  },
  {
   "cell_type": "code",
   "execution_count": 54,
   "metadata": {},
   "outputs": [],
   "source": [
    "# Add the label: \n",
    "# duration betwenn in- or extubation is greater then 48h or nan, then 1\n",
    "# else 1\n",
    "sql = \"\"\"SELECT res.hadm_id,\n",
    "            res.icustay_id,\n",
    "            res.dauer,\n",
    "            res.label\n",
    "           FROM \n",
    "                ( SELECT duration.hadm_id,\n",
    "                    duration.icustay_id,\n",
    "                    max(duration.dauer_h) AS dauer,\n",
    "                        CASE\n",
    "                            WHEN max(duration.dauer_h) IS NULL THEN 1\n",
    "                            WHEN max(duration.dauer_h) > 48::double precision THEN 1\n",
    "                            ELSE 0\n",
    "                        END AS label\n",
    "                   FROM \n",
    "                        ( SELECT first_tube.hadm_id,\n",
    "                            first_tube.icustay_id,\n",
    "                            first_tube.ts_first,\n",
    "                            first_tube.ex,\n",
    "                            date_part('epoch'::text, first_tube.ts_first - lag(first_tube.ts_first, 1) OVER (PARTITION BY first_tube.icustay_id ORDER BY first_tube.ts_first)) / 3600::double precision AS dauer_h\n",
    "                           FROM \n",
    "                                ( SELECT ve.hadm_id,\n",
    "                                    ve.icustay_id,\n",
    "                                    min(ve.charttime) AS ts_first,\t--first timestamp of the change\n",
    "                                    ve.ex\n",
    "                                   FROM vw_extubations ve\n",
    "                                  WHERE ve.ex <> 0\n",
    "                                  GROUP BY ve.hadm_id, ve.icustay_id, ve.ex\n",
    "                                  ORDER BY ve.icustay_id, (min(ve.charttime))) first_tube\n",
    "                          ORDER BY first_tube.icustay_id, first_tube.ts_first) duration\n",
    "                  GROUP BY duration.hadm_id, duration.icustay_id\n",
    "                  ORDER BY duration.icustay_id) res\n",
    "          WHERE res.dauer <> 0::double precision OR res.dauer IS NULL\"\"\"\n",
    "df_label_ex = pd.read_sql(sql, conn)"
   ]
  },
  {
   "cell_type": "code",
   "execution_count": 62,
   "metadata": {},
   "outputs": [
    {
     "data": {
      "text/html": [
       "<div>\n",
       "<style scoped>\n",
       "    .dataframe tbody tr th:only-of-type {\n",
       "        vertical-align: middle;\n",
       "    }\n",
       "\n",
       "    .dataframe tbody tr th {\n",
       "        vertical-align: top;\n",
       "    }\n",
       "\n",
       "    .dataframe thead th {\n",
       "        text-align: right;\n",
       "    }\n",
       "</style>\n",
       "<table border=\"1\" class=\"dataframe\">\n",
       "  <thead>\n",
       "    <tr style=\"text-align: right;\">\n",
       "      <th></th>\n",
       "      <th>hadm_id</th>\n",
       "      <th>icustay_id</th>\n",
       "      <th>dauer</th>\n",
       "      <th>label</th>\n",
       "    </tr>\n",
       "  </thead>\n",
       "  <tbody>\n",
       "    <tr>\n",
       "      <th>0</th>\n",
       "      <td>189514</td>\n",
       "      <td>200,006.0</td>\n",
       "      <td>nan</td>\n",
       "      <td>1</td>\n",
       "    </tr>\n",
       "    <tr>\n",
       "      <th>1</th>\n",
       "      <td>199133</td>\n",
       "      <td>200,059.0</td>\n",
       "      <td>0.5</td>\n",
       "      <td>0</td>\n",
       "    </tr>\n",
       "    <tr>\n",
       "      <th>2</th>\n",
       "      <td>129142</td>\n",
       "      <td>200,063.0</td>\n",
       "      <td>18.85</td>\n",
       "      <td>0</td>\n",
       "    </tr>\n",
       "    <tr>\n",
       "      <th>3</th>\n",
       "      <td>112840</td>\n",
       "      <td>200,065.0</td>\n",
       "      <td>nan</td>\n",
       "      <td>1</td>\n",
       "    </tr>\n",
       "    <tr>\n",
       "      <th>4</th>\n",
       "      <td>113580</td>\n",
       "      <td>200,077.0</td>\n",
       "      <td>0.5</td>\n",
       "      <td>0</td>\n",
       "    </tr>\n",
       "  </tbody>\n",
       "</table>\n",
       "</div>"
      ],
      "text/plain": [
       "   hadm_id  icustay_id  dauer  label\n",
       "0   189514   200,006.0    nan      1\n",
       "1   199133   200,059.0    0.5      0\n",
       "2   129142   200,063.0  18.85      0\n",
       "3   112840   200,065.0    nan      1\n",
       "4   113580   200,077.0    0.5      0"
      ]
     },
     "execution_count": 62,
     "metadata": {},
     "output_type": "execute_result"
    }
   ],
   "source": [
    "df_label_ex.head()"
   ]
  },
  {
   "cell_type": "markdown",
   "metadata": {},
   "source": [
    "Saving this query as `vw_label_extubations`"
   ]
  },
  {
   "cell_type": "code",
   "execution_count": 73,
   "metadata": {},
   "outputs": [
    {
     "data": {
      "text/plain": [
       "1015"
      ]
     },
     "execution_count": 73,
     "metadata": {},
     "output_type": "execute_result"
    }
   ],
   "source": [
    "df_label_ex[(df_label_ex.dauer > 48)].hadm_id.count()"
   ]
  },
  {
   "cell_type": "code",
   "execution_count": 76,
   "metadata": {},
   "outputs": [
    {
     "data": {
      "text/plain": [
       "3112"
      ]
     },
     "execution_count": 76,
     "metadata": {},
     "output_type": "execute_result"
    }
   ],
   "source": [
    "df_label_ex[(df_label_ex.dauer.isna())].hadm_id.count()"
   ]
  },
  {
   "cell_type": "code",
   "execution_count": 77,
   "metadata": {},
   "outputs": [
    {
     "data": {
      "text/plain": [
       "2071"
      ]
     },
     "execution_count": 77,
     "metadata": {},
     "output_type": "execute_result"
    }
   ],
   "source": [
    "df_label_ex[(df_label_ex.label == 0)].hadm_id.count()"
   ]
  },
  {
   "cell_type": "code",
   "execution_count": 55,
   "metadata": {},
   "outputs": [
    {
     "data": {
      "text/plain": [
       "(6198, 4)"
      ]
     },
     "execution_count": 55,
     "metadata": {},
     "output_type": "execute_result"
    }
   ],
   "source": [
    "df_label_ex.shape"
   ]
  },
  {
   "cell_type": "code",
   "execution_count": 59,
   "metadata": {},
   "outputs": [
    {
     "data": {
      "text/plain": [
       "label\n",
       "0    2071\n",
       "1    4127\n",
       "Name: icustay_id, dtype: int64"
      ]
     },
     "execution_count": 59,
     "metadata": {},
     "output_type": "execute_result"
    }
   ],
   "source": [
    "df_label_ex.groupby('label').icustay_id.count()"
   ]
  },
  {
   "cell_type": "code",
   "execution_count": 102,
   "metadata": {},
   "outputs": [
    {
     "data": {
      "image/png": "[encoded data removed]",
      "text/plain": [
       "<Figure size 1152x936 with 2 Axes>"
      ]
     },
     "metadata": {
      "needs_background": "light"
     },
     "output_type": "display_data"
    }
   ],
   "source": [
    "fig = plt.figure(figsize=(16,13))\n",
    "ax1 = fig.add_subplot(2, 2, 1)\n",
    "x_val1 = ['failed', 'success']\n",
    "y_val1 = df_label_ex.groupby('label').icustay_id.count()\n",
    "ax1.bar(x= x_val1, height=y_val1)\n",
    "for _, value in enumerate(y_val1):\n",
    "    plt.text(x_val1[_], value, str(value), fontsize=14,\n",
    "            horizontalalignment='center', va='bottom')\n",
    "plt.ylabel('Amount of ICU-stays')\n",
    "plt.xlabel('Extubations')\n",
    "plt.title('Counting the extubations of an ICU stay')\n",
    "\n",
    "ax2 = fig.add_subplot(2, 2, 2)\n",
    "x_val2 = ['extubed once', 'extubed multiple times', 'failed']\n",
    "y_val2 = [df_label_ex[(df_label_ex.dauer.isna())].hadm_id.count(),\n",
    "         df_label_ex[(df_label_ex.dauer > 48)].hadm_id.count(),\n",
    "         df_label_ex[(df_label_ex.label == 0)].hadm_id.count()]\n",
    "ax2.bar(x= x_val2, height=y_val2)\n",
    "\n",
    "for _, value in enumerate(y_val2):\n",
    "    plt.text(x_val2[_], value, str(value), fontsize=14,\n",
    "            horizontalalignment='center', va='bottom')\n",
    "\n",
    "plt.ylabel('Amount of ICU-stays')\n",
    "plt.xlabel('Extubations')\n",
    "plt.title('Counting the extubations of an ICU stay')\n",
    "plt.savefig('./images/label_extubations.png')\n",
    "plt.show();"
   ]
  },
  {
   "cell_type": "code",
   "execution_count": 56,
   "metadata": {},
   "outputs": [
    {
     "data": {
      "text/plain": [
       "5818"
      ]
     },
     "execution_count": 56,
     "metadata": {},
     "output_type": "execute_result"
    }
   ],
   "source": [
    "df_label_ex.hadm_id.nunique()"
   ]
  },
  {
   "cell_type": "code",
   "execution_count": 57,
   "metadata": {},
   "outputs": [
    {
     "data": {
      "text/plain": [
       "6198"
      ]
     },
     "execution_count": 57,
     "metadata": {},
     "output_type": "execute_result"
    }
   ],
   "source": [
    "df_label_ex.icustay_id.nunique()"
   ]
  },
  {
   "cell_type": "markdown",
   "metadata": {},
   "source": [
    "Some patients have been successfully extubated more often during their stay in hospital."
   ]
  },
  {
   "cell_type": "code",
   "execution_count": null,
   "metadata": {},
   "outputs": [],
   "source": []
  },
  {
   "cell_type": "code",
   "execution_count": null,
   "metadata": {},
   "outputs": [],
   "source": []
  },
  {
   "cell_type": "code",
   "execution_count": null,
   "metadata": {},
   "outputs": [],
   "source": []
  },
  {
   "cell_type": "markdown",
   "metadata": {},
   "source": [
    "## Unknown"
   ]
  },
  {
   "cell_type": "code",
   "execution_count": null,
   "metadata": {},
   "outputs": [],
   "source": [
    "df.groupby('extubated').count()"
   ]
  },
  {
   "cell_type": "code",
   "execution_count": null,
   "metadata": {},
   "outputs": [],
   "source": [
    "err_ext = list(df_count_ex[df_count_ex == 0].index)"
   ]
  },
  {
   "cell_type": "code",
   "execution_count": null,
   "metadata": {},
   "outputs": [],
   "source": [
    "len(err_ext)"
   ]
  },
  {
   "cell_type": "code",
   "execution_count": null,
   "metadata": {},
   "outputs": [],
   "source": [
    "sql = \"\"\"select * from transfers\"\"\"\n",
    "df_icuunit = pd.read_sql(sql, conn)\n",
    "\n",
    "df_icuunit = df_icuunit[df_icuunit.icustay_id.isin(err_ext)]\n",
    "df_icuunit = df_icuunit[['icustay_id', 'curr_careunit']]\n",
    "df_icuunit.drop_duplicates(inplace=True)"
   ]
  },
  {
   "cell_type": "code",
   "execution_count": null,
   "metadata": {},
   "outputs": [],
   "source": [
    "df_plot = df_icuunit.groupby('curr_careunit').count()"
   ]
  },
  {
   "cell_type": "code",
   "execution_count": null,
   "metadata": {},
   "outputs": [],
   "source": [
    "fig = plt.figure(figsize=(10,7))\n",
    "ax = fig.add_subplot(1, 1, 1)\n",
    "ax.bar(list(df_plot.index), height=list(df_plot.values.flatten()))\n",
    "plt.ylabel('Missing extubations')\n",
    "plt.xlabel('ICU units')\n",
    "plt.title('Not documented extubations')\n",
    "plt.savefig('./images/missing_extubations_per_unit.png')\n",
    "plt.show();"
   ]
  },
  {
   "cell_type": "code",
   "execution_count": null,
   "metadata": {},
   "outputs": [],
   "source": [
    " df_plot"
   ]
  },
  {
   "cell_type": "code",
   "execution_count": null,
   "metadata": {},
   "outputs": [],
   "source": [
    "df_qry = df[df.icustay_id == 200063]"
   ]
  },
  {
   "cell_type": "code",
   "execution_count": null,
   "metadata": {},
   "outputs": [],
   "source": [
    "df_qry.head()"
   ]
  },
  {
   "cell_type": "code",
   "execution_count": null,
   "metadata": {
    "scrolled": true
   },
   "outputs": [],
   "source": [
    "df_qry['extube'] = df_qry['mechvent'].diff()\n",
    "# df_qry['extube'] = df_qry['extube'].pow(2)"
   ]
  },
  {
   "cell_type": "code",
   "execution_count": null,
   "metadata": {},
   "outputs": [],
   "source": [
    "df_qry['oxy'] = df_qry['oxygentherapy'].diff()\n",
    "# df_qry['oxy'] = df_qry['oxy'].pow(2)"
   ]
  },
  {
   "cell_type": "code",
   "execution_count": null,
   "metadata": {},
   "outputs": [],
   "source": [
    "df_qry.extube.fillna(0, inplace=True)\n",
    "df_qry.oxy.fillna(0, inplace=True)"
   ]
  },
  {
   "cell_type": "code",
   "execution_count": null,
   "metadata": {},
   "outputs": [],
   "source": [
    "df_qry.loc[160:180]"
   ]
  },
  {
   "cell_type": "code",
   "execution_count": null,
   "metadata": {},
   "outputs": [],
   "source": [
    "df_qry[(df_qry['extube'] != 0) | (df_qry['oxy'] != 0)]"
   ]
  },
  {
   "cell_type": "markdown",
   "metadata": {},
   "source": [
    "**Oxygentherapy** is ventilation without intubation"
   ]
  },
  {
   "cell_type": "markdown",
   "metadata": {},
   "source": [
    "**Check extubation**"
   ]
  },
  {
   "cell_type": "code",
   "execution_count": null,
   "metadata": {},
   "outputs": [],
   "source": [
    "icustay_ids = df['icustay_id'].unique()\n",
    "print(len(icustay_ids))"
   ]
  },
  {
   "cell_type": "code",
   "execution_count": null,
   "metadata": {},
   "outputs": [],
   "source": [
    "sql = \"\"\"select distinct icustay_id \n",
    "        from vw_extubations ve \n",
    "        where extubated = 1\"\"\"\n",
    "df_icu_ext = pd.read_sql(sql, conn)"
   ]
  },
  {
   "cell_type": "code",
   "execution_count": null,
   "metadata": {},
   "outputs": [],
   "source": [
    "df_icu_ext.shape"
   ]
  },
  {
   "cell_type": "code",
   "execution_count": null,
   "metadata": {},
   "outputs": [],
   "source": [
    "print(f'Documentation of extubations: {df_icu_ext.shape[0] / len(icustay_ids) * 100:.1f} %')"
   ]
  },
  {
   "cell_type": "markdown",
   "metadata": {},
   "source": [
    "There are 4,123 ICU stays with explicit documentated extubation. And 7,513 ICU stays totally."
   ]
  },
  {
   "cell_type": "code",
   "execution_count": null,
   "metadata": {},
   "outputs": [],
   "source": [
    "df['extube'] = df['mechvent'].diff()\n",
    "df.extube.fillna(0, inplace=True)"
   ]
  },
  {
   "cell_type": "code",
   "execution_count": null,
   "metadata": {},
   "outputs": [],
   "source": [
    "df.head()"
   ]
  },
  {
   "cell_type": "code",
   "execution_count": null,
   "metadata": {
    "scrolled": true
   },
   "outputs": [],
   "source": [
    "df[(df['extube'] < 0) & (~df['icustay_id'].isin(err_ext))].sample(10)"
   ]
  },
  {
   "cell_type": "markdown",
   "metadata": {},
   "source": [
    "Möglicherweise ist die Beendigung der mechanischen Beatmung ein häufigeres und ebenso genaues Merkmal.We need another marker to get the timestamp of the extubation. "
   ]
  },
  {
   "cell_type": "code",
   "execution_count": null,
   "metadata": {},
   "outputs": [],
   "source": [
    "df[(df['extubated'] == 1)].groupby('extube').count()"
   ]
  },
  {
   "cell_type": "code",
   "execution_count": null,
   "metadata": {},
   "outputs": [],
   "source": [
    "for i in icustay_ids:\n",
    "    df[(df['icustay_id'] == i)]['extube'] = df[(df['icustay_id'] == i)].mechvent.diff()"
   ]
  },
  {
   "cell_type": "code",
   "execution_count": null,
   "metadata": {},
   "outputs": [],
   "source": [
    "df.groupby('extube').count()"
   ]
  },
  {
   "cell_type": "code",
   "execution_count": 13,
   "metadata": {},
   "outputs": [],
   "source": [
    "conn.close()"
   ]
  },
  {
   "cell_type": "code",
   "execution_count": null,
   "metadata": {},
   "outputs": [],
   "source": [
    "df.drop('extube', axis=1, inplace=True)"
   ]
  },
  {
   "cell_type": "code",
   "execution_count": null,
   "metadata": {},
   "outputs": [],
   "source": []
  },
  {
   "cell_type": "code",
   "execution_count": null,
   "metadata": {},
   "outputs": [],
   "source": []
  },
  {
   "cell_type": "markdown",
   "metadata": {},
   "source": [
    "# Creating the final queries"
   ]
  },
  {
   "cell_type": "markdown",
   "metadata": {},
   "source": [
    "## Patient_Group"
   ]
  },
  {
   "cell_type": "markdown",
   "metadata": {},
   "source": [
    "Create the query to get the static features of entries already found in hadm_overview "
   ]
  },
  {
   "cell_type": "code",
   "execution_count": 107,
   "metadata": {},
   "outputs": [],
   "source": [
    "sql = \"\"\"SELECT DISTINCT vle.label,\n",
    "            ho.hadm_id,\n",
    "            icu.icustay_id,\n",
    "            a.\"SUBJECT_ID\",\n",
    "            p.gender,\n",
    "            a.admittime,\n",
    "            p.dob,\n",
    "                CASE\n",
    "                    WHEN (date_part('year'::text, a.admittime) - date_part('year'::text, p.dob)) > 89::double precision THEN 90::double precision\n",
    "                    ELSE date_part('year'::text, a.admittime) - date_part('year'::text, p.dob)\n",
    "                END AS sub_age,\n",
    "            last_diagnosis.icd9_code AS last_icd9_code,\n",
    "            last_diagnosis.amount AS numb_diagn, \n",
    "            icu.last_careunit,\n",
    "            icu.los,\n",
    "            CASE\n",
    "                WHEN trach.hadm_id IS NOT NULL THEN 1\n",
    "                ELSE 0\n",
    "            END AS tracheo\n",
    "        FROM hadm_overview ho\n",
    "        JOIN admissions a ON a.hadm_id = ho.hadm_id\n",
    "        JOIN patients p ON p.subject_id = a.\"SUBJECT_ID\"\n",
    "        JOIN ( SELECT di.hadm_id,\n",
    "                di.icd9_code,\n",
    "                max_seq.last AS amount\n",
    "               FROM diagnoses_icd di\n",
    "                 JOIN ( SELECT di_1.hadm_id,\n",
    "                        max(di_1.seq_num) AS last\n",
    "                       FROM diagnoses_icd di_1\n",
    "                      GROUP BY di_1.hadm_id) max_seq ON max_seq.hadm_id = di.hadm_id AND max_seq.last = di.seq_num) last_diagnosis \n",
    "                      ON last_diagnosis.hadm_id = ho.hadm_id\n",
    "         JOIN ( SELECT DISTINCT i.hadm_id,\n",
    "                i.icustay_id,\n",
    "                i.last_careunit,\n",
    "                i.los\n",
    "               FROM icustays i\n",
    "                 LEFT JOIN ( SELECT vte.icustay_id,\n",
    "                        min(vte.charttime) AS first_extubation\n",
    "                       FROM vw_timestamp_extubation vte\n",
    "                      GROUP BY vte.icustay_id) ts ON ts.icustay_id = i.icustay_id::numeric\n",
    "              WHERE (i.hadm_id IN ( SELECT hadm_overview.hadm_id\n",
    "                       FROM hadm_overview)) AND ts.first_extubation >= i.intime AND ts.first_extubation <= i.outtime) icu ON icu.hadm_id = ho.hadm_id\n",
    "        JOIN vw_label_extubations vle ON vle.icustay_id = icu.icustay_id::numeric\n",
    "        LEFT JOIN ( SELECT d.hadm_id\n",
    "               FROM drgcodes d\n",
    "              WHERE d.description::text LIKE '%Tracheostomy%'::text) trach ON ho.hadm_id = trach.hadm_id\n",
    "        WHERE (ho.hadm_id IN ( SELECT hadm_overview.hadm_id\n",
    "                   FROM hadm_overview))\n",
    "        ORDER BY ho.hadm_id, icu.icustay_id\"\"\"\n",
    "df_goal = pd.read_sql(sql, conn)"
   ]
  },
  {
   "cell_type": "markdown",
   "metadata": {},
   "source": [
    "Saving the query as `vw_patient_group` "
   ]
  },
  {
   "cell_type": "code",
   "execution_count": 108,
   "metadata": {},
   "outputs": [
    {
     "data": {
      "text/plain": [
       "(5848, 13)"
      ]
     },
     "execution_count": 108,
     "metadata": {},
     "output_type": "execute_result"
    }
   ],
   "source": [
    "df_goal.shape"
   ]
  },
  {
   "cell_type": "code",
   "execution_count": 109,
   "metadata": {},
   "outputs": [],
   "source": [
    "df_goal.to_csv('data/patient_group.csv', encoding='UTF-8', index=False)"
   ]
  },
  {
   "cell_type": "code",
   "execution_count": null,
   "metadata": {},
   "outputs": [],
   "source": []
  },
  {
   "cell_type": "markdown",
   "metadata": {},
   "source": [
    "## Events from labevents"
   ]
  },
  {
   "cell_type": "code",
   "execution_count": 110,
   "metadata": {},
   "outputs": [],
   "source": [
    "sql = \"\"\"SELECT l.hadm_id,\n",
    "    last_val.icustay_id,\n",
    "    l.itemid,\n",
    "    l.value,\n",
    "    last_val.ts,\n",
    "        CASE\n",
    "            WHEN l.itemid = 50821 THEN 'Pa02'::text\n",
    "            WHEN l.itemid = 50802 THEN 'base_excess'::text\n",
    "            WHEN l.itemid = 50820 THEN 'pH'::text\n",
    "            WHEN l.itemid = 51222 THEN 'hb'::text\n",
    "            WHEN l.itemid = 51221 THEN 'hct'::text\n",
    "            WHEN l.itemid = 50912 THEN 'creatinin'::text\n",
    "            ELSE NULL::text\n",
    "        END AS item\n",
    "   FROM labevents l\n",
    "     JOIN ( SELECT last_events.hadm_id,\n",
    "            last_events.icustay_id,\n",
    "            last_events.itemid,\n",
    "            max(last_events.charttime) AS ts\n",
    "           FROM ( SELECT l2.hadm_id,\n",
    "                    l2.itemid,\n",
    "                    min_ts.icustay_id,\n",
    "                    l2.charttime,\n",
    "                    l2.value\n",
    "                   FROM labevents l2\n",
    "                   JOIN ( SELECT vte.hadm_id,\n",
    "                            vte.icustay_id,\n",
    "                            min(vte.charttime) AS ext_ts\n",
    "                           FROM vw_timestamp_extubation vte\n",
    "                          GROUP BY vte.hadm_id, vte.icustay_id) min_ts ON min_ts.hadm_id = l2.hadm_id AND min_ts.ext_ts > l2.charttime\n",
    "                  WHERE l2.itemid = ANY (ARRAY[50821, 50802, 50820, 51222, 51221, 50912])) last_events\n",
    "          GROUP BY last_events.hadm_id, last_events.icustay_id, last_events.itemid) last_val ON last_val.hadm_id = l.hadm_id AND last_val.itemid = l.itemid AND last_val.ts = l.charttime\n",
    "  ORDER BY l.hadm_id, last_val.icustay_id, l.itemid\"\"\"\n",
    "\n",
    "df_lab = pd.read_sql(sql, conn)"
   ]
  },
  {
   "cell_type": "code",
   "execution_count": 112,
   "metadata": {},
   "outputs": [
    {
     "data": {
      "text/html": [
       "<div>\n",
       "<style scoped>\n",
       "    .dataframe tbody tr th:only-of-type {\n",
       "        vertical-align: middle;\n",
       "    }\n",
       "\n",
       "    .dataframe tbody tr th {\n",
       "        vertical-align: top;\n",
       "    }\n",
       "\n",
       "    .dataframe thead th {\n",
       "        text-align: right;\n",
       "    }\n",
       "</style>\n",
       "<table border=\"1\" class=\"dataframe\">\n",
       "  <thead>\n",
       "    <tr style=\"text-align: right;\">\n",
       "      <th></th>\n",
       "      <th>hadm_id</th>\n",
       "      <th>icustay_id</th>\n",
       "      <th>itemid</th>\n",
       "      <th>value</th>\n",
       "      <th>ts</th>\n",
       "      <th>item</th>\n",
       "    </tr>\n",
       "  </thead>\n",
       "  <tbody>\n",
       "    <tr>\n",
       "      <th>0</th>\n",
       "      <td>100016</td>\n",
       "      <td>217,590.0</td>\n",
       "      <td>50802</td>\n",
       "      <td>2</td>\n",
       "      <td>2188-05-24 17:24:00</td>\n",
       "      <td>base_excess</td>\n",
       "    </tr>\n",
       "    <tr>\n",
       "      <th>1</th>\n",
       "      <td>100016</td>\n",
       "      <td>217,590.0</td>\n",
       "      <td>50820</td>\n",
       "      <td>7.43</td>\n",
       "      <td>2188-05-24 17:24:00</td>\n",
       "      <td>pH</td>\n",
       "    </tr>\n",
       "    <tr>\n",
       "      <th>2</th>\n",
       "      <td>100016</td>\n",
       "      <td>217,590.0</td>\n",
       "      <td>50821</td>\n",
       "      <td>86</td>\n",
       "      <td>2188-05-24 17:24:00</td>\n",
       "      <td>Pa02</td>\n",
       "    </tr>\n",
       "    <tr>\n",
       "      <th>3</th>\n",
       "      <td>100016</td>\n",
       "      <td>217,590.0</td>\n",
       "      <td>50912</td>\n",
       "      <td>1.1</td>\n",
       "      <td>2188-05-28 04:16:00</td>\n",
       "      <td>creatinin</td>\n",
       "    </tr>\n",
       "    <tr>\n",
       "      <th>4</th>\n",
       "      <td>100016</td>\n",
       "      <td>217,590.0</td>\n",
       "      <td>51221</td>\n",
       "      <td>31.1</td>\n",
       "      <td>2188-05-28 04:16:00</td>\n",
       "      <td>hct</td>\n",
       "    </tr>\n",
       "    <tr>\n",
       "      <th>5</th>\n",
       "      <td>100016</td>\n",
       "      <td>217,590.0</td>\n",
       "      <td>51222</td>\n",
       "      <td>10.3</td>\n",
       "      <td>2188-05-28 04:16:00</td>\n",
       "      <td>hb</td>\n",
       "    </tr>\n",
       "    <tr>\n",
       "      <th>6</th>\n",
       "      <td>100017</td>\n",
       "      <td>258,320.0</td>\n",
       "      <td>50802</td>\n",
       "      <td>4</td>\n",
       "      <td>2103-03-11 05:10:00</td>\n",
       "      <td>base_excess</td>\n",
       "    </tr>\n",
       "    <tr>\n",
       "      <th>7</th>\n",
       "      <td>100017</td>\n",
       "      <td>258,320.0</td>\n",
       "      <td>50820</td>\n",
       "      <td>7.52</td>\n",
       "      <td>2103-03-11 05:10:00</td>\n",
       "      <td>pH</td>\n",
       "    </tr>\n",
       "    <tr>\n",
       "      <th>8</th>\n",
       "      <td>100017</td>\n",
       "      <td>258,320.0</td>\n",
       "      <td>50821</td>\n",
       "      <td>171</td>\n",
       "      <td>2103-03-11 05:10:00</td>\n",
       "      <td>Pa02</td>\n",
       "    </tr>\n",
       "    <tr>\n",
       "      <th>9</th>\n",
       "      <td>100017</td>\n",
       "      <td>258,320.0</td>\n",
       "      <td>50912</td>\n",
       "      <td>0.8</td>\n",
       "      <td>2103-03-11 03:05:00</td>\n",
       "      <td>creatinin</td>\n",
       "    </tr>\n",
       "    <tr>\n",
       "      <th>10</th>\n",
       "      <td>100017</td>\n",
       "      <td>258,320.0</td>\n",
       "      <td>51221</td>\n",
       "      <td>41.4</td>\n",
       "      <td>2103-03-11 03:05:00</td>\n",
       "      <td>hct</td>\n",
       "    </tr>\n",
       "    <tr>\n",
       "      <th>11</th>\n",
       "      <td>100017</td>\n",
       "      <td>258,320.0</td>\n",
       "      <td>51222</td>\n",
       "      <td>14.3</td>\n",
       "      <td>2103-03-11 03:05:00</td>\n",
       "      <td>hb</td>\n",
       "    </tr>\n",
       "    <tr>\n",
       "      <th>12</th>\n",
       "      <td>100035</td>\n",
       "      <td>245,719.0</td>\n",
       "      <td>50802</td>\n",
       "      <td>10</td>\n",
       "      <td>2115-03-01 16:45:00</td>\n",
       "      <td>base_excess</td>\n",
       "    </tr>\n",
       "  </tbody>\n",
       "</table>\n",
       "</div>"
      ],
      "text/plain": [
       "    hadm_id  icustay_id  itemid value                  ts         item\n",
       "0    100016   217,590.0   50802     2 2188-05-24 17:24:00  base_excess\n",
       "1    100016   217,590.0   50820  7.43 2188-05-24 17:24:00           pH\n",
       "2    100016   217,590.0   50821    86 2188-05-24 17:24:00         Pa02\n",
       "3    100016   217,590.0   50912   1.1 2188-05-28 04:16:00    creatinin\n",
       "4    100016   217,590.0   51221  31.1 2188-05-28 04:16:00          hct\n",
       "5    100016   217,590.0   51222  10.3 2188-05-28 04:16:00           hb\n",
       "6    100017   258,320.0   50802     4 2103-03-11 05:10:00  base_excess\n",
       "7    100017   258,320.0   50820  7.52 2103-03-11 05:10:00           pH\n",
       "8    100017   258,320.0   50821   171 2103-03-11 05:10:00         Pa02\n",
       "9    100017   258,320.0   50912   0.8 2103-03-11 03:05:00    creatinin\n",
       "10   100017   258,320.0   51221  41.4 2103-03-11 03:05:00          hct\n",
       "11   100017   258,320.0   51222  14.3 2103-03-11 03:05:00           hb\n",
       "12   100035   245,719.0   50802    10 2115-03-01 16:45:00  base_excess"
      ]
     },
     "execution_count": 112,
     "metadata": {},
     "output_type": "execute_result"
    }
   ],
   "source": [
    "df_lab.head(13)"
   ]
  },
  {
   "cell_type": "code",
   "execution_count": 113,
   "metadata": {
    "scrolled": true
   },
   "outputs": [
    {
     "name": "stdout",
     "output_type": "stream",
     "text": [
      "<class 'pandas.core.frame.DataFrame'>\n",
      "RangeIndex: 35188 entries, 0 to 35187\n",
      "Data columns (total 6 columns):\n",
      "hadm_id       35188 non-null int64\n",
      "icustay_id    35188 non-null float64\n",
      "itemid        35188 non-null int64\n",
      "value         35188 non-null object\n",
      "ts            35188 non-null datetime64[ns]\n",
      "item          35188 non-null object\n",
      "dtypes: datetime64[ns](1), float64(1), int64(2), object(2)\n",
      "memory usage: 1.6+ MB\n"
     ]
    }
   ],
   "source": [
    "df_lab.info()"
   ]
  },
  {
   "cell_type": "code",
   "execution_count": 114,
   "metadata": {},
   "outputs": [],
   "source": [
    "df_lab.to_csv('data/labevents_pre_extub.csv', encoding='UTF-8', index=False)"
   ]
  },
  {
   "cell_type": "markdown",
   "metadata": {},
   "source": [
    "## Events from chartevents"
   ]
  },
  {
   "cell_type": "markdown",
   "metadata": {},
   "source": [
    "Shrink the size of chartevents and an item-name as additioal information. "
   ]
  },
  {
   "cell_type": "code",
   "execution_count": null,
   "metadata": {},
   "outputs": [],
   "source": [
    "sql = \"\"\"SELECT c.hadm_id, c.icustay_id, c.itemid, c.charttime,\n",
    "            c.value, c.valuenum, c.valueuom,\n",
    "            case \n",
    "                when c.itemid in (211, 220045) then 'hr' \n",
    "                when c.itemid in (52, 456, 225312, 220181, 220052) then 'blood_pr'\n",
    "                when c.itemid in (676,  677, 223762) then 'temp'\n",
    "                when c.itemid in (646, 834, 220277, 220227) then 'SaO2'\n",
    "                when c.itemid in (618 ,  220210 , 224688) then 'resp_rat'\n",
    "                when c.itemid in (445, 448, 449, 224687, 1340, 1486, 1600) then 'breath_min_vol'\n",
    "                when c.itemid in (189, 190, 3420, 3422, 223835) then 'FiO2'\n",
    "                when c.itemid in (681, 682, 683, 684, 224685, 224684, 224686) then 'tidal_vol'\n",
    "                when c.itemid in (444, 224697) then 'mean_insp_pressure'\n",
    "                when c.itemid in (506, 220339) then 'PEEP'\n",
    "                when c.itemid in (1127, 861, 1542, 220546) then 'leuko'\n",
    "                when c.itemid in (225668, 1531, 818) then 'lactic_acid'\n",
    "            end as item,\n",
    "            c.storetime, c.cgid, c.warning , c.error , c.resultstatus , c.stopped \n",
    "           FROM chartevents c\n",
    "          WHERE (c.hadm_id IN (SELECT hadm_overview.hadm_id FROM hadm_overview))\n",
    "            and c.itemid in (211, 220045,\n",
    "                            52, 456, 225312, 220181, 220052,\n",
    "                            676,  677, 223762,\n",
    "                            646, 834, 220277, 220227,\n",
    "                            618 ,  220210 , 224688,\n",
    "                            445, 448, 449, 224687, 1340, 1486, 1600,\n",
    "                            189, 190, 3420, 3422, 223835,\n",
    "                            681, 682, 683, 684, 224685, 224684, 224686,\n",
    "                            444, 224697,\n",
    "                            506, 220339,\n",
    "                            1127, 861, 1542, 220546,\n",
    "                            225668, 1531, 818)\"\"\"\n",
    "df_ce_1 = pd.read_sql(sql, conn)"
   ]
  },
  {
   "cell_type": "code",
   "execution_count": null,
   "metadata": {},
   "outputs": [],
   "source": [
    "df_ce_1.head(10)"
   ]
  },
  {
   "cell_type": "markdown",
   "metadata": {},
   "source": [
    "Save this query as view `vw_ce_filtered` "
   ]
  },
  {
   "cell_type": "markdown",
   "metadata": {},
   "source": [
    "Only entries before extubation je icustay_id are of interest for us, so that the entries are filtered out afterwards."
   ]
  },
  {
   "cell_type": "code",
   "execution_count": null,
   "metadata": {},
   "outputs": [],
   "source": [
    "sql = \"\"\"select ce.*\n",
    "            from vw_ce_filtered ce\n",
    "            inner join (select hadm_id, icustay_id, min(charttime) as ext_ts\n",
    "                        from vw_timestamp_extubation vte\n",
    "                        group by hadm_id, icustay_id) min_ts \n",
    "                on (min_ts.icustay_id = ce.icustay_id and min_ts.ext_ts > ce.charttime)\n",
    "            order by ce.icustay_id, ce.charttime desc\"\"\"\n",
    "df_ce_2 = pd.read_sql(sql, conn)"
   ]
  },
  {
   "cell_type": "code",
   "execution_count": null,
   "metadata": {},
   "outputs": [],
   "source": [
    "df_ce_2.head(10)"
   ]
  },
  {
   "cell_type": "markdown",
   "metadata": {},
   "source": [
    "From the entries before extubation, we needed for each item the entry that is closest to extubation. Since in a grouping the column value would destroy the grouping, we grab only the columns icustay_id, charttime and item and then connect this result to the view vw_ce_filtered to get the value."
   ]
  },
  {
   "cell_type": "code",
   "execution_count": 201,
   "metadata": {},
   "outputs": [],
   "source": [
    "sql = \"\"\"select ce.icustay_id, ce.item, max(ce.charttime) as last_ts\n",
    "            from vw_ce_filtered ce\n",
    "            inner join (select hadm_id, icustay_id, min(charttime) as ext_ts\n",
    "                        from vw_timestamp_extubation vte\n",
    "                        group by hadm_id, icustay_id) min_ts \n",
    "                on (min_ts.icustay_id = ce.icustay_id and min_ts.ext_ts > ce.charttime)\n",
    "            where ce.icustay_id in (245719, 217590)\n",
    "            group by ce.icustay_id, ce.item \n",
    "            order by ce.icustay_id, ce.item\"\"\"\n",
    "df_ce_3 = pd.read_sql(sql, conn)"
   ]
  },
  {
   "cell_type": "code",
   "execution_count": 203,
   "metadata": {},
   "outputs": [
    {
     "data": {
      "text/html": [
       "<div>\n",
       "<style scoped>\n",
       "    .dataframe tbody tr th:only-of-type {\n",
       "        vertical-align: middle;\n",
       "    }\n",
       "\n",
       "    .dataframe tbody tr th {\n",
       "        vertical-align: top;\n",
       "    }\n",
       "\n",
       "    .dataframe thead th {\n",
       "        text-align: right;\n",
       "    }\n",
       "</style>\n",
       "<table border=\"1\" class=\"dataframe\">\n",
       "  <thead>\n",
       "    <tr style=\"text-align: right;\">\n",
       "      <th></th>\n",
       "      <th>icustay_id</th>\n",
       "      <th>item</th>\n",
       "      <th>last_ts</th>\n",
       "    </tr>\n",
       "  </thead>\n",
       "  <tbody>\n",
       "    <tr>\n",
       "      <th>0</th>\n",
       "      <td>217,590.0</td>\n",
       "      <td>blood_pr</td>\n",
       "      <td>2188-05-28 08:00:00</td>\n",
       "    </tr>\n",
       "    <tr>\n",
       "      <th>1</th>\n",
       "      <td>217,590.0</td>\n",
       "      <td>breath_min_vol</td>\n",
       "      <td>2188-05-28 08:00:00</td>\n",
       "    </tr>\n",
       "    <tr>\n",
       "      <th>2</th>\n",
       "      <td>217,590.0</td>\n",
       "      <td>FiO2</td>\n",
       "      <td>2188-05-28 08:00:00</td>\n",
       "    </tr>\n",
       "    <tr>\n",
       "      <th>3</th>\n",
       "      <td>217,590.0</td>\n",
       "      <td>hr</td>\n",
       "      <td>2188-05-28 08:00:00</td>\n",
       "    </tr>\n",
       "    <tr>\n",
       "      <th>4</th>\n",
       "      <td>217,590.0</td>\n",
       "      <td>leuko</td>\n",
       "      <td>2188-05-28 05:16:00</td>\n",
       "    </tr>\n",
       "    <tr>\n",
       "      <th>5</th>\n",
       "      <td>217,590.0</td>\n",
       "      <td>mean_insp_pressure</td>\n",
       "      <td>2188-05-28 08:00:00</td>\n",
       "    </tr>\n",
       "    <tr>\n",
       "      <th>6</th>\n",
       "      <td>217,590.0</td>\n",
       "      <td>PEEP</td>\n",
       "      <td>2188-05-28 08:00:00</td>\n",
       "    </tr>\n",
       "    <tr>\n",
       "      <th>7</th>\n",
       "      <td>217,590.0</td>\n",
       "      <td>resp_rat</td>\n",
       "      <td>2188-05-28 08:00:00</td>\n",
       "    </tr>\n",
       "    <tr>\n",
       "      <th>8</th>\n",
       "      <td>217,590.0</td>\n",
       "      <td>SaO2</td>\n",
       "      <td>2188-05-28 08:00:00</td>\n",
       "    </tr>\n",
       "    <tr>\n",
       "      <th>9</th>\n",
       "      <td>217,590.0</td>\n",
       "      <td>tidal_vol</td>\n",
       "      <td>2188-05-28 08:00:00</td>\n",
       "    </tr>\n",
       "    <tr>\n",
       "      <th>10</th>\n",
       "      <td>245,719.0</td>\n",
       "      <td>blood_pr</td>\n",
       "      <td>2115-03-02 11:00:00</td>\n",
       "    </tr>\n",
       "    <tr>\n",
       "      <th>11</th>\n",
       "      <td>245,719.0</td>\n",
       "      <td>breath_min_vol</td>\n",
       "      <td>2115-03-01 11:00:00</td>\n",
       "    </tr>\n",
       "    <tr>\n",
       "      <th>12</th>\n",
       "      <td>245,719.0</td>\n",
       "      <td>FiO2</td>\n",
       "      <td>2115-03-02 03:00:00</td>\n",
       "    </tr>\n",
       "  </tbody>\n",
       "</table>\n",
       "</div>"
      ],
      "text/plain": [
       "    icustay_id                item             last_ts\n",
       "0    217,590.0            blood_pr 2188-05-28 08:00:00\n",
       "1    217,590.0      breath_min_vol 2188-05-28 08:00:00\n",
       "2    217,590.0                FiO2 2188-05-28 08:00:00\n",
       "3    217,590.0                  hr 2188-05-28 08:00:00\n",
       "4    217,590.0               leuko 2188-05-28 05:16:00\n",
       "5    217,590.0  mean_insp_pressure 2188-05-28 08:00:00\n",
       "6    217,590.0                PEEP 2188-05-28 08:00:00\n",
       "7    217,590.0            resp_rat 2188-05-28 08:00:00\n",
       "8    217,590.0                SaO2 2188-05-28 08:00:00\n",
       "9    217,590.0           tidal_vol 2188-05-28 08:00:00\n",
       "10   245,719.0            blood_pr 2115-03-02 11:00:00\n",
       "11   245,719.0      breath_min_vol 2115-03-01 11:00:00\n",
       "12   245,719.0                FiO2 2115-03-02 03:00:00"
      ]
     },
     "execution_count": 203,
     "metadata": {},
     "output_type": "execute_result"
    }
   ],
   "source": [
    "df_ce_3.head(13)"
   ]
  },
  {
   "cell_type": "markdown",
   "metadata": {},
   "source": [
    "From the df_ce_3 result the value matching icustay_id, item and last_ts must now be determined."
   ]
  },
  {
   "cell_type": "code",
   "execution_count": 23,
   "metadata": {},
   "outputs": [],
   "source": [
    "sql = \"\"\"select distinct vcf.* \n",
    "        from vw_ce_filtered vcf \n",
    "        inner join (select distinct ce.icustay_id, ce.item, max(ce.charttime) as last_ts\n",
    "                    from vw_ce_filtered ce\n",
    "                    inner join (select hadm_id, icustay_id, min(charttime) as ext_ts\n",
    "                                from vw_timestamp_extubation vte\n",
    "                                group by hadm_id, icustay_id) min_ts \n",
    "                        on (min_ts.icustay_id = ce.icustay_id and min_ts.ext_ts > ce.charttime)\n",
    "                    group by ce.icustay_id, ce.item) last_events\n",
    "            on (last_events.icustay_id = vcf.icustay_id and last_events.item = vcf.item and last_events.last_ts = vcf.charttime)\n",
    "        order by vcf.hadm_id , vcf.icustay_id\"\"\"\n",
    "df_ce = pd.read_sql(sql, conn)"
   ]
  },
  {
   "cell_type": "code",
   "execution_count": 24,
   "metadata": {},
   "outputs": [
    {
     "data": {
      "text/html": [
       "<div>\n",
       "<style scoped>\n",
       "    .dataframe tbody tr th:only-of-type {\n",
       "        vertical-align: middle;\n",
       "    }\n",
       "\n",
       "    .dataframe tbody tr th {\n",
       "        vertical-align: top;\n",
       "    }\n",
       "\n",
       "    .dataframe thead th {\n",
       "        text-align: right;\n",
       "    }\n",
       "</style>\n",
       "<table border=\"1\" class=\"dataframe\">\n",
       "  <thead>\n",
       "    <tr style=\"text-align: right;\">\n",
       "      <th></th>\n",
       "      <th>hadm_id</th>\n",
       "      <th>icustay_id</th>\n",
       "      <th>itemid</th>\n",
       "      <th>charttime</th>\n",
       "      <th>value</th>\n",
       "      <th>valuenum</th>\n",
       "      <th>valueuom</th>\n",
       "      <th>item</th>\n",
       "      <th>storetime</th>\n",
       "      <th>cgid</th>\n",
       "      <th>warning</th>\n",
       "      <th>error</th>\n",
       "      <th>resultstatus</th>\n",
       "      <th>stopped</th>\n",
       "    </tr>\n",
       "  </thead>\n",
       "  <tbody>\n",
       "    <tr>\n",
       "      <th>0</th>\n",
       "      <td>100,016.0</td>\n",
       "      <td>217,590.0</td>\n",
       "      <td>220,045.0</td>\n",
       "      <td>2188-05-28 08:00:00</td>\n",
       "      <td>91</td>\n",
       "      <td>91.0</td>\n",
       "      <td>bpm</td>\n",
       "      <td>hr</td>\n",
       "      <td>2188-05-28 08:02:00</td>\n",
       "      <td>15,623.0</td>\n",
       "      <td>0.0</td>\n",
       "      <td>0.0</td>\n",
       "      <td>None</td>\n",
       "      <td>None</td>\n",
       "    </tr>\n",
       "    <tr>\n",
       "      <th>1</th>\n",
       "      <td>100,016.0</td>\n",
       "      <td>217,590.0</td>\n",
       "      <td>220,181.0</td>\n",
       "      <td>2188-05-28 08:00:00</td>\n",
       "      <td>88</td>\n",
       "      <td>88.0</td>\n",
       "      <td>mmHg</td>\n",
       "      <td>blood_pr</td>\n",
       "      <td>2188-05-28 08:02:00</td>\n",
       "      <td>15,623.0</td>\n",
       "      <td>0.0</td>\n",
       "      <td>0.0</td>\n",
       "      <td>None</td>\n",
       "      <td>None</td>\n",
       "    </tr>\n",
       "    <tr>\n",
       "      <th>2</th>\n",
       "      <td>100,016.0</td>\n",
       "      <td>217,590.0</td>\n",
       "      <td>220,210.0</td>\n",
       "      <td>2188-05-28 08:00:00</td>\n",
       "      <td>18</td>\n",
       "      <td>18.0</td>\n",
       "      <td>insp/min</td>\n",
       "      <td>resp_rat</td>\n",
       "      <td>2188-05-28 08:02:00</td>\n",
       "      <td>15,623.0</td>\n",
       "      <td>0.0</td>\n",
       "      <td>0.0</td>\n",
       "      <td>None</td>\n",
       "      <td>None</td>\n",
       "    </tr>\n",
       "    <tr>\n",
       "      <th>3</th>\n",
       "      <td>100,016.0</td>\n",
       "      <td>217,590.0</td>\n",
       "      <td>220,277.0</td>\n",
       "      <td>2188-05-28 08:00:00</td>\n",
       "      <td>100</td>\n",
       "      <td>100.0</td>\n",
       "      <td>%</td>\n",
       "      <td>SaO2</td>\n",
       "      <td>2188-05-28 08:02:00</td>\n",
       "      <td>15,623.0</td>\n",
       "      <td>0.0</td>\n",
       "      <td>0.0</td>\n",
       "      <td>None</td>\n",
       "      <td>None</td>\n",
       "    </tr>\n",
       "    <tr>\n",
       "      <th>4</th>\n",
       "      <td>100,016.0</td>\n",
       "      <td>217,590.0</td>\n",
       "      <td>220,339.0</td>\n",
       "      <td>2188-05-28 08:00:00</td>\n",
       "      <td>5</td>\n",
       "      <td>5.0</td>\n",
       "      <td>cmH2O</td>\n",
       "      <td>PEEP</td>\n",
       "      <td>2188-05-28 07:36:00</td>\n",
       "      <td>20,803.0</td>\n",
       "      <td>0.0</td>\n",
       "      <td>0.0</td>\n",
       "      <td>None</td>\n",
       "      <td>None</td>\n",
       "    </tr>\n",
       "  </tbody>\n",
       "</table>\n",
       "</div>"
      ],
      "text/plain": [
       "    hadm_id  icustay_id    itemid           charttime value  valuenum  \\\n",
       "0 100,016.0   217,590.0 220,045.0 2188-05-28 08:00:00    91      91.0   \n",
       "1 100,016.0   217,590.0 220,181.0 2188-05-28 08:00:00    88      88.0   \n",
       "2 100,016.0   217,590.0 220,210.0 2188-05-28 08:00:00    18      18.0   \n",
       "3 100,016.0   217,590.0 220,277.0 2188-05-28 08:00:00   100     100.0   \n",
       "4 100,016.0   217,590.0 220,339.0 2188-05-28 08:00:00     5       5.0   \n",
       "\n",
       "   valueuom      item           storetime     cgid  warning  error  \\\n",
       "0       bpm        hr 2188-05-28 08:02:00 15,623.0      0.0    0.0   \n",
       "1      mmHg  blood_pr 2188-05-28 08:02:00 15,623.0      0.0    0.0   \n",
       "2  insp/min  resp_rat 2188-05-28 08:02:00 15,623.0      0.0    0.0   \n",
       "3         %      SaO2 2188-05-28 08:02:00 15,623.0      0.0    0.0   \n",
       "4     cmH2O      PEEP 2188-05-28 07:36:00 20,803.0      0.0    0.0   \n",
       "\n",
       "  resultstatus stopped  \n",
       "0         None    None  \n",
       "1         None    None  \n",
       "2         None    None  \n",
       "3         None    None  \n",
       "4         None    None  "
      ]
     },
     "execution_count": 24,
     "metadata": {},
     "output_type": "execute_result"
    }
   ],
   "source": [
    "df_ce.head()"
   ]
  },
  {
   "cell_type": "code",
   "execution_count": 25,
   "metadata": {},
   "outputs": [
    {
     "name": "stdout",
     "output_type": "stream",
     "text": [
      "<class 'pandas.core.frame.DataFrame'>\n",
      "RangeIndex: 74306 entries, 0 to 74305\n",
      "Data columns (total 14 columns):\n",
      "hadm_id         74306 non-null float64\n",
      "icustay_id      74306 non-null float64\n",
      "itemid          74306 non-null float64\n",
      "charttime       74306 non-null datetime64[ns]\n",
      "value           73903 non-null object\n",
      "valuenum        73992 non-null float64\n",
      "valueuom        59637 non-null object\n",
      "item            74306 non-null object\n",
      "storetime       74220 non-null datetime64[ns]\n",
      "cgid            74220 non-null float64\n",
      "warning         33854 non-null float64\n",
      "error           33854 non-null float64\n",
      "resultstatus    11633 non-null object\n",
      "stopped         40377 non-null object\n",
      "dtypes: datetime64[ns](2), float64(7), object(5)\n",
      "memory usage: 7.9+ MB\n"
     ]
    }
   ],
   "source": [
    "df_ce.info()"
   ]
  },
  {
   "cell_type": "markdown",
   "metadata": {},
   "source": [
    "So that the result can be retrieved quickly and repeatedly in the future, we create a new table with the name chartev_values."
   ]
  },
  {
   "cell_type": "code",
   "execution_count": 26,
   "metadata": {},
   "outputs": [],
   "source": [
    "df_ce.to_csv('data/chartevents_pre_extub.csv', encoding='UTF-8', index=False)"
   ]
  },
  {
   "cell_type": "code",
   "execution_count": 204,
   "metadata": {},
   "outputs": [],
   "source": [
    "conn.close()"
   ]
  }
 ],
 "metadata": {
  "kernelspec": {
   "display_name": "Python 3.6.10 64-bit ('nf')",
   "language": "python",
   "name": "python361064bitnf8add1acfca654b1ab4527881e7fa8184"
  },
  "language_info": {
   "codemirror_mode": {
    "name": "ipython",
    "version": 3
   },
   "file_extension": ".py",
   "mimetype": "text/x-python",
   "name": "python",
   "nbconvert_exporter": "python",
   "pygments_lexer": "ipython3",
   "version": "3.6.10"
  },
  "toc": {
   "base_numbering": 1,
   "nav_menu": {},
   "number_sections": true,
   "sideBar": true,
   "skip_h1_title": false,
   "title_cell": "Table of Contents",
   "title_sidebar": "Contents",
   "toc_cell": false,
   "toc_position": {
    "height": "calc(100% - 180px)",
    "left": "10px",
    "top": "150px",
    "width": "288px"
   },
   "toc_section_display": true,
   "toc_window_display": true
  },
  "varInspector": {
   "cols": {
    "lenName": 16,
    "lenType": 16,
    "lenVar": 40
   },
   "kernels_config": {
    "python": {
     "delete_cmd_postfix": "",
     "delete_cmd_prefix": "del ",
     "library": "var_list.py",
     "varRefreshCmd": "print(var_dic_list())"
    },
    "r": {
     "delete_cmd_postfix": ") ",
     "delete_cmd_prefix": "rm(",
     "library": "var_list.r",
     "varRefreshCmd": "cat(var_dic_list()) "
    }
   },
   "types_to_exclude": [
    "module",
    "function",
    "builtin_function_or_method",
    "instance",
    "_Feature"
   ],
   "window_display": false
  }
 },
 "nbformat": 4,
 "nbformat_minor": 4
}
