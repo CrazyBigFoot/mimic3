{
 "cells": [
  {
   "cell_type": "code",
   "execution_count": null,
   "metadata": {},
   "outputs": [],
   "source": [
    "# Selecting Data\n",
    "X = df[features]\n",
    "y = df['Cannabis']\n",
    "\n",
    "d = train_test_split(X, y, test_size = 0.3, random_state = 42)"
   ]
  },
  {
   "cell_type": "code",
   "execution_count": null,
   "metadata": {},
   "outputs": [],
   "source": [
    "my_scorer = make_scorer(f1_score, average='weighted')\n",
    "#c = KFold(3, random_state=42)\n",
    "c = StratifiedKFold(n_splits=3)"
   ]
  },
  {
   "cell_type": "code",
   "execution_count": null,
   "metadata": {},
   "outputs": [],
   "source": [
    "# Creating grids for the models\n",
    "grid_lr = {'C': list(range(1, 100)),\n",
    "             'penalty':['l1', 'l2'], \n",
    "             'solver' : ['liblinear', 'newton-cg', 'lbfgs', 'sag', 'saga']\n",
    "             }\n",
    "\n",
    "grid_rf = {'n_estimators' : list(range(1,30)),\n",
    "             'max_depth': [5, 8, 15, 25, 30],\n",
    "             'max_features' : ['auto', 'sqrt'],\n",
    "             'min_samples_split' : [2, 5, 10]}\n",
    "grid_svm = {'C': [1, 5, 10, 50],\n",
    "             'kernel': ['linear', 'rbf', 'poly']\n",
    "             }\n",
    "grid_xgb = {'max_depth': list(range(1,5)),\n",
    "             'min_child_weight': list(range(0,15)),\n",
    "             'subsample': [0.01, 0.1, 0.5, 1]\n",
    "             }\n",
    "grid_knn = {'n_neighbors' : list(range(1,50)),\n",
    "             'weights': ['uniform', 'distance'],\n",
    "             'leaf_size' : list(range(1,50))\n",
    "             }"
   ]
  },
  {
   "cell_type": "code",
   "execution_count": null,
   "metadata": {},
   "outputs": [],
   "source": [
    "# Creating list of models for the function below\n",
    "try_models = [['LogReg', LogisticRegression(random_state=42), grid_lr, c, my_scorer, d],\n",
    "             ['RandomForest', RandomForestClassifier(random_state=42), grid_rf, c, my_scorer, d],\n",
    "             ['SVM', SVC(random_state=42), grid_svm, c, my_scorer, d],\n",
    "             ['XGBoost', XGBClassifier(random_state=42), grid_xgb, c, my_scorer, d],\n",
    "             ['KNN', KNeighborsClassifier(), grid_knn, c, my_scorer, d]]"
   ]
  },
  {
   "cell_type": "code",
   "execution_count": null,
   "metadata": {},
   "outputs": [],
   "source": [
    "df_hard_result = get_test_results(try_models)\n",
    "df_hard_result.sort_values('F1_score', ascending=False)"
   ]
  }
 ],
 "metadata": {
  "kernelspec": {
   "display_name": "Python 3.6.10 64-bit ('nf')",
   "language": "python",
   "name": "python361064bitnf8add1acfca654b1ab4527881e7fa8184"
  },
  "language_info": {
   "codemirror_mode": {
    "name": "ipython",
    "version": 3
   },
   "file_extension": ".py",
   "mimetype": "text/x-python",
   "name": "python",
   "nbconvert_exporter": "python",
   "pygments_lexer": "ipython3",
   "version": "3.6.10"
  },
  "toc": {
   "base_numbering": 1,
   "nav_menu": {},
   "number_sections": true,
   "sideBar": true,
   "skip_h1_title": false,
   "title_cell": "Table of Contents",
   "title_sidebar": "Contents",
   "toc_cell": false,
   "toc_position": {},
   "toc_section_display": true,
   "toc_window_display": false
  },
  "varInspector": {
   "cols": {
    "lenName": 16,
    "lenType": 16,
    "lenVar": 40
   },
   "kernels_config": {
    "python": {
     "delete_cmd_postfix": "",
     "delete_cmd_prefix": "del ",
     "library": "var_list.py",
     "varRefreshCmd": "print(var_dic_list())"
    },
    "r": {
     "delete_cmd_postfix": ") ",
     "delete_cmd_prefix": "rm(",
     "library": "var_list.r",
     "varRefreshCmd": "cat(var_dic_list()) "
    }
   },
   "types_to_exclude": [
    "module",
    "function",
    "builtin_function_or_method",
    "instance",
    "_Feature"
   ],
   "window_display": false
  }
 },
 "nbformat": 4,
 "nbformat_minor": 4
}
