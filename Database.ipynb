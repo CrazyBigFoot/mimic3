{
 "cells": [
  {
   "cell_type": "markdown",
   "metadata": {},
   "source": [
    "# Introduction"
   ]
  },
  {
   "cell_type": "markdown",
   "metadata": {},
   "source": [
    "At first we decided to download the database from the [MIMIC-Website](https://mimic.physionet.org/gettingstarted/cloud/) and work with the csv-Files. But after try to read some huge files (>1GB) it is necessary to use a own database. Due to the fact that we work as a team, we decided to install a database in the Google Cloud and set up access for the team members"
   ]
  },
  {
   "cell_type": "markdown",
   "metadata": {},
   "source": [
    "# Creating the database"
   ]
  },
  {
   "cell_type": "markdown",
   "metadata": {},
   "source": [
    "*Future work how to create the database in GCP*"
   ]
  },
  {
   "cell_type": "markdown",
   "metadata": {},
   "source": [
    "# Connect to the database"
   ]
  },
  {
   "cell_type": "markdown",
   "metadata": {},
   "source": [
    "## Unix (mac) - prework"
   ]
  },
  {
   "cell_type": "markdown",
   "metadata": {},
   "source": [
    "To use the GCP-Database from our Computer, we need to install some software vom Google."
   ]
  },
  {
   "cell_type": "markdown",
   "metadata": {},
   "source": [
    "### Install Google Cloud SDK"
   ]
  },
  {
   "cell_type": "markdown",
   "metadata": {},
   "source": [
    "You can find the online documentation here: https://cloud.google.com/sdk/docs/quickstarts"
   ]
  },
  {
   "cell_type": "markdown",
   "metadata": {},
   "source": [
    "For macOS use the terminal an download the source: <br>\n",
    "`curl -O https://dl.google.com/dl/cloudsdk/channels/rapid/downloads/google-cloud-sdk-308.0.0-darwin-x86_64.tar.gz`"
   ]
  },
  {
   "cell_type": "markdown",
   "metadata": {},
   "source": [
    "Unzip the zip.file at preferred storage location. Here our home path <br>\n",
    "`gunzip google-cloud-sdk-308.0.0-darwin-x86_64.tar.gz`"
   ]
  },
  {
   "cell_type": "markdown",
   "metadata": {},
   "source": [
    "Use install script (check the path of your SDK-Installation:<br>\n",
    "`./google-cloud-sdk/install.sh` "
   ]
  },
  {
   "cell_type": "markdown",
   "metadata": {},
   "source": [
    "Start the Google Cloud SDK: <br>\n",
    "`./google-cloud-sdk/bin/gcloud init`"
   ]
  },
  {
   "cell_type": "markdown",
   "metadata": {},
   "source": [
    "After start the Cloud SDK, you have to accept the option to log in using your Google user account. Follow the instruction from the [documentation](https://cloud.google.com/sdk/docs/quickstart#initializing_the) <br>\n",
    "For this part here, the last point is normally 4.  \n",
    "Check the result with `gcloud auth list` "
   ]
  },
  {
   "cell_type": "markdown",
   "metadata": {},
   "source": [
    "### Install Google Cloud Proxy"
   ]
  },
  {
   "cell_type": "markdown",
   "metadata": {},
   "source": [
    "The proxy manage the connection to the database without handling certificates and stuff. It simulate a lokal database. [Link](https://cloud.google.com/sql/docs/postgres/connect-external-app#proxy)"
   ]
  },
  {
   "cell_type": "markdown",
   "metadata": {},
   "source": [
    "First download the source: <br>\n",
    "`curl -o cloud_sql_proxy https://dl.google.com/cloudsql/cloud_sql_proxy.darwin.amd64`\n",
    "\n",
    "Make the proxy executable: <br>\n",
    "`chmod +x cloud_sql_proxy`"
   ]
  },
  {
   "cell_type": "markdown",
   "metadata": {},
   "source": [
    "### Start the Proxy"
   ]
  },
  {
   "cell_type": "markdown",
   "metadata": {},
   "source": [
    "To use the database, it is necessary to start ot initialize the proxy with:<br>\n",
    "`./cloud_sql_proxy -instances=[INSTANCE_CONNECTION_NAME]:capstone=tcp:5444 &`"
   ]
  },
  {
   "cell_type": "markdown",
   "metadata": {},
   "source": [
    "## Python"
   ]
  },
  {
   "cell_type": "markdown",
   "metadata": {},
   "source": [
    "If not already installed: <br>\n",
    "`conda install pyscopg2` "
   ]
  },
  {
   "cell_type": "code",
   "execution_count": 9,
   "metadata": {
    "cell_id": "00000-2896333a-d70d-44b6-9d3c-20ebf767721a",
    "tags": []
   },
   "outputs": [],
   "source": [
    "import pandas as pd\n",
    "import csv\n",
    "import psycopg2\n",
    "\n",
    "# settings\n",
    "sql_path = './sql/'\n",
    "pd.set_option('display.max_columns', 500)\n",
    "\n",
    "# database\n",
    "conn_string = open('./intern/DB_connection.txt', 'r', encoding='UTF-8').read()"
   ]
  },
  {
   "cell_type": "code",
   "execution_count": 10,
   "metadata": {},
   "outputs": [],
   "source": [
    "# Connect to Database\n",
    "conn = eval('psycopg2.connect({})'.format(conn_string.strip()))"
   ]
  },
  {
   "cell_type": "code",
   "execution_count": 11,
   "metadata": {},
   "outputs": [],
   "source": [
    "# Check connection\n",
    "sql = \"\"\"select * from admissions limit 1000\"\"\"\n",
    "df = pd.read_sql(sql, conn)"
   ]
  },
  {
   "cell_type": "code",
   "execution_count": 12,
   "metadata": {},
   "outputs": [
    {
     "data": {
      "text/html": [
       "<div>\n",
       "<style scoped>\n",
       "    .dataframe tbody tr th:only-of-type {\n",
       "        vertical-align: middle;\n",
       "    }\n",
       "\n",
       "    .dataframe tbody tr th {\n",
       "        vertical-align: top;\n",
       "    }\n",
       "\n",
       "    .dataframe thead th {\n",
       "        text-align: right;\n",
       "    }\n",
       "</style>\n",
       "<table border=\"1\" class=\"dataframe\">\n",
       "  <thead>\n",
       "    <tr style=\"text-align: right;\">\n",
       "      <th></th>\n",
       "      <th>ROW_ID</th>\n",
       "      <th>SUBJECT_ID</th>\n",
       "      <th>hadm_id</th>\n",
       "      <th>admittime</th>\n",
       "      <th>dischtime</th>\n",
       "      <th>deathtime</th>\n",
       "      <th>admission_type</th>\n",
       "      <th>admission_location</th>\n",
       "      <th>discharge_location</th>\n",
       "      <th>insurance</th>\n",
       "      <th>LANGUAGE</th>\n",
       "      <th>religion</th>\n",
       "      <th>marital_status</th>\n",
       "      <th>ethnicity</th>\n",
       "      <th>edregtime</th>\n",
       "      <th>edouttime</th>\n",
       "      <th>diagnosis</th>\n",
       "      <th>hospital_expire_flag</th>\n",
       "      <th>has_chartevents_data</th>\n",
       "    </tr>\n",
       "  </thead>\n",
       "  <tbody>\n",
       "    <tr>\n",
       "      <th>0</th>\n",
       "      <td>21</td>\n",
       "      <td>22</td>\n",
       "      <td>165315</td>\n",
       "      <td>2196-04-09 14:26:00</td>\n",
       "      <td>2196-04-10 17:54:00</td>\n",
       "      <td>NaT</td>\n",
       "      <td>EMERGENCY</td>\n",
       "      <td>EMERGENCY ROOM ADMIT</td>\n",
       "      <td>DISC-TRAN CANCER/CHLDRN H</td>\n",
       "      <td>Private</td>\n",
       "      <td></td>\n",
       "      <td>UNOBTAINABLE</td>\n",
       "      <td>MARRIED</td>\n",
       "      <td>WHITE</td>\n",
       "      <td>2196-04-09 12:06:00</td>\n",
       "      <td>2196-04-09 15:24:00</td>\n",
       "      <td>BENZODIAZEPINE OVERDOSE</td>\n",
       "      <td>0</td>\n",
       "      <td>1</td>\n",
       "    </tr>\n",
       "    <tr>\n",
       "      <th>1</th>\n",
       "      <td>22</td>\n",
       "      <td>23</td>\n",
       "      <td>152223</td>\n",
       "      <td>2153-09-03 09:15:00</td>\n",
       "      <td>2153-09-08 21:10:00</td>\n",
       "      <td>NaT</td>\n",
       "      <td>ELECTIVE</td>\n",
       "      <td>PHYS REFERRAL/NORMAL DELI</td>\n",
       "      <td>HOME HEALTH CARE</td>\n",
       "      <td>Medicare</td>\n",
       "      <td></td>\n",
       "      <td>CATHOLIC</td>\n",
       "      <td>MARRIED</td>\n",
       "      <td>WHITE</td>\n",
       "      <td>NaT</td>\n",
       "      <td>NaT</td>\n",
       "      <td>CORONARY ARTERY DISEASECORONARY ARTERY BYPASS ...</td>\n",
       "      <td>0</td>\n",
       "      <td>1</td>\n",
       "    </tr>\n",
       "    <tr>\n",
       "      <th>2</th>\n",
       "      <td>23</td>\n",
       "      <td>23</td>\n",
       "      <td>124321</td>\n",
       "      <td>2157-10-18 21:34:00</td>\n",
       "      <td>2157-10-25 16:00:00</td>\n",
       "      <td>NaT</td>\n",
       "      <td>EMERGENCY</td>\n",
       "      <td>TRANSFER FROM HOSP/EXTRAM</td>\n",
       "      <td>HOME HEALTH CARE</td>\n",
       "      <td>Medicare</td>\n",
       "      <td>ENGL</td>\n",
       "      <td>CATHOLIC</td>\n",
       "      <td>MARRIED</td>\n",
       "      <td>WHITE</td>\n",
       "      <td>NaT</td>\n",
       "      <td>NaT</td>\n",
       "      <td>BRAIN MASS</td>\n",
       "      <td>0</td>\n",
       "      <td>1</td>\n",
       "    </tr>\n",
       "  </tbody>\n",
       "</table>\n",
       "</div>"
      ],
      "text/plain": [
       "   ROW_ID  SUBJECT_ID  hadm_id           admittime           dischtime  \\\n",
       "0      21          22   165315 2196-04-09 14:26:00 2196-04-10 17:54:00   \n",
       "1      22          23   152223 2153-09-03 09:15:00 2153-09-08 21:10:00   \n",
       "2      23          23   124321 2157-10-18 21:34:00 2157-10-25 16:00:00   \n",
       "\n",
       "  deathtime admission_type         admission_location  \\\n",
       "0       NaT      EMERGENCY       EMERGENCY ROOM ADMIT   \n",
       "1       NaT       ELECTIVE  PHYS REFERRAL/NORMAL DELI   \n",
       "2       NaT      EMERGENCY  TRANSFER FROM HOSP/EXTRAM   \n",
       "\n",
       "          discharge_location insurance LANGUAGE      religion marital_status  \\\n",
       "0  DISC-TRAN CANCER/CHLDRN H   Private           UNOBTAINABLE        MARRIED   \n",
       "1           HOME HEALTH CARE  Medicare               CATHOLIC        MARRIED   \n",
       "2           HOME HEALTH CARE  Medicare     ENGL      CATHOLIC        MARRIED   \n",
       "\n",
       "  ethnicity           edregtime           edouttime  \\\n",
       "0     WHITE 2196-04-09 12:06:00 2196-04-09 15:24:00   \n",
       "1     WHITE                 NaT                 NaT   \n",
       "2     WHITE                 NaT                 NaT   \n",
       "\n",
       "                                           diagnosis  hospital_expire_flag  \\\n",
       "0                            BENZODIAZEPINE OVERDOSE                     0   \n",
       "1  CORONARY ARTERY DISEASECORONARY ARTERY BYPASS ...                     0   \n",
       "2                                         BRAIN MASS                     0   \n",
       "\n",
       "   has_chartevents_data  \n",
       "0                     1  \n",
       "1                     1  \n",
       "2                     1  "
      ]
     },
     "execution_count": 12,
     "metadata": {},
     "output_type": "execute_result"
    }
   ],
   "source": [
    "df.head(3)"
   ]
  },
  {
   "cell_type": "code",
   "execution_count": 13,
   "metadata": {},
   "outputs": [],
   "source": [
    "# Close connection\n",
    "conn.close()"
   ]
  }
 ],
 "metadata": {
  "deepnote_execution_queue": [],
  "deepnote_notebook_id": "6fbbc646-6b94-4df4-9c81-1badc2b3e6f9",
  "kernelspec": {
   "display_name": "Python 3.6.10 64-bit ('nf')",
   "language": "python",
   "name": "python361064bitnf8add1acfca654b1ab4527881e7fa8184"
  },
  "language_info": {
   "codemirror_mode": {
    "name": "ipython",
    "version": 3
   },
   "file_extension": ".py",
   "mimetype": "text/x-python",
   "name": "python",
   "nbconvert_exporter": "python",
   "pygments_lexer": "ipython3",
   "version": "3.6.10"
  },
  "toc": {
   "base_numbering": 1,
   "nav_menu": {},
   "number_sections": true,
   "sideBar": true,
   "skip_h1_title": false,
   "title_cell": "Table of Contents",
   "title_sidebar": "Contents",
   "toc_cell": false,
   "toc_position": {
    "height": "calc(100% - 180px)",
    "left": "10px",
    "top": "150px",
    "width": "255px"
   },
   "toc_section_display": true,
   "toc_window_display": true
  },
  "varInspector": {
   "cols": {
    "lenName": 16,
    "lenType": 16,
    "lenVar": 40
   },
   "kernels_config": {
    "python": {
     "delete_cmd_postfix": "",
     "delete_cmd_prefix": "del ",
     "library": "var_list.py",
     "varRefreshCmd": "print(var_dic_list())"
    },
    "r": {
     "delete_cmd_postfix": ") ",
     "delete_cmd_prefix": "rm(",
     "library": "var_list.r",
     "varRefreshCmd": "cat(var_dic_list()) "
    }
   },
   "types_to_exclude": [
    "module",
    "function",
    "builtin_function_or_method",
    "instance",
    "_Feature"
   ],
   "window_display": false
  }
 },
 "nbformat": 4,
 "nbformat_minor": 2
}
