{
 "cells": [
  {
   "cell_type": "code",
   "execution_count": 1,
   "metadata": {
    "cell_id": "00000-a0b36b01-056f-4b3a-8f02-a429dc6fb620",
    "execution_millis": 0,
    "execution_start": 1604573873353,
    "output_cleared": false,
    "source_hash": "b344212b",
    "tags": []
   },
   "outputs": [],
   "source": [
    "import pandas as pd\n",
    "import numpy as np\n",
    "import matplotlib.pyplot as plt\n",
    "import csv\n",
    "import psycopg2\n",
    "\n",
    "# settings\n",
    "datapath = '/Users/mirkoknoche/MIMIC/'\n",
    "pd.set_option('display.max_columns', 500)\n",
    "pd.options.display.float_format = '{:,}'.format\n",
    "%matplotlib inline\n",
    "\n",
    "# database\n",
    "conn_string = open('./intern/DB_connection.txt', 'r', encoding='UTF-8').read()"
   ]
  },
  {
   "cell_type": "markdown",
   "metadata": {
    "cell_id": "00000-de232d42-a176-4d2a-a140-465a21df3c79",
    "tags": []
   },
   "source": [
    "# Selecting the patient group"
   ]
  },
  {
   "cell_type": "markdown",
   "metadata": {
    "cell_id": "00002-c3b9295c-6758-49ae-b844-e365bc9cc878",
    "tags": []
   },
   "source": [
    "We filter the patients in three steps.   \n",
    "+ First we select from all admissions those who are **diagnosed with ARDS**:    \n",
    "We find the diagnoses in the table DIAGNOSES_ICD. All diagnoses for each HADM_ID are listed there.    \n",
    "ARDS is the abbreviation for \"Acute Respiratory Distress Syndrome\" and means a syndrome with multiple risk \n",
    "factors that trigger the acute onset of respiratory insufficiency.   \n",
    "The ICD9 Code for ARDS is **51881**. So we select all HADM_IDs for which the number 51881  appeared in \n",
    "table DDIAGNOSES_ICD in column ICD9_CODE. We find 7497 unique HADM_ID with diagnosis ARDS.   \n",
    "Because newborns with respiratory failure are diagnosed with ICD9 Code 769 \n",
    "(\"Respiratory distress syndrome in newborn\"), there is no need to separate the adults from the babies.\n",
    "+ Then we examine which of these ARDS patients were **ventilated**. To do this, we check the table CPT_EVENTS \n",
    "(billing for procedures performed on patients) to see whether ventilation has been invoiced. \n",
    "We take into account the CPT (current procedural terminology =CPT) Codes 94003 and 94002. \n",
    "These numbers mean ventilation management.   \n",
    "There are two other codes that deal with ventilation (94004 and 94660). But neither appear in this data.   \n",
    "To be sure we can find all ventilated ARDS patients, we continue to review evidence of invasive ventilation.  \n",
    "We look in the table PROCEDURES_ICD for the numbers 9672, 9671, 9670 in the column ICD9_Code. \n",
    "These numbers mean \"Continuous invasive mechanical ventilation for 96 consecutive hours or more\",\n",
    " \"Continuous invasive mechanical ventilation for less then 96 consecutive hours\", \"Continuous invasive mechanical \n",
    " ventilation of unspecified duration\".      \n",
    "We also look in the table PROCEDUREEVENTS_MV for the number 225792 in the column ITEMID.\n",
    "This number means \"Invasive Ventilation\".   \n",
    "We also look in the table DRGCODES for the numbers 1303, 475, 566, 576, 208 in the column DRG_CODE.\n",
    "These numbers mean \"Respiratory System Diagnosis with Ventilator Support\".  \n",
    "+ In the next step we exclude those patients who have never been extubated. These patients\n",
    " died before extubation or we cannot see the extubation or they were moved to another ICU . This are 778.\n",
    "\n",
    "\n",
    "We find a total of 5897 HADM_IDs who met these criteria. They are saved in the file selection_hadm.\n",
    "\n"
   ]
  },
  {
   "cell_type": "markdown",
   "metadata": {
    "cell_id": "00001-77268aa4-c109-4735-9738-f049f8f8ad6b",
    "tags": []
   },
   "source": [
    "# Selecting the features"
   ]
  },
  {
   "cell_type": "markdown",
   "metadata": {
    "cell_id": "00005-53a04851-ed03-44e2-82dc-6dbb8f5204ef",
    "tags": []
   },
   "source": [
    "|Feature|Table|Column|Parameter|Matched on|Comment\n",
    "|:-----------|:-----------|:---------|:--------------|:----------------|:-------------|\n",
    "|**Demographics**| | | | | |.     \n",
    "|Subject_ID|ADMISSIONS|SUBJECT_ID| | HADM_ID|               |   \n",
    "|Gender|PATIENTS|GENDER| |SUBJECT_ID |    \n",
    "|Age|PATIENTS| DOB| |SUBJECT_ID| Shifted Dates:  Calculate DOB - ADMITTIME| |  \n",
    "|**Clinical**|  \n",
    "|Number of Diagnoses|DIAGNOSES_ICD|SEQ_NUM||HADM_ID| Take the maximum|  \n",
    "|Length of stay|ICU_STAYS|LOS| |HADM_ID |  |  \n",
    "|ICU|ICU_STAYS|LAST_CAREUNIT| | HADM_ID| |  \n",
    "|Tracheostomy|DRGCODES|DRG_CODE|44, 54 | HADM_ID|  |   \n",
    "|**Bedside Signs** | \n",
    "|Heart Rate|CHARTEVENTS|ITEM_ID|211, 220045|HADM_ID|   \n",
    "|Blood Pressure|CHARTEVENTS|ITEM_ID|52, 456, 225312, 220181, 220052| HADM_ID|  \n",
    "|Temperatur|CHARTEVENTS|ITEM_ID|676, 677,223762|HADM_ID||\n",
    "|O<sub>2</sub>  Saturation|CHARTEVENTS|ITEM_ID|646, 834, 22077, 22027|HADM_ID|  \n",
    "|**Ventilator Set**|  \n",
    "|Breath Rate| CHARTEVENTS|ITEM_ID|618, 220210, 224688|HADM_ID| |  \n",
    "|Breath-Minute-Volume|\tCHARTEVENTS\t|ITEM_ID|\t445, 448, 449, 224687, 1340, 1486, 1600| HADM_ID|  |\n",
    "|FiO<sub>2</sub>|CHARTEVENTS|ITEM_ID| 189, 190, 3420, 3422, 223835| HADM_ID||\n",
    "|Tidal Volume| CHARTEVENTS|ITEM_ID|681, 682, 683, 684, 224685, 224686, 224684    |HADM_ID| |   \n",
    "|Mean Insp. Pressure| CHARTEVENTS|ITEM_ID|444, 224697|HADM_ID| |   \n",
    "|PEEP|CHARTEVENTS|ITEM_ID|506, 224695|HADM_ID| |   \n",
    "|**Blood Signs**|  \n",
    "|PaO2|LABEVENTS|ITEM_ID|50821|HADM_ID| |   \n",
    "|Base Excess|LABEVENTS|ITEM_ID|50802|HADM_ID| |   \n",
    "|pH|LABEVENTS|ITEM_ID|50820|HADM_ID| |   \n",
    "|Hemoglobin|LABEVENTS|ITEM_ID|51222|HADM_ID| |   \n",
    "|Hematocrit|LABEVENTS|ITEM_ID|51221|HADM_ID| |   \n",
    "|Kreatinin|LABEVENTS|ITEM_ID|50912|HADM_ID| |   \n",
    "|Leukocytes (WBC)|CHARTEVENTS|ITEM_ID|1127, 861, 1542|HADM_ID| |   \n",
    "|Lactic Acid|CHARTEVENTS|ITEM_ID|225668, 1531, 818|HADM_ID| |    \n",
    "\n"
   ]
  },
  {
   "cell_type": "markdown",
   "metadata": {
    "cell_id": "00004-10049a1c-6f4b-4f9a-8f63-6d0892fcf62b",
    "tags": []
   },
   "source": [
    "We select the measurement from the vital and blood values ​​that is closest to the time of extubation."
   ]
  },
  {
   "cell_type": "markdown",
   "metadata": {
    "cell_id": "00004-5d4a6399-5022-4646-a71c-03725571c0bc",
    "tags": []
   },
   "source": []
  },
  {
   "cell_type": "markdown",
   "metadata": {
    "cell_id": "00008-16eab2a2-d85e-44c6-9e19-099529ae73a9",
    "tags": []
   },
   "source": []
  },
  {
   "cell_type": "markdown",
   "metadata": {
    "cell_id": "00002-b0a6bcde-f1d7-4e6e-a25c-a9ce77c619e5",
    "tags": []
   },
   "source": [
    "# Define label"
   ]
  },
  {
   "cell_type": "markdown",
   "metadata": {
    "cell_id": "00009-4ae2ee59-ff79-44ef-b9e1-87b5b3b97975",
    "tags": []
   },
   "source": [
    "We investigate the success of an extubation.  \n",
    "Failed (0) = Re-intubated within 48 hours extubation.  \n",
    "Succeeded (1) =  Remains extubated 48 hours after extubation"
   ]
  },
  {
   "cell_type": "markdown",
   "metadata": {
    "cell_id": "00011-94ede1de-429c-4905-beea-9d2439d2c4a0",
    "tags": []
   },
   "source": [
    "Direct information of whether the patient is on or off the ventilator at any given time is not available\n",
    " in MIMIC. To infer ventilation status, we used a heuristic approach, empirically utilizing information \n",
    " from multiple chart variables that were informative of ventilation status:   \n",
    " Ventilator Mode, Minute Volume, Respiratory Pressure, Inspir. Pressure, Respiratory Support, \n",
    " Plateau Pressure, APRV pressure, PEEP, High Pressure Relief, PVC, TCPCV, PSVlevel and Oxygen Delivery Device.    \n",
    " Ventilation status was coded as \"MechVent\" or \"OxygenTherapy\". The initiation of oxygen therapy indicates the \n",
    " ventilation has ended.  \n",
    "  An \"extubation\" event was defined as the time point where \"MechVent\" status changed from 1 to 0 \n",
    "  and \"OxygenTherapy\" status changed from 0 to 1.   \n",
    "Some patients whose data was recorded with carvue have the entry \"Extubated\" in the \"Significant Events\" \n",
    "section. This gives us the opportunity to check our determination of the time of extubation. "
   ]
  },
  {
   "cell_type": "markdown",
   "metadata": {
    "cell_id": "00003-aebac659-0218-4aff-bf95-b14e2bbcdfb7",
    "tags": []
   },
   "source": [
    "## Find extubations"
   ]
  },
  {
   "cell_type": "code",
   "execution_count": null,
   "metadata": {
    "cell_id": "00000-1f9ec051-41a8-4843-a9cc-a2b483ff04c9",
    "execution_millis": 27,
    "execution_start": 1604573569709,
    "output_cleared": false,
    "source_hash": "ef390f08",
    "tags": []
   },
   "outputs": [
    {
     "ename": "NameError",
     "evalue": "name 'conn_string' is not defined",
     "output_type": "error",
     "traceback": [
      "\u001b[0;31m---------------------------------------------------------------------------\u001b[0m",
      "\u001b[0;31mNameError\u001b[0m                                 Traceback (most recent call last)",
      "\u001b[0;32m<ipython-input-1-abd2165b4be4>\u001b[0m in \u001b[0;36m<module>\u001b[0;34m\u001b[0m\n\u001b[0;32m----> 1\u001b[0;31m \u001b[0mconn\u001b[0m \u001b[0;34m=\u001b[0m \u001b[0meval\u001b[0m\u001b[0;34m(\u001b[0m\u001b[0;34m'psycopg2.connect({})'\u001b[0m\u001b[0;34m.\u001b[0m\u001b[0mformat\u001b[0m\u001b[0;34m(\u001b[0m\u001b[0mconn_string\u001b[0m\u001b[0;34m.\u001b[0m\u001b[0mstrip\u001b[0m\u001b[0;34m(\u001b[0m\u001b[0;34m)\u001b[0m\u001b[0;34m)\u001b[0m\u001b[0;34m)\u001b[0m\u001b[0;34m\u001b[0m\u001b[0;34m\u001b[0m\u001b[0m\n\u001b[0m",
      "\u001b[0;31mNameError\u001b[0m: name 'conn_string' is not defined"
     ]
    }
   ],
   "source": [
    "conn = eval('psycopg2.connect({})'.format(conn_string.strip()))"
   ]
  },
  {
   "cell_type": "code",
   "execution_count": null,
   "metadata": {
    "cell_id": "00006-28439946-cb16-4fb7-8e4a-8e21754fcdc4",
    "tags": []
   },
   "outputs": [],
   "source": [
    "sql = \"\"\"select i2.hadm_id, v.* \n",
    "        from ventsettings v\n",
    "        inner join icustays i2 on i2.icustay_id = v.icustay_id \n",
    "        where (v.mechvent + v.oxygentherapy + v.extubated + v.selfextubated) > 0\n",
    "        order by icustay_id, charttime \"\"\"\n",
    "df = pd.read_sql(sql, conn)"
   ]
  },
  {
   "cell_type": "code",
   "execution_count": null,
   "metadata": {
    "cell_id": "00007-2b28ac2f-fd3a-45ee-9622-3ffff3bae617",
    "tags": []
   },
   "outputs": [],
   "source": [
    "df.shape"
   ]
  },
  {
   "cell_type": "code",
   "execution_count": null,
   "metadata": {
    "cell_id": "00008-b1fb979f-7fba-452a-a44d-024919648062",
    "tags": []
   },
   "outputs": [],
   "source": [
    "df.head(3)"
   ]
  },
  {
   "cell_type": "code",
   "execution_count": null,
   "metadata": {
    "cell_id": "00009-336d1089-a9af-4565-bd8c-40194610711c",
    "tags": []
   },
   "outputs": [],
   "source": [
    "df.info()"
   ]
  },
  {
   "cell_type": "markdown",
   "metadata": {
    "cell_id": "00010-46abf136-4204-4787-a7ff-3eefc2944127",
    "tags": []
   },
   "source": [
    "Checking the extubations"
   ]
  },
  {
   "cell_type": "code",
   "execution_count": null,
   "metadata": {
    "cell_id": "00010-bef38ef5-338f-4fe8-9d27-240508ca262e",
    "tags": []
   },
   "outputs": [],
   "source": [
    "df_count_ex = df.groupby('icustay_id').extubated.sum()"
   ]
  },
  {
   "cell_type": "code",
   "execution_count": null,
   "metadata": {
    "cell_id": "00012-7a8ddcbd-dc54-4b25-b459-44da05f41186",
    "tags": []
   },
   "outputs": [],
   "source": [
    "fig = plt.figure(figsize=(10,7))\n",
    "ax = fig.add_subplot(1, 1, 1)\n",
    "ax.hist(df_count_ex)\n",
    "plt.ylabel('Amount of ICU-stays')\n",
    "plt.xlabel('Extubations')\n",
    "plt.title('Histrogram of the extubations')\n",
    "plt.savefig('./images/hist_extubations_per_icustay.png')\n",
    "plt.show();"
   ]
  },
  {
   "cell_type": "markdown",
   "metadata": {
    "cell_id": "00013-abd31878-8dab-48e6-99cc-01900f3adfcf",
    "tags": []
   },
   "source": [
    "Many ICU stays have no explicit documented extubation. We need to extract the id's and find another way."
   ]
  },
  {
   "cell_type": "code",
   "execution_count": null,
   "metadata": {
    "cell_id": "00014-6e9239e4-3c9a-4ffe-8112-80afe2d5583d",
    "tags": []
   },
   "outputs": [],
   "source": [
    "err_ext = list(df_count_ex[df_count_ex == 0].index)\n",
    "len(err_ext)"
   ]
  },
  {
   "cell_type": "code",
   "execution_count": null,
   "metadata": {
    "cell_id": "00015-930cea10-95b7-423f-b27d-046f7ba2e240",
    "tags": []
   },
   "outputs": [],
   "source": [
    "sql = \"\"\"select * from transfers\"\"\"\n",
    "df_icuunit = pd.read_sql(sql, conn)\n",
    "\n",
    "# Filtering the icustay_id's with no extubations\n",
    "df_icuunit = df_icuunit[df_icuunit.icustay_id.isin(err_ext)]\n",
    "\n",
    "# use only the interesting columns\n",
    "df_icuunit = df_icuunit[['icustay_id', 'curr_careunit']]\n",
    "\n",
    "# drop duplicates\n",
    "df_icuunit.drop_duplicates(inplace=True)"
   ]
  },
  {
   "cell_type": "code",
   "execution_count": null,
   "metadata": {
    "cell_id": "00016-2b74b988-fce3-4341-b212-66ac576b64cf",
    "tags": []
   },
   "outputs": [],
   "source": [
    "df_plot = df_icuunit.groupby('curr_careunit').count()\n",
    "\n",
    "fig = plt.figure(figsize=(10,7))\n",
    "ax = fig.add_subplot(1, 1, 1)\n",
    "ax.bar(list(df_plot.index), height=list(df_plot.values.flatten()))\n",
    "plt.ylabel('Missing extubations')\n",
    "plt.xlabel('ICU units')\n",
    "plt.title('Not documented extubations')\n",
    "plt.savefig('./images/missing_extubations_per_unit.png')\n",
    "plt.show();"
   ]
  },
  {
   "cell_type": "markdown",
   "metadata": {
    "cell_id": "00017-4442966f-e8e8-4635-aaf3-0e30ad1a1005",
    "tags": []
   },
   "source": [
    "Have a look on one patient."
   ]
  },
  {
   "cell_type": "code",
   "execution_count": null,
   "metadata": {
    "cell_id": "00018-7b2bdd8a-fc1a-41b0-a39c-8d2ae3089a71",
    "tags": []
   },
   "outputs": [],
   "source": [
    "df_qry = df[df.icustay_id == 200063]\n",
    "df_qry.head()"
   ]
  },
  {
   "cell_type": "code",
   "execution_count": null,
   "metadata": {
    "cell_id": "00019-a2eb9602-b25c-469f-9403-b4ed39d3fad6",
    "tags": []
   },
   "outputs": [],
   "source": [
    "# getting the changes\n",
    "df_qry['extube'] = df_qry['mechvent'].diff()\n",
    "df_qry['oxy'] = df_qry['oxygentherapy'].diff()"
   ]
  },
  {
   "cell_type": "code",
   "execution_count": null,
   "metadata": {
    "cell_id": "00020-a0d18fba-33d4-4175-95b6-2650d92e23b3",
    "tags": []
   },
   "outputs": [],
   "source": [
    "df_qry.extube.fillna(0, inplace=True)\n",
    "df_qry.oxy.fillna(0, inplace=True)"
   ]
  },
  {
   "cell_type": "code",
   "execution_count": null,
   "metadata": {
    "cell_id": "00021-cc05a630-6a69-4a3e-8385-d723fddad76e",
    "tags": []
   },
   "outputs": [],
   "source": [
    "df_qry.loc[160:180]"
   ]
  },
  {
   "cell_type": "code",
   "execution_count": null,
   "metadata": {
    "cell_id": "00022-f80188bb-18c1-4f7f-b2c1-75d3dae86539",
    "tags": []
   },
   "outputs": [],
   "source": [
    "df_qry[(df_qry['extube'] != 0) | (df_qry['oxy'] != 0)]"
   ]
  },
  {
   "cell_type": "code",
   "execution_count": null,
   "metadata": {
    "cell_id": "00028-dfcf57e4-dd30-4fa1-8bd6-dd5cd1a7f58a",
    "tags": []
   },
   "outputs": [],
   "source": [
    "# War die erste Extubation erfolgreich? 1 = Ja, 0 = Nein\n",
    "select vel.hadm_id, vel.\"label\" \n",
    "from vw_extubation_label vel \n"
   ]
  },
  {
   "cell_type": "code",
   "execution_count": null,
   "metadata": {
    "cell_id": "00029-cb680eb4-5b89-41ec-86aa-7010113d816b",
    "tags": []
   },
   "outputs": [],
   "source": [
    "# Timestamp of extubation\n",
    "select hadm_id, charttime \n",
    "from vw_timestamp_extubation vte"
   ]
  },
  {
   "cell_type": "code",
   "execution_count": null,
   "metadata": {
    "cell_id": "00030-7de87084-9b19-416d-9199-5d755d2f0f86",
    "tags": []
   },
   "outputs": [],
   "source": [
    "# Timestamp of first extubation\n",
    "select hadm_id, min(charttime)\n",
    "from vw_timestamp_extubation vte\n",
    "group by hadm_id \n",
    "order by hadm_id "
   ]
  },
  {
   "cell_type": "markdown",
   "metadata": {
    "cell_id": "00033-f398aea2-8dfe-4165-b8b6-277349ed3849",
    "tags": []
   },
   "source": [
    "We dec"
   ]
  },
  {
   "cell_type": "code",
   "execution_count": null,
   "metadata": {
    "cell_id": "00023-f5107310-14ce-4a26-afa8-4486ff91ed96",
    "tags": []
   },
   "outputs": [],
   "source": [
    "conn.close()"
   ]
  }
 ],
 "metadata": {
  "deepnote_execution_queue": [],
  "deepnote_notebook_id": "a1882557-3fb8-4608-83f1-fbe3e811f258",
  "kernelspec": {
   "display_name": "Python 3.6.10 64-bit ('nf')",
   "language": "python",
   "name": "python361064bitnf8add1acfca654b1ab4527881e7fa8184"
  },
  "language_info": {
   "codemirror_mode": {
    "name": "ipython",
    "version": 3
   },
   "file_extension": ".py",
   "mimetype": "text/x-python",
   "name": "python",
   "nbconvert_exporter": "python",
   "pygments_lexer": "ipython3",
   "version": "3.6.10"
  },
  "toc": {
   "base_numbering": 1,
   "nav_menu": {},
   "number_sections": true,
   "sideBar": true,
   "skip_h1_title": false,
   "title_cell": "Table of Contents",
   "title_sidebar": "Contents",
   "toc_cell": false,
   "toc_position": {},
   "toc_section_display": true,
   "toc_window_display": true
  },
  "varInspector": {
   "cols": {
    "lenName": 16,
    "lenType": 16,
    "lenVar": 40
   },
   "kernels_config": {
    "python": {
     "delete_cmd_postfix": "",
     "delete_cmd_prefix": "del ",
     "library": "var_list.py",
     "varRefreshCmd": "print(var_dic_list())"
    },
    "r": {
     "delete_cmd_postfix": ") ",
     "delete_cmd_prefix": "rm(",
     "library": "var_list.r",
     "varRefreshCmd": "cat(var_dic_list()) "
    }
   },
   "types_to_exclude": [
    "module",
    "function",
    "builtin_function_or_method",
    "instance",
    "_Feature"
   ],
   "window_display": false
  }
 },
 "nbformat": 4,
 "nbformat_minor": 2
}
